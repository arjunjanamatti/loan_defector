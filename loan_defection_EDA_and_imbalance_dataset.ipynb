{
  "nbformat": 4,
  "nbformat_minor": 0,
  "metadata": {
    "colab": {
      "name": "loan_defection_EDA_and_imbalance_dataset.ipynb",
      "provenance": [],
      "collapsed_sections": [
        "NwyewHsCHfJp",
        "IroFKThbdSgn",
        "fkgvI_MJui4Q",
        "4iIyPjZgb5q3"
      ],
      "mount_file_id": "1ISqXdwzJzGqDGD4YH0fDpjAvvVdSXqyn",
      "authorship_tag": "ABX9TyP53MqVNK8XE5rtDnhIARW0",
      "include_colab_link": true
    },
    "kernelspec": {
      "name": "python3",
      "display_name": "Python 3"
    },
    "accelerator": "GPU"
  },
  "cells": [
    {
      "cell_type": "markdown",
      "metadata": {
        "id": "view-in-github",
        "colab_type": "text"
      },
      "source": [
        "<a href=\"https://colab.research.google.com/github/arjunjanamatti/loan_defector/blob/master/loan_defection_EDA_and_imbalance_dataset.ipynb\" target=\"_parent\"><img src=\"https://colab.research.google.com/assets/colab-badge.svg\" alt=\"Open In Colab\"/></a>"
      ]
    },
    {
      "cell_type": "markdown",
      "metadata": {
        "id": "0W6wvNyvd-lH"
      },
      "source": [
        "### Import Libraries"
      ]
    },
    {
      "cell_type": "code",
      "metadata": {
        "id": "q-eTVVOddMRe"
      },
      "source": [
        "import pandas as pd\n",
        "import numpy as np\n",
        "from sklearn.preprocessing import LabelEncoder\n",
        "from sklearn.model_selection import train_test_split\n",
        "import matplotlib.pyplot as plt\n",
        "import seaborn as sns\n",
        "%matplotlib inline"
      ],
      "execution_count": 1,
      "outputs": []
    },
    {
      "cell_type": "markdown",
      "metadata": {
        "id": "NwyewHsCHfJp"
      },
      "source": [
        "### EDA"
      ]
    },
    {
      "cell_type": "code",
      "metadata": {
        "id": "EWXm_xbdd9sU",
        "outputId": "61571c50-7487-4721-b3a0-bcd634f87272",
        "colab": {
          "base_uri": "https://localhost:8080/",
          "height": 0
        }
      },
      "source": [
        "applicant_df = pd.read_csv('/content/drive/My Drive/Colab Notebooks/ml_classification/applicant.csv')\n",
        "print('Shape of applicant.csv: ', applicant_df.shape)\n",
        "applicant_df.head()"
      ],
      "execution_count": 2,
      "outputs": [
        {
          "output_type": "stream",
          "text": [
            "Shape of applicant.csv:  (1000, 15)\n"
          ],
          "name": "stdout"
        },
        {
          "output_type": "execute_result",
          "data": {
            "text/html": [
              "<div>\n",
              "<style scoped>\n",
              "    .dataframe tbody tr th:only-of-type {\n",
              "        vertical-align: middle;\n",
              "    }\n",
              "\n",
              "    .dataframe tbody tr th {\n",
              "        vertical-align: top;\n",
              "    }\n",
              "\n",
              "    .dataframe thead th {\n",
              "        text-align: right;\n",
              "    }\n",
              "</style>\n",
              "<table border=\"1\" class=\"dataframe\">\n",
              "  <thead>\n",
              "    <tr style=\"text-align: right;\">\n",
              "      <th></th>\n",
              "      <th>applicant_id</th>\n",
              "      <th>Primary_applicant_age_in_years</th>\n",
              "      <th>Gender</th>\n",
              "      <th>Marital_status</th>\n",
              "      <th>Number_of_dependents</th>\n",
              "      <th>Housing</th>\n",
              "      <th>Years_at_current_residence</th>\n",
              "      <th>Employment_status</th>\n",
              "      <th>Has_been_employed_for_at_least</th>\n",
              "      <th>Has_been_employed_for_at_most</th>\n",
              "      <th>Telephone</th>\n",
              "      <th>Foreign_worker</th>\n",
              "      <th>Savings_account_balance</th>\n",
              "      <th>Balance_in_existing_bank_account_(lower_limit_of_bucket)</th>\n",
              "      <th>Balance_in_existing_bank_account_(upper_limit_of_bucket)</th>\n",
              "    </tr>\n",
              "  </thead>\n",
              "  <tbody>\n",
              "    <tr>\n",
              "      <th>0</th>\n",
              "      <td>1469590</td>\n",
              "      <td>67</td>\n",
              "      <td>male</td>\n",
              "      <td>single</td>\n",
              "      <td>1</td>\n",
              "      <td>own</td>\n",
              "      <td>4</td>\n",
              "      <td>skilled employee / official</td>\n",
              "      <td>7 years</td>\n",
              "      <td>NaN</td>\n",
              "      <td>Registered under the applicant's name</td>\n",
              "      <td>1</td>\n",
              "      <td>NaN</td>\n",
              "      <td>NaN</td>\n",
              "      <td>0</td>\n",
              "    </tr>\n",
              "    <tr>\n",
              "      <th>1</th>\n",
              "      <td>1203873</td>\n",
              "      <td>22</td>\n",
              "      <td>female</td>\n",
              "      <td>divorced/separated/married</td>\n",
              "      <td>1</td>\n",
              "      <td>own</td>\n",
              "      <td>2</td>\n",
              "      <td>skilled employee / official</td>\n",
              "      <td>1 year</td>\n",
              "      <td>4 years</td>\n",
              "      <td>NaN</td>\n",
              "      <td>1</td>\n",
              "      <td>Low</td>\n",
              "      <td>0</td>\n",
              "      <td>2 lac</td>\n",
              "    </tr>\n",
              "    <tr>\n",
              "      <th>2</th>\n",
              "      <td>1432761</td>\n",
              "      <td>49</td>\n",
              "      <td>male</td>\n",
              "      <td>single</td>\n",
              "      <td>2</td>\n",
              "      <td>own</td>\n",
              "      <td>3</td>\n",
              "      <td>unskilled - resident</td>\n",
              "      <td>4 years</td>\n",
              "      <td>7 years</td>\n",
              "      <td>NaN</td>\n",
              "      <td>1</td>\n",
              "      <td>Low</td>\n",
              "      <td>NaN</td>\n",
              "      <td>NaN</td>\n",
              "    </tr>\n",
              "    <tr>\n",
              "      <th>3</th>\n",
              "      <td>1207582</td>\n",
              "      <td>45</td>\n",
              "      <td>male</td>\n",
              "      <td>single</td>\n",
              "      <td>2</td>\n",
              "      <td>for free</td>\n",
              "      <td>4</td>\n",
              "      <td>skilled employee / official</td>\n",
              "      <td>4 years</td>\n",
              "      <td>7 years</td>\n",
              "      <td>NaN</td>\n",
              "      <td>1</td>\n",
              "      <td>Low</td>\n",
              "      <td>NaN</td>\n",
              "      <td>0</td>\n",
              "    </tr>\n",
              "    <tr>\n",
              "      <th>4</th>\n",
              "      <td>1674436</td>\n",
              "      <td>53</td>\n",
              "      <td>male</td>\n",
              "      <td>single</td>\n",
              "      <td>2</td>\n",
              "      <td>for free</td>\n",
              "      <td>4</td>\n",
              "      <td>skilled employee / official</td>\n",
              "      <td>1 year</td>\n",
              "      <td>4 years</td>\n",
              "      <td>NaN</td>\n",
              "      <td>1</td>\n",
              "      <td>Low</td>\n",
              "      <td>NaN</td>\n",
              "      <td>0</td>\n",
              "    </tr>\n",
              "  </tbody>\n",
              "</table>\n",
              "</div>"
            ],
            "text/plain": [
              "   applicant_id  ...  Balance_in_existing_bank_account_(upper_limit_of_bucket)\n",
              "0       1469590  ...                                                  0       \n",
              "1       1203873  ...                                              2 lac       \n",
              "2       1432761  ...                                                NaN       \n",
              "3       1207582  ...                                                  0       \n",
              "4       1674436  ...                                                  0       \n",
              "\n",
              "[5 rows x 15 columns]"
            ]
          },
          "metadata": {
            "tags": []
          },
          "execution_count": 2
        }
      ]
    },
    {
      "cell_type": "code",
      "metadata": {
        "id": "yeXKVu04l8m2",
        "outputId": "259b6445-ddf2-4f4b-bdda-1ef5bc41b208",
        "colab": {
          "base_uri": "https://localhost:8080/",
          "height": 0
        }
      },
      "source": [
        "loan_df = pd.read_csv('/content/drive/My Drive/Colab Notebooks/ml_classification/loan.csv')\n",
        "print('Shape of loan.csv: ', loan_df.shape)\n",
        "loan_df.head()"
      ],
      "execution_count": 3,
      "outputs": [
        {
          "output_type": "stream",
          "text": [
            "Shape of loan.csv:  (1000, 13)\n"
          ],
          "name": "stdout"
        },
        {
          "output_type": "execute_result",
          "data": {
            "text/html": [
              "<div>\n",
              "<style scoped>\n",
              "    .dataframe tbody tr th:only-of-type {\n",
              "        vertical-align: middle;\n",
              "    }\n",
              "\n",
              "    .dataframe tbody tr th {\n",
              "        vertical-align: top;\n",
              "    }\n",
              "\n",
              "    .dataframe thead th {\n",
              "        text-align: right;\n",
              "    }\n",
              "</style>\n",
              "<table border=\"1\" class=\"dataframe\">\n",
              "  <thead>\n",
              "    <tr style=\"text-align: right;\">\n",
              "      <th></th>\n",
              "      <th>loan_application_id</th>\n",
              "      <th>applicant_id</th>\n",
              "      <th>Months_loan_taken_for</th>\n",
              "      <th>Purpose</th>\n",
              "      <th>Principal_loan_amount</th>\n",
              "      <th>EMI_rate_in_percentage_of_disposable_income</th>\n",
              "      <th>Property</th>\n",
              "      <th>Has_coapplicant</th>\n",
              "      <th>Has_guarantor</th>\n",
              "      <th>Other_EMI_plans</th>\n",
              "      <th>Number_of_existing_loans_at_this_bank</th>\n",
              "      <th>Loan_history</th>\n",
              "      <th>high_risk_applicant</th>\n",
              "    </tr>\n",
              "  </thead>\n",
              "  <tbody>\n",
              "    <tr>\n",
              "      <th>0</th>\n",
              "      <td>d68d975e-edad-11ea-8761-1d6f9c1ff461</td>\n",
              "      <td>1469590</td>\n",
              "      <td>6</td>\n",
              "      <td>electronic equipment</td>\n",
              "      <td>1169000</td>\n",
              "      <td>4</td>\n",
              "      <td>real estate</td>\n",
              "      <td>0</td>\n",
              "      <td>0</td>\n",
              "      <td>NaN</td>\n",
              "      <td>2</td>\n",
              "      <td>critical/pending loans at other banks</td>\n",
              "      <td>0</td>\n",
              "    </tr>\n",
              "    <tr>\n",
              "      <th>1</th>\n",
              "      <td>d68d989e-edad-11ea-b1d5-2bcf65006448</td>\n",
              "      <td>1203873</td>\n",
              "      <td>48</td>\n",
              "      <td>electronic equipment</td>\n",
              "      <td>5951000</td>\n",
              "      <td>2</td>\n",
              "      <td>real estate</td>\n",
              "      <td>0</td>\n",
              "      <td>0</td>\n",
              "      <td>NaN</td>\n",
              "      <td>1</td>\n",
              "      <td>existing loans paid back duly till now</td>\n",
              "      <td>1</td>\n",
              "    </tr>\n",
              "    <tr>\n",
              "      <th>2</th>\n",
              "      <td>d68d995c-edad-11ea-814a-1b6716782575</td>\n",
              "      <td>1432761</td>\n",
              "      <td>12</td>\n",
              "      <td>education</td>\n",
              "      <td>2096000</td>\n",
              "      <td>2</td>\n",
              "      <td>real estate</td>\n",
              "      <td>0</td>\n",
              "      <td>0</td>\n",
              "      <td>NaN</td>\n",
              "      <td>1</td>\n",
              "      <td>critical/pending loans at other banks</td>\n",
              "      <td>0</td>\n",
              "    </tr>\n",
              "    <tr>\n",
              "      <th>3</th>\n",
              "      <td>d68d99fc-edad-11ea-8841-17e8848060ae</td>\n",
              "      <td>1207582</td>\n",
              "      <td>42</td>\n",
              "      <td>FF&amp;E</td>\n",
              "      <td>7882000</td>\n",
              "      <td>2</td>\n",
              "      <td>building society savings agreement/life insurance</td>\n",
              "      <td>0</td>\n",
              "      <td>1</td>\n",
              "      <td>NaN</td>\n",
              "      <td>1</td>\n",
              "      <td>existing loans paid back duly till now</td>\n",
              "      <td>0</td>\n",
              "    </tr>\n",
              "    <tr>\n",
              "      <th>4</th>\n",
              "      <td>d68d9a92-edad-11ea-9f3d-1f8682db006a</td>\n",
              "      <td>1674436</td>\n",
              "      <td>24</td>\n",
              "      <td>new vehicle</td>\n",
              "      <td>4870000</td>\n",
              "      <td>3</td>\n",
              "      <td>NaN</td>\n",
              "      <td>0</td>\n",
              "      <td>0</td>\n",
              "      <td>NaN</td>\n",
              "      <td>2</td>\n",
              "      <td>delay in paying off loans in the past</td>\n",
              "      <td>1</td>\n",
              "    </tr>\n",
              "  </tbody>\n",
              "</table>\n",
              "</div>"
            ],
            "text/plain": [
              "                    loan_application_id  ...  high_risk_applicant\n",
              "0  d68d975e-edad-11ea-8761-1d6f9c1ff461  ...                    0\n",
              "1  d68d989e-edad-11ea-b1d5-2bcf65006448  ...                    1\n",
              "2  d68d995c-edad-11ea-814a-1b6716782575  ...                    0\n",
              "3  d68d99fc-edad-11ea-8841-17e8848060ae  ...                    0\n",
              "4  d68d9a92-edad-11ea-9f3d-1f8682db006a  ...                    1\n",
              "\n",
              "[5 rows x 13 columns]"
            ]
          },
          "metadata": {
            "tags": []
          },
          "execution_count": 3
        }
      ]
    },
    {
      "cell_type": "code",
      "metadata": {
        "id": "uTkFdX9wixYj",
        "outputId": "1659afdd-a403-462b-cbad-f65940c01147",
        "colab": {
          "base_uri": "https://localhost:8080/",
          "height": 0
        }
      },
      "source": [
        "combined_df = applicant_df.merge(loan_df, on = 'applicant_id')\n",
        "print('Shape of the dataframe: ', combined_df.shape)\n",
        "combined_df.head()"
      ],
      "execution_count": 4,
      "outputs": [
        {
          "output_type": "stream",
          "text": [
            "Shape of the dataframe:  (1000, 27)\n"
          ],
          "name": "stdout"
        },
        {
          "output_type": "execute_result",
          "data": {
            "text/html": [
              "<div>\n",
              "<style scoped>\n",
              "    .dataframe tbody tr th:only-of-type {\n",
              "        vertical-align: middle;\n",
              "    }\n",
              "\n",
              "    .dataframe tbody tr th {\n",
              "        vertical-align: top;\n",
              "    }\n",
              "\n",
              "    .dataframe thead th {\n",
              "        text-align: right;\n",
              "    }\n",
              "</style>\n",
              "<table border=\"1\" class=\"dataframe\">\n",
              "  <thead>\n",
              "    <tr style=\"text-align: right;\">\n",
              "      <th></th>\n",
              "      <th>applicant_id</th>\n",
              "      <th>Primary_applicant_age_in_years</th>\n",
              "      <th>Gender</th>\n",
              "      <th>Marital_status</th>\n",
              "      <th>Number_of_dependents</th>\n",
              "      <th>Housing</th>\n",
              "      <th>Years_at_current_residence</th>\n",
              "      <th>Employment_status</th>\n",
              "      <th>Has_been_employed_for_at_least</th>\n",
              "      <th>Has_been_employed_for_at_most</th>\n",
              "      <th>Telephone</th>\n",
              "      <th>Foreign_worker</th>\n",
              "      <th>Savings_account_balance</th>\n",
              "      <th>Balance_in_existing_bank_account_(lower_limit_of_bucket)</th>\n",
              "      <th>Balance_in_existing_bank_account_(upper_limit_of_bucket)</th>\n",
              "      <th>loan_application_id</th>\n",
              "      <th>Months_loan_taken_for</th>\n",
              "      <th>Purpose</th>\n",
              "      <th>Principal_loan_amount</th>\n",
              "      <th>EMI_rate_in_percentage_of_disposable_income</th>\n",
              "      <th>Property</th>\n",
              "      <th>Has_coapplicant</th>\n",
              "      <th>Has_guarantor</th>\n",
              "      <th>Other_EMI_plans</th>\n",
              "      <th>Number_of_existing_loans_at_this_bank</th>\n",
              "      <th>Loan_history</th>\n",
              "      <th>high_risk_applicant</th>\n",
              "    </tr>\n",
              "  </thead>\n",
              "  <tbody>\n",
              "    <tr>\n",
              "      <th>0</th>\n",
              "      <td>1469590</td>\n",
              "      <td>67</td>\n",
              "      <td>male</td>\n",
              "      <td>single</td>\n",
              "      <td>1</td>\n",
              "      <td>own</td>\n",
              "      <td>4</td>\n",
              "      <td>skilled employee / official</td>\n",
              "      <td>7 years</td>\n",
              "      <td>NaN</td>\n",
              "      <td>Registered under the applicant's name</td>\n",
              "      <td>1</td>\n",
              "      <td>NaN</td>\n",
              "      <td>NaN</td>\n",
              "      <td>0</td>\n",
              "      <td>d68d975e-edad-11ea-8761-1d6f9c1ff461</td>\n",
              "      <td>6</td>\n",
              "      <td>electronic equipment</td>\n",
              "      <td>1169000</td>\n",
              "      <td>4</td>\n",
              "      <td>real estate</td>\n",
              "      <td>0</td>\n",
              "      <td>0</td>\n",
              "      <td>NaN</td>\n",
              "      <td>2</td>\n",
              "      <td>critical/pending loans at other banks</td>\n",
              "      <td>0</td>\n",
              "    </tr>\n",
              "    <tr>\n",
              "      <th>1</th>\n",
              "      <td>1203873</td>\n",
              "      <td>22</td>\n",
              "      <td>female</td>\n",
              "      <td>divorced/separated/married</td>\n",
              "      <td>1</td>\n",
              "      <td>own</td>\n",
              "      <td>2</td>\n",
              "      <td>skilled employee / official</td>\n",
              "      <td>1 year</td>\n",
              "      <td>4 years</td>\n",
              "      <td>NaN</td>\n",
              "      <td>1</td>\n",
              "      <td>Low</td>\n",
              "      <td>0</td>\n",
              "      <td>2 lac</td>\n",
              "      <td>d68d989e-edad-11ea-b1d5-2bcf65006448</td>\n",
              "      <td>48</td>\n",
              "      <td>electronic equipment</td>\n",
              "      <td>5951000</td>\n",
              "      <td>2</td>\n",
              "      <td>real estate</td>\n",
              "      <td>0</td>\n",
              "      <td>0</td>\n",
              "      <td>NaN</td>\n",
              "      <td>1</td>\n",
              "      <td>existing loans paid back duly till now</td>\n",
              "      <td>1</td>\n",
              "    </tr>\n",
              "    <tr>\n",
              "      <th>2</th>\n",
              "      <td>1432761</td>\n",
              "      <td>49</td>\n",
              "      <td>male</td>\n",
              "      <td>single</td>\n",
              "      <td>2</td>\n",
              "      <td>own</td>\n",
              "      <td>3</td>\n",
              "      <td>unskilled - resident</td>\n",
              "      <td>4 years</td>\n",
              "      <td>7 years</td>\n",
              "      <td>NaN</td>\n",
              "      <td>1</td>\n",
              "      <td>Low</td>\n",
              "      <td>NaN</td>\n",
              "      <td>NaN</td>\n",
              "      <td>d68d995c-edad-11ea-814a-1b6716782575</td>\n",
              "      <td>12</td>\n",
              "      <td>education</td>\n",
              "      <td>2096000</td>\n",
              "      <td>2</td>\n",
              "      <td>real estate</td>\n",
              "      <td>0</td>\n",
              "      <td>0</td>\n",
              "      <td>NaN</td>\n",
              "      <td>1</td>\n",
              "      <td>critical/pending loans at other banks</td>\n",
              "      <td>0</td>\n",
              "    </tr>\n",
              "    <tr>\n",
              "      <th>3</th>\n",
              "      <td>1207582</td>\n",
              "      <td>45</td>\n",
              "      <td>male</td>\n",
              "      <td>single</td>\n",
              "      <td>2</td>\n",
              "      <td>for free</td>\n",
              "      <td>4</td>\n",
              "      <td>skilled employee / official</td>\n",
              "      <td>4 years</td>\n",
              "      <td>7 years</td>\n",
              "      <td>NaN</td>\n",
              "      <td>1</td>\n",
              "      <td>Low</td>\n",
              "      <td>NaN</td>\n",
              "      <td>0</td>\n",
              "      <td>d68d99fc-edad-11ea-8841-17e8848060ae</td>\n",
              "      <td>42</td>\n",
              "      <td>FF&amp;E</td>\n",
              "      <td>7882000</td>\n",
              "      <td>2</td>\n",
              "      <td>building society savings agreement/life insurance</td>\n",
              "      <td>0</td>\n",
              "      <td>1</td>\n",
              "      <td>NaN</td>\n",
              "      <td>1</td>\n",
              "      <td>existing loans paid back duly till now</td>\n",
              "      <td>0</td>\n",
              "    </tr>\n",
              "    <tr>\n",
              "      <th>4</th>\n",
              "      <td>1674436</td>\n",
              "      <td>53</td>\n",
              "      <td>male</td>\n",
              "      <td>single</td>\n",
              "      <td>2</td>\n",
              "      <td>for free</td>\n",
              "      <td>4</td>\n",
              "      <td>skilled employee / official</td>\n",
              "      <td>1 year</td>\n",
              "      <td>4 years</td>\n",
              "      <td>NaN</td>\n",
              "      <td>1</td>\n",
              "      <td>Low</td>\n",
              "      <td>NaN</td>\n",
              "      <td>0</td>\n",
              "      <td>d68d9a92-edad-11ea-9f3d-1f8682db006a</td>\n",
              "      <td>24</td>\n",
              "      <td>new vehicle</td>\n",
              "      <td>4870000</td>\n",
              "      <td>3</td>\n",
              "      <td>NaN</td>\n",
              "      <td>0</td>\n",
              "      <td>0</td>\n",
              "      <td>NaN</td>\n",
              "      <td>2</td>\n",
              "      <td>delay in paying off loans in the past</td>\n",
              "      <td>1</td>\n",
              "    </tr>\n",
              "  </tbody>\n",
              "</table>\n",
              "</div>"
            ],
            "text/plain": [
              "   applicant_id  ...  high_risk_applicant\n",
              "0       1469590  ...                    0\n",
              "1       1203873  ...                    1\n",
              "2       1432761  ...                    0\n",
              "3       1207582  ...                    0\n",
              "4       1674436  ...                    1\n",
              "\n",
              "[5 rows x 27 columns]"
            ]
          },
          "metadata": {
            "tags": []
          },
          "execution_count": 4
        }
      ]
    },
    {
      "cell_type": "markdown",
      "metadata": {
        "id": "KbuBffkcFJ34"
      },
      "source": [
        "* As observed from the combined dataset of applicant and loan csv, only the columns with string type have missing data"
      ]
    },
    {
      "cell_type": "code",
      "metadata": {
        "id": "HbEyGyXzE2Of",
        "outputId": "daf504c6-bb1f-47e1-8fa1-a0bc5201cfcb",
        "colab": {
          "base_uri": "https://localhost:8080/",
          "height": 0
        }
      },
      "source": [
        "combined_df.info()"
      ],
      "execution_count": 5,
      "outputs": [
        {
          "output_type": "stream",
          "text": [
            "<class 'pandas.core.frame.DataFrame'>\n",
            "Int64Index: 1000 entries, 0 to 999\n",
            "Data columns (total 27 columns):\n",
            " #   Column                                                    Non-Null Count  Dtype \n",
            "---  ------                                                    --------------  ----- \n",
            " 0   applicant_id                                              1000 non-null   int64 \n",
            " 1   Primary_applicant_age_in_years                            1000 non-null   int64 \n",
            " 2   Gender                                                    1000 non-null   object\n",
            " 3   Marital_status                                            1000 non-null   object\n",
            " 4   Number_of_dependents                                      1000 non-null   int64 \n",
            " 5   Housing                                                   1000 non-null   object\n",
            " 6   Years_at_current_residence                                1000 non-null   int64 \n",
            " 7   Employment_status                                         1000 non-null   object\n",
            " 8   Has_been_employed_for_at_least                            938 non-null    object\n",
            " 9   Has_been_employed_for_at_most                             747 non-null    object\n",
            " 10  Telephone                                                 404 non-null    object\n",
            " 11  Foreign_worker                                            1000 non-null   int64 \n",
            " 12  Savings_account_balance                                   817 non-null    object\n",
            " 13  Balance_in_existing_bank_account_(lower_limit_of_bucket)  332 non-null    object\n",
            " 14  Balance_in_existing_bank_account_(upper_limit_of_bucket)  543 non-null    object\n",
            " 15  loan_application_id                                       1000 non-null   object\n",
            " 16  Months_loan_taken_for                                     1000 non-null   int64 \n",
            " 17  Purpose                                                   988 non-null    object\n",
            " 18  Principal_loan_amount                                     1000 non-null   int64 \n",
            " 19  EMI_rate_in_percentage_of_disposable_income               1000 non-null   int64 \n",
            " 20  Property                                                  846 non-null    object\n",
            " 21  Has_coapplicant                                           1000 non-null   int64 \n",
            " 22  Has_guarantor                                             1000 non-null   int64 \n",
            " 23  Other_EMI_plans                                           186 non-null    object\n",
            " 24  Number_of_existing_loans_at_this_bank                     1000 non-null   int64 \n",
            " 25  Loan_history                                              1000 non-null   object\n",
            " 26  high_risk_applicant                                       1000 non-null   int64 \n",
            "dtypes: int64(12), object(15)\n",
            "memory usage: 218.8+ KB\n"
          ],
          "name": "stdout"
        }
      ]
    },
    {
      "cell_type": "markdown",
      "metadata": {
        "id": "LuJO78H-qiti"
      },
      "source": [
        "* Number of null values in a column, if it has any null values\n",
        "* format of the result is\n",
        "  * (column_name, number of null values in column_name)"
      ]
    },
    {
      "cell_type": "code",
      "metadata": {
        "id": "Y6V8GkUkF05n",
        "outputId": "27c767fc-623d-458e-b581-c6c3779661a1",
        "colab": {
          "base_uri": "https://localhost:8080/",
          "height": 0
        }
      },
      "source": [
        "missing_value_count = combined_df.isna().sum()\n",
        "column_names = list(combined_df.columns)\n",
        "[(column_names[index], value) for index, value in enumerate(missing_value_count) if value>0]"
      ],
      "execution_count": 6,
      "outputs": [
        {
          "output_type": "execute_result",
          "data": {
            "text/plain": [
              "[('Has_been_employed_for_at_least', 62),\n",
              " ('Has_been_employed_for_at_most', 253),\n",
              " ('Telephone', 596),\n",
              " ('Savings_account_balance', 183),\n",
              " ('Balance_in_existing_bank_account_(lower_limit_of_bucket)', 668),\n",
              " ('Balance_in_existing_bank_account_(upper_limit_of_bucket)', 457),\n",
              " ('Purpose', 12),\n",
              " ('Property', 154),\n",
              " ('Other_EMI_plans', 814)]"
            ]
          },
          "metadata": {
            "tags": []
          },
          "execution_count": 6
        }
      ]
    },
    {
      "cell_type": "markdown",
      "metadata": {
        "id": "ri6PNMN7GAKM"
      },
      "source": [
        "* Percentage of missing values in each column, when compared to total values"
      ]
    },
    {
      "cell_type": "code",
      "metadata": {
        "id": "QZY3VcIgGBav",
        "outputId": "d8dc92eb-a99b-44f3-f829-79d76a418cff",
        "colab": {
          "base_uri": "https://localhost:8080/",
          "height": 0
        }
      },
      "source": [
        "[(column_names[index], round(((value/len(combined_df))*100),2)) \n",
        "for index, value in enumerate(missing_value_count) if value>0]"
      ],
      "execution_count": 7,
      "outputs": [
        {
          "output_type": "execute_result",
          "data": {
            "text/plain": [
              "[('Has_been_employed_for_at_least', 6.2),\n",
              " ('Has_been_employed_for_at_most', 25.3),\n",
              " ('Telephone', 59.6),\n",
              " ('Savings_account_balance', 18.3),\n",
              " ('Balance_in_existing_bank_account_(lower_limit_of_bucket)', 66.8),\n",
              " ('Balance_in_existing_bank_account_(upper_limit_of_bucket)', 45.7),\n",
              " ('Purpose', 1.2),\n",
              " ('Property', 15.4),\n",
              " ('Other_EMI_plans', 81.4)]"
            ]
          },
          "metadata": {
            "tags": []
          },
          "execution_count": 7
        }
      ]
    },
    {
      "cell_type": "markdown",
      "metadata": {
        "id": "FXSzom17H7OK"
      },
      "source": [
        "#### Inference from Data\n",
        "\n",
        "* Mean age of the applicant is 35.55, and median age of the applicant age is 33\n",
        "* Number of dependents is around 1 for both mean and median\n",
        "* Average duration of loan taken is around 21 months, and median for loan duration taken is 18 months.\n",
        "* Average principal amount of loan is [3,271,258], whereas the median principal amount is [2,319,500], since there is difference in median and mean, with mean higher than median, there are few loans with very high amount which are pushing the average higher than almost 1 million higher than the median value.\n"
      ]
    },
    {
      "cell_type": "code",
      "metadata": {
        "id": "cEl1NV8FEjTZ",
        "outputId": "1de98fda-3de5-4662-ff14-6b1646c1f571",
        "colab": {
          "base_uri": "https://localhost:8080/",
          "height": 0
        }
      },
      "source": [
        "combined_df.iloc[:,1:].describe().transpose()"
      ],
      "execution_count": 8,
      "outputs": [
        {
          "output_type": "execute_result",
          "data": {
            "text/html": [
              "<div>\n",
              "<style scoped>\n",
              "    .dataframe tbody tr th:only-of-type {\n",
              "        vertical-align: middle;\n",
              "    }\n",
              "\n",
              "    .dataframe tbody tr th {\n",
              "        vertical-align: top;\n",
              "    }\n",
              "\n",
              "    .dataframe thead th {\n",
              "        text-align: right;\n",
              "    }\n",
              "</style>\n",
              "<table border=\"1\" class=\"dataframe\">\n",
              "  <thead>\n",
              "    <tr style=\"text-align: right;\">\n",
              "      <th></th>\n",
              "      <th>count</th>\n",
              "      <th>mean</th>\n",
              "      <th>std</th>\n",
              "      <th>min</th>\n",
              "      <th>25%</th>\n",
              "      <th>50%</th>\n",
              "      <th>75%</th>\n",
              "      <th>max</th>\n",
              "    </tr>\n",
              "  </thead>\n",
              "  <tbody>\n",
              "    <tr>\n",
              "      <th>Primary_applicant_age_in_years</th>\n",
              "      <td>1000.0</td>\n",
              "      <td>35.546</td>\n",
              "      <td>1.137547e+01</td>\n",
              "      <td>19.0</td>\n",
              "      <td>27.0</td>\n",
              "      <td>33.0</td>\n",
              "      <td>42.0</td>\n",
              "      <td>75.0</td>\n",
              "    </tr>\n",
              "    <tr>\n",
              "      <th>Number_of_dependents</th>\n",
              "      <td>1000.0</td>\n",
              "      <td>1.155</td>\n",
              "      <td>3.620858e-01</td>\n",
              "      <td>1.0</td>\n",
              "      <td>1.0</td>\n",
              "      <td>1.0</td>\n",
              "      <td>1.0</td>\n",
              "      <td>2.0</td>\n",
              "    </tr>\n",
              "    <tr>\n",
              "      <th>Years_at_current_residence</th>\n",
              "      <td>1000.0</td>\n",
              "      <td>2.845</td>\n",
              "      <td>1.103718e+00</td>\n",
              "      <td>1.0</td>\n",
              "      <td>2.0</td>\n",
              "      <td>3.0</td>\n",
              "      <td>4.0</td>\n",
              "      <td>4.0</td>\n",
              "    </tr>\n",
              "    <tr>\n",
              "      <th>Foreign_worker</th>\n",
              "      <td>1000.0</td>\n",
              "      <td>0.963</td>\n",
              "      <td>1.888562e-01</td>\n",
              "      <td>0.0</td>\n",
              "      <td>1.0</td>\n",
              "      <td>1.0</td>\n",
              "      <td>1.0</td>\n",
              "      <td>1.0</td>\n",
              "    </tr>\n",
              "    <tr>\n",
              "      <th>Months_loan_taken_for</th>\n",
              "      <td>1000.0</td>\n",
              "      <td>20.903</td>\n",
              "      <td>1.205881e+01</td>\n",
              "      <td>4.0</td>\n",
              "      <td>12.0</td>\n",
              "      <td>18.0</td>\n",
              "      <td>24.0</td>\n",
              "      <td>72.0</td>\n",
              "    </tr>\n",
              "    <tr>\n",
              "      <th>Principal_loan_amount</th>\n",
              "      <td>1000.0</td>\n",
              "      <td>3271258.000</td>\n",
              "      <td>2.822737e+06</td>\n",
              "      <td>250000.0</td>\n",
              "      <td>1365500.0</td>\n",
              "      <td>2319500.0</td>\n",
              "      <td>3972250.0</td>\n",
              "      <td>18424000.0</td>\n",
              "    </tr>\n",
              "    <tr>\n",
              "      <th>EMI_rate_in_percentage_of_disposable_income</th>\n",
              "      <td>1000.0</td>\n",
              "      <td>2.973</td>\n",
              "      <td>1.118715e+00</td>\n",
              "      <td>1.0</td>\n",
              "      <td>2.0</td>\n",
              "      <td>3.0</td>\n",
              "      <td>4.0</td>\n",
              "      <td>4.0</td>\n",
              "    </tr>\n",
              "    <tr>\n",
              "      <th>Has_coapplicant</th>\n",
              "      <td>1000.0</td>\n",
              "      <td>0.041</td>\n",
              "      <td>1.983894e-01</td>\n",
              "      <td>0.0</td>\n",
              "      <td>0.0</td>\n",
              "      <td>0.0</td>\n",
              "      <td>0.0</td>\n",
              "      <td>1.0</td>\n",
              "    </tr>\n",
              "    <tr>\n",
              "      <th>Has_guarantor</th>\n",
              "      <td>1000.0</td>\n",
              "      <td>0.052</td>\n",
              "      <td>2.221381e-01</td>\n",
              "      <td>0.0</td>\n",
              "      <td>0.0</td>\n",
              "      <td>0.0</td>\n",
              "      <td>0.0</td>\n",
              "      <td>1.0</td>\n",
              "    </tr>\n",
              "    <tr>\n",
              "      <th>Number_of_existing_loans_at_this_bank</th>\n",
              "      <td>1000.0</td>\n",
              "      <td>1.407</td>\n",
              "      <td>5.776545e-01</td>\n",
              "      <td>1.0</td>\n",
              "      <td>1.0</td>\n",
              "      <td>1.0</td>\n",
              "      <td>2.0</td>\n",
              "      <td>4.0</td>\n",
              "    </tr>\n",
              "    <tr>\n",
              "      <th>high_risk_applicant</th>\n",
              "      <td>1000.0</td>\n",
              "      <td>0.300</td>\n",
              "      <td>4.584869e-01</td>\n",
              "      <td>0.0</td>\n",
              "      <td>0.0</td>\n",
              "      <td>0.0</td>\n",
              "      <td>1.0</td>\n",
              "      <td>1.0</td>\n",
              "    </tr>\n",
              "  </tbody>\n",
              "</table>\n",
              "</div>"
            ],
            "text/plain": [
              "                                              count  ...         max\n",
              "Primary_applicant_age_in_years               1000.0  ...        75.0\n",
              "Number_of_dependents                         1000.0  ...         2.0\n",
              "Years_at_current_residence                   1000.0  ...         4.0\n",
              "Foreign_worker                               1000.0  ...         1.0\n",
              "Months_loan_taken_for                        1000.0  ...        72.0\n",
              "Principal_loan_amount                        1000.0  ...  18424000.0\n",
              "EMI_rate_in_percentage_of_disposable_income  1000.0  ...         4.0\n",
              "Has_coapplicant                              1000.0  ...         1.0\n",
              "Has_guarantor                                1000.0  ...         1.0\n",
              "Number_of_existing_loans_at_this_bank        1000.0  ...         4.0\n",
              "high_risk_applicant                          1000.0  ...         1.0\n",
              "\n",
              "[11 rows x 8 columns]"
            ]
          },
          "metadata": {
            "tags": []
          },
          "execution_count": 8
        }
      ]
    },
    {
      "cell_type": "markdown",
      "metadata": {
        "id": "ogcsHJIlJOA7"
      },
      "source": [
        "* There is class imbalance observed in the classification label dataset, there are 700 low risk applicants, compared to 300 high risk applicants."
      ]
    },
    {
      "cell_type": "markdown",
      "metadata": {
        "id": "wmRYGPZzCagT"
      },
      "source": [
        "##### Are young people more creditworthy?\n",
        "  * Just by looking at the age of the customer, it is difficult to understand the credit worthiness, since there are more number of young people in less credit risk than more credit risk\n",
        "  * There are 263 applicants below 30 with low risk and 148 applicants below 30 with high risk, hence just by age, it is difficult to identify the risk category.\n",
        "  * However in our dataset, we have 700 low risk applicants and 300 high risk applicants, almost 50% of high risk applicants are below the age of 30, whereas only 37.5 % of low risk applicants are below age of 30. \n",
        "  * This dataset has 406 applicants below age of 30, out of which around 35% of the applicants are high risk. Of remaining 594 applicants who are above the age of 30, there are around 26% of applicants are high risk applicants.\n",
        "  * Around 71% of the low risk applicants are below the age of 40, and 76% of high risk applicants are below age of 40."
      ]
    },
    {
      "cell_type": "code",
      "metadata": {
        "id": "gCQ2-f_-bjwY",
        "outputId": "cdebad50-0a60-467f-bd58-f3de054e8cf9",
        "colab": {
          "base_uri": "https://localhost:8080/",
          "height": 0
        }
      },
      "source": [
        "df_try = (combined_df.groupby(['high_risk_applicant','Primary_applicant_age_in_years']).agg(count_hig_risk_applicants = ('high_risk_applicant', len)))\n",
        "df_try.count_hig_risk_applicants.unstack(0).fillna(0).plot(kind='bar',subplots=True, layout=(1,2), figsize = (30,10))\n"
      ],
      "execution_count": 9,
      "outputs": [
        {
          "output_type": "execute_result",
          "data": {
            "text/plain": [
              "array([[<matplotlib.axes._subplots.AxesSubplot object at 0x7fa382735860>,\n",
              "        <matplotlib.axes._subplots.AxesSubplot object at 0x7fa38270ca90>]],\n",
              "      dtype=object)"
            ]
          },
          "metadata": {
            "tags": []
          },
          "execution_count": 9
        },
        {
          "output_type": "display_data",
          "data": {
            "image/png": "[encoded data removed]",
            "text/plain": [
              "<Figure size 2160x720 with 2 Axes>"
            ]
          },
          "metadata": {
            "tags": [],
            "needs_background": "light"
          }
        }
      ]
    },
    {
      "cell_type": "code",
      "metadata": {
        "id": "zbjp9G5MMEEg",
        "outputId": "75de014c-e1c7-47ee-9be0-e792975e9548",
        "colab": {
          "base_uri": "https://localhost:8080/",
          "height": 0
        }
      },
      "source": [
        "df_below_30 = (df_try[df_try.index.isin(list(range(31)), level=1)])\n",
        "print('Number of low risk applicants below 30: ', (df_below_30[df_below_30.index.isin(list(range(1)), level=0)]).sum())\n",
        "print('Number of high risk applicants below 30: ', (df_below_30[df_below_30.index.isin(list(range(1,2)), level=0)]).sum())"
      ],
      "execution_count": 10,
      "outputs": [
        {
          "output_type": "stream",
          "text": [
            "Number of low risk applicants below 30:  count_hig_risk_applicants    263\n",
            "dtype: int64\n",
            "Number of high risk applicants below 30:  count_hig_risk_applicants    148\n",
            "dtype: int64\n"
          ],
          "name": "stdout"
        }
      ]
    },
    {
      "cell_type": "code",
      "metadata": {
        "id": "6IwDTpOUNb6w",
        "outputId": "0cad07d2-fd29-4dee-8391-4a83e755095a",
        "colab": {
          "base_uri": "https://localhost:8080/",
          "height": 0
        }
      },
      "source": [
        "df_between_30_40 = (df_try[df_try.index.isin(list(range(31,41)), level=1)])\n",
        "print('Number of low risk applicants between 30 and 40: ', (df_between_30_40[df_between_30_40.index.isin(list(range(1)), level=0)]).sum())\n",
        "print('Number of high risk applicants between 30 and 40: ', (df_between_30_40[df_between_30_40.index.isin(list(range(1,2)), level=0)]).sum())"
      ],
      "execution_count": 11,
      "outputs": [
        {
          "output_type": "stream",
          "text": [
            "Number of low risk applicants between 30 and 40:  count_hig_risk_applicants    235\n",
            "dtype: int64\n",
            "Number of high risk applicants between 30 and 40:  count_hig_risk_applicants    80\n",
            "dtype: int64\n"
          ],
          "name": "stdout"
        }
      ]
    },
    {
      "cell_type": "code",
      "metadata": {
        "id": "oZ5FFX43ORzr",
        "outputId": "7619e139-ee71-46f5-929e-486028ddf58a",
        "colab": {
          "base_uri": "https://localhost:8080/",
          "height": 0
        }
      },
      "source": [
        "df_below_40 = (df_try[df_try.index.isin(list(range(41)), level=1)])\n",
        "print('Number of low risk applicants below 40: ', (df_below_40[df_below_40.index.isin(list(range(1)), level=0)]).sum())\n",
        "print('Number of high risk applicants below 40: ', (df_below_40[df_below_40.index.isin(list(range(1,2)), level=0)]).sum())"
      ],
      "execution_count": 12,
      "outputs": [
        {
          "output_type": "stream",
          "text": [
            "Number of low risk applicants below 40:  count_hig_risk_applicants    498\n",
            "dtype: int64\n",
            "Number of high risk applicants below 40:  count_hig_risk_applicants    228\n",
            "dtype: int64\n"
          ],
          "name": "stdout"
        }
      ]
    },
    {
      "cell_type": "code",
      "metadata": {
        "id": "wfTkKZGeK6nM",
        "outputId": "bc08be56-a500-47ba-98e8-54965558c996",
        "colab": {
          "base_uri": "https://localhost:8080/",
          "height": 0
        }
      },
      "source": [
        "df_try = (combined_df.groupby(['high_risk_applicant','Primary_applicant_age_in_years']).agg(count_hig_risk_applicants = ('high_risk_applicant', len)))\n",
        "(df_try[df_try.index.isin(list(range(31)), level=1)]).plot.bar(figsize = (15,10))"
      ],
      "execution_count": 13,
      "outputs": [
        {
          "output_type": "execute_result",
          "data": {
            "text/plain": [
              "<matplotlib.axes._subplots.AxesSubplot at 0x7fa382410fd0>"
            ]
          },
          "metadata": {
            "tags": []
          },
          "execution_count": 13
        },
        {
          "output_type": "display_data",
          "data": {
            "image/png": "[encoded data removed]",
            "text/plain": [
              "<Figure size 1080x720 with 1 Axes>"
            ]
          },
          "metadata": {
            "tags": [],
            "needs_background": "light"
          }
        }
      ]
    },
    {
      "cell_type": "code",
      "metadata": {
        "id": "HCCc7Qx5HCDG",
        "outputId": "51e41459-567b-494f-ff18-24bb0c3ae027",
        "colab": {
          "base_uri": "https://localhost:8080/",
          "height": 0
        }
      },
      "source": [
        "df_try = (combined_df.groupby(['high_risk_applicant','Principal_loan_amount']).agg(count_hig_risk_applicants = ('high_risk_applicant', len)))\n",
        "df_try"
      ],
      "execution_count": 14,
      "outputs": [
        {
          "output_type": "execute_result",
          "data": {
            "text/html": [
              "<div>\n",
              "<style scoped>\n",
              "    .dataframe tbody tr th:only-of-type {\n",
              "        vertical-align: middle;\n",
              "    }\n",
              "\n",
              "    .dataframe tbody tr th {\n",
              "        vertical-align: top;\n",
              "    }\n",
              "\n",
              "    .dataframe thead th {\n",
              "        text-align: right;\n",
              "    }\n",
              "</style>\n",
              "<table border=\"1\" class=\"dataframe\">\n",
              "  <thead>\n",
              "    <tr style=\"text-align: right;\">\n",
              "      <th></th>\n",
              "      <th></th>\n",
              "      <th>count_hig_risk_applicants</th>\n",
              "    </tr>\n",
              "    <tr>\n",
              "      <th>high_risk_applicant</th>\n",
              "      <th>Principal_loan_amount</th>\n",
              "      <th></th>\n",
              "    </tr>\n",
              "  </thead>\n",
              "  <tbody>\n",
              "    <tr>\n",
              "      <th rowspan=\"5\" valign=\"top\">0</th>\n",
              "      <th>250000</th>\n",
              "      <td>1</td>\n",
              "    </tr>\n",
              "    <tr>\n",
              "      <th>276000</th>\n",
              "      <td>1</td>\n",
              "    </tr>\n",
              "    <tr>\n",
              "      <th>338000</th>\n",
              "      <td>1</td>\n",
              "    </tr>\n",
              "    <tr>\n",
              "      <th>339000</th>\n",
              "      <td>1</td>\n",
              "    </tr>\n",
              "    <tr>\n",
              "      <th>343000</th>\n",
              "      <td>1</td>\n",
              "    </tr>\n",
              "    <tr>\n",
              "      <th>...</th>\n",
              "      <th>...</th>\n",
              "      <td>...</td>\n",
              "    </tr>\n",
              "    <tr>\n",
              "      <th rowspan=\"5\" valign=\"top\">1</th>\n",
              "      <th>14782000</th>\n",
              "      <td>1</td>\n",
              "    </tr>\n",
              "    <tr>\n",
              "      <th>14896000</th>\n",
              "      <td>1</td>\n",
              "    </tr>\n",
              "    <tr>\n",
              "      <th>15672000</th>\n",
              "      <td>1</td>\n",
              "    </tr>\n",
              "    <tr>\n",
              "      <th>15945000</th>\n",
              "      <td>1</td>\n",
              "    </tr>\n",
              "    <tr>\n",
              "      <th>18424000</th>\n",
              "      <td>1</td>\n",
              "    </tr>\n",
              "  </tbody>\n",
              "</table>\n",
              "<p>949 rows × 1 columns</p>\n",
              "</div>"
            ],
            "text/plain": [
              "                                           count_hig_risk_applicants\n",
              "high_risk_applicant Principal_loan_amount                           \n",
              "0                   250000                                         1\n",
              "                    276000                                         1\n",
              "                    338000                                         1\n",
              "                    339000                                         1\n",
              "                    343000                                         1\n",
              "...                                                              ...\n",
              "1                   14782000                                       1\n",
              "                    14896000                                       1\n",
              "                    15672000                                       1\n",
              "                    15945000                                       1\n",
              "                    18424000                                       1\n",
              "\n",
              "[949 rows x 1 columns]"
            ]
          },
          "metadata": {
            "tags": []
          },
          "execution_count": 14
        }
      ]
    },
    {
      "cell_type": "markdown",
      "metadata": {
        "id": "Spvj19RhUA1B"
      },
      "source": [
        "##### Would a person with critical credit history be more creditworthy?\n",
        "\n",
        "  * Based on just past credit history, it is quite difficult to predict an applicant if he/she is high risk or low risk, since number of applicants with 'delay in paying off loans in the past' are a less percentage of the overall high risk category.\n",
        "  * The highest category in both low risk and high risk applicants is the category of 'existing loans paid back till now', since this is the case, the credit worhtiness feature on a single note may not be highly correlated."
      ]
    },
    {
      "cell_type": "code",
      "metadata": {
        "id": "FS3dbydtRUTf",
        "outputId": "1d8f17f3-7680-456d-9662-947c4ec850db",
        "colab": {
          "base_uri": "https://localhost:8080/",
          "height": 0
        }
      },
      "source": [
        "df_try_loan_history = (combined_df.groupby(['high_risk_applicant','Loan_history']).agg(count_hig_risk_applicants = ('Loan_history', len)))\n",
        "df_try_loan_history.count_hig_risk_applicants.unstack(0).fillna(0).plot(kind='bar',subplots=True, layout=(1,2), figsize = (30,10))"
      ],
      "execution_count": 15,
      "outputs": [
        {
          "output_type": "execute_result",
          "data": {
            "text/plain": [
              "array([[<matplotlib.axes._subplots.AxesSubplot object at 0x7fa381f14e10>,\n",
              "        <matplotlib.axes._subplots.AxesSubplot object at 0x7fa381e70908>]],\n",
              "      dtype=object)"
            ]
          },
          "metadata": {
            "tags": []
          },
          "execution_count": 15
        },
        {
          "output_type": "display_data",
          "data": {
            "image/png": "[encoded data removed]",
            "text/plain": [
              "<Figure size 2160x720 with 2 Axes>"
            ]
          },
          "metadata": {
            "tags": [],
            "needs_background": "light"
          }
        }
      ]
    },
    {
      "cell_type": "markdown",
      "metadata": {
        "id": "-O90A-mFYWss"
      },
      "source": [
        "##### Would a person with more credit accounts be more creditworthy?\n",
        "* As per the visuals below people with just one credit account are less trustworthy, but this may also be observed due the imbalance in the high risk and low risk categories"
      ]
    },
    {
      "cell_type": "code",
      "metadata": {
        "id": "1ak9Rp4gCp2z",
        "outputId": "3a697ded-c70a-4bfa-abe1-c1af299420d3",
        "colab": {
          "base_uri": "https://localhost:8080/",
          "height": 0
        }
      },
      "source": [
        "df_try = (combined_df.groupby(['high_risk_applicant','Number_of_existing_loans_at_this_bank']).agg(count_hig_risk_applicants = ('high_risk_applicant', len)))\n",
        "df_try.count_hig_risk_applicants.unstack(0).fillna(0).plot(kind='bar',subplots=True, layout=(1,2), figsize = (25,10))\n"
      ],
      "execution_count": 16,
      "outputs": [
        {
          "output_type": "execute_result",
          "data": {
            "text/plain": [
              "array([[<matplotlib.axes._subplots.AxesSubplot object at 0x7fa381ecf860>,\n",
              "        <matplotlib.axes._subplots.AxesSubplot object at 0x7fa381dd4198>]],\n",
              "      dtype=object)"
            ]
          },
          "metadata": {
            "tags": []
          },
          "execution_count": 16
        },
        {
          "output_type": "display_data",
          "data": {
            "image/png": "[encoded data removed]",
            "text/plain": [
              "<Figure size 1800x720 with 2 Axes>"
            ]
          },
          "metadata": {
            "tags": [],
            "needs_background": "light"
          }
        }
      ]
    },
    {
      "cell_type": "markdown",
      "metadata": {
        "id": "IroFKThbdSgn"
      },
      "source": [
        "### Correlation of Features towards risk category"
      ]
    },
    {
      "cell_type": "code",
      "metadata": {
        "id": "i_pdluRvDfFK"
      },
      "source": [
        "object_column_names = (combined_df.loc[:, combined_df.dtypes == np.object]).columns\n",
        "numeric_column_names = (combined_df.loc[:, combined_df.dtypes == np.int64]).columns"
      ],
      "execution_count": 17,
      "outputs": []
    },
    {
      "cell_type": "code",
      "metadata": {
        "id": "cls90wAvDln0",
        "outputId": "44a2be62-722f-4452-d6ab-788aa064f6ad",
        "colab": {
          "base_uri": "https://localhost:8080/",
          "height": 0
        }
      },
      "source": [
        "combined_df[numeric_column_names[1:]].corrwith(combined_df['high_risk_applicant'])"
      ],
      "execution_count": 18,
      "outputs": [
        {
          "output_type": "execute_result",
          "data": {
            "text/plain": [
              "Primary_applicant_age_in_years                -0.091127\n",
              "Number_of_dependents                          -0.003015\n",
              "Years_at_current_residence                     0.002967\n",
              "Foreign_worker                                 0.082079\n",
              "Months_loan_taken_for                          0.214927\n",
              "Principal_loan_amount                          0.154739\n",
              "EMI_rate_in_percentage_of_disposable_income    0.072404\n",
              "Has_coapplicant                                0.062728\n",
              "Has_guarantor                                 -0.055039\n",
              "Number_of_existing_loans_at_this_bank         -0.045732\n",
              "high_risk_applicant                            1.000000\n",
              "dtype: float64"
            ]
          },
          "metadata": {
            "tags": []
          },
          "execution_count": 18
        }
      ]
    },
    {
      "cell_type": "code",
      "metadata": {
        "id": "6-nxMAFl5B5m",
        "outputId": "8ef71cb2-1756-45fd-cd24-df1949aa31cd",
        "colab": {
          "base_uri": "https://localhost:8080/",
          "height": 0
        }
      },
      "source": [
        "combined_df.iloc[:,1:].drop('high_risk_applicant', axis=1).plot(kind='box', subplots=True, layout=(5,5), sharex=False, sharey=False, figsize=(15,15), \n",
        "                                        title='Box Plot for each input variable')\n",
        "plt.show()"
      ],
      "execution_count": 19,
      "outputs": [
        {
          "output_type": "display_data",
          "data": {
            "image/png": "[encoded data removed]",
            "text/plain": [
              "<Figure size 1080x1080 with 25 Axes>"
            ]
          },
          "metadata": {
            "tags": [],
            "needs_background": "light"
          }
        }
      ]
    },
    {
      "cell_type": "code",
      "metadata": {
        "id": "WAFeC5aW5Bsz",
        "outputId": "fcc25902-a78f-465a-f3ac-971b6a35c7b7",
        "colab": {
          "base_uri": "https://localhost:8080/",
          "height": 0
        }
      },
      "source": [
        "import pylab as pl\n",
        "combined_df.iloc[:,1:].drop('high_risk_applicant' ,axis=1).hist(bins=30, figsize=(15,15))\n",
        "pl.suptitle(\"Histogram for each numeric input variable\")\n",
        "plt.show()"
      ],
      "execution_count": 20,
      "outputs": [
        {
          "output_type": "display_data",
          "data": {
            "image/png": "[encoded data removed]",
            "text/plain": [
              "<Figure size 1080x1080 with 12 Axes>"
            ]
          },
          "metadata": {
            "tags": [],
            "needs_background": "light"
          }
        }
      ]
    },
    {
      "cell_type": "markdown",
      "metadata": {
        "id": "NFtW1tXtziTX"
      },
      "source": [
        "* Correlation chart"
      ]
    },
    {
      "cell_type": "code",
      "metadata": {
        "id": "3mkI9_t0C_VX",
        "outputId": "ea64350c-65de-4018-cd84-ae591c785bd1",
        "colab": {
          "base_uri": "https://localhost:8080/",
          "height": 0
        }
      },
      "source": [
        "updated_data_1 = combined_df.iloc[:,1:].drop(columns = object_column_names)\n",
        "corr = updated_data_1.corr()\n",
        "\n",
        "fig = plt.figure(figsize = (25,10))\n",
        "ax = fig.add_subplot(1,1,1)\n",
        "cax = ax.matshow(corr,cmap='coolwarm', vmin=-1, vmax=1)\n",
        "fig.colorbar(cax)\n",
        "ticks = np.arange(0,len(updated_data_1.columns),1)\n",
        "ax.set_xticks(ticks)\n",
        "plt.xticks(rotation=90)\n",
        "ax.set_yticks(ticks)\n",
        "ax.set_xticklabels(updated_data_1.columns)\n",
        "ax.set_yticklabels(updated_data_1.columns)\n",
        "plt.show()"
      ],
      "execution_count": 21,
      "outputs": [
        {
          "output_type": "display_data",
          "data": {
            "image/png": "[encoded data removed]",
            "text/plain": [
              "<Figure size 1800x720 with 2 Axes>"
            ]
          },
          "metadata": {
            "tags": [],
            "needs_background": "light"
          }
        }
      ]
    },
    {
      "cell_type": "markdown",
      "metadata": {
        "id": "z0sRBgiPzljj"
      },
      "source": [
        "* Heatmap"
      ]
    },
    {
      "cell_type": "code",
      "metadata": {
        "id": "JJtOHzkRlahB",
        "outputId": "64b5c577-82fe-42ee-9fe8-0b90f59c70e6",
        "colab": {
          "base_uri": "https://localhost:8080/",
          "height": 0
        }
      },
      "source": [
        "plt.figure(figsize=(20,20))\n",
        "sns.heatmap(combined_df.iloc[:,1:].corr(), annot=True)\n",
        "plt.show()"
      ],
      "execution_count": 22,
      "outputs": [
        {
          "output_type": "display_data",
          "data": {
            "image/png": "[encoded data removed]",
            "text/plain": [
              "<Figure size 1440x1440 with 2 Axes>"
            ]
          },
          "metadata": {
            "tags": [],
            "needs_background": "light"
          }
        }
      ]
    },
    {
      "cell_type": "markdown",
      "metadata": {
        "id": "fkgvI_MJui4Q"
      },
      "source": [
        "### Handling missing values"
      ]
    },
    {
      "cell_type": "code",
      "metadata": {
        "id": "1VJv5Qe8xR3Y",
        "outputId": "4296078a-3ebc-4b98-e2db-a239e44ff02a",
        "colab": {
          "base_uri": "https://localhost:8080/",
          "height": 0
        }
      },
      "source": [
        "missing_value_count = combined_df.isna().sum()\n",
        "column_names = list(combined_df.columns)\n",
        "missing_null_columns = []\n",
        "[(missing_null_columns.append(column_names[index]),column_names[index], value) for index, value in enumerate(missing_value_count) if value>0]"
      ],
      "execution_count": 23,
      "outputs": [
        {
          "output_type": "execute_result",
          "data": {
            "text/plain": [
              "[(None, 'Has_been_employed_for_at_least', 62),\n",
              " (None, 'Has_been_employed_for_at_most', 253),\n",
              " (None, 'Telephone', 596),\n",
              " (None, 'Savings_account_balance', 183),\n",
              " (None, 'Balance_in_existing_bank_account_(lower_limit_of_bucket)', 668),\n",
              " (None, 'Balance_in_existing_bank_account_(upper_limit_of_bucket)', 457),\n",
              " (None, 'Purpose', 12),\n",
              " (None, 'Property', 154),\n",
              " (None, 'Other_EMI_plans', 814)]"
            ]
          },
          "metadata": {
            "tags": []
          },
          "execution_count": 23
        }
      ]
    },
    {
      "cell_type": "code",
      "metadata": {
        "id": "2heMDfAYxfPB",
        "outputId": "f6a6e8e1-08a5-41de-cee2-31d757c0ed2b",
        "colab": {
          "base_uri": "https://localhost:8080/",
          "height": 0
        }
      },
      "source": [
        "[(column_names[index], round(((value/len(combined_df))*100),2)) \n",
        "for index, value in enumerate(missing_value_count) if value>0]"
      ],
      "execution_count": 24,
      "outputs": [
        {
          "output_type": "execute_result",
          "data": {
            "text/plain": [
              "[('Has_been_employed_for_at_least', 6.2),\n",
              " ('Has_been_employed_for_at_most', 25.3),\n",
              " ('Telephone', 59.6),\n",
              " ('Savings_account_balance', 18.3),\n",
              " ('Balance_in_existing_bank_account_(lower_limit_of_bucket)', 66.8),\n",
              " ('Balance_in_existing_bank_account_(upper_limit_of_bucket)', 45.7),\n",
              " ('Purpose', 1.2),\n",
              " ('Property', 15.4),\n",
              " ('Other_EMI_plans', 81.4)]"
            ]
          },
          "metadata": {
            "tags": []
          },
          "execution_count": 24
        }
      ]
    },
    {
      "cell_type": "markdown",
      "metadata": {
        "id": "9LXjbxR1xkGc"
      },
      "source": [
        "* For columns with less than 20% of the rows, we will fill with the mode.\n",
        "* For 'Other_EMI_plans', it has more than 800 rows missing out of 1000 rows.\n",
        "  * Also checked for the pattern if the 200 rows are only for high risk or low risk applicants, which was not the case, hence this column will be deleted.\n",
        "* For 'Telephone', it has more than 600 rows approximately missing and there is no pattern that Telephone was available for high risk or low risk applicant, hence this column will also be dropped.\n",
        "* The columns 'Has_been_employed_for_at_least' and 'Has_been_employed_for_at_most' are mutually exclusive, hence will take the average of those two columns in a new column\n",
        "* 'Property', 'Purpose' have very less null values, hence they will be filled up with the mode or most frequently occuring value.\n",
        "* 'Balance_in_existing_bank_account_lower_limit' and 'Balance_in_existing_bank_account_upper_limit' are not mutually exclusive, hence have decided to delete these columns, since number of rows where both the columns are null is also around 400 rows, and the amount is either 0 or 2 lacs, hence this column may not contribute much to the high risk category."
      ]
    },
    {
      "cell_type": "markdown",
      "metadata": {
        "id": "YwrwA7OLWtFP"
      },
      "source": [
        "* Creation of average employment years for the applicant"
      ]
    },
    {
      "cell_type": "code",
      "metadata": {
        "id": "-SpSpnW-TF0g"
      },
      "source": [
        "employed_at_least = combined_df['Has_been_employed_for_at_least'].str.extract('(\\d+)')\n",
        "employed_at_most = combined_df['Has_been_employed_for_at_most'].str.extract('(\\d+)')\n",
        "employed_at_least.fillna(value = 0, inplace = True)\n",
        "employed_at_most.fillna(value = 0, inplace = True)\n",
        "employed_at_least = pd.to_numeric(employed_at_least.iloc[:,0])\n",
        "employed_at_most = pd.to_numeric(employed_at_most.iloc[:,0])\n",
        "employed_df = pd.concat([employed_at_least, employed_at_most], axis = 1)\n",
        "employed_df['average'] = 0.5 * (employed_df.iloc[:,0] + employed_df.iloc[:,1])\n",
        "combined_df['Average_employment_years'] = employed_df['average']"
      ],
      "execution_count": 25,
      "outputs": []
    },
    {
      "cell_type": "markdown",
      "metadata": {
        "id": "VuLKgCWjW124"
      },
      "source": [
        "* Dropping of 'Other_EMI_plans', 'Telephone', 'Balance_in_existing_bank_account_(lower_limit_of_bucket)' and 'Balance_in_existing_bank_account_(upper_limit_of_bucket)'"
      ]
    },
    {
      "cell_type": "code",
      "metadata": {
        "id": "Wf9Ljenjum2p",
        "outputId": "d456b2ae-0b2e-4877-b56f-336967b7bc2f",
        "colab": {
          "base_uri": "https://localhost:8080/",
          "height": 0
        }
      },
      "source": [
        "combined_df = combined_df.drop(labels = ['Other_EMI_plans', \n",
        "                                         'Telephone',\n",
        "                                         'Balance_in_existing_bank_account_(lower_limit_of_bucket)',\n",
        "                                         'Balance_in_existing_bank_account_(upper_limit_of_bucket)',\n",
        "                                         'Has_been_employed_for_at_least',\n",
        "                                         'Has_been_employed_for_at_most',\n",
        "                                         'loan_application_id'],\n",
        "                                       axis = 1)\n",
        "combined_df.head()"
      ],
      "execution_count": 26,
      "outputs": [
        {
          "output_type": "execute_result",
          "data": {
            "text/html": [
              "<div>\n",
              "<style scoped>\n",
              "    .dataframe tbody tr th:only-of-type {\n",
              "        vertical-align: middle;\n",
              "    }\n",
              "\n",
              "    .dataframe tbody tr th {\n",
              "        vertical-align: top;\n",
              "    }\n",
              "\n",
              "    .dataframe thead th {\n",
              "        text-align: right;\n",
              "    }\n",
              "</style>\n",
              "<table border=\"1\" class=\"dataframe\">\n",
              "  <thead>\n",
              "    <tr style=\"text-align: right;\">\n",
              "      <th></th>\n",
              "      <th>applicant_id</th>\n",
              "      <th>Primary_applicant_age_in_years</th>\n",
              "      <th>Gender</th>\n",
              "      <th>Marital_status</th>\n",
              "      <th>Number_of_dependents</th>\n",
              "      <th>Housing</th>\n",
              "      <th>Years_at_current_residence</th>\n",
              "      <th>Employment_status</th>\n",
              "      <th>Foreign_worker</th>\n",
              "      <th>Savings_account_balance</th>\n",
              "      <th>Months_loan_taken_for</th>\n",
              "      <th>Purpose</th>\n",
              "      <th>Principal_loan_amount</th>\n",
              "      <th>EMI_rate_in_percentage_of_disposable_income</th>\n",
              "      <th>Property</th>\n",
              "      <th>Has_coapplicant</th>\n",
              "      <th>Has_guarantor</th>\n",
              "      <th>Number_of_existing_loans_at_this_bank</th>\n",
              "      <th>Loan_history</th>\n",
              "      <th>high_risk_applicant</th>\n",
              "      <th>Average_employment_years</th>\n",
              "    </tr>\n",
              "  </thead>\n",
              "  <tbody>\n",
              "    <tr>\n",
              "      <th>0</th>\n",
              "      <td>1469590</td>\n",
              "      <td>67</td>\n",
              "      <td>male</td>\n",
              "      <td>single</td>\n",
              "      <td>1</td>\n",
              "      <td>own</td>\n",
              "      <td>4</td>\n",
              "      <td>skilled employee / official</td>\n",
              "      <td>1</td>\n",
              "      <td>NaN</td>\n",
              "      <td>6</td>\n",
              "      <td>electronic equipment</td>\n",
              "      <td>1169000</td>\n",
              "      <td>4</td>\n",
              "      <td>real estate</td>\n",
              "      <td>0</td>\n",
              "      <td>0</td>\n",
              "      <td>2</td>\n",
              "      <td>critical/pending loans at other banks</td>\n",
              "      <td>0</td>\n",
              "      <td>3.5</td>\n",
              "    </tr>\n",
              "    <tr>\n",
              "      <th>1</th>\n",
              "      <td>1203873</td>\n",
              "      <td>22</td>\n",
              "      <td>female</td>\n",
              "      <td>divorced/separated/married</td>\n",
              "      <td>1</td>\n",
              "      <td>own</td>\n",
              "      <td>2</td>\n",
              "      <td>skilled employee / official</td>\n",
              "      <td>1</td>\n",
              "      <td>Low</td>\n",
              "      <td>48</td>\n",
              "      <td>electronic equipment</td>\n",
              "      <td>5951000</td>\n",
              "      <td>2</td>\n",
              "      <td>real estate</td>\n",
              "      <td>0</td>\n",
              "      <td>0</td>\n",
              "      <td>1</td>\n",
              "      <td>existing loans paid back duly till now</td>\n",
              "      <td>1</td>\n",
              "      <td>2.5</td>\n",
              "    </tr>\n",
              "    <tr>\n",
              "      <th>2</th>\n",
              "      <td>1432761</td>\n",
              "      <td>49</td>\n",
              "      <td>male</td>\n",
              "      <td>single</td>\n",
              "      <td>2</td>\n",
              "      <td>own</td>\n",
              "      <td>3</td>\n",
              "      <td>unskilled - resident</td>\n",
              "      <td>1</td>\n",
              "      <td>Low</td>\n",
              "      <td>12</td>\n",
              "      <td>education</td>\n",
              "      <td>2096000</td>\n",
              "      <td>2</td>\n",
              "      <td>real estate</td>\n",
              "      <td>0</td>\n",
              "      <td>0</td>\n",
              "      <td>1</td>\n",
              "      <td>critical/pending loans at other banks</td>\n",
              "      <td>0</td>\n",
              "      <td>5.5</td>\n",
              "    </tr>\n",
              "    <tr>\n",
              "      <th>3</th>\n",
              "      <td>1207582</td>\n",
              "      <td>45</td>\n",
              "      <td>male</td>\n",
              "      <td>single</td>\n",
              "      <td>2</td>\n",
              "      <td>for free</td>\n",
              "      <td>4</td>\n",
              "      <td>skilled employee / official</td>\n",
              "      <td>1</td>\n",
              "      <td>Low</td>\n",
              "      <td>42</td>\n",
              "      <td>FF&amp;E</td>\n",
              "      <td>7882000</td>\n",
              "      <td>2</td>\n",
              "      <td>building society savings agreement/life insurance</td>\n",
              "      <td>0</td>\n",
              "      <td>1</td>\n",
              "      <td>1</td>\n",
              "      <td>existing loans paid back duly till now</td>\n",
              "      <td>0</td>\n",
              "      <td>5.5</td>\n",
              "    </tr>\n",
              "    <tr>\n",
              "      <th>4</th>\n",
              "      <td>1674436</td>\n",
              "      <td>53</td>\n",
              "      <td>male</td>\n",
              "      <td>single</td>\n",
              "      <td>2</td>\n",
              "      <td>for free</td>\n",
              "      <td>4</td>\n",
              "      <td>skilled employee / official</td>\n",
              "      <td>1</td>\n",
              "      <td>Low</td>\n",
              "      <td>24</td>\n",
              "      <td>new vehicle</td>\n",
              "      <td>4870000</td>\n",
              "      <td>3</td>\n",
              "      <td>NaN</td>\n",
              "      <td>0</td>\n",
              "      <td>0</td>\n",
              "      <td>2</td>\n",
              "      <td>delay in paying off loans in the past</td>\n",
              "      <td>1</td>\n",
              "      <td>2.5</td>\n",
              "    </tr>\n",
              "  </tbody>\n",
              "</table>\n",
              "</div>"
            ],
            "text/plain": [
              "   applicant_id  ...  Average_employment_years\n",
              "0       1469590  ...                       3.5\n",
              "1       1203873  ...                       2.5\n",
              "2       1432761  ...                       5.5\n",
              "3       1207582  ...                       5.5\n",
              "4       1674436  ...                       2.5\n",
              "\n",
              "[5 rows x 21 columns]"
            ]
          },
          "metadata": {
            "tags": []
          },
          "execution_count": 26
        }
      ]
    },
    {
      "cell_type": "code",
      "metadata": {
        "id": "S4xobQx_yXqU"
      },
      "source": [
        "# missing_null_df = combined_df[missing_null_columns]\n",
        "# print()\n",
        "# missing_null_df.head()"
      ],
      "execution_count": 27,
      "outputs": []
    },
    {
      "cell_type": "code",
      "metadata": {
        "id": "_1gcpYsu0db5"
      },
      "source": [
        "# bank_balance = combined_df.dropna(subset = ['Balance_in_existing_bank_account_(lower_limit_of_bucket)',\n",
        "#                                  'Balance_in_existing_bank_account_(upper_limit_of_bucket)'],\n",
        "#                        how = 'all')\n",
        "\n",
        "# (bank_balance.groupby(['high_risk_applicant','Balance_in_existing_bank_account_(upper_limit_of_bucket)']).agg(count_hig_risk_applicants = ('high_risk_applicant', len)))"
      ],
      "execution_count": 28,
      "outputs": []
    },
    {
      "cell_type": "code",
      "metadata": {
        "id": "zfGcAFxN_ONA"
      },
      "source": [
        "# bank_balance = combined_df.dropna(subset = ['Telephone'],\n",
        "#                        how = 'all')\n",
        "\n",
        "# (bank_balance.groupby(['high_risk_applicant','Telephone']).agg(count_hig_risk_applicants = ('high_risk_applicant', len)))"
      ],
      "execution_count": 29,
      "outputs": []
    },
    {
      "cell_type": "code",
      "metadata": {
        "id": "OojQt_rW6dP2"
      },
      "source": [
        "# bank_balance = combined_df.dropna(subset = ['Other_EMI_plans'],\n",
        "#                        how = 'all')\n",
        "\n",
        "# (bank_balance.groupby(['high_risk_applicant','Other_EMI_plans']).agg(count_hig_risk_applicants = ('high_risk_applicant', len)))"
      ],
      "execution_count": 30,
      "outputs": []
    },
    {
      "cell_type": "code",
      "metadata": {
        "id": "cuQe76lu1mPQ"
      },
      "source": [
        "# missing_null_df['Savings_account_balance'].unique()"
      ],
      "execution_count": 31,
      "outputs": []
    },
    {
      "cell_type": "code",
      "metadata": {
        "id": "V2BdQC6wASo0"
      },
      "source": [
        "# (combined_df.dropna(subset = ['Balance_in_existing_bank_account_(lower_limit_of_bucket)',\n",
        "#                                  'Balance_in_existing_bank_account_(upper_limit_of_bucket)'],\n",
        "#                        how = 'all'))['high_risk_applicant'].sum()"
      ],
      "execution_count": 32,
      "outputs": []
    },
    {
      "cell_type": "code",
      "metadata": {
        "id": "jXW_gVYZZVny",
        "outputId": "79b23e33-9d1a-46a7-b9a9-30a1bd9738f2",
        "colab": {
          "base_uri": "https://localhost:8080/",
          "height": 0
        }
      },
      "source": [
        "missing_value_count = combined_df.isna().sum()\n",
        "column_names = list(combined_df.columns)\n",
        "missing_null_columns = []\n",
        "[(missing_null_columns.append(column_names[index]),column_names[index], value) for index, value in enumerate(missing_value_count) if value>0]"
      ],
      "execution_count": 33,
      "outputs": [
        {
          "output_type": "execute_result",
          "data": {
            "text/plain": [
              "[(None, 'Savings_account_balance', 183),\n",
              " (None, 'Purpose', 12),\n",
              " (None, 'Property', 154)]"
            ]
          },
          "metadata": {
            "tags": []
          },
          "execution_count": 33
        }
      ]
    },
    {
      "cell_type": "code",
      "metadata": {
        "id": "U__Jnmurwk-g",
        "outputId": "21c0b787-2a96-4aa9-c1be-faab0b8a9a3b",
        "colab": {
          "base_uri": "https://localhost:8080/",
          "height": 0
        }
      },
      "source": [
        "listed_columns_mode_fill = list(combined_df.columns)\n",
        "for i in range(len(listed_columns_mode_fill)):\n",
        "    a = len(combined_df[listed_columns_mode_fill[i]].unique())\n",
        "#     print(\"column: \", i, \" number of unique elements are: \", a )\n",
        "    if a <= 10:\n",
        "        combined_df[listed_columns_mode_fill[i]].fillna(combined_df[listed_columns_mode_fill[i]].mode()[0], inplace=True)\n",
        "combined_df"
      ],
      "execution_count": 34,
      "outputs": [
        {
          "output_type": "execute_result",
          "data": {
            "text/html": [
              "<div>\n",
              "<style scoped>\n",
              "    .dataframe tbody tr th:only-of-type {\n",
              "        vertical-align: middle;\n",
              "    }\n",
              "\n",
              "    .dataframe tbody tr th {\n",
              "        vertical-align: top;\n",
              "    }\n",
              "\n",
              "    .dataframe thead th {\n",
              "        text-align: right;\n",
              "    }\n",
              "</style>\n",
              "<table border=\"1\" class=\"dataframe\">\n",
              "  <thead>\n",
              "    <tr style=\"text-align: right;\">\n",
              "      <th></th>\n",
              "      <th>applicant_id</th>\n",
              "      <th>Primary_applicant_age_in_years</th>\n",
              "      <th>Gender</th>\n",
              "      <th>Marital_status</th>\n",
              "      <th>Number_of_dependents</th>\n",
              "      <th>Housing</th>\n",
              "      <th>Years_at_current_residence</th>\n",
              "      <th>Employment_status</th>\n",
              "      <th>Foreign_worker</th>\n",
              "      <th>Savings_account_balance</th>\n",
              "      <th>Months_loan_taken_for</th>\n",
              "      <th>Purpose</th>\n",
              "      <th>Principal_loan_amount</th>\n",
              "      <th>EMI_rate_in_percentage_of_disposable_income</th>\n",
              "      <th>Property</th>\n",
              "      <th>Has_coapplicant</th>\n",
              "      <th>Has_guarantor</th>\n",
              "      <th>Number_of_existing_loans_at_this_bank</th>\n",
              "      <th>Loan_history</th>\n",
              "      <th>high_risk_applicant</th>\n",
              "      <th>Average_employment_years</th>\n",
              "    </tr>\n",
              "  </thead>\n",
              "  <tbody>\n",
              "    <tr>\n",
              "      <th>0</th>\n",
              "      <td>1469590</td>\n",
              "      <td>67</td>\n",
              "      <td>male</td>\n",
              "      <td>single</td>\n",
              "      <td>1</td>\n",
              "      <td>own</td>\n",
              "      <td>4</td>\n",
              "      <td>skilled employee / official</td>\n",
              "      <td>1</td>\n",
              "      <td>Low</td>\n",
              "      <td>6</td>\n",
              "      <td>electronic equipment</td>\n",
              "      <td>1169000</td>\n",
              "      <td>4</td>\n",
              "      <td>real estate</td>\n",
              "      <td>0</td>\n",
              "      <td>0</td>\n",
              "      <td>2</td>\n",
              "      <td>critical/pending loans at other banks</td>\n",
              "      <td>0</td>\n",
              "      <td>3.5</td>\n",
              "    </tr>\n",
              "    <tr>\n",
              "      <th>1</th>\n",
              "      <td>1203873</td>\n",
              "      <td>22</td>\n",
              "      <td>female</td>\n",
              "      <td>divorced/separated/married</td>\n",
              "      <td>1</td>\n",
              "      <td>own</td>\n",
              "      <td>2</td>\n",
              "      <td>skilled employee / official</td>\n",
              "      <td>1</td>\n",
              "      <td>Low</td>\n",
              "      <td>48</td>\n",
              "      <td>electronic equipment</td>\n",
              "      <td>5951000</td>\n",
              "      <td>2</td>\n",
              "      <td>real estate</td>\n",
              "      <td>0</td>\n",
              "      <td>0</td>\n",
              "      <td>1</td>\n",
              "      <td>existing loans paid back duly till now</td>\n",
              "      <td>1</td>\n",
              "      <td>2.5</td>\n",
              "    </tr>\n",
              "    <tr>\n",
              "      <th>2</th>\n",
              "      <td>1432761</td>\n",
              "      <td>49</td>\n",
              "      <td>male</td>\n",
              "      <td>single</td>\n",
              "      <td>2</td>\n",
              "      <td>own</td>\n",
              "      <td>3</td>\n",
              "      <td>unskilled - resident</td>\n",
              "      <td>1</td>\n",
              "      <td>Low</td>\n",
              "      <td>12</td>\n",
              "      <td>education</td>\n",
              "      <td>2096000</td>\n",
              "      <td>2</td>\n",
              "      <td>real estate</td>\n",
              "      <td>0</td>\n",
              "      <td>0</td>\n",
              "      <td>1</td>\n",
              "      <td>critical/pending loans at other banks</td>\n",
              "      <td>0</td>\n",
              "      <td>5.5</td>\n",
              "    </tr>\n",
              "    <tr>\n",
              "      <th>3</th>\n",
              "      <td>1207582</td>\n",
              "      <td>45</td>\n",
              "      <td>male</td>\n",
              "      <td>single</td>\n",
              "      <td>2</td>\n",
              "      <td>for free</td>\n",
              "      <td>4</td>\n",
              "      <td>skilled employee / official</td>\n",
              "      <td>1</td>\n",
              "      <td>Low</td>\n",
              "      <td>42</td>\n",
              "      <td>FF&amp;E</td>\n",
              "      <td>7882000</td>\n",
              "      <td>2</td>\n",
              "      <td>building society savings agreement/life insurance</td>\n",
              "      <td>0</td>\n",
              "      <td>1</td>\n",
              "      <td>1</td>\n",
              "      <td>existing loans paid back duly till now</td>\n",
              "      <td>0</td>\n",
              "      <td>5.5</td>\n",
              "    </tr>\n",
              "    <tr>\n",
              "      <th>4</th>\n",
              "      <td>1674436</td>\n",
              "      <td>53</td>\n",
              "      <td>male</td>\n",
              "      <td>single</td>\n",
              "      <td>2</td>\n",
              "      <td>for free</td>\n",
              "      <td>4</td>\n",
              "      <td>skilled employee / official</td>\n",
              "      <td>1</td>\n",
              "      <td>Low</td>\n",
              "      <td>24</td>\n",
              "      <td>new vehicle</td>\n",
              "      <td>4870000</td>\n",
              "      <td>3</td>\n",
              "      <td>car or other</td>\n",
              "      <td>0</td>\n",
              "      <td>0</td>\n",
              "      <td>2</td>\n",
              "      <td>delay in paying off loans in the past</td>\n",
              "      <td>1</td>\n",
              "      <td>2.5</td>\n",
              "    </tr>\n",
              "    <tr>\n",
              "      <th>...</th>\n",
              "      <td>...</td>\n",
              "      <td>...</td>\n",
              "      <td>...</td>\n",
              "      <td>...</td>\n",
              "      <td>...</td>\n",
              "      <td>...</td>\n",
              "      <td>...</td>\n",
              "      <td>...</td>\n",
              "      <td>...</td>\n",
              "      <td>...</td>\n",
              "      <td>...</td>\n",
              "      <td>...</td>\n",
              "      <td>...</td>\n",
              "      <td>...</td>\n",
              "      <td>...</td>\n",
              "      <td>...</td>\n",
              "      <td>...</td>\n",
              "      <td>...</td>\n",
              "      <td>...</td>\n",
              "      <td>...</td>\n",
              "      <td>...</td>\n",
              "    </tr>\n",
              "    <tr>\n",
              "      <th>995</th>\n",
              "      <td>1880194</td>\n",
              "      <td>31</td>\n",
              "      <td>female</td>\n",
              "      <td>divorced/separated/married</td>\n",
              "      <td>1</td>\n",
              "      <td>own</td>\n",
              "      <td>4</td>\n",
              "      <td>unskilled - resident</td>\n",
              "      <td>1</td>\n",
              "      <td>Low</td>\n",
              "      <td>12</td>\n",
              "      <td>FF&amp;E</td>\n",
              "      <td>1736000</td>\n",
              "      <td>3</td>\n",
              "      <td>real estate</td>\n",
              "      <td>0</td>\n",
              "      <td>0</td>\n",
              "      <td>1</td>\n",
              "      <td>existing loans paid back duly till now</td>\n",
              "      <td>0</td>\n",
              "      <td>5.5</td>\n",
              "    </tr>\n",
              "    <tr>\n",
              "      <th>996</th>\n",
              "      <td>1114064</td>\n",
              "      <td>40</td>\n",
              "      <td>male</td>\n",
              "      <td>divorced/separated</td>\n",
              "      <td>1</td>\n",
              "      <td>own</td>\n",
              "      <td>4</td>\n",
              "      <td>management / self-employed / highly qualified ...</td>\n",
              "      <td>1</td>\n",
              "      <td>Low</td>\n",
              "      <td>30</td>\n",
              "      <td>used vehicle</td>\n",
              "      <td>3857000</td>\n",
              "      <td>4</td>\n",
              "      <td>building society savings agreement/life insurance</td>\n",
              "      <td>0</td>\n",
              "      <td>0</td>\n",
              "      <td>1</td>\n",
              "      <td>existing loans paid back duly till now</td>\n",
              "      <td>0</td>\n",
              "      <td>2.5</td>\n",
              "    </tr>\n",
              "    <tr>\n",
              "      <th>997</th>\n",
              "      <td>1758046</td>\n",
              "      <td>38</td>\n",
              "      <td>male</td>\n",
              "      <td>single</td>\n",
              "      <td>1</td>\n",
              "      <td>own</td>\n",
              "      <td>4</td>\n",
              "      <td>skilled employee / official</td>\n",
              "      <td>1</td>\n",
              "      <td>Low</td>\n",
              "      <td>12</td>\n",
              "      <td>electronic equipment</td>\n",
              "      <td>804000</td>\n",
              "      <td>4</td>\n",
              "      <td>car or other</td>\n",
              "      <td>0</td>\n",
              "      <td>0</td>\n",
              "      <td>1</td>\n",
              "      <td>existing loans paid back duly till now</td>\n",
              "      <td>0</td>\n",
              "      <td>3.5</td>\n",
              "    </tr>\n",
              "    <tr>\n",
              "      <th>998</th>\n",
              "      <td>1824545</td>\n",
              "      <td>23</td>\n",
              "      <td>male</td>\n",
              "      <td>single</td>\n",
              "      <td>1</td>\n",
              "      <td>for free</td>\n",
              "      <td>4</td>\n",
              "      <td>skilled employee / official</td>\n",
              "      <td>1</td>\n",
              "      <td>Low</td>\n",
              "      <td>45</td>\n",
              "      <td>electronic equipment</td>\n",
              "      <td>1845000</td>\n",
              "      <td>4</td>\n",
              "      <td>car or other</td>\n",
              "      <td>0</td>\n",
              "      <td>0</td>\n",
              "      <td>1</td>\n",
              "      <td>existing loans paid back duly till now</td>\n",
              "      <td>1</td>\n",
              "      <td>2.5</td>\n",
              "    </tr>\n",
              "    <tr>\n",
              "      <th>999</th>\n",
              "      <td>1660770</td>\n",
              "      <td>27</td>\n",
              "      <td>male</td>\n",
              "      <td>single</td>\n",
              "      <td>1</td>\n",
              "      <td>own</td>\n",
              "      <td>4</td>\n",
              "      <td>skilled employee / official</td>\n",
              "      <td>1</td>\n",
              "      <td>Medium</td>\n",
              "      <td>45</td>\n",
              "      <td>used vehicle</td>\n",
              "      <td>4576000</td>\n",
              "      <td>3</td>\n",
              "      <td>car or other</td>\n",
              "      <td>0</td>\n",
              "      <td>0</td>\n",
              "      <td>1</td>\n",
              "      <td>critical/pending loans at other banks</td>\n",
              "      <td>0</td>\n",
              "      <td>0.0</td>\n",
              "    </tr>\n",
              "  </tbody>\n",
              "</table>\n",
              "<p>1000 rows × 21 columns</p>\n",
              "</div>"
            ],
            "text/plain": [
              "     applicant_id  ...  Average_employment_years\n",
              "0         1469590  ...                       3.5\n",
              "1         1203873  ...                       2.5\n",
              "2         1432761  ...                       5.5\n",
              "3         1207582  ...                       5.5\n",
              "4         1674436  ...                       2.5\n",
              "..            ...  ...                       ...\n",
              "995       1880194  ...                       5.5\n",
              "996       1114064  ...                       2.5\n",
              "997       1758046  ...                       3.5\n",
              "998       1824545  ...                       2.5\n",
              "999       1660770  ...                       0.0\n",
              "\n",
              "[1000 rows x 21 columns]"
            ]
          },
          "metadata": {
            "tags": []
          },
          "execution_count": 34
        }
      ]
    },
    {
      "cell_type": "code",
      "metadata": {
        "id": "nvhWfyWUaFrO",
        "outputId": "7a96b21f-3738-42b6-ec68-c4489990ee1f",
        "colab": {
          "base_uri": "https://localhost:8080/",
          "height": 0
        }
      },
      "source": [
        "combined_df.info()"
      ],
      "execution_count": 35,
      "outputs": [
        {
          "output_type": "stream",
          "text": [
            "<class 'pandas.core.frame.DataFrame'>\n",
            "Int64Index: 1000 entries, 0 to 999\n",
            "Data columns (total 21 columns):\n",
            " #   Column                                       Non-Null Count  Dtype  \n",
            "---  ------                                       --------------  -----  \n",
            " 0   applicant_id                                 1000 non-null   int64  \n",
            " 1   Primary_applicant_age_in_years               1000 non-null   int64  \n",
            " 2   Gender                                       1000 non-null   object \n",
            " 3   Marital_status                               1000 non-null   object \n",
            " 4   Number_of_dependents                         1000 non-null   int64  \n",
            " 5   Housing                                      1000 non-null   object \n",
            " 6   Years_at_current_residence                   1000 non-null   int64  \n",
            " 7   Employment_status                            1000 non-null   object \n",
            " 8   Foreign_worker                               1000 non-null   int64  \n",
            " 9   Savings_account_balance                      1000 non-null   object \n",
            " 10  Months_loan_taken_for                        1000 non-null   int64  \n",
            " 11  Purpose                                      1000 non-null   object \n",
            " 12  Principal_loan_amount                        1000 non-null   int64  \n",
            " 13  EMI_rate_in_percentage_of_disposable_income  1000 non-null   int64  \n",
            " 14  Property                                     1000 non-null   object \n",
            " 15  Has_coapplicant                              1000 non-null   int64  \n",
            " 16  Has_guarantor                                1000 non-null   int64  \n",
            " 17  Number_of_existing_loans_at_this_bank        1000 non-null   int64  \n",
            " 18  Loan_history                                 1000 non-null   object \n",
            " 19  high_risk_applicant                          1000 non-null   int64  \n",
            " 20  Average_employment_years                     1000 non-null   float64\n",
            "dtypes: float64(1), int64(12), object(8)\n",
            "memory usage: 211.9+ KB\n"
          ],
          "name": "stdout"
        }
      ]
    },
    {
      "cell_type": "markdown",
      "metadata": {
        "id": "4iIyPjZgb5q3"
      },
      "source": [
        "### Handling categorical columns"
      ]
    },
    {
      "cell_type": "code",
      "metadata": {
        "id": "vbT82uXdb8vQ",
        "outputId": "1cd6d6db-8d35-485f-cbc1-31a19db2aae2",
        "colab": {
          "base_uri": "https://localhost:8080/",
          "height": 0
        }
      },
      "source": [
        "object_column_names = (combined_df.loc[:, combined_df.dtypes == np.object]).columns\n",
        "combined_df[object_column_names].head()"
      ],
      "execution_count": 36,
      "outputs": [
        {
          "output_type": "execute_result",
          "data": {
            "text/html": [
              "<div>\n",
              "<style scoped>\n",
              "    .dataframe tbody tr th:only-of-type {\n",
              "        vertical-align: middle;\n",
              "    }\n",
              "\n",
              "    .dataframe tbody tr th {\n",
              "        vertical-align: top;\n",
              "    }\n",
              "\n",
              "    .dataframe thead th {\n",
              "        text-align: right;\n",
              "    }\n",
              "</style>\n",
              "<table border=\"1\" class=\"dataframe\">\n",
              "  <thead>\n",
              "    <tr style=\"text-align: right;\">\n",
              "      <th></th>\n",
              "      <th>Gender</th>\n",
              "      <th>Marital_status</th>\n",
              "      <th>Housing</th>\n",
              "      <th>Employment_status</th>\n",
              "      <th>Savings_account_balance</th>\n",
              "      <th>Purpose</th>\n",
              "      <th>Property</th>\n",
              "      <th>Loan_history</th>\n",
              "    </tr>\n",
              "  </thead>\n",
              "  <tbody>\n",
              "    <tr>\n",
              "      <th>0</th>\n",
              "      <td>male</td>\n",
              "      <td>single</td>\n",
              "      <td>own</td>\n",
              "      <td>skilled employee / official</td>\n",
              "      <td>Low</td>\n",
              "      <td>electronic equipment</td>\n",
              "      <td>real estate</td>\n",
              "      <td>critical/pending loans at other banks</td>\n",
              "    </tr>\n",
              "    <tr>\n",
              "      <th>1</th>\n",
              "      <td>female</td>\n",
              "      <td>divorced/separated/married</td>\n",
              "      <td>own</td>\n",
              "      <td>skilled employee / official</td>\n",
              "      <td>Low</td>\n",
              "      <td>electronic equipment</td>\n",
              "      <td>real estate</td>\n",
              "      <td>existing loans paid back duly till now</td>\n",
              "    </tr>\n",
              "    <tr>\n",
              "      <th>2</th>\n",
              "      <td>male</td>\n",
              "      <td>single</td>\n",
              "      <td>own</td>\n",
              "      <td>unskilled - resident</td>\n",
              "      <td>Low</td>\n",
              "      <td>education</td>\n",
              "      <td>real estate</td>\n",
              "      <td>critical/pending loans at other banks</td>\n",
              "    </tr>\n",
              "    <tr>\n",
              "      <th>3</th>\n",
              "      <td>male</td>\n",
              "      <td>single</td>\n",
              "      <td>for free</td>\n",
              "      <td>skilled employee / official</td>\n",
              "      <td>Low</td>\n",
              "      <td>FF&amp;E</td>\n",
              "      <td>building society savings agreement/life insurance</td>\n",
              "      <td>existing loans paid back duly till now</td>\n",
              "    </tr>\n",
              "    <tr>\n",
              "      <th>4</th>\n",
              "      <td>male</td>\n",
              "      <td>single</td>\n",
              "      <td>for free</td>\n",
              "      <td>skilled employee / official</td>\n",
              "      <td>Low</td>\n",
              "      <td>new vehicle</td>\n",
              "      <td>car or other</td>\n",
              "      <td>delay in paying off loans in the past</td>\n",
              "    </tr>\n",
              "  </tbody>\n",
              "</table>\n",
              "</div>"
            ],
            "text/plain": [
              "   Gender  ...                            Loan_history\n",
              "0    male  ...   critical/pending loans at other banks\n",
              "1  female  ...  existing loans paid back duly till now\n",
              "2    male  ...   critical/pending loans at other banks\n",
              "3    male  ...  existing loans paid back duly till now\n",
              "4    male  ...   delay in paying off loans in the past\n",
              "\n",
              "[5 rows x 8 columns]"
            ]
          },
          "metadata": {
            "tags": []
          },
          "execution_count": 36
        }
      ]
    },
    {
      "cell_type": "code",
      "metadata": {
        "id": "pn31Fjxwceuf",
        "outputId": "6bc3a33b-24a4-423a-a7bb-0c82b79bff12",
        "colab": {
          "base_uri": "https://localhost:8080/",
          "height": 0
        }
      },
      "source": [
        "for i in object_column_names:\n",
        "  labelencoder = LabelEncoder()\n",
        "  combined_df[i] = labelencoder.fit_transform(combined_df[i])\n",
        "combined_df.info()"
      ],
      "execution_count": 37,
      "outputs": [
        {
          "output_type": "stream",
          "text": [
            "<class 'pandas.core.frame.DataFrame'>\n",
            "Int64Index: 1000 entries, 0 to 999\n",
            "Data columns (total 21 columns):\n",
            " #   Column                                       Non-Null Count  Dtype  \n",
            "---  ------                                       --------------  -----  \n",
            " 0   applicant_id                                 1000 non-null   int64  \n",
            " 1   Primary_applicant_age_in_years               1000 non-null   int64  \n",
            " 2   Gender                                       1000 non-null   int64  \n",
            " 3   Marital_status                               1000 non-null   int64  \n",
            " 4   Number_of_dependents                         1000 non-null   int64  \n",
            " 5   Housing                                      1000 non-null   int64  \n",
            " 6   Years_at_current_residence                   1000 non-null   int64  \n",
            " 7   Employment_status                            1000 non-null   int64  \n",
            " 8   Foreign_worker                               1000 non-null   int64  \n",
            " 9   Savings_account_balance                      1000 non-null   int64  \n",
            " 10  Months_loan_taken_for                        1000 non-null   int64  \n",
            " 11  Purpose                                      1000 non-null   int64  \n",
            " 12  Principal_loan_amount                        1000 non-null   int64  \n",
            " 13  EMI_rate_in_percentage_of_disposable_income  1000 non-null   int64  \n",
            " 14  Property                                     1000 non-null   int64  \n",
            " 15  Has_coapplicant                              1000 non-null   int64  \n",
            " 16  Has_guarantor                                1000 non-null   int64  \n",
            " 17  Number_of_existing_loans_at_this_bank        1000 non-null   int64  \n",
            " 18  Loan_history                                 1000 non-null   int64  \n",
            " 19  high_risk_applicant                          1000 non-null   int64  \n",
            " 20  Average_employment_years                     1000 non-null   float64\n",
            "dtypes: float64(1), int64(20)\n",
            "memory usage: 211.9 KB\n"
          ],
          "name": "stdout"
        }
      ]
    },
    {
      "cell_type": "code",
      "metadata": {
        "id": "LIRYu8wgduEP",
        "outputId": "37791b7a-0dd7-4e99-d994-d271b0ebb3e9",
        "colab": {
          "base_uri": "https://localhost:8080/",
          "height": 0
        }
      },
      "source": [
        "combined_df.head()"
      ],
      "execution_count": 38,
      "outputs": [
        {
          "output_type": "execute_result",
          "data": {
            "text/html": [
              "<div>\n",
              "<style scoped>\n",
              "    .dataframe tbody tr th:only-of-type {\n",
              "        vertical-align: middle;\n",
              "    }\n",
              "\n",
              "    .dataframe tbody tr th {\n",
              "        vertical-align: top;\n",
              "    }\n",
              "\n",
              "    .dataframe thead th {\n",
              "        text-align: right;\n",
              "    }\n",
              "</style>\n",
              "<table border=\"1\" class=\"dataframe\">\n",
              "  <thead>\n",
              "    <tr style=\"text-align: right;\">\n",
              "      <th></th>\n",
              "      <th>applicant_id</th>\n",
              "      <th>Primary_applicant_age_in_years</th>\n",
              "      <th>Gender</th>\n",
              "      <th>Marital_status</th>\n",
              "      <th>Number_of_dependents</th>\n",
              "      <th>Housing</th>\n",
              "      <th>Years_at_current_residence</th>\n",
              "      <th>Employment_status</th>\n",
              "      <th>Foreign_worker</th>\n",
              "      <th>Savings_account_balance</th>\n",
              "      <th>Months_loan_taken_for</th>\n",
              "      <th>Purpose</th>\n",
              "      <th>Principal_loan_amount</th>\n",
              "      <th>EMI_rate_in_percentage_of_disposable_income</th>\n",
              "      <th>Property</th>\n",
              "      <th>Has_coapplicant</th>\n",
              "      <th>Has_guarantor</th>\n",
              "      <th>Number_of_existing_loans_at_this_bank</th>\n",
              "      <th>Loan_history</th>\n",
              "      <th>high_risk_applicant</th>\n",
              "      <th>Average_employment_years</th>\n",
              "    </tr>\n",
              "  </thead>\n",
              "  <tbody>\n",
              "    <tr>\n",
              "      <th>0</th>\n",
              "      <td>1469590</td>\n",
              "      <td>67</td>\n",
              "      <td>1</td>\n",
              "      <td>3</td>\n",
              "      <td>1</td>\n",
              "      <td>1</td>\n",
              "      <td>4</td>\n",
              "      <td>1</td>\n",
              "      <td>1</td>\n",
              "      <td>1</td>\n",
              "      <td>6</td>\n",
              "      <td>5</td>\n",
              "      <td>1169000</td>\n",
              "      <td>4</td>\n",
              "      <td>2</td>\n",
              "      <td>0</td>\n",
              "      <td>0</td>\n",
              "      <td>2</td>\n",
              "      <td>1</td>\n",
              "      <td>0</td>\n",
              "      <td>3.5</td>\n",
              "    </tr>\n",
              "    <tr>\n",
              "      <th>1</th>\n",
              "      <td>1203873</td>\n",
              "      <td>22</td>\n",
              "      <td>0</td>\n",
              "      <td>1</td>\n",
              "      <td>1</td>\n",
              "      <td>1</td>\n",
              "      <td>2</td>\n",
              "      <td>1</td>\n",
              "      <td>1</td>\n",
              "      <td>1</td>\n",
              "      <td>48</td>\n",
              "      <td>5</td>\n",
              "      <td>5951000</td>\n",
              "      <td>2</td>\n",
              "      <td>2</td>\n",
              "      <td>0</td>\n",
              "      <td>0</td>\n",
              "      <td>1</td>\n",
              "      <td>3</td>\n",
              "      <td>1</td>\n",
              "      <td>2.5</td>\n",
              "    </tr>\n",
              "    <tr>\n",
              "      <th>2</th>\n",
              "      <td>1432761</td>\n",
              "      <td>49</td>\n",
              "      <td>1</td>\n",
              "      <td>3</td>\n",
              "      <td>2</td>\n",
              "      <td>1</td>\n",
              "      <td>3</td>\n",
              "      <td>3</td>\n",
              "      <td>1</td>\n",
              "      <td>1</td>\n",
              "      <td>12</td>\n",
              "      <td>4</td>\n",
              "      <td>2096000</td>\n",
              "      <td>2</td>\n",
              "      <td>2</td>\n",
              "      <td>0</td>\n",
              "      <td>0</td>\n",
              "      <td>1</td>\n",
              "      <td>1</td>\n",
              "      <td>0</td>\n",
              "      <td>5.5</td>\n",
              "    </tr>\n",
              "    <tr>\n",
              "      <th>3</th>\n",
              "      <td>1207582</td>\n",
              "      <td>45</td>\n",
              "      <td>1</td>\n",
              "      <td>3</td>\n",
              "      <td>2</td>\n",
              "      <td>0</td>\n",
              "      <td>4</td>\n",
              "      <td>1</td>\n",
              "      <td>1</td>\n",
              "      <td>1</td>\n",
              "      <td>42</td>\n",
              "      <td>0</td>\n",
              "      <td>7882000</td>\n",
              "      <td>2</td>\n",
              "      <td>0</td>\n",
              "      <td>0</td>\n",
              "      <td>1</td>\n",
              "      <td>1</td>\n",
              "      <td>3</td>\n",
              "      <td>0</td>\n",
              "      <td>5.5</td>\n",
              "    </tr>\n",
              "    <tr>\n",
              "      <th>4</th>\n",
              "      <td>1674436</td>\n",
              "      <td>53</td>\n",
              "      <td>1</td>\n",
              "      <td>3</td>\n",
              "      <td>2</td>\n",
              "      <td>0</td>\n",
              "      <td>4</td>\n",
              "      <td>1</td>\n",
              "      <td>1</td>\n",
              "      <td>1</td>\n",
              "      <td>24</td>\n",
              "      <td>6</td>\n",
              "      <td>4870000</td>\n",
              "      <td>3</td>\n",
              "      <td>1</td>\n",
              "      <td>0</td>\n",
              "      <td>0</td>\n",
              "      <td>2</td>\n",
              "      <td>2</td>\n",
              "      <td>1</td>\n",
              "      <td>2.5</td>\n",
              "    </tr>\n",
              "  </tbody>\n",
              "</table>\n",
              "</div>"
            ],
            "text/plain": [
              "   applicant_id  ...  Average_employment_years\n",
              "0       1469590  ...                       3.5\n",
              "1       1203873  ...                       2.5\n",
              "2       1432761  ...                       5.5\n",
              "3       1207582  ...                       5.5\n",
              "4       1674436  ...                       2.5\n",
              "\n",
              "[5 rows x 21 columns]"
            ]
          },
          "metadata": {
            "tags": []
          },
          "execution_count": 38
        }
      ]
    },
    {
      "cell_type": "markdown",
      "metadata": {
        "id": "tZkywycFdcVb"
      },
      "source": [
        "### Handling imbalanced classification labels"
      ]
    },
    {
      "cell_type": "code",
      "metadata": {
        "id": "dYDSQsJAITc1",
        "outputId": "06796d53-7dbe-4967-f1fe-d74002671665",
        "colab": {
          "base_uri": "https://localhost:8080/",
          "height": 90
        }
      },
      "source": [
        "(combined_df.groupby('high_risk_applicant').size())"
      ],
      "execution_count": 39,
      "outputs": [
        {
          "output_type": "execute_result",
          "data": {
            "text/plain": [
              "high_risk_applicant\n",
              "0    700\n",
              "1    300\n",
              "dtype: int64"
            ]
          },
          "metadata": {
            "tags": []
          },
          "execution_count": 39
        }
      ]
    },
    {
      "cell_type": "code",
      "metadata": {
        "id": "pA1P9SvSH8Rq",
        "outputId": "4f904671-df8e-456f-b4f4-e29928630c54",
        "colab": {
          "base_uri": "https://localhost:8080/",
          "height": 352
        }
      },
      "source": [
        "import seaborn as sns\n",
        "sns.countplot(combined_df['high_risk_applicant'],label=\"Count\")\n",
        "plt.title('Classification of High Risk and Low Risk applicants')\n",
        "plt.show()"
      ],
      "execution_count": 40,
      "outputs": [
        {
          "output_type": "stream",
          "text": [
            "/usr/local/lib/python3.6/dist-packages/seaborn/_decorators.py:43: FutureWarning: Pass the following variable as a keyword arg: x. From version 0.12, the only valid positional argument will be `data`, and passing other arguments without an explicit keyword will result in an error or misinterpretation.\n",
            "  FutureWarning\n"
          ],
          "name": "stderr"
        },
        {
          "output_type": "display_data",
          "data": {
            "image/png": "[encoded data removed]",
            "text/plain": [
              "<Figure size 432x288 with 1 Axes>"
            ]
          },
          "metadata": {
            "tags": [],
            "needs_background": "light"
          }
        }
      ]
    },
    {
      "cell_type": "code",
      "metadata": {
        "id": "j9Tk40VfjpkX"
      },
      "source": [
        "# a = list(applicant_df['Housing'].unique())\n",
        "# b = list(applicant_df['Housing'].value_counts())\n",
        "# [(a[c],b[c]) for c in range(len(a))]"
      ],
      "execution_count": 41,
      "outputs": []
    },
    {
      "cell_type": "markdown",
      "metadata": {
        "id": "xp_fVOVzbZ14"
      },
      "source": [
        "* Swapping the columns, such that the last column is the dependent variable"
      ]
    },
    {
      "cell_type": "code",
      "metadata": {
        "id": "DBYoxvOWhmgY",
        "outputId": "8714cc55-58c4-4fcf-a2a0-4170eb208f48",
        "colab": {
          "base_uri": "https://localhost:8080/",
          "height": 226
        }
      },
      "source": [
        "cols = list(combined_df.columns)\n",
        "a, b = cols.index('high_risk_applicant'), cols.index('Average_employment_years')\n",
        "cols[b], cols[a] = cols[a], cols[b]\n",
        "combined_df = combined_df[cols]\n",
        "combined_df.head()\n"
      ],
      "execution_count": 42,
      "outputs": [
        {
          "output_type": "execute_result",
          "data": {
            "text/html": [
              "<div>\n",
              "<style scoped>\n",
              "    .dataframe tbody tr th:only-of-type {\n",
              "        vertical-align: middle;\n",
              "    }\n",
              "\n",
              "    .dataframe tbody tr th {\n",
              "        vertical-align: top;\n",
              "    }\n",
              "\n",
              "    .dataframe thead th {\n",
              "        text-align: right;\n",
              "    }\n",
              "</style>\n",
              "<table border=\"1\" class=\"dataframe\">\n",
              "  <thead>\n",
              "    <tr style=\"text-align: right;\">\n",
              "      <th></th>\n",
              "      <th>applicant_id</th>\n",
              "      <th>Primary_applicant_age_in_years</th>\n",
              "      <th>Gender</th>\n",
              "      <th>Marital_status</th>\n",
              "      <th>Number_of_dependents</th>\n",
              "      <th>Housing</th>\n",
              "      <th>Years_at_current_residence</th>\n",
              "      <th>Employment_status</th>\n",
              "      <th>Foreign_worker</th>\n",
              "      <th>Savings_account_balance</th>\n",
              "      <th>Months_loan_taken_for</th>\n",
              "      <th>Purpose</th>\n",
              "      <th>Principal_loan_amount</th>\n",
              "      <th>EMI_rate_in_percentage_of_disposable_income</th>\n",
              "      <th>Property</th>\n",
              "      <th>Has_coapplicant</th>\n",
              "      <th>Has_guarantor</th>\n",
              "      <th>Number_of_existing_loans_at_this_bank</th>\n",
              "      <th>Loan_history</th>\n",
              "      <th>Average_employment_years</th>\n",
              "      <th>high_risk_applicant</th>\n",
              "    </tr>\n",
              "  </thead>\n",
              "  <tbody>\n",
              "    <tr>\n",
              "      <th>0</th>\n",
              "      <td>1469590</td>\n",
              "      <td>67</td>\n",
              "      <td>1</td>\n",
              "      <td>3</td>\n",
              "      <td>1</td>\n",
              "      <td>1</td>\n",
              "      <td>4</td>\n",
              "      <td>1</td>\n",
              "      <td>1</td>\n",
              "      <td>1</td>\n",
              "      <td>6</td>\n",
              "      <td>5</td>\n",
              "      <td>1169000</td>\n",
              "      <td>4</td>\n",
              "      <td>2</td>\n",
              "      <td>0</td>\n",
              "      <td>0</td>\n",
              "      <td>2</td>\n",
              "      <td>1</td>\n",
              "      <td>3.5</td>\n",
              "      <td>0</td>\n",
              "    </tr>\n",
              "    <tr>\n",
              "      <th>1</th>\n",
              "      <td>1203873</td>\n",
              "      <td>22</td>\n",
              "      <td>0</td>\n",
              "      <td>1</td>\n",
              "      <td>1</td>\n",
              "      <td>1</td>\n",
              "      <td>2</td>\n",
              "      <td>1</td>\n",
              "      <td>1</td>\n",
              "      <td>1</td>\n",
              "      <td>48</td>\n",
              "      <td>5</td>\n",
              "      <td>5951000</td>\n",
              "      <td>2</td>\n",
              "      <td>2</td>\n",
              "      <td>0</td>\n",
              "      <td>0</td>\n",
              "      <td>1</td>\n",
              "      <td>3</td>\n",
              "      <td>2.5</td>\n",
              "      <td>1</td>\n",
              "    </tr>\n",
              "    <tr>\n",
              "      <th>2</th>\n",
              "      <td>1432761</td>\n",
              "      <td>49</td>\n",
              "      <td>1</td>\n",
              "      <td>3</td>\n",
              "      <td>2</td>\n",
              "      <td>1</td>\n",
              "      <td>3</td>\n",
              "      <td>3</td>\n",
              "      <td>1</td>\n",
              "      <td>1</td>\n",
              "      <td>12</td>\n",
              "      <td>4</td>\n",
              "      <td>2096000</td>\n",
              "      <td>2</td>\n",
              "      <td>2</td>\n",
              "      <td>0</td>\n",
              "      <td>0</td>\n",
              "      <td>1</td>\n",
              "      <td>1</td>\n",
              "      <td>5.5</td>\n",
              "      <td>0</td>\n",
              "    </tr>\n",
              "    <tr>\n",
              "      <th>3</th>\n",
              "      <td>1207582</td>\n",
              "      <td>45</td>\n",
              "      <td>1</td>\n",
              "      <td>3</td>\n",
              "      <td>2</td>\n",
              "      <td>0</td>\n",
              "      <td>4</td>\n",
              "      <td>1</td>\n",
              "      <td>1</td>\n",
              "      <td>1</td>\n",
              "      <td>42</td>\n",
              "      <td>0</td>\n",
              "      <td>7882000</td>\n",
              "      <td>2</td>\n",
              "      <td>0</td>\n",
              "      <td>0</td>\n",
              "      <td>1</td>\n",
              "      <td>1</td>\n",
              "      <td>3</td>\n",
              "      <td>5.5</td>\n",
              "      <td>0</td>\n",
              "    </tr>\n",
              "    <tr>\n",
              "      <th>4</th>\n",
              "      <td>1674436</td>\n",
              "      <td>53</td>\n",
              "      <td>1</td>\n",
              "      <td>3</td>\n",
              "      <td>2</td>\n",
              "      <td>0</td>\n",
              "      <td>4</td>\n",
              "      <td>1</td>\n",
              "      <td>1</td>\n",
              "      <td>1</td>\n",
              "      <td>24</td>\n",
              "      <td>6</td>\n",
              "      <td>4870000</td>\n",
              "      <td>3</td>\n",
              "      <td>1</td>\n",
              "      <td>0</td>\n",
              "      <td>0</td>\n",
              "      <td>2</td>\n",
              "      <td>2</td>\n",
              "      <td>2.5</td>\n",
              "      <td>1</td>\n",
              "    </tr>\n",
              "  </tbody>\n",
              "</table>\n",
              "</div>"
            ],
            "text/plain": [
              "   applicant_id  ...  high_risk_applicant\n",
              "0       1469590  ...                    0\n",
              "1       1203873  ...                    1\n",
              "2       1432761  ...                    0\n",
              "3       1207582  ...                    0\n",
              "4       1674436  ...                    1\n",
              "\n",
              "[5 rows x 21 columns]"
            ]
          },
          "metadata": {
            "tags": []
          },
          "execution_count": 42
        }
      ]
    },
    {
      "cell_type": "code",
      "metadata": {
        "id": "R6NhTefkoRYC",
        "outputId": "7d97f894-4e4e-414b-ffd8-361658c5ab19",
        "colab": {
          "base_uri": "https://localhost:8080/",
          "height": 53
        }
      },
      "source": [
        "# class count\n",
        "class_count_0, class_count_1 = combined_df['high_risk_applicant'].value_counts()\n",
        "\n",
        "# Separate class\n",
        "class_0 = combined_df[combined_df['high_risk_applicant'] == 0]\n",
        "class_1 = combined_df[combined_df['high_risk_applicant'] == 1]# print the shape of the class\n",
        "print('high_risk_applicant 0:', class_0.shape)\n",
        "print('high_risk_applicant 1:', class_1.shape)"
      ],
      "execution_count": 43,
      "outputs": [
        {
          "output_type": "stream",
          "text": [
            "high_risk_applicant 0: (700, 21)\n",
            "high_risk_applicant 1: (300, 21)\n"
          ],
          "name": "stdout"
        }
      ]
    },
    {
      "cell_type": "markdown",
      "metadata": {
        "id": "kBUnsP1ChbkU"
      },
      "source": [
        "#### Random Undersampling"
      ]
    },
    {
      "cell_type": "code",
      "metadata": {
        "id": "pNYqu6uIhDO5",
        "outputId": "2aee8ce1-394b-4116-c8b6-79efc730e311",
        "colab": {
          "base_uri": "https://localhost:8080/",
          "height": 351
        }
      },
      "source": [
        "class_0_under = class_0.sample(class_count_1)\n",
        "\n",
        "test_under = pd.concat([class_0_under, class_1], axis=0)\n",
        "print(\"total class of 1 and 0:\",test_under['high_risk_applicant'].value_counts())# plot the count after under-sampeling\n",
        "test_under['high_risk_applicant'].value_counts().plot(kind='bar', title='count (target)')"
      ],
      "execution_count": 44,
      "outputs": [
        {
          "output_type": "stream",
          "text": [
            "total class of 1 and 0: 1    300\n",
            "0    300\n",
            "Name: high_risk_applicant, dtype: int64\n"
          ],
          "name": "stdout"
        },
        {
          "output_type": "execute_result",
          "data": {
            "text/plain": [
              "<matplotlib.axes._subplots.AxesSubplot at 0x7fa38123a358>"
            ]
          },
          "metadata": {
            "tags": []
          },
          "execution_count": 44
        },
        {
          "output_type": "display_data",
          "data": {
            "image/png": "[encoded data removed]",
            "text/plain": [
              "<Figure size 432x288 with 1 Axes>"
            ]
          },
          "metadata": {
            "tags": [],
            "needs_background": "light"
          }
        }
      ]
    },
    {
      "cell_type": "markdown",
      "metadata": {
        "id": "JiB1aGhujLeq"
      },
      "source": [
        "#### Random oversampling"
      ]
    },
    {
      "cell_type": "code",
      "metadata": {
        "id": "3wGwVgxyhu2L",
        "outputId": "3b3fe8e0-683b-4042-8f46-8b1999753b41",
        "colab": {
          "base_uri": "https://localhost:8080/",
          "height": 351
        }
      },
      "source": [
        "class_1_over = class_1.sample(class_count_0, replace = True)\n",
        "\n",
        "test_over = pd.concat([class_1_over, class_0], axis=0)\n",
        "print(\"total class of 1 and 0:\",test_over['high_risk_applicant'].value_counts())\n",
        "test_over['high_risk_applicant'].value_counts().plot(kind='bar', title='count (target)')"
      ],
      "execution_count": 45,
      "outputs": [
        {
          "output_type": "stream",
          "text": [
            "total class of 1 and 0: 1    700\n",
            "0    700\n",
            "Name: high_risk_applicant, dtype: int64\n"
          ],
          "name": "stdout"
        },
        {
          "output_type": "execute_result",
          "data": {
            "text/plain": [
              "<matplotlib.axes._subplots.AxesSubplot at 0x7fa380eac160>"
            ]
          },
          "metadata": {
            "tags": []
          },
          "execution_count": 45
        },
        {
          "output_type": "display_data",
          "data": {
            "image/png": "[encoded data removed]",
            "text/plain": [
              "<Figure size 432x288 with 1 Axes>"
            ]
          },
          "metadata": {
            "tags": [],
            "needs_background": "light"
          }
        }
      ]
    },
    {
      "cell_type": "markdown",
      "metadata": {
        "id": "RtIiHrKhj0KX"
      },
      "source": [
        "#### Handling imbalance with imblearn library"
      ]
    },
    {
      "cell_type": "code",
      "metadata": {
        "id": "hQ9IgScSjoU5",
        "outputId": "f68762aa-b03a-4375-e3db-0c1ac010ca50",
        "colab": {
          "base_uri": "https://localhost:8080/",
          "height": 110
        }
      },
      "source": [
        "import imblearn\n",
        "from imblearn.under_sampling import TomekLinks\n",
        "from imblearn.over_sampling import SMOTE\n",
        "from imblearn.under_sampling import NearMiss\n",
        "from collections import Counter "
      ],
      "execution_count": 46,
      "outputs": [
        {
          "output_type": "stream",
          "text": [
            "/usr/local/lib/python3.6/dist-packages/sklearn/externals/six.py:31: FutureWarning: The module is deprecated in version 0.21 and will be removed in version 0.23 since we've dropped support for Python 2.7. Please rely on the official version of six (https://pypi.org/project/six/).\n",
            "  \"(https://pypi.org/project/six/).\", FutureWarning)\n",
            "/usr/local/lib/python3.6/dist-packages/sklearn/utils/deprecation.py:144: FutureWarning: The sklearn.neighbors.base module is  deprecated in version 0.22 and will be removed in version 0.24. The corresponding classes / functions should instead be imported from sklearn.neighbors. Anything that cannot be imported from sklearn.neighbors is now part of the private API.\n",
            "  warnings.warn(message, FutureWarning)\n"
          ],
          "name": "stderr"
        }
      ]
    },
    {
      "cell_type": "markdown",
      "metadata": {
        "id": "ykBr4NLie9Fo"
      },
      "source": [
        "Tomek links are pairs of very close instances of high risk and low risk applicant, this will try to remove all the instances which are close to each other, hence the remaining data will be further apart, and this will be helpful in the classification process."
      ]
    },
    {
      "cell_type": "code",
      "metadata": {
        "id": "558NQqVDjzGH",
        "outputId": "219a5cfb-ef31-4eb0-f301-b577877d57de",
        "colab": {
          "base_uri": "https://localhost:8080/",
          "height": 110
        }
      },
      "source": [
        "tome_links = TomekLinks(sampling_strategy = 'majority')\n",
        "\n",
        "X = combined_df.iloc[:,1:-1]\n",
        "y = combined_df.iloc[:,-1]\n",
        "\n",
        "x_tome_links, y_tome_links = tome_links.fit_resample(X, y)\n",
        "\n",
        "# tome_links = SMOTE()\n",
        "\n",
        "# X = combined_df.iloc[:,:-1]\n",
        "# y = combined_df.iloc[:,-1]\n",
        "\n",
        "# x_tome_links, y_tome_links = tome_links.fit_resample(X, y)\n",
        "print('Original dataset shape', Counter(y))\n",
        "print('Resample dataset shape', Counter(y_tome_links))"
      ],
      "execution_count": 47,
      "outputs": [
        {
          "output_type": "stream",
          "text": [
            "Original dataset shape Counter({0: 700, 1: 300})\n",
            "Resample dataset shape Counter({0: 570, 1: 300})\n"
          ],
          "name": "stdout"
        },
        {
          "output_type": "stream",
          "text": [
            "/usr/local/lib/python3.6/dist-packages/sklearn/utils/deprecation.py:87: FutureWarning: Function safe_indexing is deprecated; safe_indexing is deprecated in version 0.22 and will be removed in version 0.24.\n",
            "  warnings.warn(msg, category=FutureWarning)\n"
          ],
          "name": "stderr"
        }
      ]
    },
    {
      "cell_type": "markdown",
      "metadata": {
        "id": "dRqj0QwkfoTz"
      },
      "source": [
        "##### Synthetic Minority Oversampling Technique (SMOTE)\n",
        "\n",
        "SMOTE algorithm works in 4 simple steps:\n",
        "\n",
        "* It selects the minority class, which is high risk applicant in our case\n",
        "* It finds its k nearest neighbors, and places a synthetic point on the line jointing the point under consideration and its chose neighbor.\n",
        "* This process is repeated till the high risk applicant class is equal to low risk applicant.\n"
      ]
    },
    {
      "cell_type": "code",
      "metadata": {
        "id": "h_5r-w2-mzgf",
        "outputId": "4529bfec-dec7-4384-8326-370fee4e760b",
        "colab": {
          "base_uri": "https://localhost:8080/",
          "height": 110
        }
      },
      "source": [
        "smote = SMOTE()\n",
        "\n",
        "x_smote, y_smote = smote.fit_resample(X, y)\n",
        "print('Original dataset shape', Counter(y))\n",
        "print('Resample dataset shape', Counter(y_smote))"
      ],
      "execution_count": 48,
      "outputs": [
        {
          "output_type": "stream",
          "text": [
            "Original dataset shape Counter({0: 700, 1: 300})\n",
            "Resample dataset shape Counter({0: 700, 1: 700})\n"
          ],
          "name": "stdout"
        },
        {
          "output_type": "stream",
          "text": [
            "/usr/local/lib/python3.6/dist-packages/sklearn/utils/deprecation.py:87: FutureWarning: Function safe_indexing is deprecated; safe_indexing is deprecated in version 0.22 and will be removed in version 0.24.\n",
            "  warnings.warn(msg, category=FutureWarning)\n"
          ],
          "name": "stderr"
        }
      ]
    },
    {
      "cell_type": "markdown",
      "metadata": {
        "id": "f4eonDQzgtDL"
      },
      "source": [
        "NearMiss is a technique which focusses on reducing the majority class, which is low risk applicant in our case, and the end result will have low risk applicants equal to high risk applicants"
      ]
    },
    {
      "cell_type": "code",
      "metadata": {
        "id": "aObZgSYweNyE",
        "outputId": "5fe20c31-35c1-44a5-dde0-1c86a2680970",
        "colab": {
          "base_uri": "https://localhost:8080/",
          "height": 182
        }
      },
      "source": [
        "near_miss = NearMiss()\n",
        "X = combined_df.iloc[:,1:-1]\n",
        "y = combined_df.iloc[:,-1]\n",
        "x_near_miss, y_near_miss = near_miss.fit_resample(X, y)\n",
        "print('Original dataset shape', Counter(y))\n",
        "print('Resample dataset shape', Counter(y_near_miss))"
      ],
      "execution_count": 49,
      "outputs": [
        {
          "output_type": "stream",
          "text": [
            "Original dataset shape Counter({0: 700, 1: 300})\n",
            "Resample dataset shape Counter({0: 300, 1: 300})\n"
          ],
          "name": "stdout"
        },
        {
          "output_type": "stream",
          "text": [
            "/usr/local/lib/python3.6/dist-packages/sklearn/utils/deprecation.py:87: FutureWarning: Function safe_indexing is deprecated; safe_indexing is deprecated in version 0.22 and will be removed in version 0.24.\n",
            "  warnings.warn(msg, category=FutureWarning)\n",
            "/usr/local/lib/python3.6/dist-packages/sklearn/utils/deprecation.py:87: FutureWarning: Function safe_indexing is deprecated; safe_indexing is deprecated in version 0.22 and will be removed in version 0.24.\n",
            "  warnings.warn(msg, category=FutureWarning)\n",
            "/usr/local/lib/python3.6/dist-packages/sklearn/utils/deprecation.py:87: FutureWarning: Function safe_indexing is deprecated; safe_indexing is deprecated in version 0.22 and will be removed in version 0.24.\n",
            "  warnings.warn(msg, category=FutureWarning)\n"
          ],
          "name": "stderr"
        }
      ]
    },
    {
      "cell_type": "markdown",
      "metadata": {
        "id": "8y-5quJJlwTn"
      },
      "source": [
        "### Machine Learning Algorithms"
      ]
    },
    {
      "cell_type": "markdown",
      "metadata": {
        "id": "aiWDW_1W2Q5H"
      },
      "source": [
        "#### Baseline Algorithm [ ZeroR]"
      ]
    },
    {
      "cell_type": "code",
      "metadata": {
        "id": "Qw8X3Vhz2WUA",
        "outputId": "032dd090-bf8b-4f13-f176-fe3cd2728664",
        "colab": {
          "base_uri": "https://localhost:8080/",
          "height": 35
        }
      },
      "source": [
        "from sklearn.dummy import DummyClassifier\n",
        "zeroR_training = []\n",
        "zeroR_testing = []\n",
        "X_train, X_test, y_train, y_test = train_test_split(x_near_miss, y_near_miss, test_size=0.2, random_state=42)\n",
        "zero_r = DummyClassifier(strategy=\"most_frequent\")\n",
        "zero_r.fit(X_train, y_train)\n",
        "print(round((zero_r.score(X_test, y_test)*100),2))"
      ],
      "execution_count": 50,
      "outputs": [
        {
          "output_type": "stream",
          "text": [
            "48.33\n"
          ],
          "name": "stdout"
        }
      ]
    },
    {
      "cell_type": "markdown",
      "metadata": {
        "id": "zPhkux0iodaX"
      },
      "source": [
        "##### Choose an evaluation metric you will use to compare & evaluate model performance on a hold-out test set? \n",
        "\n",
        "* Accuracy is not the best metric to use when evaluating imbalanced datasets as it can be misleading.\n",
        "\n",
        "* Metrics that can provide better insight are:\n",
        "\n",
        "  * __Confusion Matrix__: a table showing correct predictions and types of incorrect predictions.\n",
        "  * __Precision__: the number of true positives divided by all positive predictions. Precision is also called Positive Predictive Value. It is a measure of a classifier’s exactness. Low precision indicates a high number of false positives.\n",
        "  * __Recall__: the number of true positives divided by the number of positive values in the test data. The recall is also called Sensitivity or the True Positive Rate. It is a measure of a classifier’s completeness. Low recall indicates a high number of false negatives.\n",
        "  * __F1__: Score: the weighted average of precision and recall.\n",
        "  * __Area Under ROC Curve (AUROC)__: AUROC represents the likelihood of your model distinguishing observations from two classes. In other words, if you randomly select one observation from each class, what’s the probability that your model will be able to “rank” them correctly?\n",
        "\n",
        "* Will use the AUROC to check the models performance, since the test dataset may contain imbalanced dataset, and this metric gives what is the probability of detecting a high risk applicant, since problem statement states that it is highly recommended to predict the high risk applicant accurately.\n"
      ]
    },
    {
      "cell_type": "markdown",
      "metadata": {
        "id": "bCx2eAWWmPp5"
      },
      "source": [
        "#### Logistic Regression"
      ]
    },
    {
      "cell_type": "markdown",
      "metadata": {
        "id": "7MNsUF-ypAOf"
      },
      "source": [
        "##### Model on original data"
      ]
    },
    {
      "cell_type": "code",
      "metadata": {
        "id": "VY4ESROWl3-8",
        "outputId": "001f33b7-adf3-4e35-ed5e-f799a4d0de0d",
        "colab": {
          "base_uri": "https://localhost:8080/",
          "height": 73
        }
      },
      "source": [
        "from sklearn.linear_model import LogisticRegression\n",
        "from sklearn.metrics import scorer, accuracy_score, f1_score, confusion_matrix, roc_auc_score"
      ],
      "execution_count": 51,
      "outputs": [
        {
          "output_type": "stream",
          "text": [
            "/usr/local/lib/python3.6/dist-packages/sklearn/utils/deprecation.py:144: FutureWarning: The sklearn.metrics.scorer module is  deprecated in version 0.22 and will be removed in version 0.24. The corresponding classes / functions should instead be imported from sklearn.metrics. Anything that cannot be imported from sklearn.metrics is now part of the private API.\n",
            "  warnings.warn(message, FutureWarning)\n"
          ],
          "name": "stderr"
        }
      ]
    },
    {
      "cell_type": "code",
      "metadata": {
        "id": "IAp1u3xAuDwa"
      },
      "source": [
        "def model_result(X_train, X_test, y_train, y_test, model):\n",
        "  model_1 = model\n",
        "  model_1.fit(X_train, y_train)\n",
        "  print('Accuracy: {}%'.format(round(accuracy_score(model_1.predict(X_test), y_test) * 100),2))\n",
        "  print('ROCAUC score:{}%'.format(round(roc_auc_score(y_test, model_1.predict(X_test))*100, 2)))\n",
        "  print('F1 score: {}% '.format(round(f1_score(y_test, model_1.predict(X_test))*100,2)))\n"
      ],
      "execution_count": 52,
      "outputs": []
    },
    {
      "cell_type": "code",
      "metadata": {
        "id": "cOGGa2lomcdh",
        "outputId": "dab4733a-0d01-492b-9397-e0823812bb2a",
        "colab": {
          "base_uri": "https://localhost:8080/",
          "height": 72
        }
      },
      "source": [
        "X_train, X_test, y_train, y_test = train_test_split(X, y, test_size=0.2, random_state=42)\n",
        "model_result(X_train, X_test, y_train, y_test, model = LogisticRegression())"
      ],
      "execution_count": 53,
      "outputs": [
        {
          "output_type": "stream",
          "text": [
            "Accuracy: 70.0%\n",
            "ROCAUC score:50.0%\n",
            "F1 score: 0.0% \n"
          ],
          "name": "stdout"
        }
      ]
    },
    {
      "cell_type": "markdown",
      "metadata": {
        "id": "SmqqG_GgnSWJ"
      },
      "source": [
        "##### Model on modified balanced data with nearmiss"
      ]
    },
    {
      "cell_type": "code",
      "metadata": {
        "id": "DXF6WteFndx_",
        "outputId": "df72696e-6950-4f9f-80f0-9d00a61e6bb2",
        "colab": {
          "base_uri": "https://localhost:8080/",
          "height": 271
        }
      },
      "source": [
        "print('Results of nearMiss balancing: ')\n",
        "X_train, X_test, y_train, y_test = train_test_split(x_near_miss, y_near_miss, test_size=0.2, random_state=42)\n",
        "model_result(X_train, X_test, y_train, y_test, model = LogisticRegression())\n",
        "print()\n",
        "print('Results of TomeLinks balancing: ')\n",
        "X_train, X_test, y_train, y_test = train_test_split(x_tome_links, y_tome_links, test_size=0.2, random_state=42)\n",
        "model_result(X_train, X_test, y_train, y_test, model = LogisticRegression())\n",
        "print()\n",
        "print('Results of SMOTE balancing: ')\n",
        "X_train, X_test, y_train, y_test = train_test_split(x_smote, y_smote, test_size=0.2, random_state=42)\n",
        "model_result(X_train, X_test, y_train, y_test, model = LogisticRegression())"
      ],
      "execution_count": 54,
      "outputs": [
        {
          "output_type": "stream",
          "text": [
            "Results of nearMiss balancing: \n",
            "Accuracy: 48.0%\n",
            "ROCAUC score:50.0%\n",
            "F1 score: 65.17% \n",
            "\n",
            "Results of TomeLinks balancing: \n",
            "Accuracy: 64.0%\n",
            "ROCAUC score:50.0%\n",
            "F1 score: 0.0% \n",
            "\n",
            "Results of SMOTE balancing: \n",
            "Accuracy: 47.0%\n",
            "ROCAUC score:50.0%\n",
            "F1 score: 63.75% \n"
          ],
          "name": "stdout"
        }
      ]
    },
    {
      "cell_type": "markdown",
      "metadata": {
        "id": "6CH6oIY3o2PA"
      },
      "source": [
        "* As observed the imbalanced dataset has higher accuracy, but the area under ROC curve is higher for balanced dataset or modified balanced dataset"
      ]
    },
    {
      "cell_type": "markdown",
      "metadata": {
        "id": "leyG7fGKp2pr"
      },
      "source": [
        "#### Support Vector Machine Algorithm"
      ]
    },
    {
      "cell_type": "markdown",
      "metadata": {
        "id": "l5G9D9CYp7gq"
      },
      "source": [
        "##### Model on original data"
      ]
    },
    {
      "cell_type": "code",
      "metadata": {
        "id": "kRPn6sa8nzmd"
      },
      "source": [
        "from sklearn.svm import SVC"
      ],
      "execution_count": 55,
      "outputs": []
    },
    {
      "cell_type": "code",
      "metadata": {
        "id": "vY9UBQeKqIoR",
        "outputId": "7c82a4c7-a1a7-46eb-9bdc-e6c46aa821b8",
        "colab": {
          "base_uri": "https://localhost:8080/",
          "height": 72
        }
      },
      "source": [
        "X_train, X_test, y_train, y_test = train_test_split(X, y, test_size=0.2, random_state=42)\n",
        "model_result(X_train, X_test, y_train, y_test, model = SVC(class_weight='balanced', probability=True))"
      ],
      "execution_count": 56,
      "outputs": [
        {
          "output_type": "stream",
          "text": [
            "Accuracy: 68.0%\n",
            "ROCAUC score:53.79%\n",
            "F1 score: 26.97% \n"
          ],
          "name": "stdout"
        }
      ]
    },
    {
      "cell_type": "code",
      "metadata": {
        "id": "uYzMojEfqjU5",
        "outputId": "6da546b3-fe2f-400d-8b01-2e9383942bf5",
        "colab": {
          "base_uri": "https://localhost:8080/",
          "height": 271
        }
      },
      "source": [
        "print('Results of nearMiss balancing: ')\n",
        "X_train, X_test, y_train, y_test = train_test_split(x_near_miss, y_near_miss, test_size=0.2, random_state=42)\n",
        "model_result(X_train, X_test, y_train, y_test, model = SVC(class_weight='balanced', probability=True))\n",
        "print()\n",
        "print('Results of TomeLinks balancing: ')\n",
        "X_train, X_test, y_train, y_test = train_test_split(x_tome_links, y_tome_links, test_size=0.2, random_state=42)\n",
        "model_result(X_train, X_test, y_train, y_test, model = SVC(class_weight='balanced', probability=True))\n",
        "print()\n",
        "print('Results of SMOTE balancing: ')\n",
        "X_train, X_test, y_train, y_test = train_test_split(x_smote, y_smote, test_size=0.2, random_state=42)\n",
        "model_result(X_train, X_test, y_train, y_test, model = SVC(class_weight='balanced', probability=True))"
      ],
      "execution_count": 57,
      "outputs": [
        {
          "output_type": "stream",
          "text": [
            "Results of nearMiss balancing: \n",
            "Accuracy: 68.0%\n",
            "ROCAUC score:66.66%\n",
            "F1 score: 55.17% \n",
            "\n",
            "Results of TomeLinks balancing: \n",
            "Accuracy: 67.0%\n",
            "ROCAUC score:58.43%\n",
            "F1 score: 38.3% \n",
            "\n",
            "Results of SMOTE balancing: \n",
            "Accuracy: 59.0%\n",
            "ROCAUC score:57.41%\n",
            "F1 score: 39.36% \n"
          ],
          "name": "stdout"
        }
      ]
    },
    {
      "cell_type": "markdown",
      "metadata": {
        "id": "BeeuK-0rrq1d"
      },
      "source": [
        "#### XGB Classifier"
      ]
    },
    {
      "cell_type": "markdown",
      "metadata": {
        "id": "OR9M2OEbrqgm"
      },
      "source": [
        "##### Model results on original data"
      ]
    },
    {
      "cell_type": "code",
      "metadata": {
        "id": "Sj8iT8OTqvDO"
      },
      "source": [
        "from xgboost import XGBClassifier"
      ],
      "execution_count": 58,
      "outputs": []
    },
    {
      "cell_type": "code",
      "metadata": {
        "id": "GKhwyVgvrFAG",
        "outputId": "b629ac99-dc99-4441-8928-ae1ae79bcef3",
        "colab": {
          "base_uri": "https://localhost:8080/",
          "height": 72
        }
      },
      "source": [
        "X_train, X_test, y_train, y_test = train_test_split(X, y, test_size=0.2, random_state=42)\n",
        "model_result(X_train, X_test, y_train, y_test, model = XGBClassifier())"
      ],
      "execution_count": 59,
      "outputs": [
        {
          "output_type": "stream",
          "text": [
            "Accuracy: 72.0%\n",
            "ROCAUC score:57.47%\n",
            "F1 score: 31.71% \n"
          ],
          "name": "stdout"
        }
      ]
    },
    {
      "cell_type": "markdown",
      "metadata": {
        "id": "htxe0FABryla"
      },
      "source": [
        "##### Model results on modified data"
      ]
    },
    {
      "cell_type": "code",
      "metadata": {
        "id": "hg1e_jETrRCW",
        "outputId": "204b69ad-70c1-419e-f4b6-93e10278602f",
        "colab": {
          "base_uri": "https://localhost:8080/",
          "height": 271
        }
      },
      "source": [
        "print('Results of nearMiss balancing: ')\n",
        "X_train, X_test, y_train, y_test = train_test_split(x_near_miss, y_near_miss, test_size=0.2, random_state=42)\n",
        "model_result(X_train, X_test, y_train, y_test, model = XGBClassifier())\n",
        "print()\n",
        "print('Results of TomeLinks balancing: ')\n",
        "X_train, X_test, y_train, y_test = train_test_split(x_tome_links, y_tome_links, test_size=0.2, random_state=42)\n",
        "model_result(X_train, X_test, y_train, y_test, model = XGBClassifier())\n",
        "print()\n",
        "print('Results of SMOTE balancing: ')\n",
        "X_train, X_test, y_train, y_test = train_test_split(x_smote, y_smote, test_size=0.2, random_state=42)\n",
        "model_result(X_train, X_test, y_train, y_test, model = XGBClassifier())"
      ],
      "execution_count": 60,
      "outputs": [
        {
          "output_type": "stream",
          "text": [
            "Results of nearMiss balancing: \n",
            "Accuracy: 79.0%\n",
            "ROCAUC score:78.95%\n",
            "F1 score: 77.06% \n",
            "\n",
            "Results of TomeLinks balancing: \n",
            "Accuracy: 71.0%\n",
            "ROCAUC score:63.64%\n",
            "F1 score: 48.48% \n",
            "\n",
            "Results of SMOTE balancing: \n",
            "Accuracy: 79.0%\n",
            "ROCAUC score:78.73%\n",
            "F1 score: 77.04% \n"
          ],
          "name": "stdout"
        }
      ]
    },
    {
      "cell_type": "markdown",
      "metadata": {
        "id": "Dtfx8AYIxUq2"
      },
      "source": [
        "#### RandomForest Classifier"
      ]
    },
    {
      "cell_type": "markdown",
      "metadata": {
        "id": "OaT3WTQ8xUen"
      },
      "source": [
        "##### Model with original data"
      ]
    },
    {
      "cell_type": "code",
      "metadata": {
        "id": "hALQCAPArewK"
      },
      "source": [
        "from sklearn.ensemble import RandomForestClassifier"
      ],
      "execution_count": 61,
      "outputs": []
    },
    {
      "cell_type": "code",
      "metadata": {
        "id": "alBcbLB0r903",
        "outputId": "518eda5c-7f09-416a-ef12-2ff63df94ae5",
        "colab": {
          "base_uri": "https://localhost:8080/",
          "height": 72
        }
      },
      "source": [
        "X_train, X_test, y_train, y_test = train_test_split(X, y, test_size=0.2, random_state=42)\n",
        "model_result(X_train, X_test, y_train, y_test, model = XGBClassifier())"
      ],
      "execution_count": 62,
      "outputs": [
        {
          "output_type": "stream",
          "text": [
            "Accuracy: 72.0%\n",
            "ROCAUC score:57.47%\n",
            "F1 score: 31.71% \n"
          ],
          "name": "stdout"
        }
      ]
    },
    {
      "cell_type": "markdown",
      "metadata": {
        "id": "hHPjzxUHxbrz"
      },
      "source": [
        "##### Model results with modified classification data"
      ]
    },
    {
      "cell_type": "code",
      "metadata": {
        "id": "RmRnVtv1sNDc",
        "outputId": "7824a732-0608-4ef9-9a4e-f4956c2609aa",
        "colab": {
          "base_uri": "https://localhost:8080/",
          "height": 271
        }
      },
      "source": [
        "print('Results of nearMiss balancing: ')\n",
        "X_train, X_test, y_train, y_test = train_test_split(x_near_miss, y_near_miss, test_size=0.2, random_state=42)\n",
        "model_result(X_train, X_test, y_train, y_test, model = RandomForestClassifier())\n",
        "print()\n",
        "print('Results of TomeLinks balancing: ')\n",
        "X_train, X_test, y_train, y_test = train_test_split(x_tome_links, y_tome_links, test_size=0.2, random_state=42)\n",
        "model_result(X_train, X_test, y_train, y_test, model = RandomForestClassifier())\n",
        "print()\n",
        "print('Results of SMOTE balancing: ')\n",
        "X_train, X_test, y_train, y_test = train_test_split(x_smote, y_smote, test_size=0.2, random_state=42)\n",
        "model_result(X_train, X_test, y_train, y_test, model = RandomForestClassifier())"
      ],
      "execution_count": 63,
      "outputs": [
        {
          "output_type": "stream",
          "text": [
            "Results of nearMiss balancing: \n",
            "Accuracy: 80.0%\n",
            "ROCAUC score:79.64%\n",
            "F1 score: 76.92% \n",
            "\n",
            "Results of TomeLinks balancing: \n",
            "Accuracy: 74.0%\n",
            "ROCAUC score:66.24%\n",
            "F1 score: 52.08% \n",
            "\n",
            "Results of SMOTE balancing: \n",
            "Accuracy: 81.0%\n",
            "ROCAUC score:80.55%\n",
            "F1 score: 78.19% \n"
          ],
          "name": "stdout"
        }
      ]
    },
    {
      "cell_type": "markdown",
      "metadata": {
        "id": "FHv5OPnlDEXE"
      },
      "source": [
        "##### Choosing the best model!!\n",
        "* Based on the results the balanced model after SMOTE with Random forest model is giving the most optimal results.\n",
        "* However with hypter parameter optimization, the probability of predicting a high risk or low risk applicant can improve."
      ]
    },
    {
      "cell_type": "markdown",
      "metadata": {
        "id": "Kwd-nll_g5gd"
      },
      "source": [
        "#### Hyperparameter Optimization"
      ]
    },
    {
      "cell_type": "markdown",
      "metadata": {
        "id": "rGS5RLVxhEJl"
      },
      "source": [
        "##### Logistic Regression"
      ]
    },
    {
      "cell_type": "code",
      "metadata": {
        "id": "bZfmLR6LErgl",
        "outputId": "c37c62a0-516b-4e4e-f8e8-f30ba3b0fc55",
        "colab": {
          "base_uri": "https://localhost:8080/",
          "height": 90
        }
      },
      "source": [
        "from sklearn.model_selection import RepeatedStratifiedKFold\n",
        "from sklearn.model_selection import GridSearchCV\n",
        "\n",
        "import warnings\n",
        "warnings.filterwarnings('ignore')\n",
        "\n",
        "# define models and parameters\n",
        "model = LogisticRegression()\n",
        "solvers = ['newton-cg', 'lbfgs', 'liblinear']\n",
        "penalty = ['l2']\n",
        "c_values = [100, 10, 1.0, 0.1, 0.01]\n",
        "\n",
        "# define grid search\n",
        "grid = dict(solver = solvers,\n",
        "            penalty = penalty,\n",
        "            C = c_values)\n",
        "\n",
        "cv = RepeatedStratifiedKFold(n_splits = 10, \n",
        "                             n_repeats = 3, \n",
        "                             random_state = 1)\n",
        "\n",
        "grid_search = GridSearchCV(estimator = model, \n",
        "                           param_grid = grid, \n",
        "                           n_jobs = -1, \n",
        "                           cv = cv, \n",
        "                          scoring = 'roc_auc',\n",
        "                           error_score = 0)\n",
        "\n",
        "def get_hyper_results(grid_search, X_train, y_train, logreg):\n",
        "  grid_result = grid_search.fit(X_train, y_train)\n",
        "  means = grid_result.cv_results_['mean_test_score']\n",
        "  stds = grid_result.cv_results_['std_test_score']\n",
        "  params = grid_result.cv_results_['params']\n",
        "  logreg.fit(X_train, y_train)\n",
        "  return round(grid_result.best_score_*100, 2)\n",
        "\n",
        "X_train, X_test, y_train, y_test = train_test_split(X, y, test_size=0.2, random_state=42)\n",
        "X_train_near_miss, X_test_near_miss, y_train_near_miss, y_test_near_miss = train_test_split(x_near_miss, y_near_miss, test_size=0.2, random_state=42)\n",
        "X_train_tome_links, X_test_tome_links, y_train_tome_links, y_test_tome_links = train_test_split(x_tome_links, y_tome_links, test_size=0.2, random_state=42)\n",
        "X_train_smote, X_test_smote, y_train_smote, y_test_smote = train_test_split(x_smote, y_smote, test_size=0.2, random_state=42)\n",
        "\n",
        "logreg_imbalanced = LogisticRegression()\n",
        "logreg_near_miss = LogisticRegression()\n",
        "logreg_tome_links = LogisticRegression()\n",
        "logreg_smote = LogisticRegression()\n",
        "\n",
        "logistic_hyper = [get_hyper_results(grid_search, X_train, y_train, logreg_imbalanced),\n",
        "                  get_hyper_results(grid_search, X_train_near_miss, y_train_near_miss, logreg_near_miss),\n",
        "                  get_hyper_results(grid_search, X_train_tome_links, y_train_tome_links, logreg_tome_links),\n",
        "                  get_hyper_results(grid_search, X_train_smote, y_train_smote, logreg_smote)]\n",
        "\n",
        "\n",
        "print('Area under ROC for imbalanced dataset: {}%'.format(logistic_hyper[0]))\n",
        "print('Area under ROC for near miss balanced dataset: {}%'.format(logistic_hyper[1]))\n",
        "print('Area under ROC for tome links balanced dataset: {}%'.format(logistic_hyper[2]))\n",
        "print('Area under ROC for SMOTE balanced dataset: {}%'.format(logistic_hyper[3]))"
      ],
      "execution_count": 67,
      "outputs": [
        {
          "output_type": "stream",
          "text": [
            "Area under ROC for imbalanced dataset: 67.22%\n",
            "Area under ROC for near miss balanced dataset: 77.06%\n",
            "Area under ROC for tome links balanced dataset: 66.28%\n",
            "Area under ROC for SMOTE balanced dataset: 69.66%\n"
          ],
          "name": "stdout"
        }
      ]
    },
    {
      "cell_type": "markdown",
      "metadata": {
        "id": "sDgAKNvMnlnU"
      },
      "source": [
        "##### Support Vector Machine Algorithm\n"
      ]
    },
    {
      "cell_type": "code",
      "metadata": {
        "id": "IppYrqA4ejsp",
        "outputId": "4d958373-8355-4ffc-a65d-3d858ccce5ef",
        "colab": {
          "base_uri": "https://localhost:8080/",
          "height": 90
        }
      },
      "source": [
        "from sklearn.model_selection import RepeatedStratifiedKFold\n",
        "from sklearn.model_selection import GridSearchCV\n",
        "\n",
        "svm_testing_hyperparameter = []\n",
        "\n",
        "# define model and parameters\n",
        "model = SVC()\n",
        "kernel = ['poly', 'rbf', 'sigmoid']\n",
        "C = [50, 10, 1.0, 0.1, 0.01]\n",
        "gamma = ['scale']\n",
        "\n",
        "# define grid search\n",
        "grid = dict(kernel = kernel,\n",
        "            C = C,\n",
        "            gamma = gamma)\n",
        "\n",
        "cv = RepeatedStratifiedKFold(n_splits = 10, \n",
        "                             n_repeats = 3, \n",
        "                             random_state = 1)\n",
        "\n",
        "grid_search = GridSearchCV(estimator = model, \n",
        "                           param_grid = grid, \n",
        "                           n_jobs = -1, \n",
        "                           cv = cv, \n",
        "                           scoring = 'roc_auc',\n",
        "                           error_score = 0)\n",
        "\n",
        "svm_imbalanced = SVC()\n",
        "svm_near_miss = SVC()\n",
        "svm_tome_links = SVC()\n",
        "svm_smote = SVC()\n",
        "\n",
        "svm_hyper = [get_hyper_results(grid_search, X_train, y_train, svm_imbalanced),\n",
        "             get_hyper_results(grid_search, X_train_near_miss, y_train_near_miss, svm_near_miss),\n",
        "             get_hyper_results(grid_search, X_train_tome_links, y_train_tome_links, svm_tome_links),\n",
        "             get_hyper_results(grid_search, X_train_smote, y_train_smote, svm_smote)]\n",
        "\n",
        "print('Area under ROC for imbalanced dataset: {}%'.format(svm_hyper[0]))\n",
        "print('Area under ROC for near miss balanced dataset: {}%'.format(svm_hyper[1]))\n",
        "print('Area under ROC for tome links balanced dataset: {}%'.format(svm_hyper[2]))\n",
        "print('Area under ROC for SMOTE balanced dataset: {}%'.format(svm_hyper[3]))\n"
      ],
      "execution_count": 68,
      "outputs": [
        {
          "output_type": "stream",
          "text": [
            "Area under ROC for imbalanced dataset: 56.29%\n",
            "Area under ROC for near miss balanced dataset: 71.43%\n",
            "Area under ROC for tome links balanced dataset: 57.02%\n",
            "Area under ROC for SMOTE balanced dataset: 56.46%\n"
          ],
          "name": "stdout"
        }
      ]
    },
    {
      "cell_type": "code",
      "metadata": {
        "id": "Ko3xG4tIuUhq",
        "outputId": "31b0deba-d318-4c1d-807f-e98f981a35fc",
        "colab": {
          "base_uri": "https://localhost:8080/",
          "height": 90
        }
      },
      "source": [
        "from sklearn.model_selection import RepeatedStratifiedKFold\n",
        "from sklearn.model_selection import GridSearchCV\n",
        "\n",
        "# define model and parameters\n",
        "model = XGBClassifier(learning_rate=0.02, n_estimators=600, objective='binary:logistic',\n",
        "                    silent=True, nthread=1)\n",
        "\n",
        "# params = {\n",
        "#         'min_child_weight': [1, 5, 10],\n",
        "#         'gamma': [0.5, 1, 1.5, 2, 5],\n",
        "#         'subsample': [0.6, 0.8, 1.0],\n",
        "#         'colsample_bytree': [0.6, 0.8, 1.0],\n",
        "#         'max_depth': [3, 4, 5]\n",
        "#         }\n",
        "\n",
        "params = {\"n_estimators\": [10, 18, 22, 30,50, 60],\n",
        "              \"max_depth\": [3, 5, 10],\n",
        "              \"min_samples_split\": [15, 20],\n",
        "              \"min_samples_leaf\": [5, 10, 20],\n",
        "              \"max_leaf_nodes\": [20, 40],\n",
        "              \"min_weight_fraction_leaf\": [0.1]}\n",
        "\n",
        "cv = RepeatedStratifiedKFold(n_splits = 10, \n",
        "                             n_repeats = 3, \n",
        "                             random_state = 1)\n",
        "\n",
        "random_search = GridSearchCV(estimator = model, \n",
        "                             param_grid = params, \n",
        "                             scoring='roc_auc',\n",
        "                             n_jobs = -1, \n",
        "                             cv = cv )\n",
        "\n",
        "grid_search = GridSearchCV(model, \n",
        "                           param_grid = params,\n",
        "                           scoring = 'roc_auc')\n",
        "\n",
        "xgb_imbalanced = XGBClassifier()\n",
        "xgb_near_miss = XGBClassifier()\n",
        "xgb_tome_links = XGBClassifier()\n",
        "xgb_smote = XGBClassifier()\n",
        "\n",
        "xbg_hyper = [get_hyper_results(grid_search, X_train, y_train, xgb_imbalanced),\n",
        "             get_hyper_results(grid_search, X_train_near_miss, y_train_near_miss, xgb_near_miss),\n",
        "             get_hyper_results(grid_search, X_train_tome_links, y_train_tome_links, xgb_tome_links),\n",
        "             get_hyper_results(grid_search, X_train_smote, y_train_smote, xgb_smote)]\n",
        "\n",
        "\n",
        "print('Area under ROC for imbalanced dataset: {}%'.format(xbg_hyper[0]))\n",
        "\n",
        "print('Area under ROC for near miss balanced dataset: {}%'.format(xbg_hyper[1]))\n",
        "\n",
        "print('Area under ROC for tome links balanced dataset: {}%'.format(xbg_hyper[2]))\n",
        "\n",
        "print('Area under ROC for SMOTE balanced dataset: {}%'.format(xbg_hyper[3]))\n"
      ],
      "execution_count": 71,
      "outputs": [
        {
          "output_type": "stream",
          "text": [
            "Area under ROC for imbalanced dataset: 69.32%\n",
            "Area under ROC for near miss balanced dataset: 76.86%\n",
            "Area under ROC for tome links balanced dataset: 70.44%\n",
            "Area under ROC for SMOTE balanced dataset: 85.73%\n"
          ],
          "name": "stdout"
        }
      ]
    },
    {
      "cell_type": "markdown",
      "metadata": {
        "id": "ZmJ1P6_6rqph"
      },
      "source": [
        "##### Random Forest Classification Algorithm\n"
      ]
    },
    {
      "cell_type": "code",
      "metadata": {
        "id": "qB2sHYIoniXS",
        "outputId": "26a8f11e-0926-4d72-99fc-16396386ce3c",
        "colab": {
          "base_uri": "https://localhost:8080/",
          "height": 90
        }
      },
      "source": [
        "from sklearn.model_selection import RepeatedStratifiedKFold\n",
        "from sklearn.model_selection import GridSearchCV\n",
        "\n",
        "svm_testing_hyperparameter = []\n",
        "\n",
        "# define model and parameters\n",
        "model = RandomForestClassifier()\n",
        "\n",
        "param_grid2 = {\"n_estimators\": [10, 18, 22, 30,50, 60],\n",
        "              \"max_depth\": [3, 5, 10],\n",
        "              \"min_samples_split\": [15, 20],\n",
        "              \"min_samples_leaf\": [5, 10, 20],\n",
        "              \"max_leaf_nodes\": [20, 40],\n",
        "              \"min_weight_fraction_leaf\": [0.1]}\n",
        "\n",
        "cv = RepeatedStratifiedKFold(n_splits = 10, \n",
        "                             n_repeats = 3, \n",
        "                             random_state = 1)\n",
        "\n",
        "grid_search = GridSearchCV(model, \n",
        "                           param_grid=param_grid2,\n",
        "                           scoring = 'roc_auc',\n",
        "                           cv = cv)\n",
        "\n",
        "rand_forest_imbalanced = RandomForestClassifier()\n",
        "rand_forest_near_miss = RandomForestClassifier()\n",
        "rand_forest_tome_links = RandomForestClassifier()\n",
        "rand_forest_smote = RandomForestClassifier()\n",
        "\n",
        "rand_forest_hyper = [get_hyper_results(grid_search, X_train, y_train, rand_forest_imbalanced),\n",
        "                     get_hyper_results(grid_search, X_train_near_miss, y_train_near_miss, rand_forest_near_miss),\n",
        "                     get_hyper_results(grid_search, X_train_tome_links, y_train_tome_links, rand_forest_tome_links),\n",
        "                     get_hyper_results(grid_search, X_train_smote, y_train_smote, rand_forest_smote)]\n",
        "\n",
        "\n",
        "print('Area under ROC for imbalanced dataset: {}%'.format(rand_forest_hyper[0]))\n",
        "print('Area under ROC for near miss balanced dataset: {}%'.format(rand_forest_hyper[1]))\n",
        "print('Area under ROC for tome links balanced dataset: {}%'.format(rand_forest_hyper[2]))\n",
        "print('Area under ROC for SMOTE balanced dataset: {}%'.format(rand_forest_hyper[3]))\n"
      ],
      "execution_count": 72,
      "outputs": [
        {
          "output_type": "stream",
          "text": [
            "Area under ROC for imbalanced dataset: 67.01%\n",
            "Area under ROC for near miss balanced dataset: 77.66%\n",
            "Area under ROC for tome links balanced dataset: 67.85%\n",
            "Area under ROC for SMOTE balanced dataset: 81.53%\n"
          ],
          "name": "stdout"
        }
      ]
    },
    {
      "cell_type": "code",
      "metadata": {
        "id": "k2yhLFYXrUaB",
        "outputId": "e894b1c4-25f6-4a1b-e9ff-df4a80c14365",
        "colab": {
          "base_uri": "https://localhost:8080/",
          "height": 175
        }
      },
      "source": [
        "hyper_results = pd.DataFrame()\n",
        "# hyper_results.columns = ['Logistic Regression', 'Support Vector Machine', 'XGB Classifer', 'Random Forrest']\n",
        "# hyper_results.index = ['imbalanced_dataset', 'near_miss balanced dataset', 'tome_links balanced dataset', 'SMOTE']\n",
        "hyper_results['Logistic Regression'] = pd.Series(data = logistic_hyper)\n",
        "hyper_results['Support Vector Machine'] = pd.Series(data = svm_hyper)\n",
        "hyper_results['XGB Classifer'] = pd.Series(data = xbg_hyper)\n",
        "hyper_results['Random Forrest'] = pd.Series(data = rand_forest_hyper)\n",
        "hyper_results.index = ['imbalanced_dataset', 'near_miss balanced dataset', 'tome_links balanced dataset', 'SMOTE']\n",
        "hyper_results"
      ],
      "execution_count": 79,
      "outputs": [
        {
          "output_type": "execute_result",
          "data": {
            "text/html": [
              "<div>\n",
              "<style scoped>\n",
              "    .dataframe tbody tr th:only-of-type {\n",
              "        vertical-align: middle;\n",
              "    }\n",
              "\n",
              "    .dataframe tbody tr th {\n",
              "        vertical-align: top;\n",
              "    }\n",
              "\n",
              "    .dataframe thead th {\n",
              "        text-align: right;\n",
              "    }\n",
              "</style>\n",
              "<table border=\"1\" class=\"dataframe\">\n",
              "  <thead>\n",
              "    <tr style=\"text-align: right;\">\n",
              "      <th></th>\n",
              "      <th>Logistic Regression</th>\n",
              "      <th>Support Vector Machine</th>\n",
              "      <th>XGB Classifer</th>\n",
              "      <th>Random Forrest</th>\n",
              "    </tr>\n",
              "  </thead>\n",
              "  <tbody>\n",
              "    <tr>\n",
              "      <th>imbalanced_dataset</th>\n",
              "      <td>67.22</td>\n",
              "      <td>56.29</td>\n",
              "      <td>69.32</td>\n",
              "      <td>67.01</td>\n",
              "    </tr>\n",
              "    <tr>\n",
              "      <th>near_miss balanced dataset</th>\n",
              "      <td>77.06</td>\n",
              "      <td>71.43</td>\n",
              "      <td>76.86</td>\n",
              "      <td>77.66</td>\n",
              "    </tr>\n",
              "    <tr>\n",
              "      <th>tome_links balanced dataset</th>\n",
              "      <td>66.28</td>\n",
              "      <td>57.02</td>\n",
              "      <td>70.44</td>\n",
              "      <td>67.85</td>\n",
              "    </tr>\n",
              "    <tr>\n",
              "      <th>SMOTE</th>\n",
              "      <td>69.66</td>\n",
              "      <td>56.46</td>\n",
              "      <td>85.73</td>\n",
              "      <td>81.53</td>\n",
              "    </tr>\n",
              "  </tbody>\n",
              "</table>\n",
              "</div>"
            ],
            "text/plain": [
              "                             Logistic Regression  ...  Random Forrest\n",
              "imbalanced_dataset                         67.22  ...           67.01\n",
              "near_miss balanced dataset                 77.06  ...           77.66\n",
              "tome_links balanced dataset                66.28  ...           67.85\n",
              "SMOTE                                      69.66  ...           81.53\n",
              "\n",
              "[4 rows x 4 columns]"
            ]
          },
          "metadata": {
            "tags": []
          },
          "execution_count": 79
        }
      ]
    },
    {
      "cell_type": "markdown",
      "metadata": {
        "id": "tqDREuNMAp0o"
      },
      "source": [
        "* Based on the above results, the best score as per our selected metric is from XGB classifier from SMOTE balancing, in this scenario, there 85.73% probability that the model will predict the high risk or low risk applicant correctly.\n",
        "* Next best model is Random Forrest with SMOTE balancing dataset."
      ]
    },
    {
      "cell_type": "code",
      "metadata": {
        "id": "KvHyfS3V6sNE"
      },
      "source": [
        ""
      ],
      "execution_count": null,
      "outputs": []
    }
  ]
}