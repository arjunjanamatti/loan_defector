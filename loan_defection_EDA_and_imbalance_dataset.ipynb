{
  "nbformat": 4,
  "nbformat_minor": 0,
  "metadata": {
    "colab": {
      "name": "loan_defection_EDA_and_imbalance_dataset.ipynb",
      "provenance": [],
      "collapsed_sections": [],
      "mount_file_id": "1ISqXdwzJzGqDGD4YH0fDpjAvvVdSXqyn",
      "authorship_tag": "ABX9TyMRxDFmYIzyplrl4Gkd8/I4",
      "include_colab_link": true
    },
    "kernelspec": {
      "name": "python3",
      "display_name": "Python 3"
    },
    "accelerator": "GPU"
  },
  "cells": [
    {
      "cell_type": "markdown",
      "metadata": {
        "id": "view-in-github",
        "colab_type": "text"
      },
      "source": [
        "<a href=\"https://colab.research.google.com/github/arjunjanamatti/loan_defector/blob/master/loan_defection_EDA_and_imbalance_dataset.ipynb\" target=\"_parent\"><img src=\"https://colab.research.google.com/assets/colab-badge.svg\" alt=\"Open In Colab\"/></a>"
      ]
    },
    {
      "cell_type": "markdown",
      "metadata": {
        "id": "0W6wvNyvd-lH"
      },
      "source": [
        "### I - Import Libraries"
      ]
    },
    {
      "cell_type": "code",
      "metadata": {
        "id": "q-eTVVOddMRe"
      },
      "source": [
        "import gradio as gr\n",
        "import pandas as pd\n",
        "import numpy as np\n",
        "from sklearn.preprocessing import LabelEncoder\n",
        "from sklearn.model_selection import train_test_split\n",
        "import matplotlib.pyplot as plt\n",
        "import seaborn as sns\n",
        "%matplotlib inline"
      ],
      "execution_count": 160,
      "outputs": []
    },
    {
      "cell_type": "markdown",
      "metadata": {
        "id": "NwyewHsCHfJp"
      },
      "source": [
        "### II - EDA"
      ]
    },
    {
      "cell_type": "code",
      "metadata": {
        "id": "EWXm_xbdd9sU",
        "outputId": "f65cbfcf-feb8-453c-c90d-b42a077ff50c",
        "colab": {
          "base_uri": "https://localhost:8080/",
          "height": 348
        }
      },
      "source": [
        "applicant_df = pd.read_csv('/content/drive/My Drive/Colab Notebooks/ml_classification/applicant.csv')\n",
        "print('Shape of applicant.csv: ', applicant_df.shape)\n",
        "applicant_df.head()"
      ],
      "execution_count": 2,
      "outputs": [
        {
          "output_type": "stream",
          "text": [
            "Shape of applicant.csv:  (1000, 15)\n"
          ],
          "name": "stdout"
        },
        {
          "output_type": "execute_result",
          "data": {
            "text/html": [
              "<div>\n",
              "<style scoped>\n",
              "    .dataframe tbody tr th:only-of-type {\n",
              "        vertical-align: middle;\n",
              "    }\n",
              "\n",
              "    .dataframe tbody tr th {\n",
              "        vertical-align: top;\n",
              "    }\n",
              "\n",
              "    .dataframe thead th {\n",
              "        text-align: right;\n",
              "    }\n",
              "</style>\n",
              "<table border=\"1\" class=\"dataframe\">\n",
              "  <thead>\n",
              "    <tr style=\"text-align: right;\">\n",
              "      <th></th>\n",
              "      <th>applicant_id</th>\n",
              "      <th>Primary_applicant_age_in_years</th>\n",
              "      <th>Gender</th>\n",
              "      <th>Marital_status</th>\n",
              "      <th>Number_of_dependents</th>\n",
              "      <th>Housing</th>\n",
              "      <th>Years_at_current_residence</th>\n",
              "      <th>Employment_status</th>\n",
              "      <th>Has_been_employed_for_at_least</th>\n",
              "      <th>Has_been_employed_for_at_most</th>\n",
              "      <th>Telephone</th>\n",
              "      <th>Foreign_worker</th>\n",
              "      <th>Savings_account_balance</th>\n",
              "      <th>Balance_in_existing_bank_account_(lower_limit_of_bucket)</th>\n",
              "      <th>Balance_in_existing_bank_account_(upper_limit_of_bucket)</th>\n",
              "    </tr>\n",
              "  </thead>\n",
              "  <tbody>\n",
              "    <tr>\n",
              "      <th>0</th>\n",
              "      <td>1469590</td>\n",
              "      <td>67</td>\n",
              "      <td>male</td>\n",
              "      <td>single</td>\n",
              "      <td>1</td>\n",
              "      <td>own</td>\n",
              "      <td>4</td>\n",
              "      <td>skilled employee / official</td>\n",
              "      <td>7 years</td>\n",
              "      <td>NaN</td>\n",
              "      <td>Registered under the applicant's name</td>\n",
              "      <td>1</td>\n",
              "      <td>NaN</td>\n",
              "      <td>NaN</td>\n",
              "      <td>0</td>\n",
              "    </tr>\n",
              "    <tr>\n",
              "      <th>1</th>\n",
              "      <td>1203873</td>\n",
              "      <td>22</td>\n",
              "      <td>female</td>\n",
              "      <td>divorced/separated/married</td>\n",
              "      <td>1</td>\n",
              "      <td>own</td>\n",
              "      <td>2</td>\n",
              "      <td>skilled employee / official</td>\n",
              "      <td>1 year</td>\n",
              "      <td>4 years</td>\n",
              "      <td>NaN</td>\n",
              "      <td>1</td>\n",
              "      <td>Low</td>\n",
              "      <td>0</td>\n",
              "      <td>2 lac</td>\n",
              "    </tr>\n",
              "    <tr>\n",
              "      <th>2</th>\n",
              "      <td>1432761</td>\n",
              "      <td>49</td>\n",
              "      <td>male</td>\n",
              "      <td>single</td>\n",
              "      <td>2</td>\n",
              "      <td>own</td>\n",
              "      <td>3</td>\n",
              "      <td>unskilled - resident</td>\n",
              "      <td>4 years</td>\n",
              "      <td>7 years</td>\n",
              "      <td>NaN</td>\n",
              "      <td>1</td>\n",
              "      <td>Low</td>\n",
              "      <td>NaN</td>\n",
              "      <td>NaN</td>\n",
              "    </tr>\n",
              "    <tr>\n",
              "      <th>3</th>\n",
              "      <td>1207582</td>\n",
              "      <td>45</td>\n",
              "      <td>male</td>\n",
              "      <td>single</td>\n",
              "      <td>2</td>\n",
              "      <td>for free</td>\n",
              "      <td>4</td>\n",
              "      <td>skilled employee / official</td>\n",
              "      <td>4 years</td>\n",
              "      <td>7 years</td>\n",
              "      <td>NaN</td>\n",
              "      <td>1</td>\n",
              "      <td>Low</td>\n",
              "      <td>NaN</td>\n",
              "      <td>0</td>\n",
              "    </tr>\n",
              "    <tr>\n",
              "      <th>4</th>\n",
              "      <td>1674436</td>\n",
              "      <td>53</td>\n",
              "      <td>male</td>\n",
              "      <td>single</td>\n",
              "      <td>2</td>\n",
              "      <td>for free</td>\n",
              "      <td>4</td>\n",
              "      <td>skilled employee / official</td>\n",
              "      <td>1 year</td>\n",
              "      <td>4 years</td>\n",
              "      <td>NaN</td>\n",
              "      <td>1</td>\n",
              "      <td>Low</td>\n",
              "      <td>NaN</td>\n",
              "      <td>0</td>\n",
              "    </tr>\n",
              "  </tbody>\n",
              "</table>\n",
              "</div>"
            ],
            "text/plain": [
              "   applicant_id  ...  Balance_in_existing_bank_account_(upper_limit_of_bucket)\n",
              "0       1469590  ...                                                  0       \n",
              "1       1203873  ...                                              2 lac       \n",
              "2       1432761  ...                                                NaN       \n",
              "3       1207582  ...                                                  0       \n",
              "4       1674436  ...                                                  0       \n",
              "\n",
              "[5 rows x 15 columns]"
            ]
          },
          "metadata": {
            "tags": []
          },
          "execution_count": 2
        }
      ]
    },
    {
      "cell_type": "code",
      "metadata": {
        "id": "yeXKVu04l8m2",
        "outputId": "051311b6-d0b8-4791-80d2-1a8e08c64934",
        "colab": {
          "base_uri": "https://localhost:8080/",
          "height": 453
        }
      },
      "source": [
        "loan_df = pd.read_csv('/content/drive/My Drive/Colab Notebooks/ml_classification/loan.csv')\n",
        "print('Shape of loan.csv: ', loan_df.shape)\n",
        "loan_df.head()"
      ],
      "execution_count": 3,
      "outputs": [
        {
          "output_type": "stream",
          "text": [
            "Shape of loan.csv:  (1000, 13)\n"
          ],
          "name": "stdout"
        },
        {
          "output_type": "execute_result",
          "data": {
            "text/html": [
              "<div>\n",
              "<style scoped>\n",
              "    .dataframe tbody tr th:only-of-type {\n",
              "        vertical-align: middle;\n",
              "    }\n",
              "\n",
              "    .dataframe tbody tr th {\n",
              "        vertical-align: top;\n",
              "    }\n",
              "\n",
              "    .dataframe thead th {\n",
              "        text-align: right;\n",
              "    }\n",
              "</style>\n",
              "<table border=\"1\" class=\"dataframe\">\n",
              "  <thead>\n",
              "    <tr style=\"text-align: right;\">\n",
              "      <th></th>\n",
              "      <th>loan_application_id</th>\n",
              "      <th>applicant_id</th>\n",
              "      <th>Months_loan_taken_for</th>\n",
              "      <th>Purpose</th>\n",
              "      <th>Principal_loan_amount</th>\n",
              "      <th>EMI_rate_in_percentage_of_disposable_income</th>\n",
              "      <th>Property</th>\n",
              "      <th>Has_coapplicant</th>\n",
              "      <th>Has_guarantor</th>\n",
              "      <th>Other_EMI_plans</th>\n",
              "      <th>Number_of_existing_loans_at_this_bank</th>\n",
              "      <th>Loan_history</th>\n",
              "      <th>high_risk_applicant</th>\n",
              "    </tr>\n",
              "  </thead>\n",
              "  <tbody>\n",
              "    <tr>\n",
              "      <th>0</th>\n",
              "      <td>d68d975e-edad-11ea-8761-1d6f9c1ff461</td>\n",
              "      <td>1469590</td>\n",
              "      <td>6</td>\n",
              "      <td>electronic equipment</td>\n",
              "      <td>1169000</td>\n",
              "      <td>4</td>\n",
              "      <td>real estate</td>\n",
              "      <td>0</td>\n",
              "      <td>0</td>\n",
              "      <td>NaN</td>\n",
              "      <td>2</td>\n",
              "      <td>critical/pending loans at other banks</td>\n",
              "      <td>0</td>\n",
              "    </tr>\n",
              "    <tr>\n",
              "      <th>1</th>\n",
              "      <td>d68d989e-edad-11ea-b1d5-2bcf65006448</td>\n",
              "      <td>1203873</td>\n",
              "      <td>48</td>\n",
              "      <td>electronic equipment</td>\n",
              "      <td>5951000</td>\n",
              "      <td>2</td>\n",
              "      <td>real estate</td>\n",
              "      <td>0</td>\n",
              "      <td>0</td>\n",
              "      <td>NaN</td>\n",
              "      <td>1</td>\n",
              "      <td>existing loans paid back duly till now</td>\n",
              "      <td>1</td>\n",
              "    </tr>\n",
              "    <tr>\n",
              "      <th>2</th>\n",
              "      <td>d68d995c-edad-11ea-814a-1b6716782575</td>\n",
              "      <td>1432761</td>\n",
              "      <td>12</td>\n",
              "      <td>education</td>\n",
              "      <td>2096000</td>\n",
              "      <td>2</td>\n",
              "      <td>real estate</td>\n",
              "      <td>0</td>\n",
              "      <td>0</td>\n",
              "      <td>NaN</td>\n",
              "      <td>1</td>\n",
              "      <td>critical/pending loans at other banks</td>\n",
              "      <td>0</td>\n",
              "    </tr>\n",
              "    <tr>\n",
              "      <th>3</th>\n",
              "      <td>d68d99fc-edad-11ea-8841-17e8848060ae</td>\n",
              "      <td>1207582</td>\n",
              "      <td>42</td>\n",
              "      <td>FF&amp;E</td>\n",
              "      <td>7882000</td>\n",
              "      <td>2</td>\n",
              "      <td>building society savings agreement/life insurance</td>\n",
              "      <td>0</td>\n",
              "      <td>1</td>\n",
              "      <td>NaN</td>\n",
              "      <td>1</td>\n",
              "      <td>existing loans paid back duly till now</td>\n",
              "      <td>0</td>\n",
              "    </tr>\n",
              "    <tr>\n",
              "      <th>4</th>\n",
              "      <td>d68d9a92-edad-11ea-9f3d-1f8682db006a</td>\n",
              "      <td>1674436</td>\n",
              "      <td>24</td>\n",
              "      <td>new vehicle</td>\n",
              "      <td>4870000</td>\n",
              "      <td>3</td>\n",
              "      <td>NaN</td>\n",
              "      <td>0</td>\n",
              "      <td>0</td>\n",
              "      <td>NaN</td>\n",
              "      <td>2</td>\n",
              "      <td>delay in paying off loans in the past</td>\n",
              "      <td>1</td>\n",
              "    </tr>\n",
              "  </tbody>\n",
              "</table>\n",
              "</div>"
            ],
            "text/plain": [
              "                    loan_application_id  ...  high_risk_applicant\n",
              "0  d68d975e-edad-11ea-8761-1d6f9c1ff461  ...                    0\n",
              "1  d68d989e-edad-11ea-b1d5-2bcf65006448  ...                    1\n",
              "2  d68d995c-edad-11ea-814a-1b6716782575  ...                    0\n",
              "3  d68d99fc-edad-11ea-8841-17e8848060ae  ...                    0\n",
              "4  d68d9a92-edad-11ea-9f3d-1f8682db006a  ...                    1\n",
              "\n",
              "[5 rows x 13 columns]"
            ]
          },
          "metadata": {
            "tags": []
          },
          "execution_count": 3
        }
      ]
    },
    {
      "cell_type": "code",
      "metadata": {
        "id": "uTkFdX9wixYj",
        "outputId": "7807a32a-10fb-4b65-ea56-ffe7c0aa8bfc",
        "colab": {
          "base_uri": "https://localhost:8080/",
          "height": 470
        }
      },
      "source": [
        "combined_df = applicant_df.merge(loan_df, on = 'applicant_id')\n",
        "print('Shape of the dataframe: ', combined_df.shape)\n",
        "combined_df.head()"
      ],
      "execution_count": 4,
      "outputs": [
        {
          "output_type": "stream",
          "text": [
            "Shape of the dataframe:  (1000, 27)\n"
          ],
          "name": "stdout"
        },
        {
          "output_type": "execute_result",
          "data": {
            "text/html": [
              "<div>\n",
              "<style scoped>\n",
              "    .dataframe tbody tr th:only-of-type {\n",
              "        vertical-align: middle;\n",
              "    }\n",
              "\n",
              "    .dataframe tbody tr th {\n",
              "        vertical-align: top;\n",
              "    }\n",
              "\n",
              "    .dataframe thead th {\n",
              "        text-align: right;\n",
              "    }\n",
              "</style>\n",
              "<table border=\"1\" class=\"dataframe\">\n",
              "  <thead>\n",
              "    <tr style=\"text-align: right;\">\n",
              "      <th></th>\n",
              "      <th>applicant_id</th>\n",
              "      <th>Primary_applicant_age_in_years</th>\n",
              "      <th>Gender</th>\n",
              "      <th>Marital_status</th>\n",
              "      <th>Number_of_dependents</th>\n",
              "      <th>Housing</th>\n",
              "      <th>Years_at_current_residence</th>\n",
              "      <th>Employment_status</th>\n",
              "      <th>Has_been_employed_for_at_least</th>\n",
              "      <th>Has_been_employed_for_at_most</th>\n",
              "      <th>Telephone</th>\n",
              "      <th>Foreign_worker</th>\n",
              "      <th>Savings_account_balance</th>\n",
              "      <th>Balance_in_existing_bank_account_(lower_limit_of_bucket)</th>\n",
              "      <th>Balance_in_existing_bank_account_(upper_limit_of_bucket)</th>\n",
              "      <th>loan_application_id</th>\n",
              "      <th>Months_loan_taken_for</th>\n",
              "      <th>Purpose</th>\n",
              "      <th>Principal_loan_amount</th>\n",
              "      <th>EMI_rate_in_percentage_of_disposable_income</th>\n",
              "      <th>Property</th>\n",
              "      <th>Has_coapplicant</th>\n",
              "      <th>Has_guarantor</th>\n",
              "      <th>Other_EMI_plans</th>\n",
              "      <th>Number_of_existing_loans_at_this_bank</th>\n",
              "      <th>Loan_history</th>\n",
              "      <th>high_risk_applicant</th>\n",
              "    </tr>\n",
              "  </thead>\n",
              "  <tbody>\n",
              "    <tr>\n",
              "      <th>0</th>\n",
              "      <td>1469590</td>\n",
              "      <td>67</td>\n",
              "      <td>male</td>\n",
              "      <td>single</td>\n",
              "      <td>1</td>\n",
              "      <td>own</td>\n",
              "      <td>4</td>\n",
              "      <td>skilled employee / official</td>\n",
              "      <td>7 years</td>\n",
              "      <td>NaN</td>\n",
              "      <td>Registered under the applicant's name</td>\n",
              "      <td>1</td>\n",
              "      <td>NaN</td>\n",
              "      <td>NaN</td>\n",
              "      <td>0</td>\n",
              "      <td>d68d975e-edad-11ea-8761-1d6f9c1ff461</td>\n",
              "      <td>6</td>\n",
              "      <td>electronic equipment</td>\n",
              "      <td>1169000</td>\n",
              "      <td>4</td>\n",
              "      <td>real estate</td>\n",
              "      <td>0</td>\n",
              "      <td>0</td>\n",
              "      <td>NaN</td>\n",
              "      <td>2</td>\n",
              "      <td>critical/pending loans at other banks</td>\n",
              "      <td>0</td>\n",
              "    </tr>\n",
              "    <tr>\n",
              "      <th>1</th>\n",
              "      <td>1203873</td>\n",
              "      <td>22</td>\n",
              "      <td>female</td>\n",
              "      <td>divorced/separated/married</td>\n",
              "      <td>1</td>\n",
              "      <td>own</td>\n",
              "      <td>2</td>\n",
              "      <td>skilled employee / official</td>\n",
              "      <td>1 year</td>\n",
              "      <td>4 years</td>\n",
              "      <td>NaN</td>\n",
              "      <td>1</td>\n",
              "      <td>Low</td>\n",
              "      <td>0</td>\n",
              "      <td>2 lac</td>\n",
              "      <td>d68d989e-edad-11ea-b1d5-2bcf65006448</td>\n",
              "      <td>48</td>\n",
              "      <td>electronic equipment</td>\n",
              "      <td>5951000</td>\n",
              "      <td>2</td>\n",
              "      <td>real estate</td>\n",
              "      <td>0</td>\n",
              "      <td>0</td>\n",
              "      <td>NaN</td>\n",
              "      <td>1</td>\n",
              "      <td>existing loans paid back duly till now</td>\n",
              "      <td>1</td>\n",
              "    </tr>\n",
              "    <tr>\n",
              "      <th>2</th>\n",
              "      <td>1432761</td>\n",
              "      <td>49</td>\n",
              "      <td>male</td>\n",
              "      <td>single</td>\n",
              "      <td>2</td>\n",
              "      <td>own</td>\n",
              "      <td>3</td>\n",
              "      <td>unskilled - resident</td>\n",
              "      <td>4 years</td>\n",
              "      <td>7 years</td>\n",
              "      <td>NaN</td>\n",
              "      <td>1</td>\n",
              "      <td>Low</td>\n",
              "      <td>NaN</td>\n",
              "      <td>NaN</td>\n",
              "      <td>d68d995c-edad-11ea-814a-1b6716782575</td>\n",
              "      <td>12</td>\n",
              "      <td>education</td>\n",
              "      <td>2096000</td>\n",
              "      <td>2</td>\n",
              "      <td>real estate</td>\n",
              "      <td>0</td>\n",
              "      <td>0</td>\n",
              "      <td>NaN</td>\n",
              "      <td>1</td>\n",
              "      <td>critical/pending loans at other banks</td>\n",
              "      <td>0</td>\n",
              "    </tr>\n",
              "    <tr>\n",
              "      <th>3</th>\n",
              "      <td>1207582</td>\n",
              "      <td>45</td>\n",
              "      <td>male</td>\n",
              "      <td>single</td>\n",
              "      <td>2</td>\n",
              "      <td>for free</td>\n",
              "      <td>4</td>\n",
              "      <td>skilled employee / official</td>\n",
              "      <td>4 years</td>\n",
              "      <td>7 years</td>\n",
              "      <td>NaN</td>\n",
              "      <td>1</td>\n",
              "      <td>Low</td>\n",
              "      <td>NaN</td>\n",
              "      <td>0</td>\n",
              "      <td>d68d99fc-edad-11ea-8841-17e8848060ae</td>\n",
              "      <td>42</td>\n",
              "      <td>FF&amp;E</td>\n",
              "      <td>7882000</td>\n",
              "      <td>2</td>\n",
              "      <td>building society savings agreement/life insurance</td>\n",
              "      <td>0</td>\n",
              "      <td>1</td>\n",
              "      <td>NaN</td>\n",
              "      <td>1</td>\n",
              "      <td>existing loans paid back duly till now</td>\n",
              "      <td>0</td>\n",
              "    </tr>\n",
              "    <tr>\n",
              "      <th>4</th>\n",
              "      <td>1674436</td>\n",
              "      <td>53</td>\n",
              "      <td>male</td>\n",
              "      <td>single</td>\n",
              "      <td>2</td>\n",
              "      <td>for free</td>\n",
              "      <td>4</td>\n",
              "      <td>skilled employee / official</td>\n",
              "      <td>1 year</td>\n",
              "      <td>4 years</td>\n",
              "      <td>NaN</td>\n",
              "      <td>1</td>\n",
              "      <td>Low</td>\n",
              "      <td>NaN</td>\n",
              "      <td>0</td>\n",
              "      <td>d68d9a92-edad-11ea-9f3d-1f8682db006a</td>\n",
              "      <td>24</td>\n",
              "      <td>new vehicle</td>\n",
              "      <td>4870000</td>\n",
              "      <td>3</td>\n",
              "      <td>NaN</td>\n",
              "      <td>0</td>\n",
              "      <td>0</td>\n",
              "      <td>NaN</td>\n",
              "      <td>2</td>\n",
              "      <td>delay in paying off loans in the past</td>\n",
              "      <td>1</td>\n",
              "    </tr>\n",
              "  </tbody>\n",
              "</table>\n",
              "</div>"
            ],
            "text/plain": [
              "   applicant_id  ...  high_risk_applicant\n",
              "0       1469590  ...                    0\n",
              "1       1203873  ...                    1\n",
              "2       1432761  ...                    0\n",
              "3       1207582  ...                    0\n",
              "4       1674436  ...                    1\n",
              "\n",
              "[5 rows x 27 columns]"
            ]
          },
          "metadata": {
            "tags": []
          },
          "execution_count": 4
        }
      ]
    },
    {
      "cell_type": "markdown",
      "metadata": {
        "id": "KbuBffkcFJ34"
      },
      "source": [
        "* As observed from the combined dataset of applicant and loan csv, only the columns with string type have missing data"
      ]
    },
    {
      "cell_type": "code",
      "metadata": {
        "id": "HbEyGyXzE2Of",
        "outputId": "368e68e7-4d6e-49d1-e52a-30cda86dc34b",
        "colab": {
          "base_uri": "https://localhost:8080/",
          "height": 635
        }
      },
      "source": [
        "combined_df.info()"
      ],
      "execution_count": 5,
      "outputs": [
        {
          "output_type": "stream",
          "text": [
            "<class 'pandas.core.frame.DataFrame'>\n",
            "Int64Index: 1000 entries, 0 to 999\n",
            "Data columns (total 27 columns):\n",
            " #   Column                                                    Non-Null Count  Dtype \n",
            "---  ------                                                    --------------  ----- \n",
            " 0   applicant_id                                              1000 non-null   int64 \n",
            " 1   Primary_applicant_age_in_years                            1000 non-null   int64 \n",
            " 2   Gender                                                    1000 non-null   object\n",
            " 3   Marital_status                                            1000 non-null   object\n",
            " 4   Number_of_dependents                                      1000 non-null   int64 \n",
            " 5   Housing                                                   1000 non-null   object\n",
            " 6   Years_at_current_residence                                1000 non-null   int64 \n",
            " 7   Employment_status                                         1000 non-null   object\n",
            " 8   Has_been_employed_for_at_least                            938 non-null    object\n",
            " 9   Has_been_employed_for_at_most                             747 non-null    object\n",
            " 10  Telephone                                                 404 non-null    object\n",
            " 11  Foreign_worker                                            1000 non-null   int64 \n",
            " 12  Savings_account_balance                                   817 non-null    object\n",
            " 13  Balance_in_existing_bank_account_(lower_limit_of_bucket)  332 non-null    object\n",
            " 14  Balance_in_existing_bank_account_(upper_limit_of_bucket)  543 non-null    object\n",
            " 15  loan_application_id                                       1000 non-null   object\n",
            " 16  Months_loan_taken_for                                     1000 non-null   int64 \n",
            " 17  Purpose                                                   988 non-null    object\n",
            " 18  Principal_loan_amount                                     1000 non-null   int64 \n",
            " 19  EMI_rate_in_percentage_of_disposable_income               1000 non-null   int64 \n",
            " 20  Property                                                  846 non-null    object\n",
            " 21  Has_coapplicant                                           1000 non-null   int64 \n",
            " 22  Has_guarantor                                             1000 non-null   int64 \n",
            " 23  Other_EMI_plans                                           186 non-null    object\n",
            " 24  Number_of_existing_loans_at_this_bank                     1000 non-null   int64 \n",
            " 25  Loan_history                                              1000 non-null   object\n",
            " 26  high_risk_applicant                                       1000 non-null   int64 \n",
            "dtypes: int64(12), object(15)\n",
            "memory usage: 218.8+ KB\n"
          ],
          "name": "stdout"
        }
      ]
    },
    {
      "cell_type": "markdown",
      "metadata": {
        "id": "LuJO78H-qiti"
      },
      "source": [
        "* Number of null values in a column, if it has any null values\n",
        "* format of the result is\n",
        "  * (column_name, number of null values in column_name)"
      ]
    },
    {
      "cell_type": "code",
      "metadata": {
        "id": "Y6V8GkUkF05n",
        "outputId": "d3ac24e6-4572-4478-cd12-dc8be4f0dcbe",
        "colab": {
          "base_uri": "https://localhost:8080/",
          "height": 181
        }
      },
      "source": [
        "missing_value_count = combined_df.isna().sum()\n",
        "column_names = list(combined_df.columns)\n",
        "[(column_names[index], value) for index, value in enumerate(missing_value_count) if value>0]"
      ],
      "execution_count": 6,
      "outputs": [
        {
          "output_type": "execute_result",
          "data": {
            "text/plain": [
              "[('Has_been_employed_for_at_least', 62),\n",
              " ('Has_been_employed_for_at_most', 253),\n",
              " ('Telephone', 596),\n",
              " ('Savings_account_balance', 183),\n",
              " ('Balance_in_existing_bank_account_(lower_limit_of_bucket)', 668),\n",
              " ('Balance_in_existing_bank_account_(upper_limit_of_bucket)', 457),\n",
              " ('Purpose', 12),\n",
              " ('Property', 154),\n",
              " ('Other_EMI_plans', 814)]"
            ]
          },
          "metadata": {
            "tags": []
          },
          "execution_count": 6
        }
      ]
    },
    {
      "cell_type": "markdown",
      "metadata": {
        "id": "ri6PNMN7GAKM"
      },
      "source": [
        "* Percentage of missing values in each column, when compared to total values"
      ]
    },
    {
      "cell_type": "code",
      "metadata": {
        "id": "QZY3VcIgGBav",
        "outputId": "4b6abf8d-d419-4ac7-d6b9-278a039fb4dc",
        "colab": {
          "base_uri": "https://localhost:8080/",
          "height": 181
        }
      },
      "source": [
        "[(column_names[index], round(((value/len(combined_df))*100),2)) \n",
        "for index, value in enumerate(missing_value_count) if value>0]"
      ],
      "execution_count": 7,
      "outputs": [
        {
          "output_type": "execute_result",
          "data": {
            "text/plain": [
              "[('Has_been_employed_for_at_least', 6.2),\n",
              " ('Has_been_employed_for_at_most', 25.3),\n",
              " ('Telephone', 59.6),\n",
              " ('Savings_account_balance', 18.3),\n",
              " ('Balance_in_existing_bank_account_(lower_limit_of_bucket)', 66.8),\n",
              " ('Balance_in_existing_bank_account_(upper_limit_of_bucket)', 45.7),\n",
              " ('Purpose', 1.2),\n",
              " ('Property', 15.4),\n",
              " ('Other_EMI_plans', 81.4)]"
            ]
          },
          "metadata": {
            "tags": []
          },
          "execution_count": 7
        }
      ]
    },
    {
      "cell_type": "markdown",
      "metadata": {
        "id": "FXSzom17H7OK"
      },
      "source": [
        "#### Inference from Data\n",
        "\n",
        "* Mean age of the applicant is 35.55, and median age of the applicant age is 33\n",
        "* Number of dependents is around 1 for both mean and median\n",
        "* Average duration of loan taken is around 21 months, and median for loan duration taken is 18 months.\n",
        "* Average principal amount of loan is [3,271,258], whereas the median principal amount is [2,319,500], since there is difference in median and mean, with mean higher than median, there are few loans with very high amount which are pushing the average higher than almost 1 million higher than the median value.\n"
      ]
    },
    {
      "cell_type": "code",
      "metadata": {
        "id": "cEl1NV8FEjTZ",
        "outputId": "9a9cc788-46d1-4d38-f1dc-eb8331176aec",
        "colab": {
          "base_uri": "https://localhost:8080/",
          "height": 394
        }
      },
      "source": [
        "combined_df.iloc[:,1:].describe().transpose()"
      ],
      "execution_count": 8,
      "outputs": [
        {
          "output_type": "execute_result",
          "data": {
            "text/html": [
              "<div>\n",
              "<style scoped>\n",
              "    .dataframe tbody tr th:only-of-type {\n",
              "        vertical-align: middle;\n",
              "    }\n",
              "\n",
              "    .dataframe tbody tr th {\n",
              "        vertical-align: top;\n",
              "    }\n",
              "\n",
              "    .dataframe thead th {\n",
              "        text-align: right;\n",
              "    }\n",
              "</style>\n",
              "<table border=\"1\" class=\"dataframe\">\n",
              "  <thead>\n",
              "    <tr style=\"text-align: right;\">\n",
              "      <th></th>\n",
              "      <th>count</th>\n",
              "      <th>mean</th>\n",
              "      <th>std</th>\n",
              "      <th>min</th>\n",
              "      <th>25%</th>\n",
              "      <th>50%</th>\n",
              "      <th>75%</th>\n",
              "      <th>max</th>\n",
              "    </tr>\n",
              "  </thead>\n",
              "  <tbody>\n",
              "    <tr>\n",
              "      <th>Primary_applicant_age_in_years</th>\n",
              "      <td>1000.0</td>\n",
              "      <td>35.546</td>\n",
              "      <td>1.137547e+01</td>\n",
              "      <td>19.0</td>\n",
              "      <td>27.0</td>\n",
              "      <td>33.0</td>\n",
              "      <td>42.0</td>\n",
              "      <td>75.0</td>\n",
              "    </tr>\n",
              "    <tr>\n",
              "      <th>Number_of_dependents</th>\n",
              "      <td>1000.0</td>\n",
              "      <td>1.155</td>\n",
              "      <td>3.620858e-01</td>\n",
              "      <td>1.0</td>\n",
              "      <td>1.0</td>\n",
              "      <td>1.0</td>\n",
              "      <td>1.0</td>\n",
              "      <td>2.0</td>\n",
              "    </tr>\n",
              "    <tr>\n",
              "      <th>Years_at_current_residence</th>\n",
              "      <td>1000.0</td>\n",
              "      <td>2.845</td>\n",
              "      <td>1.103718e+00</td>\n",
              "      <td>1.0</td>\n",
              "      <td>2.0</td>\n",
              "      <td>3.0</td>\n",
              "      <td>4.0</td>\n",
              "      <td>4.0</td>\n",
              "    </tr>\n",
              "    <tr>\n",
              "      <th>Foreign_worker</th>\n",
              "      <td>1000.0</td>\n",
              "      <td>0.963</td>\n",
              "      <td>1.888562e-01</td>\n",
              "      <td>0.0</td>\n",
              "      <td>1.0</td>\n",
              "      <td>1.0</td>\n",
              "      <td>1.0</td>\n",
              "      <td>1.0</td>\n",
              "    </tr>\n",
              "    <tr>\n",
              "      <th>Months_loan_taken_for</th>\n",
              "      <td>1000.0</td>\n",
              "      <td>20.903</td>\n",
              "      <td>1.205881e+01</td>\n",
              "      <td>4.0</td>\n",
              "      <td>12.0</td>\n",
              "      <td>18.0</td>\n",
              "      <td>24.0</td>\n",
              "      <td>72.0</td>\n",
              "    </tr>\n",
              "    <tr>\n",
              "      <th>Principal_loan_amount</th>\n",
              "      <td>1000.0</td>\n",
              "      <td>3271258.000</td>\n",
              "      <td>2.822737e+06</td>\n",
              "      <td>250000.0</td>\n",
              "      <td>1365500.0</td>\n",
              "      <td>2319500.0</td>\n",
              "      <td>3972250.0</td>\n",
              "      <td>18424000.0</td>\n",
              "    </tr>\n",
              "    <tr>\n",
              "      <th>EMI_rate_in_percentage_of_disposable_income</th>\n",
              "      <td>1000.0</td>\n",
              "      <td>2.973</td>\n",
              "      <td>1.118715e+00</td>\n",
              "      <td>1.0</td>\n",
              "      <td>2.0</td>\n",
              "      <td>3.0</td>\n",
              "      <td>4.0</td>\n",
              "      <td>4.0</td>\n",
              "    </tr>\n",
              "    <tr>\n",
              "      <th>Has_coapplicant</th>\n",
              "      <td>1000.0</td>\n",
              "      <td>0.041</td>\n",
              "      <td>1.983894e-01</td>\n",
              "      <td>0.0</td>\n",
              "      <td>0.0</td>\n",
              "      <td>0.0</td>\n",
              "      <td>0.0</td>\n",
              "      <td>1.0</td>\n",
              "    </tr>\n",
              "    <tr>\n",
              "      <th>Has_guarantor</th>\n",
              "      <td>1000.0</td>\n",
              "      <td>0.052</td>\n",
              "      <td>2.221381e-01</td>\n",
              "      <td>0.0</td>\n",
              "      <td>0.0</td>\n",
              "      <td>0.0</td>\n",
              "      <td>0.0</td>\n",
              "      <td>1.0</td>\n",
              "    </tr>\n",
              "    <tr>\n",
              "      <th>Number_of_existing_loans_at_this_bank</th>\n",
              "      <td>1000.0</td>\n",
              "      <td>1.407</td>\n",
              "      <td>5.776545e-01</td>\n",
              "      <td>1.0</td>\n",
              "      <td>1.0</td>\n",
              "      <td>1.0</td>\n",
              "      <td>2.0</td>\n",
              "      <td>4.0</td>\n",
              "    </tr>\n",
              "    <tr>\n",
              "      <th>high_risk_applicant</th>\n",
              "      <td>1000.0</td>\n",
              "      <td>0.300</td>\n",
              "      <td>4.584869e-01</td>\n",
              "      <td>0.0</td>\n",
              "      <td>0.0</td>\n",
              "      <td>0.0</td>\n",
              "      <td>1.0</td>\n",
              "      <td>1.0</td>\n",
              "    </tr>\n",
              "  </tbody>\n",
              "</table>\n",
              "</div>"
            ],
            "text/plain": [
              "                                              count  ...         max\n",
              "Primary_applicant_age_in_years               1000.0  ...        75.0\n",
              "Number_of_dependents                         1000.0  ...         2.0\n",
              "Years_at_current_residence                   1000.0  ...         4.0\n",
              "Foreign_worker                               1000.0  ...         1.0\n",
              "Months_loan_taken_for                        1000.0  ...        72.0\n",
              "Principal_loan_amount                        1000.0  ...  18424000.0\n",
              "EMI_rate_in_percentage_of_disposable_income  1000.0  ...         4.0\n",
              "Has_coapplicant                              1000.0  ...         1.0\n",
              "Has_guarantor                                1000.0  ...         1.0\n",
              "Number_of_existing_loans_at_this_bank        1000.0  ...         4.0\n",
              "high_risk_applicant                          1000.0  ...         1.0\n",
              "\n",
              "[11 rows x 8 columns]"
            ]
          },
          "metadata": {
            "tags": []
          },
          "execution_count": 8
        }
      ]
    },
    {
      "cell_type": "markdown",
      "metadata": {
        "id": "ogcsHJIlJOA7"
      },
      "source": [
        "* There is class imbalance observed in the classification label dataset, there are 700 low risk applicants, compared to 300 high risk applicants."
      ]
    },
    {
      "cell_type": "markdown",
      "metadata": {
        "id": "wmRYGPZzCagT"
      },
      "source": [
        "##### Are young people more creditworthy?\n",
        "  * Just by looking at the age of the customer, it is difficult to understand the credit worthiness, since there are more number of young people in less credit risk than more credit risk\n",
        "  * There are 263 applicants below 30 with low risk and 148 applicants below 30 with high risk, hence just by age, it is difficult to identify the risk category.\n",
        "  * However in our dataset, we have 700 low risk applicants and 300 high risk applicants, almost 50% of high risk applicants are below the age of 30, whereas only 37.5 % of low risk applicants are below age of 30. \n",
        "  * This dataset has 406 applicants below age of 30, out of which around 35% of the applicants are high risk. Of remaining 594 applicants who are above the age of 30, there are around 26% of applicants are high risk applicants.\n",
        "  * Around 71% of the low risk applicants are below the age of 40, and 76% of high risk applicants are below age of 40."
      ]
    },
    {
      "cell_type": "code",
      "metadata": {
        "id": "gCQ2-f_-bjwY",
        "outputId": "72539fdb-c074-4650-f362-d9643f3b41a1",
        "colab": {
          "base_uri": "https://localhost:8080/",
          "height": 573
        }
      },
      "source": [
        "df_try = (combined_df.groupby(['high_risk_applicant','Primary_applicant_age_in_years']).agg(count_hig_risk_applicants = ('high_risk_applicant', len)))\n",
        "df_try.count_hig_risk_applicants.unstack(0).fillna(0).plot(kind='bar',subplots=True, layout=(1,2), figsize = (30,10))\n"
      ],
      "execution_count": 9,
      "outputs": [
        {
          "output_type": "execute_result",
          "data": {
            "text/plain": [
              "array([[<matplotlib.axes._subplots.AxesSubplot object at 0x7f193d65f470>,\n",
              "        <matplotlib.axes._subplots.AxesSubplot object at 0x7f193d5b9710>]],\n",
              "      dtype=object)"
            ]
          },
          "metadata": {
            "tags": []
          },
          "execution_count": 9
        },
        {
          "output_type": "display_data",
          "data": {
            "image/png": "[encoded data removed]",
            "text/plain": [
              "<Figure size 2160x720 with 2 Axes>"
            ]
          },
          "metadata": {
            "tags": [],
            "needs_background": "light"
          }
        }
      ]
    },
    {
      "cell_type": "code",
      "metadata": {
        "id": "zbjp9G5MMEEg",
        "outputId": "5d5815e0-5339-40ce-d030-843c12927338",
        "colab": {
          "base_uri": "https://localhost:8080/",
          "height": 90
        }
      },
      "source": [
        "df_below_30 = (df_try[df_try.index.isin(list(range(31)), level=1)])\n",
        "print('Number of low risk applicants below 30: ', (df_below_30[df_below_30.index.isin(list(range(1)), level=0)]).sum())\n",
        "print('Number of high risk applicants below 30: ', (df_below_30[df_below_30.index.isin(list(range(1,2)), level=0)]).sum())"
      ],
      "execution_count": 10,
      "outputs": [
        {
          "output_type": "stream",
          "text": [
            "Number of low risk applicants below 30:  count_hig_risk_applicants    263\n",
            "dtype: int64\n",
            "Number of high risk applicants below 30:  count_hig_risk_applicants    148\n",
            "dtype: int64\n"
          ],
          "name": "stdout"
        }
      ]
    },
    {
      "cell_type": "code",
      "metadata": {
        "id": "6IwDTpOUNb6w",
        "outputId": "63ee93c5-4688-4568-c3c7-1dac78f1437f",
        "colab": {
          "base_uri": "https://localhost:8080/",
          "height": 90
        }
      },
      "source": [
        "df_between_30_40 = (df_try[df_try.index.isin(list(range(31,41)), level=1)])\n",
        "print('Number of low risk applicants between 30 and 40: ', (df_between_30_40[df_between_30_40.index.isin(list(range(1)), level=0)]).sum())\n",
        "print('Number of high risk applicants between 30 and 40: ', (df_between_30_40[df_between_30_40.index.isin(list(range(1,2)), level=0)]).sum())"
      ],
      "execution_count": 11,
      "outputs": [
        {
          "output_type": "stream",
          "text": [
            "Number of low risk applicants between 30 and 40:  count_hig_risk_applicants    235\n",
            "dtype: int64\n",
            "Number of high risk applicants between 30 and 40:  count_hig_risk_applicants    80\n",
            "dtype: int64\n"
          ],
          "name": "stdout"
        }
      ]
    },
    {
      "cell_type": "code",
      "metadata": {
        "id": "oZ5FFX43ORzr",
        "outputId": "859882ed-cb8a-4e60-f529-812f922e9922",
        "colab": {
          "base_uri": "https://localhost:8080/",
          "height": 90
        }
      },
      "source": [
        "df_below_40 = (df_try[df_try.index.isin(list(range(41)), level=1)])\n",
        "print('Number of low risk applicants below 40: ', (df_below_40[df_below_40.index.isin(list(range(1)), level=0)]).sum())\n",
        "print('Number of high risk applicants below 40: ', (df_below_40[df_below_40.index.isin(list(range(1,2)), level=0)]).sum())"
      ],
      "execution_count": 12,
      "outputs": [
        {
          "output_type": "stream",
          "text": [
            "Number of low risk applicants below 40:  count_hig_risk_applicants    498\n",
            "dtype: int64\n",
            "Number of high risk applicants below 40:  count_hig_risk_applicants    228\n",
            "dtype: int64\n"
          ],
          "name": "stdout"
        }
      ]
    },
    {
      "cell_type": "code",
      "metadata": {
        "id": "wfTkKZGeK6nM",
        "outputId": "a93bc07a-d798-403f-c31c-09efa8aaacdb",
        "colab": {
          "base_uri": "https://localhost:8080/",
          "height": 648
        }
      },
      "source": [
        "df_try = (combined_df.groupby(['high_risk_applicant','Primary_applicant_age_in_years']).agg(count_hig_risk_applicants = ('high_risk_applicant', len)))\n",
        "(df_try[df_try.index.isin(list(range(31)), level=1)]).plot.bar(figsize = (15,10))"
      ],
      "execution_count": 13,
      "outputs": [
        {
          "output_type": "execute_result",
          "data": {
            "text/plain": [
              "<matplotlib.axes._subplots.AxesSubplot at 0x7f193ce7d390>"
            ]
          },
          "metadata": {
            "tags": []
          },
          "execution_count": 13
        },
        {
          "output_type": "display_data",
          "data": {
            "image/png": "[encoded data removed]",
            "text/plain": [
              "<Figure size 1080x720 with 1 Axes>"
            ]
          },
          "metadata": {
            "tags": [],
            "needs_background": "light"
          }
        }
      ]
    },
    {
      "cell_type": "code",
      "metadata": {
        "id": "HCCc7Qx5HCDG",
        "outputId": "b0f7fc41-c381-4990-8ff3-5b5b179fe9d4",
        "colab": {
          "base_uri": "https://localhost:8080/",
          "height": 455
        }
      },
      "source": [
        "df_try = (combined_df.groupby(['high_risk_applicant','Principal_loan_amount']).agg(count_hig_risk_applicants = ('high_risk_applicant', len)))\n",
        "df_try"
      ],
      "execution_count": 14,
      "outputs": [
        {
          "output_type": "execute_result",
          "data": {
            "text/html": [
              "<div>\n",
              "<style scoped>\n",
              "    .dataframe tbody tr th:only-of-type {\n",
              "        vertical-align: middle;\n",
              "    }\n",
              "\n",
              "    .dataframe tbody tr th {\n",
              "        vertical-align: top;\n",
              "    }\n",
              "\n",
              "    .dataframe thead th {\n",
              "        text-align: right;\n",
              "    }\n",
              "</style>\n",
              "<table border=\"1\" class=\"dataframe\">\n",
              "  <thead>\n",
              "    <tr style=\"text-align: right;\">\n",
              "      <th></th>\n",
              "      <th></th>\n",
              "      <th>count_hig_risk_applicants</th>\n",
              "    </tr>\n",
              "    <tr>\n",
              "      <th>high_risk_applicant</th>\n",
              "      <th>Principal_loan_amount</th>\n",
              "      <th></th>\n",
              "    </tr>\n",
              "  </thead>\n",
              "  <tbody>\n",
              "    <tr>\n",
              "      <th rowspan=\"5\" valign=\"top\">0</th>\n",
              "      <th>250000</th>\n",
              "      <td>1</td>\n",
              "    </tr>\n",
              "    <tr>\n",
              "      <th>276000</th>\n",
              "      <td>1</td>\n",
              "    </tr>\n",
              "    <tr>\n",
              "      <th>338000</th>\n",
              "      <td>1</td>\n",
              "    </tr>\n",
              "    <tr>\n",
              "      <th>339000</th>\n",
              "      <td>1</td>\n",
              "    </tr>\n",
              "    <tr>\n",
              "      <th>343000</th>\n",
              "      <td>1</td>\n",
              "    </tr>\n",
              "    <tr>\n",
              "      <th>...</th>\n",
              "      <th>...</th>\n",
              "      <td>...</td>\n",
              "    </tr>\n",
              "    <tr>\n",
              "      <th rowspan=\"5\" valign=\"top\">1</th>\n",
              "      <th>14782000</th>\n",
              "      <td>1</td>\n",
              "    </tr>\n",
              "    <tr>\n",
              "      <th>14896000</th>\n",
              "      <td>1</td>\n",
              "    </tr>\n",
              "    <tr>\n",
              "      <th>15672000</th>\n",
              "      <td>1</td>\n",
              "    </tr>\n",
              "    <tr>\n",
              "      <th>15945000</th>\n",
              "      <td>1</td>\n",
              "    </tr>\n",
              "    <tr>\n",
              "      <th>18424000</th>\n",
              "      <td>1</td>\n",
              "    </tr>\n",
              "  </tbody>\n",
              "</table>\n",
              "<p>949 rows × 1 columns</p>\n",
              "</div>"
            ],
            "text/plain": [
              "                                           count_hig_risk_applicants\n",
              "high_risk_applicant Principal_loan_amount                           \n",
              "0                   250000                                         1\n",
              "                    276000                                         1\n",
              "                    338000                                         1\n",
              "                    339000                                         1\n",
              "                    343000                                         1\n",
              "...                                                              ...\n",
              "1                   14782000                                       1\n",
              "                    14896000                                       1\n",
              "                    15672000                                       1\n",
              "                    15945000                                       1\n",
              "                    18424000                                       1\n",
              "\n",
              "[949 rows x 1 columns]"
            ]
          },
          "metadata": {
            "tags": []
          },
          "execution_count": 14
        }
      ]
    },
    {
      "cell_type": "markdown",
      "metadata": {
        "id": "Spvj19RhUA1B"
      },
      "source": [
        "##### Would a person with critical credit history be more creditworthy?\n",
        "\n",
        "  * Based on just past credit history, it is quite difficult to predict an applicant if he/she is high risk or low risk, since number of applicants with 'delay in paying off loans in the past' are a less percentage of the overall high risk category.\n",
        "  * The highest category in both low risk and high risk applicants is the category of 'existing loans paid back till now', since this is the case, the credit worhtiness feature on a single note may not be highly correlated."
      ]
    },
    {
      "cell_type": "code",
      "metadata": {
        "id": "FS3dbydtRUTf",
        "outputId": "05c4ab53-2a9c-4858-e0b2-f1e2e979af9e",
        "colab": {
          "base_uri": "https://localhost:8080/",
          "height": 721
        }
      },
      "source": [
        "df_try_loan_history = (combined_df.groupby(['high_risk_applicant','Loan_history']).agg(count_hig_risk_applicants = ('Loan_history', len)))\n",
        "df_try_loan_history.count_hig_risk_applicants.unstack(0).fillna(0).plot(kind='bar',subplots=True, layout=(1,2), figsize = (30,10))"
      ],
      "execution_count": 15,
      "outputs": [
        {
          "output_type": "execute_result",
          "data": {
            "text/plain": [
              "array([[<matplotlib.axes._subplots.AxesSubplot object at 0x7f193cdd4e10>,\n",
              "        <matplotlib.axes._subplots.AxesSubplot object at 0x7f193cd9b588>]],\n",
              "      dtype=object)"
            ]
          },
          "metadata": {
            "tags": []
          },
          "execution_count": 15
        },
        {
          "output_type": "display_data",
          "data": {
            "image/png": "[encoded data removed]",
            "text/plain": [
              "<Figure size 2160x720 with 2 Axes>"
            ]
          },
          "metadata": {
            "tags": [],
            "needs_background": "light"
          }
        }
      ]
    },
    {
      "cell_type": "markdown",
      "metadata": {
        "id": "-O90A-mFYWss"
      },
      "source": [
        "##### Would a person with more credit accounts be more creditworthy?\n",
        "* As per the visuals below people with just one credit account are less trustworthy, but this may also be observed due the imbalance in the high risk and low risk categories"
      ]
    },
    {
      "cell_type": "code",
      "metadata": {
        "id": "1ak9Rp4gCp2z",
        "outputId": "1bd0b55c-08ac-48be-9954-95f43f885330",
        "colab": {
          "base_uri": "https://localhost:8080/",
          "height": 663
        }
      },
      "source": [
        "df_try = (combined_df.groupby(['high_risk_applicant','Number_of_existing_loans_at_this_bank']).agg(count_hig_risk_applicants = ('high_risk_applicant', len)))\n",
        "df_try.count_hig_risk_applicants.unstack(0).fillna(0).plot(kind='bar',subplots=True, layout=(1,2), figsize = (25,10))\n"
      ],
      "execution_count": 16,
      "outputs": [
        {
          "output_type": "execute_result",
          "data": {
            "text/plain": [
              "array([[<matplotlib.axes._subplots.AxesSubplot object at 0x7f193cdb81d0>,\n",
              "        <matplotlib.axes._subplots.AxesSubplot object at 0x7f193d3ad588>]],\n",
              "      dtype=object)"
            ]
          },
          "metadata": {
            "tags": []
          },
          "execution_count": 16
        },
        {
          "output_type": "display_data",
          "data": {
            "image/png": "[encoded data removed]",
            "text/plain": [
              "<Figure size 1800x720 with 2 Axes>"
            ]
          },
          "metadata": {
            "tags": [],
            "needs_background": "light"
          }
        }
      ]
    },
    {
      "cell_type": "markdown",
      "metadata": {
        "id": "IroFKThbdSgn"
      },
      "source": [
        "### III - Correlation of Features towards risk category"
      ]
    },
    {
      "cell_type": "code",
      "metadata": {
        "id": "i_pdluRvDfFK"
      },
      "source": [
        "object_column_names = (combined_df.loc[:, combined_df.dtypes == np.object]).columns\n",
        "numeric_column_names = (combined_df.loc[:, combined_df.dtypes == np.int64]).columns"
      ],
      "execution_count": 161,
      "outputs": []
    },
    {
      "cell_type": "code",
      "metadata": {
        "id": "cls90wAvDln0",
        "outputId": "55b05f98-d7b5-4d9e-fed1-1185070f5f1a",
        "colab": {
          "base_uri": "https://localhost:8080/",
          "height": 0
        }
      },
      "source": [
        "combined_df[numeric_column_names[1:]].corrwith(combined_df['high_risk_applicant'])"
      ],
      "execution_count": 162,
      "outputs": [
        {
          "output_type": "execute_result",
          "data": {
            "text/plain": [
              "Primary_applicant_age_in_years                -0.091127\n",
              "Gender                                        -0.075493\n",
              "Marital_status                                -0.095055\n",
              "Number_of_dependents                          -0.003015\n",
              "Housing                                        0.019315\n",
              "Years_at_current_residence                     0.002967\n",
              "Employment_status                             -0.032756\n",
              "Foreign_worker                                 0.082079\n",
              "Savings_account_balance                       -0.021722\n",
              "Months_loan_taken_for                          0.214927\n",
              "Purpose                                       -0.050763\n",
              "Principal_loan_amount                          0.154739\n",
              "EMI_rate_in_percentage_of_disposable_income    0.072404\n",
              "Property                                      -0.079331\n",
              "Has_coapplicant                                0.062728\n",
              "Has_guarantor                                 -0.055039\n",
              "Number_of_existing_loans_at_this_bank         -0.045732\n",
              "Loan_history                                   0.097054\n",
              "high_risk_applicant                            1.000000\n",
              "dtype: float64"
            ]
          },
          "metadata": {
            "tags": []
          },
          "execution_count": 162
        }
      ]
    },
    {
      "cell_type": "code",
      "metadata": {
        "id": "6-nxMAFl5B5m",
        "outputId": "94df19da-da41-4064-b05c-dee5f21ecc33",
        "colab": {
          "base_uri": "https://localhost:8080/",
          "height": 0
        }
      },
      "source": [
        "combined_df.iloc[:,1:].drop('high_risk_applicant', axis=1).plot(kind='box', subplots=True, layout=(5,5), sharex=False, sharey=False, figsize=(15,15), \n",
        "                                        title='Box Plot for each input variable')\n",
        "plt.show()"
      ],
      "execution_count": 163,
      "outputs": [
        {
          "output_type": "display_data",
          "data": {
            "image/png": "[encoded data removed]",
            "text/plain": [
              "<Figure size 1080x1080 with 25 Axes>"
            ]
          },
          "metadata": {
            "tags": [],
            "needs_background": "light"
          }
        }
      ]
    },
    {
      "cell_type": "code",
      "metadata": {
        "id": "WAFeC5aW5Bsz",
        "outputId": "3515d129-235f-4e68-f86a-824ef0a8140e",
        "colab": {
          "base_uri": "https://localhost:8080/",
          "height": 0
        }
      },
      "source": [
        "import pylab as pl\n",
        "combined_df.iloc[:,1:].drop('high_risk_applicant' ,axis=1).hist(bins=30, figsize=(15,15))\n",
        "pl.suptitle(\"Histogram for each numeric input variable\")\n",
        "plt.show()"
      ],
      "execution_count": 164,
      "outputs": [
        {
          "output_type": "display_data",
          "data": {
            "image/png": "[encoded data removed]",
            "text/plain": [
              "<Figure size 1080x1080 with 20 Axes>"
            ]
          },
          "metadata": {
            "tags": [],
            "needs_background": "light"
          }
        }
      ]
    },
    {
      "cell_type": "markdown",
      "metadata": {
        "id": "NFtW1tXtziTX"
      },
      "source": [
        "* Correlation chart"
      ]
    },
    {
      "cell_type": "code",
      "metadata": {
        "id": "3mkI9_t0C_VX",
        "outputId": "9de67320-b2e9-41aa-e607-d3ec62fe2c97",
        "colab": {
          "base_uri": "https://localhost:8080/",
          "height": 0
        }
      },
      "source": [
        "updated_data_1 = combined_df.iloc[:,1:].drop(columns = object_column_names)\n",
        "corr = updated_data_1.corr()\n",
        "\n",
        "fig = plt.figure(figsize = (25,10))\n",
        "ax = fig.add_subplot(1,1,1)\n",
        "cax = ax.matshow(corr,cmap='coolwarm', vmin=-1, vmax=1)\n",
        "fig.colorbar(cax)\n",
        "ticks = np.arange(0,len(updated_data_1.columns),1)\n",
        "ax.set_xticks(ticks)\n",
        "plt.xticks(rotation=90)\n",
        "ax.set_yticks(ticks)\n",
        "ax.set_xticklabels(updated_data_1.columns)\n",
        "ax.set_yticklabels(updated_data_1.columns)\n",
        "plt.show()"
      ],
      "execution_count": 165,
      "outputs": [
        {
          "output_type": "display_data",
          "data": {
            "image/png": "[encoded data removed]",
            "text/plain": [
              "<Figure size 1800x720 with 2 Axes>"
            ]
          },
          "metadata": {
            "tags": [],
            "needs_background": "light"
          }
        }
      ]
    },
    {
      "cell_type": "markdown",
      "metadata": {
        "id": "z0sRBgiPzljj"
      },
      "source": [
        "* Heatmap"
      ]
    },
    {
      "cell_type": "code",
      "metadata": {
        "id": "JJtOHzkRlahB",
        "outputId": "1122fccf-ef15-4ede-c261-f12d99a97e86",
        "colab": {
          "base_uri": "https://localhost:8080/",
          "height": 0
        }
      },
      "source": [
        "plt.figure(figsize=(20,20))\n",
        "sns.heatmap(combined_df.iloc[:,1:].corr(), annot=True)\n",
        "plt.show()"
      ],
      "execution_count": 166,
      "outputs": [
        {
          "output_type": "display_data",
          "data": {
            "image/png": "[encoded data removed]",
            "text/plain": [
              "<Figure size 1440x1440 with 2 Axes>"
            ]
          },
          "metadata": {
            "tags": [],
            "needs_background": "light"
          }
        }
      ]
    },
    {
      "cell_type": "markdown",
      "metadata": {
        "id": "fkgvI_MJui4Q"
      },
      "source": [
        "### IV - Handling missing values"
      ]
    },
    {
      "cell_type": "code",
      "metadata": {
        "id": "1VJv5Qe8xR3Y",
        "outputId": "4cd02f32-f3f2-4c43-a8bd-104edf8626e9",
        "colab": {
          "base_uri": "https://localhost:8080/",
          "height": 35
        }
      },
      "source": [
        "missing_value_count = combined_df.isna().sum()\n",
        "column_names = list(combined_df.columns)\n",
        "missing_null_columns = []\n",
        "[(missing_null_columns.append(column_names[index]),column_names[index], value) for index, value in enumerate(missing_value_count) if value>0]"
      ],
      "execution_count": 167,
      "outputs": [
        {
          "output_type": "execute_result",
          "data": {
            "text/plain": [
              "[]"
            ]
          },
          "metadata": {
            "tags": []
          },
          "execution_count": 167
        }
      ]
    },
    {
      "cell_type": "code",
      "metadata": {
        "id": "2heMDfAYxfPB",
        "outputId": "295febd2-4229-4483-86e3-a1284e3908ae",
        "colab": {
          "base_uri": "https://localhost:8080/",
          "height": 35
        }
      },
      "source": [
        "[(column_names[index], round(((value/len(combined_df))*100),2)) \n",
        "for index, value in enumerate(missing_value_count) if value>0]"
      ],
      "execution_count": 168,
      "outputs": [
        {
          "output_type": "execute_result",
          "data": {
            "text/plain": [
              "[]"
            ]
          },
          "metadata": {
            "tags": []
          },
          "execution_count": 168
        }
      ]
    },
    {
      "cell_type": "markdown",
      "metadata": {
        "id": "9LXjbxR1xkGc"
      },
      "source": [
        "* For columns with less than 20% of the rows, we will fill with the mode.\n",
        "* For 'Other_EMI_plans', it has more than 800 rows missing out of 1000 rows.\n",
        "  * Also checked for the pattern if the 200 rows are only for high risk or low risk applicants, which was not the case, hence this column will be deleted.\n",
        "* For 'Telephone', it has more than 600 rows approximately missing and there is no pattern that Telephone was available for high risk or low risk applicant, hence this column will also be dropped.\n",
        "* The columns 'Has_been_employed_for_at_least' and 'Has_been_employed_for_at_most' are mutually exclusive, hence will take the average of those two columns in a new column\n",
        "* 'Property', 'Purpose' have very less null values, hence they will be filled up with the mode or most frequently occuring value.\n",
        "* 'Balance_in_existing_bank_account_lower_limit' and 'Balance_in_existing_bank_account_upper_limit' are not mutually exclusive, hence have decided to delete these columns, since number of rows where both the columns are null is also around 400 rows, and the amount is either 0 or 2 lacs, hence this column may not contribute much to the high risk category."
      ]
    },
    {
      "cell_type": "markdown",
      "metadata": {
        "id": "YwrwA7OLWtFP"
      },
      "source": [
        "* Creation of average employment years for the applicant"
      ]
    },
    {
      "cell_type": "code",
      "metadata": {
        "id": "-SpSpnW-TF0g",
        "outputId": "083704de-5c93-4088-ea4a-501201896b9f",
        "colab": {
          "base_uri": "https://localhost:8080/",
          "height": 594
        }
      },
      "source": [
        "employed_at_least = combined_df['Has_been_employed_for_at_least'].str.extract('(\\d+)')\n",
        "employed_at_most = combined_df['Has_been_employed_for_at_most'].str.extract('(\\d+)')\n",
        "employed_at_least.fillna(value = 0, inplace = True)\n",
        "employed_at_most.fillna(value = 0, inplace = True)\n",
        "employed_at_least = pd.to_numeric(employed_at_least.iloc[:,0])\n",
        "employed_at_most = pd.to_numeric(employed_at_most.iloc[:,0])\n",
        "employed_df = pd.concat([employed_at_least, employed_at_most], axis = 1)\n",
        "employed_df['average'] = 0.5 * (employed_df.iloc[:,0] + employed_df.iloc[:,1])\n",
        "combined_df['Average_employment_years'] = employed_df['average']"
      ],
      "execution_count": 169,
      "outputs": [
        {
          "output_type": "error",
          "ename": "KeyError",
          "evalue": "ignored",
          "traceback": [
            "\u001b[0;31m---------------------------------------------------------------------------\u001b[0m",
            "\u001b[0;31mKeyError\u001b[0m                                  Traceback (most recent call last)",
            "\u001b[0;32m/usr/local/lib/python3.6/dist-packages/pandas/core/indexes/base.py\u001b[0m in \u001b[0;36mget_loc\u001b[0;34m(self, key, method, tolerance)\u001b[0m\n\u001b[1;32m   2890\u001b[0m             \u001b[0;32mtry\u001b[0m\u001b[0;34m:\u001b[0m\u001b[0;34m\u001b[0m\u001b[0;34m\u001b[0m\u001b[0m\n\u001b[0;32m-> 2891\u001b[0;31m                 \u001b[0;32mreturn\u001b[0m \u001b[0mself\u001b[0m\u001b[0;34m.\u001b[0m\u001b[0m_engine\u001b[0m\u001b[0;34m.\u001b[0m\u001b[0mget_loc\u001b[0m\u001b[0;34m(\u001b[0m\u001b[0mcasted_key\u001b[0m\u001b[0;34m)\u001b[0m\u001b[0;34m\u001b[0m\u001b[0;34m\u001b[0m\u001b[0m\n\u001b[0m\u001b[1;32m   2892\u001b[0m             \u001b[0;32mexcept\u001b[0m \u001b[0mKeyError\u001b[0m \u001b[0;32mas\u001b[0m \u001b[0merr\u001b[0m\u001b[0;34m:\u001b[0m\u001b[0;34m\u001b[0m\u001b[0;34m\u001b[0m\u001b[0m\n",
            "\u001b[0;32mpandas/_libs/index.pyx\u001b[0m in \u001b[0;36mpandas._libs.index.IndexEngine.get_loc\u001b[0;34m()\u001b[0m\n",
            "\u001b[0;32mpandas/_libs/index.pyx\u001b[0m in \u001b[0;36mpandas._libs.index.IndexEngine.get_loc\u001b[0;34m()\u001b[0m\n",
            "\u001b[0;32mpandas/_libs/hashtable_class_helper.pxi\u001b[0m in \u001b[0;36mpandas._libs.hashtable.PyObjectHashTable.get_item\u001b[0;34m()\u001b[0m\n",
            "\u001b[0;32mpandas/_libs/hashtable_class_helper.pxi\u001b[0m in \u001b[0;36mpandas._libs.hashtable.PyObjectHashTable.get_item\u001b[0;34m()\u001b[0m\n",
            "\u001b[0;31mKeyError\u001b[0m: 'Has_been_employed_for_at_least'",
            "\nThe above exception was the direct cause of the following exception:\n",
            "\u001b[0;31mKeyError\u001b[0m                                  Traceback (most recent call last)",
            "\u001b[0;32m<ipython-input-169-746ca2e39c5b>\u001b[0m in \u001b[0;36m<module>\u001b[0;34m()\u001b[0m\n\u001b[0;32m----> 1\u001b[0;31m \u001b[0memployed_at_least\u001b[0m \u001b[0;34m=\u001b[0m \u001b[0mcombined_df\u001b[0m\u001b[0;34m[\u001b[0m\u001b[0;34m'Has_been_employed_for_at_least'\u001b[0m\u001b[0;34m]\u001b[0m\u001b[0;34m.\u001b[0m\u001b[0mstr\u001b[0m\u001b[0;34m.\u001b[0m\u001b[0mextract\u001b[0m\u001b[0;34m(\u001b[0m\u001b[0;34m'(\\d+)'\u001b[0m\u001b[0;34m)\u001b[0m\u001b[0;34m\u001b[0m\u001b[0;34m\u001b[0m\u001b[0m\n\u001b[0m\u001b[1;32m      2\u001b[0m \u001b[0memployed_at_most\u001b[0m \u001b[0;34m=\u001b[0m \u001b[0mcombined_df\u001b[0m\u001b[0;34m[\u001b[0m\u001b[0;34m'Has_been_employed_for_at_most'\u001b[0m\u001b[0;34m]\u001b[0m\u001b[0;34m.\u001b[0m\u001b[0mstr\u001b[0m\u001b[0;34m.\u001b[0m\u001b[0mextract\u001b[0m\u001b[0;34m(\u001b[0m\u001b[0;34m'(\\d+)'\u001b[0m\u001b[0;34m)\u001b[0m\u001b[0;34m\u001b[0m\u001b[0;34m\u001b[0m\u001b[0m\n\u001b[1;32m      3\u001b[0m \u001b[0memployed_at_least\u001b[0m\u001b[0;34m.\u001b[0m\u001b[0mfillna\u001b[0m\u001b[0;34m(\u001b[0m\u001b[0mvalue\u001b[0m \u001b[0;34m=\u001b[0m \u001b[0;36m0\u001b[0m\u001b[0;34m,\u001b[0m \u001b[0minplace\u001b[0m \u001b[0;34m=\u001b[0m \u001b[0;32mTrue\u001b[0m\u001b[0;34m)\u001b[0m\u001b[0;34m\u001b[0m\u001b[0;34m\u001b[0m\u001b[0m\n\u001b[1;32m      4\u001b[0m \u001b[0memployed_at_most\u001b[0m\u001b[0;34m.\u001b[0m\u001b[0mfillna\u001b[0m\u001b[0;34m(\u001b[0m\u001b[0mvalue\u001b[0m \u001b[0;34m=\u001b[0m \u001b[0;36m0\u001b[0m\u001b[0;34m,\u001b[0m \u001b[0minplace\u001b[0m \u001b[0;34m=\u001b[0m \u001b[0;32mTrue\u001b[0m\u001b[0;34m)\u001b[0m\u001b[0;34m\u001b[0m\u001b[0;34m\u001b[0m\u001b[0m\n\u001b[1;32m      5\u001b[0m \u001b[0memployed_at_least\u001b[0m \u001b[0;34m=\u001b[0m \u001b[0mpd\u001b[0m\u001b[0;34m.\u001b[0m\u001b[0mto_numeric\u001b[0m\u001b[0;34m(\u001b[0m\u001b[0memployed_at_least\u001b[0m\u001b[0;34m.\u001b[0m\u001b[0miloc\u001b[0m\u001b[0;34m[\u001b[0m\u001b[0;34m:\u001b[0m\u001b[0;34m,\u001b[0m\u001b[0;36m0\u001b[0m\u001b[0;34m]\u001b[0m\u001b[0;34m)\u001b[0m\u001b[0;34m\u001b[0m\u001b[0;34m\u001b[0m\u001b[0m\n",
            "\u001b[0;32m/usr/local/lib/python3.6/dist-packages/pandas/core/frame.py\u001b[0m in \u001b[0;36m__getitem__\u001b[0;34m(self, key)\u001b[0m\n\u001b[1;32m   2900\u001b[0m             \u001b[0;32mif\u001b[0m \u001b[0mself\u001b[0m\u001b[0;34m.\u001b[0m\u001b[0mcolumns\u001b[0m\u001b[0;34m.\u001b[0m\u001b[0mnlevels\u001b[0m \u001b[0;34m>\u001b[0m \u001b[0;36m1\u001b[0m\u001b[0;34m:\u001b[0m\u001b[0;34m\u001b[0m\u001b[0;34m\u001b[0m\u001b[0m\n\u001b[1;32m   2901\u001b[0m                 \u001b[0;32mreturn\u001b[0m \u001b[0mself\u001b[0m\u001b[0;34m.\u001b[0m\u001b[0m_getitem_multilevel\u001b[0m\u001b[0;34m(\u001b[0m\u001b[0mkey\u001b[0m\u001b[0;34m)\u001b[0m\u001b[0;34m\u001b[0m\u001b[0;34m\u001b[0m\u001b[0m\n\u001b[0;32m-> 2902\u001b[0;31m             \u001b[0mindexer\u001b[0m \u001b[0;34m=\u001b[0m \u001b[0mself\u001b[0m\u001b[0;34m.\u001b[0m\u001b[0mcolumns\u001b[0m\u001b[0;34m.\u001b[0m\u001b[0mget_loc\u001b[0m\u001b[0;34m(\u001b[0m\u001b[0mkey\u001b[0m\u001b[0;34m)\u001b[0m\u001b[0;34m\u001b[0m\u001b[0;34m\u001b[0m\u001b[0m\n\u001b[0m\u001b[1;32m   2903\u001b[0m             \u001b[0;32mif\u001b[0m \u001b[0mis_integer\u001b[0m\u001b[0;34m(\u001b[0m\u001b[0mindexer\u001b[0m\u001b[0;34m)\u001b[0m\u001b[0;34m:\u001b[0m\u001b[0;34m\u001b[0m\u001b[0;34m\u001b[0m\u001b[0m\n\u001b[1;32m   2904\u001b[0m                 \u001b[0mindexer\u001b[0m \u001b[0;34m=\u001b[0m \u001b[0;34m[\u001b[0m\u001b[0mindexer\u001b[0m\u001b[0;34m]\u001b[0m\u001b[0;34m\u001b[0m\u001b[0;34m\u001b[0m\u001b[0m\n",
            "\u001b[0;32m/usr/local/lib/python3.6/dist-packages/pandas/core/indexes/base.py\u001b[0m in \u001b[0;36mget_loc\u001b[0;34m(self, key, method, tolerance)\u001b[0m\n\u001b[1;32m   2891\u001b[0m                 \u001b[0;32mreturn\u001b[0m \u001b[0mself\u001b[0m\u001b[0;34m.\u001b[0m\u001b[0m_engine\u001b[0m\u001b[0;34m.\u001b[0m\u001b[0mget_loc\u001b[0m\u001b[0;34m(\u001b[0m\u001b[0mcasted_key\u001b[0m\u001b[0;34m)\u001b[0m\u001b[0;34m\u001b[0m\u001b[0;34m\u001b[0m\u001b[0m\n\u001b[1;32m   2892\u001b[0m             \u001b[0;32mexcept\u001b[0m \u001b[0mKeyError\u001b[0m \u001b[0;32mas\u001b[0m \u001b[0merr\u001b[0m\u001b[0;34m:\u001b[0m\u001b[0;34m\u001b[0m\u001b[0;34m\u001b[0m\u001b[0m\n\u001b[0;32m-> 2893\u001b[0;31m                 \u001b[0;32mraise\u001b[0m \u001b[0mKeyError\u001b[0m\u001b[0;34m(\u001b[0m\u001b[0mkey\u001b[0m\u001b[0;34m)\u001b[0m \u001b[0;32mfrom\u001b[0m \u001b[0merr\u001b[0m\u001b[0;34m\u001b[0m\u001b[0;34m\u001b[0m\u001b[0m\n\u001b[0m\u001b[1;32m   2894\u001b[0m \u001b[0;34m\u001b[0m\u001b[0m\n\u001b[1;32m   2895\u001b[0m         \u001b[0;32mif\u001b[0m \u001b[0mtolerance\u001b[0m \u001b[0;32mis\u001b[0m \u001b[0;32mnot\u001b[0m \u001b[0;32mNone\u001b[0m\u001b[0;34m:\u001b[0m\u001b[0;34m\u001b[0m\u001b[0;34m\u001b[0m\u001b[0m\n",
            "\u001b[0;31mKeyError\u001b[0m: 'Has_been_employed_for_at_least'"
          ]
        }
      ]
    },
    {
      "cell_type": "markdown",
      "metadata": {
        "id": "VuLKgCWjW124"
      },
      "source": [
        "* Dropping of 'Other_EMI_plans', 'Telephone', 'Balance_in_existing_bank_account_(lower_limit_of_bucket)' and 'Balance_in_existing_bank_account_(upper_limit_of_bucket)'"
      ]
    },
    {
      "cell_type": "code",
      "metadata": {
        "id": "Wf9Ljenjum2p"
      },
      "source": [
        "combined_df = combined_df.drop(labels = ['Other_EMI_plans', \n",
        "                                         'Telephone',\n",
        "                                         'Balance_in_existing_bank_account_(lower_limit_of_bucket)',\n",
        "                                         'Balance_in_existing_bank_account_(upper_limit_of_bucket)',\n",
        "                                         'Has_been_employed_for_at_least',\n",
        "                                         'Has_been_employed_for_at_most',\n",
        "                                         'loan_application_id'],\n",
        "                                       axis = 1)\n",
        "combined_df.head()"
      ],
      "execution_count": null,
      "outputs": []
    },
    {
      "cell_type": "code",
      "metadata": {
        "id": "S4xobQx_yXqU"
      },
      "source": [
        "# missing_null_df = combined_df[missing_null_columns]\n",
        "# print()\n",
        "# missing_null_df.head()"
      ],
      "execution_count": null,
      "outputs": []
    },
    {
      "cell_type": "code",
      "metadata": {
        "id": "_1gcpYsu0db5"
      },
      "source": [
        "# bank_balance = combined_df.dropna(subset = ['Balance_in_existing_bank_account_(lower_limit_of_bucket)',\n",
        "#                                  'Balance_in_existing_bank_account_(upper_limit_of_bucket)'],\n",
        "#                        how = 'all')\n",
        "\n",
        "# (bank_balance.groupby(['high_risk_applicant','Balance_in_existing_bank_account_(upper_limit_of_bucket)']).agg(count_hig_risk_applicants = ('high_risk_applicant', len)))"
      ],
      "execution_count": null,
      "outputs": []
    },
    {
      "cell_type": "code",
      "metadata": {
        "id": "zfGcAFxN_ONA"
      },
      "source": [
        "# bank_balance = combined_df.dropna(subset = ['Telephone'],\n",
        "#                        how = 'all')\n",
        "\n",
        "# (bank_balance.groupby(['high_risk_applicant','Telephone']).agg(count_hig_risk_applicants = ('high_risk_applicant', len)))"
      ],
      "execution_count": null,
      "outputs": []
    },
    {
      "cell_type": "code",
      "metadata": {
        "id": "OojQt_rW6dP2"
      },
      "source": [
        "# bank_balance = combined_df.dropna(subset = ['Other_EMI_plans'],\n",
        "#                        how = 'all')\n",
        "\n",
        "# (bank_balance.groupby(['high_risk_applicant','Other_EMI_plans']).agg(count_hig_risk_applicants = ('high_risk_applicant', len)))"
      ],
      "execution_count": null,
      "outputs": []
    },
    {
      "cell_type": "code",
      "metadata": {
        "id": "cuQe76lu1mPQ"
      },
      "source": [
        "# missing_null_df['Savings_account_balance'].unique()"
      ],
      "execution_count": null,
      "outputs": []
    },
    {
      "cell_type": "code",
      "metadata": {
        "id": "V2BdQC6wASo0"
      },
      "source": [
        "# (combined_df.dropna(subset = ['Balance_in_existing_bank_account_(lower_limit_of_bucket)',\n",
        "#                                  'Balance_in_existing_bank_account_(upper_limit_of_bucket)'],\n",
        "#                        how = 'all'))['high_risk_applicant'].sum()"
      ],
      "execution_count": null,
      "outputs": []
    },
    {
      "cell_type": "code",
      "metadata": {
        "id": "jXW_gVYZZVny"
      },
      "source": [
        "missing_value_count = combined_df.isna().sum()\n",
        "column_names = list(combined_df.columns)\n",
        "missing_null_columns = []\n",
        "[(missing_null_columns.append(column_names[index]),column_names[index], value) for index, value in enumerate(missing_value_count) if value>0]"
      ],
      "execution_count": null,
      "outputs": []
    },
    {
      "cell_type": "code",
      "metadata": {
        "id": "U__Jnmurwk-g"
      },
      "source": [
        "listed_columns_mode_fill = list(combined_df.columns)\n",
        "for i in range(len(listed_columns_mode_fill)):\n",
        "    a = len(combined_df[listed_columns_mode_fill[i]].unique())\n",
        "#     print(\"column: \", i, \" number of unique elements are: \", a )\n",
        "    if a <= 10:\n",
        "        combined_df[listed_columns_mode_fill[i]].fillna(combined_df[listed_columns_mode_fill[i]].mode()[0], inplace=True)\n",
        "combined_df"
      ],
      "execution_count": null,
      "outputs": []
    },
    {
      "cell_type": "code",
      "metadata": {
        "id": "nvhWfyWUaFrO"
      },
      "source": [
        "combined_df.info()"
      ],
      "execution_count": null,
      "outputs": []
    },
    {
      "cell_type": "markdown",
      "metadata": {
        "id": "4iIyPjZgb5q3"
      },
      "source": [
        "### V - Handling categorical columns"
      ]
    },
    {
      "cell_type": "code",
      "metadata": {
        "id": "vbT82uXdb8vQ",
        "outputId": "7068f57a-dc3e-4304-f017-014bafc60e3b",
        "colab": {
          "base_uri": "https://localhost:8080/",
          "height": 189
        }
      },
      "source": [
        "object_column_names = (combined_df.loc[:, combined_df.dtypes == np.object]).columns\n",
        "combined_df[object_column_names].head()"
      ],
      "execution_count": 170,
      "outputs": [
        {
          "output_type": "execute_result",
          "data": {
            "text/html": [
              "<div>\n",
              "<style scoped>\n",
              "    .dataframe tbody tr th:only-of-type {\n",
              "        vertical-align: middle;\n",
              "    }\n",
              "\n",
              "    .dataframe tbody tr th {\n",
              "        vertical-align: top;\n",
              "    }\n",
              "\n",
              "    .dataframe thead th {\n",
              "        text-align: right;\n",
              "    }\n",
              "</style>\n",
              "<table border=\"1\" class=\"dataframe\">\n",
              "  <thead>\n",
              "    <tr style=\"text-align: right;\">\n",
              "      <th></th>\n",
              "    </tr>\n",
              "  </thead>\n",
              "  <tbody>\n",
              "    <tr>\n",
              "      <th>0</th>\n",
              "    </tr>\n",
              "    <tr>\n",
              "      <th>1</th>\n",
              "    </tr>\n",
              "    <tr>\n",
              "      <th>2</th>\n",
              "    </tr>\n",
              "    <tr>\n",
              "      <th>3</th>\n",
              "    </tr>\n",
              "    <tr>\n",
              "      <th>4</th>\n",
              "    </tr>\n",
              "  </tbody>\n",
              "</table>\n",
              "</div>"
            ],
            "text/plain": [
              "Empty DataFrame\n",
              "Columns: []\n",
              "Index: [0, 1, 2, 3, 4]"
            ]
          },
          "metadata": {
            "tags": []
          },
          "execution_count": 170
        }
      ]
    },
    {
      "cell_type": "code",
      "metadata": {
        "id": "jWILarI2uFVD",
        "outputId": "1d8feb60-13c9-46eb-849b-5195ebc865be",
        "colab": {
          "base_uri": "https://localhost:8080/",
          "height": 326
        }
      },
      "source": [
        "print('Gender: ', combined_df['Gender'].unique())\n",
        "print('Marital_status: ', combined_df['Marital_status'].unique())\n",
        "print('Housing: ', combined_df['Housing'].unique())\n",
        "print('Employment_status: ', combined_df['Employment_status'].unique())\n",
        "print('Savings_account_balance: ', combined_df['Savings_account_balance'].unique())\n",
        "print('Purpose: ', combined_df['Purpose'].unique())\n",
        "print('Property: ', combined_df['Property'].unique())\n",
        "print('Loan_history: ', combined_df['Loan_history'].unique())"
      ],
      "execution_count": null,
      "outputs": [
        {
          "output_type": "stream",
          "text": [
            "Gender:  ['male' 'female']\n",
            "Marital_status:  ['single' 'divorced/separated/married' 'divorced/separated'\n",
            " 'married/widowed']\n",
            "Housing:  ['own' 'for free' 'rent']\n",
            "Employment_status:  ['skilled employee / official' 'unskilled - resident'\n",
            " 'management / self-employed / highly qualified employee / officer'\n",
            " 'unemployed / unskilled - non-resident']\n",
            "Savings_account_balance:  ['Low' 'High' 'Very high' 'Medium']\n",
            "Purpose:  ['electronic equipment' 'education' 'FF&E' 'new vehicle' 'used vehicle'\n",
            " 'business' 'domestic appliances' 'repair costs' 'career development']\n",
            "Property:  ['real estate' 'building society savings agreement/life insurance'\n",
            " 'car or other']\n",
            "Loan_history:  ['critical/pending loans at other banks'\n",
            " 'existing loans paid back duly till now'\n",
            " 'delay in paying off loans in the past'\n",
            " 'no loans taken/all loans paid back duly'\n",
            " 'all loans at this bank paid back duly']\n"
          ],
          "name": "stdout"
        }
      ]
    },
    {
      "cell_type": "code",
      "metadata": {
        "id": "lH4Rfbr6thQ-",
        "outputId": "5eda1470-0456-4f84-bc49-fb5b6a4bd48d",
        "colab": {
          "base_uri": "https://localhost:8080/",
          "height": 162
        }
      },
      "source": [
        "print('Gender: ', combined_df['Gender'].unique())\n",
        "print('Marital_status: ', combined_df['Marital_status'].unique())\n",
        "print('Housing: ', combined_df['Housing'].unique())\n",
        "print('Employment_status: ', combined_df['Employment_status'].unique())\n",
        "print('Savings_account_balance: ', combined_df['Savings_account_balance'].unique())\n",
        "print('Purpose: ', combined_df['Purpose'].unique())\n",
        "print('Property: ', combined_df['Property'].unique())\n",
        "print('Loan_history: ', combined_df['Loan_history'].unique())"
      ],
      "execution_count": null,
      "outputs": [
        {
          "output_type": "stream",
          "text": [
            "Gender:  [1 0]\n",
            "Marital_status:  [3 1 0 2]\n",
            "Housing:  [1 0 2]\n",
            "Employment_status:  [1 3 0 2]\n",
            "Savings_account_balance:  [1 0 3 2]\n",
            "Purpose:  [5 4 0 6 8 1 3 7 2]\n",
            "Property:  [2 0 1]\n",
            "Loan_history:  [1 3 2 4 0]\n"
          ],
          "name": "stdout"
        }
      ]
    },
    {
      "cell_type": "code",
      "metadata": {
        "id": "HOr8gPggwt2Z",
        "outputId": "f1b09cfd-22f8-423d-e728-1c2627bae999",
        "colab": {
          "base_uri": "https://localhost:8080/",
          "height": 162
        }
      },
      "source": [
        "print('Gender: ', combined_df['Gender'].unique())\n",
        "print('Marital_status: ', combined_df['Marital_status'].unique())\n",
        "print('Housing: ', combined_df['Housing'].unique())\n",
        "print('Employment_status: ', combined_df['Employment_status'].unique())\n",
        "print('Savings_account_balance: ', combined_df['Savings_account_balance'].unique())\n",
        "print('Purpose: ', combined_df['Purpose'].unique())\n",
        "print('Property: ', combined_df['Property'].unique())\n",
        "print('Loan_history: ', combined_df['Loan_history'].unique())"
      ],
      "execution_count": null,
      "outputs": [
        {
          "output_type": "stream",
          "text": [
            "Gender:  [1 0]\n",
            "Marital_status:  [3 1 0 2]\n",
            "Housing:  [1 0 2]\n",
            "Employment_status:  [1 3 0 2]\n",
            "Savings_account_balance:  [1 0 3 2]\n",
            "Purpose:  [5 4 0 6 8 1 3 7 2]\n",
            "Property:  [2 0 1]\n",
            "Loan_history:  [1 3 2 4 0]\n"
          ],
          "name": "stdout"
        }
      ]
    },
    {
      "cell_type": "code",
      "metadata": {
        "id": "pn31Fjxwceuf",
        "outputId": "1649e527-9bc4-4bd5-c41c-ffa1990bbd92",
        "colab": {
          "base_uri": "https://localhost:8080/",
          "height": 526
        }
      },
      "source": [
        "for i in object_column_names:\n",
        "  labelencoder = LabelEncoder()\n",
        "  combined_df[i] = labelencoder.fit_transform(combined_df[i])\n",
        "combined_df.info()"
      ],
      "execution_count": 171,
      "outputs": [
        {
          "output_type": "stream",
          "text": [
            "<class 'pandas.core.frame.DataFrame'>\n",
            "Int64Index: 1000 entries, 0 to 999\n",
            "Data columns (total 21 columns):\n",
            " #   Column                                       Non-Null Count  Dtype  \n",
            "---  ------                                       --------------  -----  \n",
            " 0   applicant_id                                 1000 non-null   int64  \n",
            " 1   Primary_applicant_age_in_years               1000 non-null   int64  \n",
            " 2   Gender                                       1000 non-null   int64  \n",
            " 3   Marital_status                               1000 non-null   int64  \n",
            " 4   Number_of_dependents                         1000 non-null   int64  \n",
            " 5   Housing                                      1000 non-null   int64  \n",
            " 6   Years_at_current_residence                   1000 non-null   int64  \n",
            " 7   Employment_status                            1000 non-null   int64  \n",
            " 8   Foreign_worker                               1000 non-null   int64  \n",
            " 9   Savings_account_balance                      1000 non-null   int64  \n",
            " 10  Months_loan_taken_for                        1000 non-null   int64  \n",
            " 11  Purpose                                      1000 non-null   int64  \n",
            " 12  Principal_loan_amount                        1000 non-null   int64  \n",
            " 13  EMI_rate_in_percentage_of_disposable_income  1000 non-null   int64  \n",
            " 14  Property                                     1000 non-null   int64  \n",
            " 15  Has_coapplicant                              1000 non-null   int64  \n",
            " 16  Has_guarantor                                1000 non-null   int64  \n",
            " 17  Number_of_existing_loans_at_this_bank        1000 non-null   int64  \n",
            " 18  Loan_history                                 1000 non-null   int64  \n",
            " 19  Average_employment_years                     1000 non-null   float64\n",
            " 20  high_risk_applicant                          1000 non-null   int64  \n",
            "dtypes: float64(1), int64(20)\n",
            "memory usage: 211.9 KB\n"
          ],
          "name": "stdout"
        }
      ]
    },
    {
      "cell_type": "code",
      "metadata": {
        "id": "LIRYu8wgduEP",
        "outputId": "8db69999-3d72-4dae-868a-119929afb8ea",
        "colab": {
          "base_uri": "https://localhost:8080/",
          "height": 226
        }
      },
      "source": [
        "combined_df.head()"
      ],
      "execution_count": 172,
      "outputs": [
        {
          "output_type": "execute_result",
          "data": {
            "text/html": [
              "<div>\n",
              "<style scoped>\n",
              "    .dataframe tbody tr th:only-of-type {\n",
              "        vertical-align: middle;\n",
              "    }\n",
              "\n",
              "    .dataframe tbody tr th {\n",
              "        vertical-align: top;\n",
              "    }\n",
              "\n",
              "    .dataframe thead th {\n",
              "        text-align: right;\n",
              "    }\n",
              "</style>\n",
              "<table border=\"1\" class=\"dataframe\">\n",
              "  <thead>\n",
              "    <tr style=\"text-align: right;\">\n",
              "      <th></th>\n",
              "      <th>applicant_id</th>\n",
              "      <th>Primary_applicant_age_in_years</th>\n",
              "      <th>Gender</th>\n",
              "      <th>Marital_status</th>\n",
              "      <th>Number_of_dependents</th>\n",
              "      <th>Housing</th>\n",
              "      <th>Years_at_current_residence</th>\n",
              "      <th>Employment_status</th>\n",
              "      <th>Foreign_worker</th>\n",
              "      <th>Savings_account_balance</th>\n",
              "      <th>Months_loan_taken_for</th>\n",
              "      <th>Purpose</th>\n",
              "      <th>Principal_loan_amount</th>\n",
              "      <th>EMI_rate_in_percentage_of_disposable_income</th>\n",
              "      <th>Property</th>\n",
              "      <th>Has_coapplicant</th>\n",
              "      <th>Has_guarantor</th>\n",
              "      <th>Number_of_existing_loans_at_this_bank</th>\n",
              "      <th>Loan_history</th>\n",
              "      <th>Average_employment_years</th>\n",
              "      <th>high_risk_applicant</th>\n",
              "    </tr>\n",
              "  </thead>\n",
              "  <tbody>\n",
              "    <tr>\n",
              "      <th>0</th>\n",
              "      <td>1469590</td>\n",
              "      <td>67</td>\n",
              "      <td>1</td>\n",
              "      <td>3</td>\n",
              "      <td>1</td>\n",
              "      <td>1</td>\n",
              "      <td>4</td>\n",
              "      <td>1</td>\n",
              "      <td>1</td>\n",
              "      <td>1</td>\n",
              "      <td>6</td>\n",
              "      <td>5</td>\n",
              "      <td>1169000</td>\n",
              "      <td>4</td>\n",
              "      <td>2</td>\n",
              "      <td>0</td>\n",
              "      <td>0</td>\n",
              "      <td>2</td>\n",
              "      <td>1</td>\n",
              "      <td>3.5</td>\n",
              "      <td>0</td>\n",
              "    </tr>\n",
              "    <tr>\n",
              "      <th>1</th>\n",
              "      <td>1203873</td>\n",
              "      <td>22</td>\n",
              "      <td>0</td>\n",
              "      <td>1</td>\n",
              "      <td>1</td>\n",
              "      <td>1</td>\n",
              "      <td>2</td>\n",
              "      <td>1</td>\n",
              "      <td>1</td>\n",
              "      <td>1</td>\n",
              "      <td>48</td>\n",
              "      <td>5</td>\n",
              "      <td>5951000</td>\n",
              "      <td>2</td>\n",
              "      <td>2</td>\n",
              "      <td>0</td>\n",
              "      <td>0</td>\n",
              "      <td>1</td>\n",
              "      <td>3</td>\n",
              "      <td>2.5</td>\n",
              "      <td>1</td>\n",
              "    </tr>\n",
              "    <tr>\n",
              "      <th>2</th>\n",
              "      <td>1432761</td>\n",
              "      <td>49</td>\n",
              "      <td>1</td>\n",
              "      <td>3</td>\n",
              "      <td>2</td>\n",
              "      <td>1</td>\n",
              "      <td>3</td>\n",
              "      <td>3</td>\n",
              "      <td>1</td>\n",
              "      <td>1</td>\n",
              "      <td>12</td>\n",
              "      <td>4</td>\n",
              "      <td>2096000</td>\n",
              "      <td>2</td>\n",
              "      <td>2</td>\n",
              "      <td>0</td>\n",
              "      <td>0</td>\n",
              "      <td>1</td>\n",
              "      <td>1</td>\n",
              "      <td>5.5</td>\n",
              "      <td>0</td>\n",
              "    </tr>\n",
              "    <tr>\n",
              "      <th>3</th>\n",
              "      <td>1207582</td>\n",
              "      <td>45</td>\n",
              "      <td>1</td>\n",
              "      <td>3</td>\n",
              "      <td>2</td>\n",
              "      <td>0</td>\n",
              "      <td>4</td>\n",
              "      <td>1</td>\n",
              "      <td>1</td>\n",
              "      <td>1</td>\n",
              "      <td>42</td>\n",
              "      <td>0</td>\n",
              "      <td>7882000</td>\n",
              "      <td>2</td>\n",
              "      <td>0</td>\n",
              "      <td>0</td>\n",
              "      <td>1</td>\n",
              "      <td>1</td>\n",
              "      <td>3</td>\n",
              "      <td>5.5</td>\n",
              "      <td>0</td>\n",
              "    </tr>\n",
              "    <tr>\n",
              "      <th>4</th>\n",
              "      <td>1674436</td>\n",
              "      <td>53</td>\n",
              "      <td>1</td>\n",
              "      <td>3</td>\n",
              "      <td>2</td>\n",
              "      <td>0</td>\n",
              "      <td>4</td>\n",
              "      <td>1</td>\n",
              "      <td>1</td>\n",
              "      <td>1</td>\n",
              "      <td>24</td>\n",
              "      <td>6</td>\n",
              "      <td>4870000</td>\n",
              "      <td>3</td>\n",
              "      <td>1</td>\n",
              "      <td>0</td>\n",
              "      <td>0</td>\n",
              "      <td>2</td>\n",
              "      <td>2</td>\n",
              "      <td>2.5</td>\n",
              "      <td>1</td>\n",
              "    </tr>\n",
              "  </tbody>\n",
              "</table>\n",
              "</div>"
            ],
            "text/plain": [
              "   applicant_id  ...  high_risk_applicant\n",
              "0       1469590  ...                    0\n",
              "1       1203873  ...                    1\n",
              "2       1432761  ...                    0\n",
              "3       1207582  ...                    0\n",
              "4       1674436  ...                    1\n",
              "\n",
              "[5 rows x 21 columns]"
            ]
          },
          "metadata": {
            "tags": []
          },
          "execution_count": 172
        }
      ]
    },
    {
      "cell_type": "markdown",
      "metadata": {
        "id": "tZkywycFdcVb"
      },
      "source": [
        "### VI - Handling imbalanced classification labels"
      ]
    },
    {
      "cell_type": "code",
      "metadata": {
        "id": "dYDSQsJAITc1",
        "outputId": "59ae85b6-5f1f-4817-b964-0bf2befba1de",
        "colab": {
          "base_uri": "https://localhost:8080/",
          "height": 90
        }
      },
      "source": [
        "(combined_df.groupby('high_risk_applicant').size())"
      ],
      "execution_count": 173,
      "outputs": [
        {
          "output_type": "execute_result",
          "data": {
            "text/plain": [
              "high_risk_applicant\n",
              "0    700\n",
              "1    300\n",
              "dtype: int64"
            ]
          },
          "metadata": {
            "tags": []
          },
          "execution_count": 173
        }
      ]
    },
    {
      "cell_type": "code",
      "metadata": {
        "id": "pA1P9SvSH8Rq",
        "outputId": "201bce15-11a5-4dba-b296-d7ccfa69b40c",
        "colab": {
          "base_uri": "https://localhost:8080/",
          "height": 296
        }
      },
      "source": [
        "import seaborn as sns\n",
        "sns.countplot(combined_df['high_risk_applicant'],label=\"Count\")\n",
        "plt.title('Classification of High Risk and Low Risk applicants')\n",
        "plt.show()"
      ],
      "execution_count": 174,
      "outputs": [
        {
          "output_type": "display_data",
          "data": {
            "image/png": "[encoded data removed]",
            "text/plain": [
              "<Figure size 432x288 with 1 Axes>"
            ]
          },
          "metadata": {
            "tags": [],
            "needs_background": "light"
          }
        }
      ]
    },
    {
      "cell_type": "code",
      "metadata": {
        "id": "j9Tk40VfjpkX"
      },
      "source": [
        "# a = list(applicant_df['Housing'].unique())\n",
        "# b = list(applicant_df['Housing'].value_counts())\n",
        "# [(a[c],b[c]) for c in range(len(a))]"
      ],
      "execution_count": 175,
      "outputs": []
    },
    {
      "cell_type": "markdown",
      "metadata": {
        "id": "xp_fVOVzbZ14"
      },
      "source": [
        "* Swapping the columns, such that the last column is the dependent variable"
      ]
    },
    {
      "cell_type": "code",
      "metadata": {
        "id": "DBYoxvOWhmgY",
        "outputId": "235d85de-af48-4830-9974-483a27629955",
        "colab": {
          "base_uri": "https://localhost:8080/",
          "height": 226
        }
      },
      "source": [
        "cols = list(combined_df.columns)\n",
        "a, b = cols.index('high_risk_applicant'), cols.index('Average_employment_years')\n",
        "cols[b], cols[a] = cols[a], cols[b]\n",
        "combined_df = combined_df[cols]\n",
        "combined_df.head()\n"
      ],
      "execution_count": 184,
      "outputs": [
        {
          "output_type": "execute_result",
          "data": {
            "text/html": [
              "<div>\n",
              "<style scoped>\n",
              "    .dataframe tbody tr th:only-of-type {\n",
              "        vertical-align: middle;\n",
              "    }\n",
              "\n",
              "    .dataframe tbody tr th {\n",
              "        vertical-align: top;\n",
              "    }\n",
              "\n",
              "    .dataframe thead th {\n",
              "        text-align: right;\n",
              "    }\n",
              "</style>\n",
              "<table border=\"1\" class=\"dataframe\">\n",
              "  <thead>\n",
              "    <tr style=\"text-align: right;\">\n",
              "      <th></th>\n",
              "      <th>applicant_id</th>\n",
              "      <th>Primary_applicant_age_in_years</th>\n",
              "      <th>Gender</th>\n",
              "      <th>Marital_status</th>\n",
              "      <th>Number_of_dependents</th>\n",
              "      <th>Housing</th>\n",
              "      <th>Years_at_current_residence</th>\n",
              "      <th>Employment_status</th>\n",
              "      <th>Foreign_worker</th>\n",
              "      <th>Savings_account_balance</th>\n",
              "      <th>Months_loan_taken_for</th>\n",
              "      <th>Purpose</th>\n",
              "      <th>Principal_loan_amount</th>\n",
              "      <th>EMI_rate_in_percentage_of_disposable_income</th>\n",
              "      <th>Property</th>\n",
              "      <th>Has_coapplicant</th>\n",
              "      <th>Has_guarantor</th>\n",
              "      <th>Number_of_existing_loans_at_this_bank</th>\n",
              "      <th>Loan_history</th>\n",
              "      <th>Average_employment_years</th>\n",
              "      <th>high_risk_applicant</th>\n",
              "    </tr>\n",
              "  </thead>\n",
              "  <tbody>\n",
              "    <tr>\n",
              "      <th>0</th>\n",
              "      <td>1469590</td>\n",
              "      <td>67</td>\n",
              "      <td>1</td>\n",
              "      <td>3</td>\n",
              "      <td>1</td>\n",
              "      <td>1</td>\n",
              "      <td>4</td>\n",
              "      <td>1</td>\n",
              "      <td>1</td>\n",
              "      <td>1</td>\n",
              "      <td>6</td>\n",
              "      <td>5</td>\n",
              "      <td>1169000</td>\n",
              "      <td>4</td>\n",
              "      <td>2</td>\n",
              "      <td>0</td>\n",
              "      <td>0</td>\n",
              "      <td>2</td>\n",
              "      <td>1</td>\n",
              "      <td>3.5</td>\n",
              "      <td>0</td>\n",
              "    </tr>\n",
              "    <tr>\n",
              "      <th>1</th>\n",
              "      <td>1203873</td>\n",
              "      <td>22</td>\n",
              "      <td>0</td>\n",
              "      <td>1</td>\n",
              "      <td>1</td>\n",
              "      <td>1</td>\n",
              "      <td>2</td>\n",
              "      <td>1</td>\n",
              "      <td>1</td>\n",
              "      <td>1</td>\n",
              "      <td>48</td>\n",
              "      <td>5</td>\n",
              "      <td>5951000</td>\n",
              "      <td>2</td>\n",
              "      <td>2</td>\n",
              "      <td>0</td>\n",
              "      <td>0</td>\n",
              "      <td>1</td>\n",
              "      <td>3</td>\n",
              "      <td>2.5</td>\n",
              "      <td>1</td>\n",
              "    </tr>\n",
              "    <tr>\n",
              "      <th>2</th>\n",
              "      <td>1432761</td>\n",
              "      <td>49</td>\n",
              "      <td>1</td>\n",
              "      <td>3</td>\n",
              "      <td>2</td>\n",
              "      <td>1</td>\n",
              "      <td>3</td>\n",
              "      <td>3</td>\n",
              "      <td>1</td>\n",
              "      <td>1</td>\n",
              "      <td>12</td>\n",
              "      <td>4</td>\n",
              "      <td>2096000</td>\n",
              "      <td>2</td>\n",
              "      <td>2</td>\n",
              "      <td>0</td>\n",
              "      <td>0</td>\n",
              "      <td>1</td>\n",
              "      <td>1</td>\n",
              "      <td>5.5</td>\n",
              "      <td>0</td>\n",
              "    </tr>\n",
              "    <tr>\n",
              "      <th>3</th>\n",
              "      <td>1207582</td>\n",
              "      <td>45</td>\n",
              "      <td>1</td>\n",
              "      <td>3</td>\n",
              "      <td>2</td>\n",
              "      <td>0</td>\n",
              "      <td>4</td>\n",
              "      <td>1</td>\n",
              "      <td>1</td>\n",
              "      <td>1</td>\n",
              "      <td>42</td>\n",
              "      <td>0</td>\n",
              "      <td>7882000</td>\n",
              "      <td>2</td>\n",
              "      <td>0</td>\n",
              "      <td>0</td>\n",
              "      <td>1</td>\n",
              "      <td>1</td>\n",
              "      <td>3</td>\n",
              "      <td>5.5</td>\n",
              "      <td>0</td>\n",
              "    </tr>\n",
              "    <tr>\n",
              "      <th>4</th>\n",
              "      <td>1674436</td>\n",
              "      <td>53</td>\n",
              "      <td>1</td>\n",
              "      <td>3</td>\n",
              "      <td>2</td>\n",
              "      <td>0</td>\n",
              "      <td>4</td>\n",
              "      <td>1</td>\n",
              "      <td>1</td>\n",
              "      <td>1</td>\n",
              "      <td>24</td>\n",
              "      <td>6</td>\n",
              "      <td>4870000</td>\n",
              "      <td>3</td>\n",
              "      <td>1</td>\n",
              "      <td>0</td>\n",
              "      <td>0</td>\n",
              "      <td>2</td>\n",
              "      <td>2</td>\n",
              "      <td>2.5</td>\n",
              "      <td>1</td>\n",
              "    </tr>\n",
              "  </tbody>\n",
              "</table>\n",
              "</div>"
            ],
            "text/plain": [
              "   applicant_id  ...  high_risk_applicant\n",
              "0       1469590  ...                    0\n",
              "1       1203873  ...                    1\n",
              "2       1432761  ...                    0\n",
              "3       1207582  ...                    0\n",
              "4       1674436  ...                    1\n",
              "\n",
              "[5 rows x 21 columns]"
            ]
          },
          "metadata": {
            "tags": []
          },
          "execution_count": 184
        }
      ]
    },
    {
      "cell_type": "code",
      "metadata": {
        "id": "R6NhTefkoRYC",
        "outputId": "8a0f4156-72a1-4556-f4d0-e926b7d6bf9e",
        "colab": {
          "base_uri": "https://localhost:8080/",
          "height": 53
        }
      },
      "source": [
        "# class count\n",
        "class_count_0, class_count_1 = combined_df['high_risk_applicant'].value_counts()\n",
        "\n",
        "# Separate class\n",
        "class_0 = combined_df[combined_df['high_risk_applicant'] == 0]\n",
        "class_1 = combined_df[combined_df['high_risk_applicant'] == 1]# print the shape of the class\n",
        "print('high_risk_applicant 0:', class_0.shape)\n",
        "print('high_risk_applicant 1:', class_1.shape)"
      ],
      "execution_count": 177,
      "outputs": [
        {
          "output_type": "stream",
          "text": [
            "high_risk_applicant 0: (700, 21)\n",
            "high_risk_applicant 1: (300, 21)\n"
          ],
          "name": "stdout"
        }
      ]
    },
    {
      "cell_type": "markdown",
      "metadata": {
        "id": "kBUnsP1ChbkU"
      },
      "source": [
        "#### Random Undersampling"
      ]
    },
    {
      "cell_type": "code",
      "metadata": {
        "id": "pNYqu6uIhDO5",
        "outputId": "8caf6fcc-d7e0-48c7-f64c-14cc4cd3be9a",
        "colab": {
          "base_uri": "https://localhost:8080/",
          "height": 351
        }
      },
      "source": [
        "class_0_under = class_0.sample(class_count_1)\n",
        "\n",
        "test_under = pd.concat([class_0_under, class_1], axis=0)\n",
        "print(\"total class of 1 and 0:\",test_under['high_risk_applicant'].value_counts())# plot the count after under-sampeling\n",
        "test_under['high_risk_applicant'].value_counts().plot(kind='bar', title='count (target)')"
      ],
      "execution_count": 178,
      "outputs": [
        {
          "output_type": "stream",
          "text": [
            "total class of 1 and 0: 1    300\n",
            "0    300\n",
            "Name: high_risk_applicant, dtype: int64\n"
          ],
          "name": "stdout"
        },
        {
          "output_type": "execute_result",
          "data": {
            "text/plain": [
              "<matplotlib.axes._subplots.AxesSubplot at 0x7f18fcf1be80>"
            ]
          },
          "metadata": {
            "tags": []
          },
          "execution_count": 178
        },
        {
          "output_type": "display_data",
          "data": {
            "image/png": "[encoded data removed]",
            "text/plain": [
              "<Figure size 432x288 with 1 Axes>"
            ]
          },
          "metadata": {
            "tags": [],
            "needs_background": "light"
          }
        }
      ]
    },
    {
      "cell_type": "markdown",
      "metadata": {
        "id": "JiB1aGhujLeq"
      },
      "source": [
        "#### Random oversampling"
      ]
    },
    {
      "cell_type": "code",
      "metadata": {
        "id": "3wGwVgxyhu2L",
        "outputId": "8a314819-e3f0-4482-dfe3-85d9c4088a28",
        "colab": {
          "base_uri": "https://localhost:8080/",
          "height": 351
        }
      },
      "source": [
        "class_1_over = class_1.sample(class_count_0, replace = True)\n",
        "\n",
        "test_over = pd.concat([class_1_over, class_0], axis=0)\n",
        "print(\"total class of 1 and 0:\",test_over['high_risk_applicant'].value_counts())\n",
        "test_over['high_risk_applicant'].value_counts().plot(kind='bar', title='count (target)')"
      ],
      "execution_count": 179,
      "outputs": [
        {
          "output_type": "stream",
          "text": [
            "total class of 1 and 0: 1    700\n",
            "0    700\n",
            "Name: high_risk_applicant, dtype: int64\n"
          ],
          "name": "stdout"
        },
        {
          "output_type": "execute_result",
          "data": {
            "text/plain": [
              "<matplotlib.axes._subplots.AxesSubplot at 0x7f18fd283dd8>"
            ]
          },
          "metadata": {
            "tags": []
          },
          "execution_count": 179
        },
        {
          "output_type": "display_data",
          "data": {
            "image/png": "[encoded data removed]",
            "text/plain": [
              "<Figure size 432x288 with 1 Axes>"
            ]
          },
          "metadata": {
            "tags": [],
            "needs_background": "light"
          }
        }
      ]
    },
    {
      "cell_type": "markdown",
      "metadata": {
        "id": "RtIiHrKhj0KX"
      },
      "source": [
        "#### Handling imbalance with imblearn library"
      ]
    },
    {
      "cell_type": "code",
      "metadata": {
        "id": "hQ9IgScSjoU5"
      },
      "source": [
        "import imblearn\n",
        "from imblearn.under_sampling import TomekLinks\n",
        "from imblearn.over_sampling import SMOTE\n",
        "from imblearn.under_sampling import NearMiss\n",
        "from collections import Counter "
      ],
      "execution_count": 180,
      "outputs": []
    },
    {
      "cell_type": "markdown",
      "metadata": {
        "id": "ykBr4NLie9Fo"
      },
      "source": [
        "Tomek links are pairs of very close instances of high risk and low risk applicant, this will try to remove all the instances which are close to each other, hence the remaining data will be further apart, and this will be helpful in the classification process."
      ]
    },
    {
      "cell_type": "code",
      "metadata": {
        "id": "MXg_-vQF2ICU",
        "outputId": "718daf9a-88ba-451f-ecc4-4cc10f5acca3",
        "colab": {
          "base_uri": "https://localhost:8080/",
          "height": 853
        }
      },
      "source": [
        "combined_array = combined_df.to_numpy(dtype = 'int32')\n",
        "X = combined_array[:,1:-1]\n",
        "y = combined_array[:,-1]"
      ],
      "execution_count": 185,
      "outputs": [
        {
          "output_type": "execute_result",
          "data": {
            "text/plain": [
              "array([0, 1, 0, 0, 1, 0, 0, 0, 0, 1, 1, 1, 0, 1, 0, 1, 0, 0, 1, 0, 0, 0,\n",
              "       0, 0, 0, 0, 0, 0, 0, 1, 0, 0, 0, 0, 0, 1, 0, 1, 0, 0, 0, 0, 0, 0,\n",
              "       1, 0, 0, 0, 0, 0, 0, 0, 0, 0, 1, 0, 1, 0, 0, 1, 0, 0, 1, 1, 0, 0,\n",
              "       0, 0, 1, 0, 0, 0, 0, 0, 1, 0, 1, 0, 0, 0, 1, 0, 0, 0, 0, 0, 0, 1,\n",
              "       0, 1, 0, 0, 1, 0, 0, 1, 0, 0, 0, 0, 0, 0, 0, 0, 0, 1, 1, 0, 0, 0,\n",
              "       0, 0, 0, 1, 0, 0, 1, 0, 1, 0, 1, 0, 0, 0, 1, 0, 0, 1, 0, 1, 0, 1,\n",
              "       0, 0, 0, 0, 0, 1, 0, 0, 0, 0, 0, 1, 0, 0, 0, 0, 0, 0, 0, 0, 0, 0,\n",
              "       0, 1, 0, 0, 0, 0, 0, 0, 0, 0, 0, 0, 1, 0, 0, 1, 1, 0, 1, 0, 1, 1,\n",
              "       0, 0, 0, 0, 1, 1, 1, 0, 1, 0, 1, 0, 1, 0, 1, 1, 1, 0, 1, 1, 0, 1,\n",
              "       0, 1, 0, 0, 0, 1, 0, 0, 0, 0, 0, 0, 0, 0, 1, 1, 0, 0, 0, 0, 0, 0,\n",
              "       0, 0, 0, 0, 0, 0, 1, 1, 1, 0, 1, 0, 0, 0, 0, 1, 1, 1, 0, 0, 1, 0,\n",
              "       1, 0, 0, 0, 0, 0, 0, 1, 0, 0, 1, 0, 0, 0, 0, 1, 0, 0, 0, 0, 0, 0,\n",
              "       0, 1, 0, 0, 1, 0, 0, 0, 0, 1, 1, 0, 0, 0, 1, 0, 0, 0, 0, 0, 0, 0,\n",
              "       0, 0, 0, 1, 0, 1, 0, 0, 0, 1, 0, 0, 0, 0, 0, 1, 1, 0, 1, 0, 0, 1,\n",
              "       1, 0, 0, 0, 0, 1, 0, 1, 0, 0, 0, 0, 1, 1, 0, 0, 0, 0, 0, 0, 0, 0,\n",
              "       0, 1, 1, 1, 1, 1, 0, 1, 0, 0, 0, 0, 0, 0, 0, 0, 0, 0, 0, 1, 0, 1,\n",
              "       0, 1, 0, 1, 0, 1, 0, 1, 0, 0, 0, 0, 1, 0, 0, 0, 1, 0, 0, 0, 0, 0,\n",
              "       1, 1, 0, 0, 1, 0, 0, 1, 0, 0, 0, 0, 0, 0, 0, 0, 0, 0, 0, 0, 0, 0,\n",
              "       0, 0, 1, 0, 0, 0, 1, 0, 0, 1, 0, 0, 0, 1, 0, 0, 1, 0, 1, 0, 1, 0,\n",
              "       0, 1, 0, 0, 0, 0, 1, 0, 0, 0, 0, 1, 0, 1, 0, 0, 0, 1, 0, 0, 0, 1,\n",
              "       0, 0, 0, 1, 1, 0, 1, 0, 0, 1, 0, 0, 0, 0, 1, 0, 0, 1, 0, 0, 0, 0,\n",
              "       0, 0, 0, 0, 1, 0, 0, 0, 1, 1, 1, 0, 1, 1, 0, 0, 0, 0, 0, 0, 0, 0,\n",
              "       0, 1, 0, 0, 0, 0, 0, 1, 0, 0, 0, 1, 1, 0, 0, 0, 1, 0, 0, 1, 1, 1,\n",
              "       0, 1, 0, 0, 1, 0, 0, 0, 0, 0, 0, 1, 0, 0, 0, 1, 1, 0, 0, 0, 0, 0,\n",
              "       1, 0, 0, 1, 0, 0, 0, 1, 0, 0, 1, 0, 1, 0, 1, 1, 0, 1, 0, 0, 1, 0,\n",
              "       0, 0, 1, 0, 0, 1, 1, 1, 1, 1, 0, 1, 0, 1, 0, 0, 1, 0, 0, 1, 1, 0,\n",
              "       0, 0, 0, 0, 0, 0, 1, 0, 1, 0, 0, 1, 0, 1, 0, 0, 1, 1, 0, 0, 0, 1,\n",
              "       1, 1, 1, 1, 1, 0, 0, 1, 1, 1, 0, 0, 0, 1, 0, 0, 1, 1, 0, 0, 1, 0,\n",
              "       0, 0, 1, 0, 0, 1, 1, 0, 1, 0, 0, 1, 0, 0, 0, 1, 0, 1, 1, 0, 0, 0,\n",
              "       0, 1, 1, 0, 1, 0, 0, 1, 0, 1, 1, 1, 0, 1, 1, 1, 0, 0, 1, 0, 0, 0,\n",
              "       0, 1, 0, 0, 0, 0, 0, 0, 1, 0, 0, 0, 0, 0, 1, 0, 0, 1, 0, 0, 0, 0,\n",
              "       0, 0, 0, 0, 0, 0, 0, 0, 0, 0, 0, 0, 0, 0, 0, 0, 0, 0, 1, 1, 0, 0,\n",
              "       0, 0, 1, 1, 0, 0, 0, 1, 0, 0, 1, 0, 0, 0, 0, 0, 1, 1, 1, 0, 1, 0,\n",
              "       0, 1, 1, 0, 0, 1, 0, 0, 0, 0, 1, 0, 0, 1, 0, 0, 0, 0, 0, 0, 0, 1,\n",
              "       0, 0, 0, 1, 0, 0, 1, 1, 0, 1, 0, 1, 0, 1, 0, 1, 0, 0, 1, 0, 0, 0,\n",
              "       0, 1, 0, 0, 0, 1, 0, 0, 0, 0, 1, 0, 0, 1, 0, 0, 0, 0, 1, 1, 1, 0,\n",
              "       0, 0, 0, 0, 1, 0, 0, 0, 0, 0, 0, 0, 0, 1, 0, 0, 0, 1, 0, 0, 1, 1,\n",
              "       1, 0, 0, 0, 0, 1, 0, 0, 1, 0, 0, 0, 1, 1, 1, 0, 0, 1, 1, 0, 1, 1,\n",
              "       0, 0, 0, 0, 1, 0, 1, 0, 0, 0, 1, 0, 0, 1, 1, 0, 0, 1, 0, 0, 0, 0,\n",
              "       1, 0, 0, 1, 1, 0, 1, 0, 0, 0, 0, 0, 0, 0, 0, 0, 0, 0, 0, 0, 1, 0,\n",
              "       0, 0, 0, 0, 1, 1, 0, 1, 0, 0, 0, 0, 0, 0, 0, 0, 0, 0, 0, 1, 1, 0,\n",
              "       0, 0, 0, 0, 0, 0, 0, 0, 0, 1, 0, 0, 1, 1, 0, 1, 1, 1, 0, 0, 1, 0,\n",
              "       1, 1, 0, 1, 0, 0, 0, 1, 0, 0, 0, 1, 1, 0, 1, 0, 0, 0, 0, 0, 0, 0,\n",
              "       1, 0, 1, 1, 0, 1, 1, 1, 0, 0, 0, 0, 1, 0, 0, 0, 0, 1, 0, 0, 1, 0,\n",
              "       0, 0, 0, 0, 1, 1, 0, 0, 0, 0, 1, 1, 1, 1, 0, 1, 0, 0, 0, 0, 0, 0,\n",
              "       0, 0, 0, 0, 0, 0, 0, 0, 1, 0], dtype=int32)"
            ]
          },
          "metadata": {
            "tags": []
          },
          "execution_count": 185
        }
      ]
    },
    {
      "cell_type": "code",
      "metadata": {
        "id": "558NQqVDjzGH",
        "outputId": "5fc7bb7a-a0c0-418c-bfed-4fd30cedab0a",
        "colab": {
          "base_uri": "https://localhost:8080/",
          "height": 53
        }
      },
      "source": [
        "tome_links = TomekLinks(sampling_strategy = 'majority')\n",
        "\n",
        "x_tome_links, y_tome_links = tome_links.fit_resample(X, y)\n",
        "\n",
        "# tome_links = SMOTE()\n",
        "\n",
        "# X = combined_df.iloc[:,:-1]\n",
        "# y = combined_df.iloc[:,-1]\n",
        "\n",
        "# x_tome_links, y_tome_links = tome_links.fit_resample(X, y)\n",
        "print('Original dataset shape', Counter(y))\n",
        "print('Resample dataset shape', Counter(y_tome_links))"
      ],
      "execution_count": 187,
      "outputs": [
        {
          "output_type": "stream",
          "text": [
            "Original dataset shape Counter({0: 700, 1: 300})\n",
            "Resample dataset shape Counter({0: 570, 1: 300})\n"
          ],
          "name": "stdout"
        }
      ]
    },
    {
      "cell_type": "markdown",
      "metadata": {
        "id": "dRqj0QwkfoTz"
      },
      "source": [
        "Synthetic Minority Oversampling Technique (SMOTE)\n",
        "\n",
        "SMOTE algorithm works in 4 simple steps:\n",
        "\n",
        "* It selects the minority class, which is high risk applicant in our case\n",
        "* It finds its k nearest neighbors, and places a synthetic point on the line jointing the point under consideration and its chose neighbor.\n",
        "* This process is repeated till the high risk applicant class is equal to low risk applicant.\n"
      ]
    },
    {
      "cell_type": "code",
      "metadata": {
        "id": "h_5r-w2-mzgf",
        "outputId": "9960a769-bcd3-4f94-9d5a-9489fa290ded",
        "colab": {
          "base_uri": "https://localhost:8080/",
          "height": 53
        }
      },
      "source": [
        "smote = SMOTE()\n",
        "\n",
        "x_smote, y_smote = smote.fit_resample(X, y)\n",
        "print('Original dataset shape', Counter(y))\n",
        "print('Resample dataset shape', Counter(y_smote))"
      ],
      "execution_count": 188,
      "outputs": [
        {
          "output_type": "stream",
          "text": [
            "Original dataset shape Counter({0: 700, 1: 300})\n",
            "Resample dataset shape Counter({0: 700, 1: 700})\n"
          ],
          "name": "stdout"
        }
      ]
    },
    {
      "cell_type": "markdown",
      "metadata": {
        "id": "f4eonDQzgtDL"
      },
      "source": [
        "NearMiss is a technique which focusses on reducing the majority class, which is low risk applicant in our case, and the end result will have low risk applicants equal to high risk applicants"
      ]
    },
    {
      "cell_type": "code",
      "metadata": {
        "id": "aObZgSYweNyE",
        "outputId": "a030f758-1e18-4048-8ba9-d45f3d91e2c7",
        "colab": {
          "base_uri": "https://localhost:8080/",
          "height": 53
        }
      },
      "source": [
        "near_miss = NearMiss()\n",
        "X = combined_df.iloc[:,1:-1]\n",
        "y = combined_df.iloc[:,-1]\n",
        "x_near_miss, y_near_miss = near_miss.fit_resample(X, y)\n",
        "print('Original dataset shape', Counter(y))\n",
        "print('Resample dataset shape', Counter(y_near_miss))"
      ],
      "execution_count": 189,
      "outputs": [
        {
          "output_type": "stream",
          "text": [
            "Original dataset shape Counter({0: 700, 1: 300})\n",
            "Resample dataset shape Counter({0: 300, 1: 300})\n"
          ],
          "name": "stdout"
        }
      ]
    },
    {
      "cell_type": "markdown",
      "metadata": {
        "id": "8y-5quJJlwTn"
      },
      "source": [
        "### VII - Machine Learning Algorithms"
      ]
    },
    {
      "cell_type": "markdown",
      "metadata": {
        "id": "aiWDW_1W2Q5H"
      },
      "source": [
        "#### Baseline Algorithm [ ZeroR]"
      ]
    },
    {
      "cell_type": "code",
      "metadata": {
        "id": "Qw8X3Vhz2WUA",
        "outputId": "da0985d5-4e63-42b4-f774-ce34f68e7b09",
        "colab": {
          "base_uri": "https://localhost:8080/",
          "height": 35
        }
      },
      "source": [
        "from sklearn.dummy import DummyClassifier\n",
        "zeroR_training = []\n",
        "zeroR_testing = []\n",
        "X_train, X_test, y_train, y_test = train_test_split(x_near_miss, y_near_miss, test_size=0.2, random_state=42)\n",
        "zero_r = DummyClassifier(strategy=\"most_frequent\")\n",
        "zero_r.fit(X_train, y_train)\n",
        "print(round((zero_r.score(X_test, y_test)*100),2))"
      ],
      "execution_count": 190,
      "outputs": [
        {
          "output_type": "stream",
          "text": [
            "48.33\n"
          ],
          "name": "stdout"
        }
      ]
    },
    {
      "cell_type": "markdown",
      "metadata": {
        "id": "zPhkux0iodaX"
      },
      "source": [
        "#### Evaluation metrics\n",
        "\n",
        "* Accuracy is not the best metric to use when evaluating imbalanced datasets as it can be misleading.\n",
        "\n",
        "* Metrics that can provide better insight are:\n",
        "\n",
        "  * __Confusion Matrix__: a table showing correct predictions and types of incorrect predictions.\n",
        "  * __Precision__: the number of true positives divided by all positive predictions. Precision is also called Positive Predictive Value. It is a measure of a classifier’s exactness. Low precision indicates a high number of false positives.\n",
        "  * __Recall__: the number of true positives divided by the number of positive values in the test data. The recall is also called Sensitivity or the True Positive Rate. It is a measure of a classifier’s completeness. Low recall indicates a high number of false negatives.\n",
        "  * __F1__: Score: the weighted average of precision and recall.\n",
        "  * __Area Under ROC Curve (AUROC)__: AUROC represents the likelihood of your model distinguishing observations from two classes. In other words, if you randomly select one observation from each class, what’s the probability that your model will be able to “rank” them correctly?\n",
        "\n",
        "* Will use the AUROC to check the models performance, since the test dataset may contain imbalanced dataset, and this metric gives what is the probability of detecting a high risk applicant, since problem statement states that it is highly recommended to predict the high risk applicant accurately.\n"
      ]
    },
    {
      "cell_type": "markdown",
      "metadata": {
        "id": "bCx2eAWWmPp5"
      },
      "source": [
        "#### Logistic Regression"
      ]
    },
    {
      "cell_type": "code",
      "metadata": {
        "id": "VY4ESROWl3-8"
      },
      "source": [
        "from sklearn.linear_model import LogisticRegression\n",
        "from sklearn.metrics import scorer, accuracy_score, f1_score, confusion_matrix, roc_auc_score"
      ],
      "execution_count": 97,
      "outputs": []
    },
    {
      "cell_type": "code",
      "metadata": {
        "id": "IAp1u3xAuDwa",
        "outputId": "b6477131-1114-47e7-d021-a9e7810d8991",
        "colab": {
          "base_uri": "https://localhost:8080/",
          "height": 399
        }
      },
      "source": [
        "def model_result(X_train, X_test, y_train, y_test, model):\n",
        "  model_1 = model\n",
        "  model_1.fit(X_train, y_train)\n",
        "  print('Accuracy: {}%'.format(round(accuracy_score(model_1.predict(X_test), y_test) * 100),2))\n",
        "  print('ROCAUC score:{}%'.format(round(roc_auc_score(y_test, model_1.predict(X_test))*100, 2)))\n",
        "  print('F1 score: {}% '.format(round(f1_score(y_test, model_1.predict(X_test))*100,2)))\n",
        "\n",
        "X_train, X_test, y_train, y_test = train_test_split(X, y, test_size=0.2, random_state=42)\n",
        "X_train_near_miss, X_test_near_miss, y_train_near_miss, y_test_near_miss = train_test_split(x_near_miss, y_near_miss, test_size=0.2, random_state=42)\n",
        "X_train_tome_links, X_test_tome_links, y_train_tome_links, y_test_tome_links = train_test_split(x_tome_links, y_tome_links, test_size=0.2, random_state=42)\n",
        "X_train_smote, X_test_smote, y_train_smote, y_test_smote = train_test_split(x_smote, y_smote, test_size=0.2, random_state=42)\n",
        "print(X_test)\n",
        "print(X_train_smote)"
      ],
      "execution_count": 202,
      "outputs": [
        {
          "output_type": "stream",
          "text": [
            "     Primary_applicant_age_in_years  ...  Average_employment_years\n",
            "521                              24  ...                       2.5\n",
            "737                              35  ...                       2.5\n",
            "740                              32  ...                       5.5\n",
            "660                              23  ...                       2.5\n",
            "411                              35  ...                       5.5\n",
            "..                              ...  ...                       ...\n",
            "408                              26  ...                       3.5\n",
            "332                              24  ...                       0.5\n",
            "208                              21  ...                       2.5\n",
            "613                              22  ...                       2.5\n",
            "78                               39  ...                       2.5\n",
            "\n",
            "[200 rows x 19 columns]\n",
            "[[52  0  1 ...  1  1  2]\n",
            " [39  1  3 ...  2  1  2]\n",
            " [20  0  1 ...  1  3  2]\n",
            " ...\n",
            " [38  1  3 ...  2  1  2]\n",
            " [27  1  3 ...  2  1  2]\n",
            " [45  0  2 ...  1  2  2]]\n"
          ],
          "name": "stdout"
        }
      ]
    },
    {
      "cell_type": "code",
      "metadata": {
        "id": "cOGGa2lomcdh",
        "outputId": "fe852037-a4dd-4249-a0d4-f4203f6cb2f4",
        "colab": {
          "base_uri": "https://localhost:8080/",
          "height": 362
        }
      },
      "source": [
        "print('Results of imbbalanced dataset: ')\n",
        "model_result(X_train, X_test, y_train, y_test, model = LogisticRegression())\n",
        "print()\n",
        "print('Results of nearMiss balancing: ')\n",
        "model_result(X_train_near_miss, X_test_near_miss, y_train_near_miss, y_test_near_miss, model = LogisticRegression())\n",
        "print()\n",
        "print('Results of TomeLinks balancing: ')\n",
        "model_result(X_train_tome_links, X_test_tome_links, y_train_tome_links, y_test_tome_links, model = LogisticRegression())\n",
        "print()\n",
        "print('Results of SMOTE balancing: ')\n",
        "model_result(X_train_smote, X_test_smote, y_train_smote, y_test_smote, model = LogisticRegression())"
      ],
      "execution_count": 99,
      "outputs": [
        {
          "output_type": "stream",
          "text": [
            "Results of imbbalanced dataset: \n",
            "Accuracy: 70.0%\n",
            "ROCAUC score:50.0%\n",
            "F1 score: 0.0% \n",
            "\n",
            "Results of nearMiss balancing: \n",
            "Accuracy: 48.0%\n",
            "ROCAUC score:50.0%\n",
            "F1 score: 65.17% \n",
            "\n",
            "Results of TomeLinks balancing: \n",
            "Accuracy: 64.0%\n",
            "ROCAUC score:50.0%\n",
            "F1 score: 0.0% \n",
            "\n",
            "Results of SMOTE balancing: \n",
            "Accuracy: 47.0%\n",
            "ROCAUC score:50.0%\n",
            "F1 score: 63.75% \n"
          ],
          "name": "stdout"
        }
      ]
    },
    {
      "cell_type": "markdown",
      "metadata": {
        "id": "6CH6oIY3o2PA"
      },
      "source": [
        "* As observed the imbalanced dataset has higher accuracy, but the area under ROC curve is higher for balanced dataset or modified balanced dataset"
      ]
    },
    {
      "cell_type": "markdown",
      "metadata": {
        "id": "leyG7fGKp2pr"
      },
      "source": [
        "#### Support Vector Machine Algorithm"
      ]
    },
    {
      "cell_type": "code",
      "metadata": {
        "id": "kRPn6sa8nzmd"
      },
      "source": [
        "from sklearn.svm import SVC"
      ],
      "execution_count": 101,
      "outputs": []
    },
    {
      "cell_type": "code",
      "metadata": {
        "id": "vY9UBQeKqIoR",
        "outputId": "e31612f3-8905-47f4-87ce-d05042c098fa",
        "colab": {
          "base_uri": "https://localhost:8080/",
          "height": 362
        }
      },
      "source": [
        "print('Results of imbbalanced dataset: ')\n",
        "X_train, X_test, y_train, y_test = train_test_split(X, y, test_size=0.2, random_state=42)\n",
        "model_result(X_train, X_test, y_train, y_test, model = SVC(class_weight='balanced', probability=True))\n",
        "print()\n",
        "print('Results of nearMiss balancing: ')\n",
        "X_train, X_test, y_train, y_test = train_test_split(x_near_miss, y_near_miss, test_size=0.2, random_state=42)\n",
        "model_result(X_train, X_test, y_train, y_test, model = SVC(class_weight='balanced', probability=True))\n",
        "print()\n",
        "print('Results of TomeLinks balancing: ')\n",
        "X_train, X_test, y_train, y_test = train_test_split(x_tome_links, y_tome_links, test_size=0.2, random_state=42)\n",
        "model_result(X_train, X_test, y_train, y_test, model = SVC(class_weight='balanced', probability=True))\n",
        "print()\n",
        "print('Results of SMOTE balancing: ')\n",
        "X_train, X_test, y_train, y_test = train_test_split(x_smote, y_smote, test_size=0.2, random_state=42)\n",
        "model_result(X_train, X_test, y_train, y_test, model = SVC(class_weight='balanced', probability=True))"
      ],
      "execution_count": 105,
      "outputs": [
        {
          "output_type": "stream",
          "text": [
            "Results of imbbalanced dataset: \n",
            "Accuracy: 68.0%\n",
            "ROCAUC score:53.79%\n",
            "F1 score: 26.97% \n",
            "\n",
            "Results of nearMiss balancing: \n",
            "Accuracy: 68.0%\n",
            "ROCAUC score:66.66%\n",
            "F1 score: 55.17% \n",
            "\n",
            "Results of TomeLinks balancing: \n",
            "Accuracy: 67.0%\n",
            "ROCAUC score:58.43%\n",
            "F1 score: 38.3% \n",
            "\n",
            "Results of SMOTE balancing: \n",
            "Accuracy: 62.0%\n",
            "ROCAUC score:60.51%\n",
            "F1 score: 46.46% \n"
          ],
          "name": "stdout"
        }
      ]
    },
    {
      "cell_type": "markdown",
      "metadata": {
        "id": "BeeuK-0rrq1d"
      },
      "source": [
        "#### XGB Classifier"
      ]
    },
    {
      "cell_type": "code",
      "metadata": {
        "id": "Sj8iT8OTqvDO"
      },
      "source": [
        "from xgboost import XGBClassifier"
      ],
      "execution_count": 103,
      "outputs": []
    },
    {
      "cell_type": "code",
      "metadata": {
        "id": "GKhwyVgvrFAG",
        "outputId": "30f10b0f-e0b9-42dd-f359-e986ba927d3d",
        "colab": {
          "base_uri": "https://localhost:8080/",
          "height": 362
        }
      },
      "source": [
        "print('Results of imbbalanced dataset: ')\n",
        "X_train, X_test, y_train, y_test = train_test_split(X, y, test_size=0.2, random_state=42)\n",
        "model_result(X_train, X_test, y_train, y_test, model = XGBClassifier())\n",
        "print()\n",
        "print('Results of nearMiss balancing: ')\n",
        "X_train, X_test, y_train, y_test = train_test_split(x_near_miss, y_near_miss, test_size=0.2, random_state=42)\n",
        "model_result(X_train, X_test, y_train, y_test, model = XGBClassifier())\n",
        "print()\n",
        "print('Results of TomeLinks balancing: ')\n",
        "X_train, X_test, y_train, y_test = train_test_split(x_tome_links, y_tome_links, test_size=0.2, random_state=42)\n",
        "model_result(X_train, X_test, y_train, y_test, model = XGBClassifier())\n",
        "print()\n",
        "print('Results of SMOTE balancing: ')\n",
        "X_train, X_test, y_train, y_test = train_test_split(x_smote, y_smote, test_size=0.2, random_state=42)\n",
        "model_result(X_train, X_test, y_train, y_test, model = XGBClassifier())"
      ],
      "execution_count": 106,
      "outputs": [
        {
          "output_type": "stream",
          "text": [
            "Results of imbbalanced dataset: \n",
            "Accuracy: 72.0%\n",
            "ROCAUC score:57.47%\n",
            "F1 score: 31.71% \n",
            "\n",
            "Results of nearMiss balancing: \n",
            "Accuracy: 79.0%\n",
            "ROCAUC score:78.95%\n",
            "F1 score: 77.06% \n",
            "\n",
            "Results of TomeLinks balancing: \n",
            "Accuracy: 71.0%\n",
            "ROCAUC score:63.64%\n",
            "F1 score: 48.48% \n",
            "\n",
            "Results of SMOTE balancing: \n",
            "Accuracy: 77.0%\n",
            "ROCAUC score:76.86%\n",
            "F1 score: 74.8% \n"
          ],
          "name": "stdout"
        }
      ]
    },
    {
      "cell_type": "markdown",
      "metadata": {
        "id": "Dtfx8AYIxUq2"
      },
      "source": [
        "#### RandomForest Classifier"
      ]
    },
    {
      "cell_type": "code",
      "metadata": {
        "id": "hALQCAPArewK"
      },
      "source": [
        "from sklearn.ensemble import RandomForestClassifier"
      ],
      "execution_count": 80,
      "outputs": []
    },
    {
      "cell_type": "code",
      "metadata": {
        "id": "alBcbLB0r903",
        "outputId": "3cb28920-597f-481c-86ef-e8cce10e0b5e",
        "colab": {
          "base_uri": "https://localhost:8080/",
          "height": 362
        }
      },
      "source": [
        "print('Results of imbbalanced dataset: ')\n",
        "X_train, X_test, y_train, y_test = train_test_split(X, y, test_size=0.2, random_state=42)\n",
        "model_result(X_train, X_test, y_train, y_test, model = RandomForestClassifier())\n",
        "print()\n",
        "print('Results of nearMiss balancing: ')\n",
        "X_train, X_test, y_train, y_test = train_test_split(x_near_miss, y_near_miss, test_size=0.2, random_state=42)\n",
        "model_result(X_train, X_test, y_train, y_test, model = RandomForestClassifier())\n",
        "print()\n",
        "print('Results of TomeLinks balancing: ')\n",
        "X_train, X_test, y_train, y_test = train_test_split(x_tome_links, y_tome_links, test_size=0.2, random_state=42)\n",
        "model_result(X_train, X_test, y_train, y_test, model = RandomForestClassifier())\n",
        "print()\n",
        "print('Results of SMOTE balancing: ')\n",
        "X_train, X_test, y_train, y_test = train_test_split(x_smote, y_smote, test_size=0.2, random_state=42)\n",
        "model_result(X_train, X_test, y_train, y_test, model = RandomForestClassifier())"
      ],
      "execution_count": 107,
      "outputs": [
        {
          "output_type": "stream",
          "text": [
            "Results of imbbalanced dataset: \n",
            "Accuracy: 72.0%\n",
            "ROCAUC score:57.83%\n",
            "F1 score: 32.1% \n",
            "\n",
            "Results of nearMiss balancing: \n",
            "Accuracy: 79.0%\n",
            "ROCAUC score:78.89%\n",
            "F1 score: 76.64% \n",
            "\n",
            "Results of TomeLinks balancing: \n",
            "Accuracy: 76.0%\n",
            "ROCAUC score:68.04%\n",
            "F1 score: 54.35% \n",
            "\n",
            "Results of SMOTE balancing: \n",
            "Accuracy: 84.0%\n",
            "ROCAUC score:83.09%\n",
            "F1 score: 81.15% \n"
          ],
          "name": "stdout"
        }
      ]
    },
    {
      "cell_type": "markdown",
      "metadata": {
        "id": "FHv5OPnlDEXE"
      },
      "source": [
        "* Based on the results the balanced model after SMOTE with Random forest model is giving the most optimal results.\n",
        "* However with hypter parameter optimization, the probability of predicting a high risk or low risk applicant can improve."
      ]
    },
    {
      "cell_type": "markdown",
      "metadata": {
        "id": "Kwd-nll_g5gd"
      },
      "source": [
        "#### Hyperparameter Optimization"
      ]
    },
    {
      "cell_type": "markdown",
      "metadata": {
        "id": "rGS5RLVxhEJl"
      },
      "source": [
        "##### Logistic Regression"
      ]
    },
    {
      "cell_type": "code",
      "metadata": {
        "id": "bZfmLR6LErgl",
        "outputId": "ea55079c-8c4f-4010-d20c-c75f85b693d8",
        "colab": {
          "base_uri": "https://localhost:8080/",
          "height": 90
        }
      },
      "source": [
        "from sklearn.model_selection import RepeatedStratifiedKFold\n",
        "from sklearn.model_selection import GridSearchCV\n",
        "\n",
        "import warnings\n",
        "warnings.filterwarnings('ignore')\n",
        "\n",
        "# define models and parameters\n",
        "model = LogisticRegression()\n",
        "solvers = ['newton-cg', 'lbfgs', 'liblinear']\n",
        "penalty = ['l2']\n",
        "c_values = [100, 10, 1.0, 0.1, 0.01]\n",
        "\n",
        "# define grid search\n",
        "grid = dict(solver = solvers,\n",
        "            penalty = penalty,\n",
        "            C = c_values)\n",
        "\n",
        "cv = RepeatedStratifiedKFold(n_splits = 10, \n",
        "                             n_repeats = 3, \n",
        "                             random_state = 1)\n",
        "\n",
        "grid_search = GridSearchCV(estimator = model, \n",
        "                           param_grid = grid, \n",
        "                           n_jobs = -1, \n",
        "                           cv = cv, \n",
        "                          scoring = 'roc_auc',\n",
        "                           error_score = 0)\n",
        "\n",
        "def get_hyper_results(grid_search, X_train, y_train, logreg):\n",
        "  grid_result = grid_search.fit(X_train, y_train)\n",
        "  means = grid_result.cv_results_['mean_test_score']\n",
        "  stds = grid_result.cv_results_['std_test_score']\n",
        "  params = grid_result.cv_results_['params']\n",
        "  logreg.fit(X_train, y_train)\n",
        "  return round(grid_result.best_score_*100, 2)\n",
        "\n",
        "X_train, X_test, y_train, y_test = train_test_split(X, y, test_size=0.2, random_state=42)\n",
        "X_train_near_miss, X_test_near_miss, y_train_near_miss, y_test_near_miss = train_test_split(x_near_miss, y_near_miss, test_size=0.2, random_state=42)\n",
        "X_train_tome_links, X_test_tome_links, y_train_tome_links, y_test_tome_links = train_test_split(x_tome_links, y_tome_links, test_size=0.2, random_state=42)\n",
        "X_train_smote, X_test_smote, y_train_smote, y_test_smote = train_test_split(x_smote, y_smote, test_size=0.2, random_state=42)\n",
        "\n",
        "logreg_imbalanced = LogisticRegression()\n",
        "logreg_near_miss = LogisticRegression()\n",
        "logreg_tome_links = LogisticRegression()\n",
        "logreg_smote = LogisticRegression()\n",
        "\n",
        "logistic_hyper = [get_hyper_results(grid_search, X_train, y_train, logreg_imbalanced),\n",
        "                  get_hyper_results(grid_search, X_train_near_miss, y_train_near_miss, logreg_near_miss),\n",
        "                  get_hyper_results(grid_search, X_train_tome_links, y_train_tome_links, logreg_tome_links),\n",
        "                  get_hyper_results(grid_search, X_train_smote, y_train_smote, logreg_smote)]\n",
        "\n",
        "\n",
        "print('Area under ROC for imbalanced dataset: {}%'.format(logistic_hyper[0]))\n",
        "print('Area under ROC for near miss balanced dataset: {}%'.format(logistic_hyper[1]))\n",
        "print('Area under ROC for tome links balanced dataset: {}%'.format(logistic_hyper[2]))\n",
        "print('Area under ROC for SMOTE balanced dataset: {}%'.format(logistic_hyper[3]))"
      ],
      "execution_count": 108,
      "outputs": [
        {
          "output_type": "stream",
          "text": [
            "Area under ROC for imbalanced dataset: 67.22%\n",
            "Area under ROC for near miss balanced dataset: 77.06%\n",
            "Area under ROC for tome links balanced dataset: 66.28%\n",
            "Area under ROC for SMOTE balanced dataset: 69.17%\n"
          ],
          "name": "stdout"
        }
      ]
    },
    {
      "cell_type": "markdown",
      "metadata": {
        "id": "sDgAKNvMnlnU"
      },
      "source": [
        "##### Support Vector Machine Algorithm\n"
      ]
    },
    {
      "cell_type": "code",
      "metadata": {
        "id": "IppYrqA4ejsp",
        "outputId": "ece04c29-695c-4cff-84d9-589dcb6543a6",
        "colab": {
          "base_uri": "https://localhost:8080/",
          "height": 90
        }
      },
      "source": [
        "from sklearn.model_selection import RepeatedStratifiedKFold\n",
        "from sklearn.model_selection import GridSearchCV\n",
        "\n",
        "svm_testing_hyperparameter = []\n",
        "\n",
        "# define model and parameters\n",
        "model = SVC()\n",
        "kernel = ['poly', 'rbf', 'sigmoid']\n",
        "C = [50, 10, 1.0, 0.1, 0.01]\n",
        "gamma = ['scale']\n",
        "\n",
        "# define grid search\n",
        "grid = dict(kernel = kernel,\n",
        "            C = C,\n",
        "            gamma = gamma)\n",
        "\n",
        "cv = RepeatedStratifiedKFold(n_splits = 10, \n",
        "                             n_repeats = 3, \n",
        "                             random_state = 1)\n",
        "\n",
        "grid_search = GridSearchCV(estimator = model, \n",
        "                           param_grid = grid, \n",
        "                           n_jobs = -1, \n",
        "                           cv = cv, \n",
        "                           scoring = 'roc_auc',\n",
        "                           error_score = 0)\n",
        "\n",
        "svm_imbalanced = SVC()\n",
        "svm_near_miss = SVC()\n",
        "svm_tome_links = SVC()\n",
        "svm_smote = SVC()\n",
        "\n",
        "svm_hyper = [get_hyper_results(grid_search, X_train, y_train, svm_imbalanced),\n",
        "             get_hyper_results(grid_search, X_train_near_miss, y_train_near_miss, svm_near_miss),\n",
        "             get_hyper_results(grid_search, X_train_tome_links, y_train_tome_links, svm_tome_links),\n",
        "             get_hyper_results(grid_search, X_train_smote, y_train_smote, svm_smote)]\n",
        "\n",
        "print('Area under ROC for imbalanced dataset: {}%'.format(svm_hyper[0]))\n",
        "print('Area under ROC for near miss balanced dataset: {}%'.format(svm_hyper[1]))\n",
        "print('Area under ROC for tome links balanced dataset: {}%'.format(svm_hyper[2]))\n",
        "print('Area under ROC for SMOTE balanced dataset: {}%'.format(svm_hyper[3]))\n"
      ],
      "execution_count": 109,
      "outputs": [
        {
          "output_type": "stream",
          "text": [
            "Area under ROC for imbalanced dataset: 56.29%\n",
            "Area under ROC for near miss balanced dataset: 71.43%\n",
            "Area under ROC for tome links balanced dataset: 57.02%\n",
            "Area under ROC for SMOTE balanced dataset: 58.28%\n"
          ],
          "name": "stdout"
        }
      ]
    },
    {
      "cell_type": "code",
      "metadata": {
        "id": "Ko3xG4tIuUhq",
        "outputId": "c897aef7-1f44-483e-aeaf-93394b3efb4e",
        "colab": {
          "base_uri": "https://localhost:8080/",
          "height": 90
        }
      },
      "source": [
        "from sklearn.model_selection import RepeatedStratifiedKFold\n",
        "from sklearn.model_selection import GridSearchCV\n",
        "\n",
        "# define model and parameters\n",
        "model = XGBClassifier(learning_rate=0.02, n_estimators=600, objective='binary:logistic',\n",
        "                    silent=True, nthread=1)\n",
        "\n",
        "# params = {\n",
        "#         'min_child_weight': [1, 5, 10],\n",
        "#         'gamma': [0.5, 1, 1.5, 2, 5],\n",
        "#         'subsample': [0.6, 0.8, 1.0],\n",
        "#         'colsample_bytree': [0.6, 0.8, 1.0],\n",
        "#         'max_depth': [3, 4, 5]\n",
        "#         }\n",
        "\n",
        "params = {\"n_estimators\": [10, 18, 22, 30,50, 60],\n",
        "              \"max_depth\": [3, 5, 10],\n",
        "              \"min_samples_split\": [15, 20],\n",
        "              \"min_samples_leaf\": [5, 10, 20],\n",
        "              \"max_leaf_nodes\": [20, 40],\n",
        "              \"min_weight_fraction_leaf\": [0.1]}\n",
        "\n",
        "cv = RepeatedStratifiedKFold(n_splits = 10, \n",
        "                             n_repeats = 3, \n",
        "                             random_state = 1)\n",
        "\n",
        "random_search = GridSearchCV(estimator = model, \n",
        "                             param_grid = params, \n",
        "                             scoring='roc_auc',\n",
        "                             n_jobs = -1, \n",
        "                             cv = cv )\n",
        "\n",
        "grid_search = GridSearchCV(model, \n",
        "                           param_grid = params,\n",
        "                           scoring = 'roc_auc')\n",
        "\n",
        "xgb_imbalanced = XGBClassifier()\n",
        "xgb_near_miss = XGBClassifier()\n",
        "xgb_tome_links = XGBClassifier()\n",
        "xgb_smote = XGBClassifier()\n",
        "\n",
        "xbg_hyper = [get_hyper_results(grid_search, X_train, y_train, xgb_imbalanced),\n",
        "             get_hyper_results(grid_search, X_train_near_miss, y_train_near_miss, xgb_near_miss),\n",
        "             get_hyper_results(grid_search, X_train_tome_links, y_train_tome_links, xgb_tome_links),\n",
        "             get_hyper_results(grid_search, X_train_smote, y_train_smote, xgb_smote)]\n",
        "\n",
        "\n",
        "print('Area under ROC for imbalanced dataset: {}%'.format(xbg_hyper[0]))\n",
        "\n",
        "print('Area under ROC for near miss balanced dataset: {}%'.format(xbg_hyper[1]))\n",
        "\n",
        "print('Area under ROC for tome links balanced dataset: {}%'.format(xbg_hyper[2]))\n",
        "\n",
        "print('Area under ROC for SMOTE balanced dataset: {}%'.format(xbg_hyper[3]))\n",
        "\n"
      ],
      "execution_count": 110,
      "outputs": [
        {
          "output_type": "stream",
          "text": [
            "Area under ROC for imbalanced dataset: 69.32%\n",
            "Area under ROC for near miss balanced dataset: 76.86%\n",
            "Area under ROC for tome links balanced dataset: 70.44%\n",
            "Area under ROC for SMOTE balanced dataset: 86.27%\n"
          ],
          "name": "stdout"
        }
      ]
    },
    {
      "cell_type": "markdown",
      "metadata": {
        "id": "ZmJ1P6_6rqph"
      },
      "source": [
        "##### Random Forest Classification Algorithm\n"
      ]
    },
    {
      "cell_type": "code",
      "metadata": {
        "id": "qB2sHYIoniXS",
        "outputId": "c0a1a436-c86d-4fd1-de69-eef5fc4401d0",
        "colab": {
          "base_uri": "https://localhost:8080/",
          "height": 90
        }
      },
      "source": [
        "from sklearn.model_selection import RepeatedStratifiedKFold\n",
        "from sklearn.model_selection import GridSearchCV\n",
        "\n",
        "svm_testing_hyperparameter = []\n",
        "\n",
        "# define model and parameters\n",
        "model = RandomForestClassifier()\n",
        "\n",
        "param_grid2 = {\"n_estimators\": [10, 18, 22, 30,50, 60],\n",
        "              \"max_depth\": [3, 5, 10],\n",
        "              \"min_samples_split\": [15, 20],\n",
        "              \"min_samples_leaf\": [5, 10, 20],\n",
        "              \"max_leaf_nodes\": [20, 40],\n",
        "              \"min_weight_fraction_leaf\": [0.1]}\n",
        "\n",
        "cv = RepeatedStratifiedKFold(n_splits = 10, \n",
        "                             n_repeats = 3, \n",
        "                             random_state = 1)\n",
        "\n",
        "grid_search = GridSearchCV(model, \n",
        "                           param_grid=param_grid2,\n",
        "                           scoring = 'roc_auc',\n",
        "                           cv = cv)\n",
        "\n",
        "rand_forest_imbalanced = RandomForestClassifier()\n",
        "rand_forest_near_miss = RandomForestClassifier()\n",
        "rand_forest_tome_links = RandomForestClassifier()\n",
        "rand_forest_smote = RandomForestClassifier()\n",
        "\n",
        "rand_forest_hyper = [get_hyper_results(grid_search, X_train, y_train, rand_forest_imbalanced),\n",
        "                     get_hyper_results(grid_search, X_train_near_miss, y_train_near_miss, rand_forest_near_miss),\n",
        "                     get_hyper_results(grid_search, X_train_tome_links, y_train_tome_links, rand_forest_tome_links),\n",
        "                     get_hyper_results(grid_search, X_train_smote, y_train_smote, rand_forest_smote)]\n",
        "\n",
        "\n",
        "print('Area under ROC for imbalanced dataset: {}%'.format(rand_forest_hyper[0]))\n",
        "print('Area under ROC for near miss balanced dataset: {}%'.format(rand_forest_hyper[1]))\n",
        "print('Area under ROC for tome links balanced dataset: {}%'.format(rand_forest_hyper[2]))\n",
        "print('Area under ROC for SMOTE balanced dataset: {}%'.format(rand_forest_hyper[3]))\n"
      ],
      "execution_count": 111,
      "outputs": [
        {
          "output_type": "stream",
          "text": [
            "Area under ROC for imbalanced dataset: 66.81%\n",
            "Area under ROC for near miss balanced dataset: 77.57%\n",
            "Area under ROC for tome links balanced dataset: 68.35%\n",
            "Area under ROC for SMOTE balanced dataset: 81.88%\n"
          ],
          "name": "stdout"
        }
      ]
    },
    {
      "cell_type": "code",
      "metadata": {
        "id": "k2yhLFYXrUaB",
        "outputId": "3a9c02c7-42e4-45f3-eba8-cc882863bf69",
        "colab": {
          "base_uri": "https://localhost:8080/",
          "height": 175
        }
      },
      "source": [
        "hyper_results = pd.DataFrame()\n",
        "hyper_results['Logistic Regression'] = pd.Series(data = logistic_hyper)\n",
        "hyper_results['Support Vector Machine'] = pd.Series(data = svm_hyper)\n",
        "hyper_results['XGB Classifer'] = pd.Series(data = xbg_hyper)\n",
        "hyper_results['Random Forrest'] = pd.Series(data = rand_forest_hyper)\n",
        "hyper_results.index = ['imbalanced_dataset', 'near_miss balanced dataset', 'tome_links balanced dataset', 'SMOTE']\n",
        "hyper_results"
      ],
      "execution_count": 112,
      "outputs": [
        {
          "output_type": "execute_result",
          "data": {
            "text/html": [
              "<div>\n",
              "<style scoped>\n",
              "    .dataframe tbody tr th:only-of-type {\n",
              "        vertical-align: middle;\n",
              "    }\n",
              "\n",
              "    .dataframe tbody tr th {\n",
              "        vertical-align: top;\n",
              "    }\n",
              "\n",
              "    .dataframe thead th {\n",
              "        text-align: right;\n",
              "    }\n",
              "</style>\n",
              "<table border=\"1\" class=\"dataframe\">\n",
              "  <thead>\n",
              "    <tr style=\"text-align: right;\">\n",
              "      <th></th>\n",
              "      <th>Logistic Regression</th>\n",
              "      <th>Support Vector Machine</th>\n",
              "      <th>XGB Classifer</th>\n",
              "      <th>Random Forrest</th>\n",
              "    </tr>\n",
              "  </thead>\n",
              "  <tbody>\n",
              "    <tr>\n",
              "      <th>imbalanced_dataset</th>\n",
              "      <td>67.22</td>\n",
              "      <td>56.29</td>\n",
              "      <td>69.32</td>\n",
              "      <td>66.81</td>\n",
              "    </tr>\n",
              "    <tr>\n",
              "      <th>near_miss balanced dataset</th>\n",
              "      <td>77.06</td>\n",
              "      <td>71.43</td>\n",
              "      <td>76.86</td>\n",
              "      <td>77.57</td>\n",
              "    </tr>\n",
              "    <tr>\n",
              "      <th>tome_links balanced dataset</th>\n",
              "      <td>66.28</td>\n",
              "      <td>57.02</td>\n",
              "      <td>70.44</td>\n",
              "      <td>68.35</td>\n",
              "    </tr>\n",
              "    <tr>\n",
              "      <th>SMOTE</th>\n",
              "      <td>69.17</td>\n",
              "      <td>58.28</td>\n",
              "      <td>86.27</td>\n",
              "      <td>81.88</td>\n",
              "    </tr>\n",
              "  </tbody>\n",
              "</table>\n",
              "</div>"
            ],
            "text/plain": [
              "                             Logistic Regression  ...  Random Forrest\n",
              "imbalanced_dataset                         67.22  ...           66.81\n",
              "near_miss balanced dataset                 77.06  ...           77.57\n",
              "tome_links balanced dataset                66.28  ...           68.35\n",
              "SMOTE                                      69.17  ...           81.88\n",
              "\n",
              "[4 rows x 4 columns]"
            ]
          },
          "metadata": {
            "tags": []
          },
          "execution_count": 112
        }
      ]
    },
    {
      "cell_type": "markdown",
      "metadata": {
        "id": "tqDREuNMAp0o"
      },
      "source": [
        "* Based on the above results, the best score as per our selected metric is from XGB classifier from SMOTE balancing, in this scenario, there 86% probability that the model will predict the high risk or low risk applicant correctly.\n",
        "* Next best model is Random Forrest with SMOTE balancing dataset."
      ]
    },
    {
      "cell_type": "markdown",
      "metadata": {
        "id": "xZl7ssJKipVU"
      },
      "source": [
        "### VIII - Prediction"
      ]
    },
    {
      "cell_type": "code",
      "metadata": {
        "id": "Ckx8ZlzVrpfB",
        "outputId": "1fa0ac97-d9dc-4059-d6c8-7139dafd7978",
        "colab": {
          "base_uri": "https://localhost:8080/",
          "height": 144
        }
      },
      "source": [
        "model = XGBClassifier(learning_rate=0.02, n_estimators=600, objective='binary:logistic',\n",
        "                    silent=True, nthread=1)\n",
        "\n",
        "params = {\"n_estimators\": [10, 18, 22, 30,50, 60],\n",
        "              \"max_depth\": [3, 5, 10],\n",
        "              \"min_samples_split\": [15, 20],\n",
        "              \"min_samples_leaf\": [5, 10, 20],\n",
        "              \"max_leaf_nodes\": [20, 40],\n",
        "              \"min_weight_fraction_leaf\": [0.1]}\n",
        "\n",
        "cv = RepeatedStratifiedKFold(n_splits = 10, \n",
        "                             n_repeats = 3, \n",
        "                             random_state = 1)\n",
        "\n",
        "grid_search = GridSearchCV(model, \n",
        "                           param_grid = params,\n",
        "                           scoring = 'roc_auc')\n",
        "\n",
        "\n",
        "xgb_smote = XGBClassifier()\n",
        "\n",
        "grid_result = grid_search.fit(X_train_smote, y_train_smote)\n",
        "means = grid_result.cv_results_['mean_test_score']\n",
        "stds = grid_result.cv_results_['std_test_score']\n",
        "params = grid_result.cv_results_['params']\n",
        "xgb_smote.fit(X_train_smote, y_train_smote)"
      ],
      "execution_count": 203,
      "outputs": [
        {
          "output_type": "execute_result",
          "data": {
            "text/plain": [
              "XGBClassifier(base_score=0.5, booster='gbtree', colsample_bylevel=1,\n",
              "              colsample_bynode=1, colsample_bytree=1, gamma=0,\n",
              "              learning_rate=0.1, max_delta_step=0, max_depth=3,\n",
              "              min_child_weight=1, missing=None, n_estimators=100, n_jobs=1,\n",
              "              nthread=None, objective='binary:logistic', random_state=0,\n",
              "              reg_alpha=0, reg_lambda=1, scale_pos_weight=1, seed=None,\n",
              "              silent=None, subsample=1, verbosity=1)"
            ]
          },
          "metadata": {
            "tags": []
          },
          "execution_count": 203
        }
      ]
    },
    {
      "cell_type": "code",
      "metadata": {
        "id": "KvHyfS3V6sNE"
      },
      "source": [
        "def encode_gender(df):\n",
        "    mapping = {\"male\": 1, \"female\": 0}\n",
        "    return df.replace({'Gender': mapping})\n",
        "\n",
        "def encode_maritial_Status(df):\n",
        "    mapping = {\"single\": 1, \"divorced/seperated/married\": 1, 'divorced/seperated': 0, 'married/widowed': 2}\n",
        "    return df.replace({'Marital_status': mapping})\n",
        "\n",
        "def encode_housing(df):\n",
        "    mapping = {\"own\": 1, \"for free\": 0, 'rent': 2}\n",
        "    return df.replace({'Housing': mapping})\n",
        "\n",
        "def encode_saving_account_balancd(df):\n",
        "    mapping = {\"Low\": 1, \"High\": 0, 'Very High': 3, 'Medium': 2}\n",
        "    return df.replace({'Savings_account_balance': mapping})\n",
        "\n",
        "def encode_purpose(df):\n",
        "    mapping = {\"Electronic equipment\": 5, \n",
        "               \"Education\": 4, \n",
        "               'FF & E': 0, \n",
        "               'New Vehicle': 6,\n",
        "               'Used Vechicle': 8,\n",
        "               'Business': 1,\n",
        "               'Domestic Appliances': 3,\n",
        "               'Repair cost': 7,\n",
        "               'Career Development': 2}\n",
        "    return df.replace({'Purpose': mapping})\n",
        "\n",
        "def encode_propoerty(df):\n",
        "    mapping = {\"Real Estate\": 2, \n",
        "               \"Building society saving agreement / life insurance\": 0, \n",
        "               'Car or other': 1}\n",
        "    return df.replace({'Property': mapping})\n",
        "\n",
        "def encode_loan_history(df):\n",
        "    mapping = {\"Critical/pending loans at other banks\": 1, \n",
        "               \"Existing loans paid back duly till now\": 3, \n",
        "               'No loans taken/all loans paid back duly': 4, \n",
        "               'All loans at this bank paid back duly': 0,\n",
        "               'delay in paying off loans in the past': 2}\n",
        "    return df.replace({'Loan_history': mapping})\n",
        "\n",
        "def encode_employment_status(df):\n",
        "    mapping = {\"Skilled-employed/official\": 1, \n",
        "               \"Unskilled-resident\": 3, \n",
        "               'Management/self-employed/highly qualified employee/ officer': 0,\n",
        "               'Unemployed/unskilled-non-resident': 2}\n",
        "    return df.replace({'Employment_status': mapping})"
      ],
      "execution_count": 204,
      "outputs": []
    },
    {
      "cell_type": "code",
      "metadata": {
        "id": "xI172r-OqzE-",
        "outputId": "0639dd14-1ec3-4b79-bfc3-508c06bab560",
        "colab": {
          "base_uri": "https://localhost:8080/",
          "height": 144
        }
      },
      "source": [
        "X_test_smote"
      ],
      "execution_count": 211,
      "outputs": [
        {
          "output_type": "execute_result",
          "data": {
            "text/plain": [
              "array([[27,  1,  3, ...,  2,  1,  0],\n",
              "       [65,  1,  3, ...,  2,  3,  2],\n",
              "       [47,  1,  3, ...,  1,  1,  3],\n",
              "       ...,\n",
              "       [36,  1,  3, ...,  1,  2,  3],\n",
              "       [29,  0,  1, ...,  1,  3,  2],\n",
              "       [35,  1,  3, ...,  2,  1,  3]], dtype=int32)"
            ]
          },
          "metadata": {
            "tags": []
          },
          "execution_count": 211
        }
      ]
    },
    {
      "cell_type": "code",
      "metadata": {
        "id": "G0PmWqMsmLJ1",
        "outputId": "59465e39-9313-4468-ffcc-884409c731be",
        "colab": {
          "base_uri": "https://localhost:8080/",
          "height": 253
        }
      },
      "source": [
        "y_test_smote"
      ],
      "execution_count": 194,
      "outputs": [
        {
          "output_type": "execute_result",
          "data": {
            "text/plain": [
              "array([0, 1, 0, 0, 0, 1, 0, 0, 0, 0, 0, 1, 0, 1, 0, 0, 0, 0, 0, 0, 1, 0,\n",
              "       0, 0, 0, 0, 1, 1, 1, 0, 0, 0, 0, 0, 0, 0, 0, 1, 1, 1, 0, 1, 0, 1,\n",
              "       0, 1, 1, 0, 1, 0, 0, 0, 0, 1, 1, 0, 0, 0, 0, 0, 0, 0, 0, 0, 0, 1,\n",
              "       1, 0, 0, 1, 1, 0, 0, 0, 1, 0, 0, 0, 0, 1, 1, 1, 1, 0, 0, 1, 1, 0,\n",
              "       0, 0, 0, 0, 0, 0, 1, 1, 1, 1, 0, 0, 0, 0, 0, 1, 0, 1, 0, 1, 0, 1,\n",
              "       0, 1, 1, 1, 1, 1, 0, 0, 1, 0, 0, 1, 1, 1, 1, 0, 1, 0, 0, 1, 1, 0,\n",
              "       0, 0, 1, 0, 1, 1, 0, 0, 1, 0, 1, 0, 1, 1, 1, 1, 1, 0, 1, 1, 1, 0,\n",
              "       1, 1, 1, 1, 1, 1, 1, 1, 1, 0, 1, 0, 0, 1, 0, 0, 0, 0, 1, 0, 0, 1,\n",
              "       0, 1, 1, 0, 0, 1, 0, 0, 0, 0, 0, 1, 1, 0, 1, 1, 1, 0, 0, 0, 1, 1,\n",
              "       0, 1, 1, 0, 1, 1, 1, 0, 0, 0, 1, 1, 0, 1, 1, 1, 1, 1, 0, 1, 0, 1,\n",
              "       1, 1, 1, 0, 0, 1, 0, 0, 1, 1, 0, 0, 0, 1, 0, 1, 0, 0, 0, 1, 0, 1,\n",
              "       0, 0, 0, 0, 1, 1, 1, 1, 0, 0, 0, 1, 1, 0, 1, 0, 1, 1, 1, 1, 1, 0,\n",
              "       1, 0, 0, 1, 0, 0, 1, 1, 1, 1, 0, 1, 1, 0, 1, 0])"
            ]
          },
          "metadata": {
            "tags": []
          },
          "execution_count": 194
        }
      ]
    },
    {
      "cell_type": "code",
      "metadata": {
        "id": "zeOT591I2Up7"
      },
      "source": [
        "# age = gr.inputs.Slider(minimum=0, maximum=120, default = 30, label=\"Age\")\n",
        "\n",
        "# gender = gr.inputs.Radio(['female', 'male'], label=\"Gender\")\n",
        "\n",
        "# maritial_status = gr.inputs.Radio([\"single\", \"divorced/seperated/married\", 'divorced/seperated', 'married/widowed'], label = 'Marital_status')\n",
        "\n",
        "# dependents = gr.inputs.Slider(minimum=0, maximum=10, default = 2, label=\"Number_of_dependents\")\n",
        "\n",
        "# housing = gr.inputs.Radio([\"own\", \"for free\", 'rent'], label=\"Housing\")\n",
        "\n",
        "# years_at_current_resident = gr.inputs.Slider(minimum=0, maximum=120, default = 30, label=\"Years_at_current_residence\")\n",
        "\n",
        "# employment_status = gr.inputs.Radio([\"Skilled-employed/official\", \n",
        "#                                      \"Unskilled-resident\", \n",
        "#                                      'Management/self-employed/highly qualified employee/ officer',\n",
        "#                                      'Unemployed/unskilled-non-resident'], \n",
        "#                                      label=\"Employment_status\")\n",
        "\n",
        "# foriegn_worker = gr.inputs.Radio([0, 1], label=\"Foreign_worker\")\n",
        "\n",
        "# savings_account_balance = gr.inputs.Radio([\"Low\", \"High\", 'Very High', 'Medium'], \n",
        "#                                      label=\"Savings_account_balance\")\n",
        "\n",
        "# months_loan_taken_for = gr.inputs.Slider(minimum=0, maximum=200, default=24, label=\"Months_loan_taken_for\")\n",
        "\n",
        "# purpose = gr.inputs.Radio([\"Electronic equipment\", \n",
        "#                            \"Education\", \n",
        "#                            'FF & E', \n",
        "#                            'New Vehicle',\n",
        "#                            'Used Vechicle',\n",
        "#                            'Business',\n",
        "#                            'Domestic Appliances',\n",
        "#                            'Repair cost',\n",
        "#                            'Career Development'], \n",
        "#                            label=\"Purpose\")\n",
        "\n",
        "# principal = gr.inputs.Slider(minimum = 0, maximum = 58424000, default = 3271258, label=\"Principal_loan_amount\")\n",
        "\n",
        "# emi_rate = gr.inputs.Slider(minimum = 0, maximum = 10, step = 1, label=\"EMI_rate_in_percentage_of_disposable_income\")\n",
        "\n",
        "# property_1 = gr.inputs.Radio([\"Real Estate\", \n",
        "#                               \"Building society saving agreement / life insurance\", \n",
        "#                               'Car or other'], \n",
        "#                               label=\"Property\")\n",
        "\n",
        "# co_applicant = gr.inputs.Radio([0,1], label=\"Has_coapplicant\")\n",
        "\n",
        "# guarantor = gr.inputs.Radio([0,1], label=\"Has_guarantor\")\n",
        "\n",
        "# number_of_loans = gr.inputs.Slider(minimum = 0, maximum = 10, step = 1, label=\"Number_of_existing_loans_at_this_bank\")\n",
        "\n",
        "# loan_history = gr.inputs.Radio([\"Critical/pending loans at other banks\", \n",
        "#                                 \"Existing loans paid back duly till now\", \n",
        "#                                 'No loans taken/all loans paid back duly', \n",
        "#                                 'All loans at this bank paid back duly',\n",
        "#                                 'delay in paying off loans in the past'], \n",
        "#                                 label=\"Loan_history\")\n",
        "\n",
        "# average_employment_years = gr.inputs.Slider(minimum = 0, maximum = 30, step = 1, default = 10, label=\"Average_employment_years\")"
      ],
      "execution_count": 222,
      "outputs": []
    },
    {
      "cell_type": "code",
      "metadata": {
        "id": "0p5zgja98kLm"
      },
      "source": [
        "#@title String fields\n",
        "\n",
        "age = 50 #@param {type:\"integer\"}\n",
        "gender = 'male' #@param [\"male\", \"female\"]\n",
        "maritial_status = 'single' #@param [\"single\", \"divorced_seperated_married\", \"divorced_seperated\", \"married_widowed\"]\n",
        "dependents = 2 #@param {type:\"slider\", min:0, max:10, step:1}\n",
        "housing = 'own' #@param[\"own\", \"for free\", 'rent']\n",
        "years_at_current_resident = 10 #@param {type: \"slider\", min:0, max:50, step:1}\n",
        "employment_status = 'Skilled-employed/official' #@param [\"Skilled-employed/official\",\"Unskilled-resident\", \"Management/self-employed/highly qualified employee/ officer\", \"Unemployed/unskilled-non-resident\"]\n",
        "foriegn_worker = '1' #@param ['0', '1']\n",
        "savings_account_balance = 'Medium' #@param [\"Low\", \"High\", 'Very High', 'Medium']\n",
        "months_loan_taken_for = 50 #@param{type: \"slider\", min:0, max:200, step:1}\n",
        "\n",
        "purpose = 'Education' #@param [\"Electronic equipment\", \"Education\",'FF & E', 'New Vehicle', 'Used Vechicle', 'Business', 'Domestic Appliances', 'Repair cost', 'Career Development']\n",
        "principal = 100000 #@param{type: \"slider\", min:10000, max:58424000, step: 10000}\n",
        "emi_rate = 1 #@param{type: \"slider\", min:1, max:10, step:1}\n",
        "property_1 = 'Real Estate' #@param [\"Real Estate\",\"Building society saving agreement / life insurance\", 'Car or other'] \n",
        "co_applicant = '1' #@param ['0', '1']\n",
        "guarantor = '1' #@param ['0', '1']\n",
        "number_of_loans = 1 #@param{type: \"slider\", min:1, max:10, step:1}\n",
        "loan_history = 'All loans at this bank paid back duly' #@param [\"Critical/pending loans at other banks\", \"Existing loans paid back duly till now\", 'No loans taken/all loans paid back duly', 'All loans at this bank paid back duly', 'delay in paying off loans in the past']\n",
        "average_employment_years = 10 #@param{type: \"slider\", min:0, max:30, step:1}\n",
        "\n"
      ],
      "execution_count": 225,
      "outputs": []
    },
    {
      "cell_type": "code",
      "metadata": {
        "id": "ozM9sZAEhz1-"
      },
      "source": [
        "def predict_risk(age, gender, maritial_status,dependents, housing, years_at_current_resident, employment_status, foriegn_worker, savings_account_balance, months_loan_taken_for, purpose, principal, emi_rate, property_1, co_applicant, guarantor, number_of_loans, loan_history, average_employment_years  ):\n",
        "    df = pd.DataFrame.from_dict({'Primary_applicant_age_in_years': [age], \n",
        "                                 'Gender': [gender], \n",
        "                                 'Marital_status': [maritial_status],\n",
        "                                 'Number_of_dependents': [dependents], \n",
        "                                 'Housing': [housing], \n",
        "                                 'Years_at_current_residence': [years_at_current_resident],\n",
        "                                 'Employment_status': [employment_status], \n",
        "                                 'Foreign_worker': [foriegn_worker], \n",
        "                                 'Savings_account_balance': [savings_account_balance],\n",
        "                                 'Months_loan_taken_for': [months_loan_taken_for], \n",
        "                                 'Purpose': [purpose], \n",
        "                                 'Principal_loan_amount': [principal],\n",
        "                                 'EMI_rate_in_percentage_of_disposable_income': [emi_rate], \n",
        "                                 'Property': [property_1],\n",
        "                                 'Has_coapplicant': [co_applicant], \n",
        "                                 'Has_guarantor': [guarantor],\n",
        "                                 'Number_of_existing_loans_at_this_bank': [number_of_loans], \n",
        "                                 'Loan_history': [loan_history],\n",
        "                                 'Average_employment_years': [average_employment_years]})\n",
        "    df = encode_gender(df)\n",
        "    df = encode_maritial_Status(df)\n",
        "    df = encode_housing(df)\n",
        "    df = encode_saving_account_balancd(df)\n",
        "    df = encode_purpose(df)\n",
        "    df = encode_propoerty(df)\n",
        "    df = encode_loan_history(df)\n",
        "    df = encode_employment_status(df)\n",
        "    array_file = df.to_numpy(dtype = 'int32')\n",
        "    pred = xgb_smote.predict_proba(array_file)[0]\n",
        "    print('The probability of applicant being high risk applicant is {} and probability of applicant being low risk applicant is {}'.format((round(pred[1]*100,2)),\n",
        "                                                                                                                                            (round(pred[0]*100,2))))\n",
        "    # return {'Low Risk applicant': pred[0], 'High Risk applicant': pred[1]}"
      ],
      "execution_count": 236,
      "outputs": []
    },
    {
      "cell_type": "code",
      "metadata": {
        "id": "Gx0sPeHVB2Mh",
        "outputId": "2d4f09cd-ec2a-437a-8da0-fdd0ce3ce6d4",
        "colab": {
          "base_uri": "https://localhost:8080/",
          "height": 53
        }
      },
      "source": [
        "predict_risk(age, gender, maritial_status, dependents, housing,years_at_current_resident, employment_status, foriegn_worker, savings_account_balance,\n",
        "             months_loan_taken_for, purpose, principal, emi_rate, property_1, co_applicant,\n",
        "             guarantor, number_of_loans, loan_history, average_employment_years)"
      ],
      "execution_count": 237,
      "outputs": [
        {
          "output_type": "stream",
          "text": [
            "The probability of applicant being high risk applicant is 29.34 and probability of applicant being low risk applicant is 70.66\n"
          ],
          "name": "stdout"
        },
        {
          "output_type": "execute_result",
          "data": {
            "text/plain": [
              "{'High Risk applicant': 0.2934344, 'Low Risk applicant': 0.7065656}"
            ]
          },
          "metadata": {
            "tags": []
          },
          "execution_count": 237
        }
      ]
    },
    {
      "cell_type": "code",
      "metadata": {
        "id": "q6miT5m9y6RV"
      },
      "source": [
        ""
      ],
      "execution_count": null,
      "outputs": []
    }
  ]
}