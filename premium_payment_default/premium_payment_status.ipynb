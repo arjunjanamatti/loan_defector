{
  "nbformat": 4,
  "nbformat_minor": 0,
  "metadata": {
    "colab": {
      "name": "premium_payment_status.ipynb",
      "provenance": [],
      "collapsed_sections": [],
      "mount_file_id": "1T2aa23ZiqcgLyfdUZNVzWO7yrgUTzi9V",
      "authorship_tag": "ABX9TyOYQYvPAQuv1FI843Lijfr4",
      "include_colab_link": true
    },
    "kernelspec": {
      "name": "python3",
      "display_name": "Python 3"
    },
    "accelerator": "GPU"
  },
  "cells": [
    {
      "cell_type": "markdown",
      "metadata": {
        "id": "view-in-github",
        "colab_type": "text"
      },
      "source": [
        "<a href=\"https://colab.research.google.com/github/arjunjanamatti/small_ML_and_DL_projects/blob/master/premium_payment_default/premium_payment_status.ipynb\" target=\"_parent\"><img src=\"https://colab.research.google.com/assets/colab-badge.svg\" alt=\"Open In Colab\"/></a>"
      ]
    },
    {
      "cell_type": "code",
      "metadata": {
        "id": "dmHMCzyRuAxM"
      },
      "source": [
        "import pandas as pd\n",
        "import numpy as np\n",
        "from sklearn.preprocessing import LabelEncoder\n",
        "from sklearn.model_selection import train_test_split\n",
        "import matplotlib.pyplot as plt\n",
        "import seaborn as sns\n",
        "%matplotlib inline"
      ],
      "execution_count": 1,
      "outputs": []
    },
    {
      "cell_type": "code",
      "metadata": {
        "id": "43HIMNrsuDx_",
        "outputId": "76a5e16d-8905-4179-e8fb-b6aea5b59b98",
        "colab": {
          "base_uri": "https://localhost:8080/",
          "height": 244
        }
      },
      "source": [
        "# /content/drive/My Drive/Colab Notebooks/train_data.csv\n",
        "train_df = pd.read_csv('/content/drive/My Drive/Colab Notebooks/train_data.csv')\n",
        "print('Shape of train_data.csv: ', train_df.shape)\n",
        "train_df.head()"
      ],
      "execution_count": 2,
      "outputs": [
        {
          "output_type": "stream",
          "text": [
            "Shape of train_data.csv:  (79853, 12)\n"
          ],
          "name": "stdout"
        },
        {
          "output_type": "execute_result",
          "data": {
            "text/html": [
              "<div>\n",
              "<style scoped>\n",
              "    .dataframe tbody tr th:only-of-type {\n",
              "        vertical-align: middle;\n",
              "    }\n",
              "\n",
              "    .dataframe tbody tr th {\n",
              "        vertical-align: top;\n",
              "    }\n",
              "\n",
              "    .dataframe thead th {\n",
              "        text-align: right;\n",
              "    }\n",
              "</style>\n",
              "<table border=\"1\" class=\"dataframe\">\n",
              "  <thead>\n",
              "    <tr style=\"text-align: right;\">\n",
              "      <th></th>\n",
              "      <th>id</th>\n",
              "      <th>perc_premium_paid_by_cash_credit</th>\n",
              "      <th>age_in_days</th>\n",
              "      <th>Income</th>\n",
              "      <th>Count_3-6_months_late</th>\n",
              "      <th>Count_6-12_months_late</th>\n",
              "      <th>Count_more_than_12_months_late</th>\n",
              "      <th>application_underwriting_score</th>\n",
              "      <th>no_of_premiums_paid</th>\n",
              "      <th>sourcing_channel</th>\n",
              "      <th>residence_area_type</th>\n",
              "      <th>target</th>\n",
              "    </tr>\n",
              "  </thead>\n",
              "  <tbody>\n",
              "    <tr>\n",
              "      <th>0</th>\n",
              "      <td>110936</td>\n",
              "      <td>0.429</td>\n",
              "      <td>12058</td>\n",
              "      <td>355060</td>\n",
              "      <td>0.0</td>\n",
              "      <td>0.0</td>\n",
              "      <td>0.0</td>\n",
              "      <td>99.02</td>\n",
              "      <td>13</td>\n",
              "      <td>C</td>\n",
              "      <td>Urban</td>\n",
              "      <td>1</td>\n",
              "    </tr>\n",
              "    <tr>\n",
              "      <th>1</th>\n",
              "      <td>41492</td>\n",
              "      <td>0.010</td>\n",
              "      <td>21546</td>\n",
              "      <td>315150</td>\n",
              "      <td>0.0</td>\n",
              "      <td>0.0</td>\n",
              "      <td>0.0</td>\n",
              "      <td>99.89</td>\n",
              "      <td>21</td>\n",
              "      <td>A</td>\n",
              "      <td>Urban</td>\n",
              "      <td>1</td>\n",
              "    </tr>\n",
              "    <tr>\n",
              "      <th>2</th>\n",
              "      <td>31300</td>\n",
              "      <td>0.917</td>\n",
              "      <td>17531</td>\n",
              "      <td>84140</td>\n",
              "      <td>2.0</td>\n",
              "      <td>3.0</td>\n",
              "      <td>1.0</td>\n",
              "      <td>98.69</td>\n",
              "      <td>7</td>\n",
              "      <td>C</td>\n",
              "      <td>Rural</td>\n",
              "      <td>0</td>\n",
              "    </tr>\n",
              "    <tr>\n",
              "      <th>3</th>\n",
              "      <td>19415</td>\n",
              "      <td>0.049</td>\n",
              "      <td>15341</td>\n",
              "      <td>250510</td>\n",
              "      <td>0.0</td>\n",
              "      <td>0.0</td>\n",
              "      <td>0.0</td>\n",
              "      <td>99.57</td>\n",
              "      <td>9</td>\n",
              "      <td>A</td>\n",
              "      <td>Urban</td>\n",
              "      <td>1</td>\n",
              "    </tr>\n",
              "    <tr>\n",
              "      <th>4</th>\n",
              "      <td>99379</td>\n",
              "      <td>0.052</td>\n",
              "      <td>31400</td>\n",
              "      <td>198680</td>\n",
              "      <td>0.0</td>\n",
              "      <td>0.0</td>\n",
              "      <td>0.0</td>\n",
              "      <td>99.87</td>\n",
              "      <td>12</td>\n",
              "      <td>B</td>\n",
              "      <td>Urban</td>\n",
              "      <td>1</td>\n",
              "    </tr>\n",
              "  </tbody>\n",
              "</table>\n",
              "</div>"
            ],
            "text/plain": [
              "       id  perc_premium_paid_by_cash_credit  ...  residence_area_type  target\n",
              "0  110936                             0.429  ...                Urban       1\n",
              "1   41492                             0.010  ...                Urban       1\n",
              "2   31300                             0.917  ...                Rural       0\n",
              "3   19415                             0.049  ...                Urban       1\n",
              "4   99379                             0.052  ...                Urban       1\n",
              "\n",
              "[5 rows x 12 columns]"
            ]
          },
          "metadata": {
            "tags": []
          },
          "execution_count": 2
        }
      ]
    },
    {
      "cell_type": "code",
      "metadata": {
        "id": "39tt1kYbvAbQ",
        "outputId": "15fbb334-7ed1-4aff-f21c-e12faefb6053",
        "colab": {
          "base_uri": "https://localhost:8080/"
        }
      },
      "source": [
        "train_df.info()"
      ],
      "execution_count": 3,
      "outputs": [
        {
          "output_type": "stream",
          "text": [
            "<class 'pandas.core.frame.DataFrame'>\n",
            "RangeIndex: 79853 entries, 0 to 79852\n",
            "Data columns (total 12 columns):\n",
            " #   Column                            Non-Null Count  Dtype  \n",
            "---  ------                            --------------  -----  \n",
            " 0   id                                79853 non-null  int64  \n",
            " 1   perc_premium_paid_by_cash_credit  79853 non-null  float64\n",
            " 2   age_in_days                       79853 non-null  int64  \n",
            " 3   Income                            79853 non-null  int64  \n",
            " 4   Count_3-6_months_late             79756 non-null  float64\n",
            " 5   Count_6-12_months_late            79756 non-null  float64\n",
            " 6   Count_more_than_12_months_late    79756 non-null  float64\n",
            " 7   application_underwriting_score    76879 non-null  float64\n",
            " 8   no_of_premiums_paid               79853 non-null  int64  \n",
            " 9   sourcing_channel                  79853 non-null  object \n",
            " 10  residence_area_type               79853 non-null  object \n",
            " 11  target                            79853 non-null  int64  \n",
            "dtypes: float64(5), int64(5), object(2)\n",
            "memory usage: 7.3+ MB\n"
          ],
          "name": "stdout"
        }
      ]
    },
    {
      "cell_type": "markdown",
      "metadata": {
        "id": "nzwXbgmIyG1c"
      },
      "source": [
        "* Number of null values in a column, if it has any null values\n",
        "* format of the result is\n",
        "  * (column_name, number of null values in column_name)"
      ]
    },
    {
      "cell_type": "code",
      "metadata": {
        "id": "K0UpdsECvJ25",
        "outputId": "122ccf39-3d88-48f2-b80f-0c6f95c30ada",
        "colab": {
          "base_uri": "https://localhost:8080/"
        }
      },
      "source": [
        "missing_value_count = train_df.isna().sum()\n",
        "column_names = list(train_df.columns)\n",
        "[(column_names[index], value) for index, value in enumerate(missing_value_count) if value>0]"
      ],
      "execution_count": 4,
      "outputs": [
        {
          "output_type": "execute_result",
          "data": {
            "text/plain": [
              "[('Count_3-6_months_late', 97),\n",
              " ('Count_6-12_months_late', 97),\n",
              " ('Count_more_than_12_months_late', 97),\n",
              " ('application_underwriting_score', 2974)]"
            ]
          },
          "metadata": {
            "tags": []
          },
          "execution_count": 4
        }
      ]
    },
    {
      "cell_type": "markdown",
      "metadata": {
        "id": "Rh7WGJd1x6kO"
      },
      "source": [
        "* Percentage of missing values in each column, when compared to total values"
      ]
    },
    {
      "cell_type": "code",
      "metadata": {
        "id": "ojgYpUSVxOfu",
        "outputId": "86c75cbb-ed65-4161-b6c5-9f5f86b15068",
        "colab": {
          "base_uri": "https://localhost:8080/"
        }
      },
      "source": [
        "[(column_names[index], round(((value/len(train_df))*100),2)) \n",
        "for index, value in enumerate(missing_value_count) if value>0]"
      ],
      "execution_count": 5,
      "outputs": [
        {
          "output_type": "execute_result",
          "data": {
            "text/plain": [
              "[('Count_3-6_months_late', 0.12),\n",
              " ('Count_6-12_months_late', 0.12),\n",
              " ('Count_more_than_12_months_late', 0.12),\n",
              " ('application_underwriting_score', 3.72)]"
            ]
          },
          "metadata": {
            "tags": []
          },
          "execution_count": 5
        }
      ]
    },
    {
      "cell_type": "markdown",
      "metadata": {
        "id": "98jwmXYpyzNE"
      },
      "source": [
        "#### Inference from Data\n",
        "\n",
        "* Mean age of the applicant is 35.55, and median age of the applicant age is 33\n",
        "* Number of dependents is around 1 for both mean and median\n",
        "* Average duration of loan taken is around 21 months, and median for loan duration taken is 18 months.\n",
        "* Average principal amount of loan is [3,271,258], whereas the median principal amount is [2,319,500], since there is difference in median and mean, with mean higher than median, there are few loans with very high amount which are pushing the average higher than almost 1 million higher than the median value.\n"
      ]
    },
    {
      "cell_type": "code",
      "metadata": {
        "id": "4jXrb3w3vT4b",
        "outputId": "27c9a6e5-c77c-41fb-eea0-426eca5aec1a",
        "colab": {
          "base_uri": "https://localhost:8080/",
          "height": 331
        }
      },
      "source": [
        "train_df.iloc[:,1:].describe().transpose()"
      ],
      "execution_count": 6,
      "outputs": [
        {
          "output_type": "execute_result",
          "data": {
            "text/html": [
              "<div>\n",
              "<style scoped>\n",
              "    .dataframe tbody tr th:only-of-type {\n",
              "        vertical-align: middle;\n",
              "    }\n",
              "\n",
              "    .dataframe tbody tr th {\n",
              "        vertical-align: top;\n",
              "    }\n",
              "\n",
              "    .dataframe thead th {\n",
              "        text-align: right;\n",
              "    }\n",
              "</style>\n",
              "<table border=\"1\" class=\"dataframe\">\n",
              "  <thead>\n",
              "    <tr style=\"text-align: right;\">\n",
              "      <th></th>\n",
              "      <th>count</th>\n",
              "      <th>mean</th>\n",
              "      <th>std</th>\n",
              "      <th>min</th>\n",
              "      <th>25%</th>\n",
              "      <th>50%</th>\n",
              "      <th>75%</th>\n",
              "      <th>max</th>\n",
              "    </tr>\n",
              "  </thead>\n",
              "  <tbody>\n",
              "    <tr>\n",
              "      <th>perc_premium_paid_by_cash_credit</th>\n",
              "      <td>79853.0</td>\n",
              "      <td>0.314288</td>\n",
              "      <td>0.334915</td>\n",
              "      <td>0.0</td>\n",
              "      <td>0.034</td>\n",
              "      <td>0.167</td>\n",
              "      <td>0.538</td>\n",
              "      <td>1.00</td>\n",
              "    </tr>\n",
              "    <tr>\n",
              "      <th>age_in_days</th>\n",
              "      <td>79853.0</td>\n",
              "      <td>18846.696906</td>\n",
              "      <td>5208.719136</td>\n",
              "      <td>7670.0</td>\n",
              "      <td>14974.000</td>\n",
              "      <td>18625.000</td>\n",
              "      <td>22636.000</td>\n",
              "      <td>37602.00</td>\n",
              "    </tr>\n",
              "    <tr>\n",
              "      <th>Income</th>\n",
              "      <td>79853.0</td>\n",
              "      <td>208847.171177</td>\n",
              "      <td>496582.597257</td>\n",
              "      <td>24030.0</td>\n",
              "      <td>108010.000</td>\n",
              "      <td>166560.000</td>\n",
              "      <td>252090.000</td>\n",
              "      <td>90262600.00</td>\n",
              "    </tr>\n",
              "    <tr>\n",
              "      <th>Count_3-6_months_late</th>\n",
              "      <td>79756.0</td>\n",
              "      <td>0.248671</td>\n",
              "      <td>0.691468</td>\n",
              "      <td>0.0</td>\n",
              "      <td>0.000</td>\n",
              "      <td>0.000</td>\n",
              "      <td>0.000</td>\n",
              "      <td>13.00</td>\n",
              "    </tr>\n",
              "    <tr>\n",
              "      <th>Count_6-12_months_late</th>\n",
              "      <td>79756.0</td>\n",
              "      <td>0.078188</td>\n",
              "      <td>0.436507</td>\n",
              "      <td>0.0</td>\n",
              "      <td>0.000</td>\n",
              "      <td>0.000</td>\n",
              "      <td>0.000</td>\n",
              "      <td>17.00</td>\n",
              "    </tr>\n",
              "    <tr>\n",
              "      <th>Count_more_than_12_months_late</th>\n",
              "      <td>79756.0</td>\n",
              "      <td>0.060008</td>\n",
              "      <td>0.312023</td>\n",
              "      <td>0.0</td>\n",
              "      <td>0.000</td>\n",
              "      <td>0.000</td>\n",
              "      <td>0.000</td>\n",
              "      <td>11.00</td>\n",
              "    </tr>\n",
              "    <tr>\n",
              "      <th>application_underwriting_score</th>\n",
              "      <td>76879.0</td>\n",
              "      <td>99.067291</td>\n",
              "      <td>0.739799</td>\n",
              "      <td>91.9</td>\n",
              "      <td>98.810</td>\n",
              "      <td>99.210</td>\n",
              "      <td>99.540</td>\n",
              "      <td>99.89</td>\n",
              "    </tr>\n",
              "    <tr>\n",
              "      <th>no_of_premiums_paid</th>\n",
              "      <td>79853.0</td>\n",
              "      <td>10.863887</td>\n",
              "      <td>5.170687</td>\n",
              "      <td>2.0</td>\n",
              "      <td>7.000</td>\n",
              "      <td>10.000</td>\n",
              "      <td>14.000</td>\n",
              "      <td>60.00</td>\n",
              "    </tr>\n",
              "    <tr>\n",
              "      <th>target</th>\n",
              "      <td>79853.0</td>\n",
              "      <td>0.937410</td>\n",
              "      <td>0.242226</td>\n",
              "      <td>0.0</td>\n",
              "      <td>1.000</td>\n",
              "      <td>1.000</td>\n",
              "      <td>1.000</td>\n",
              "      <td>1.00</td>\n",
              "    </tr>\n",
              "  </tbody>\n",
              "</table>\n",
              "</div>"
            ],
            "text/plain": [
              "                                    count  ...          max\n",
              "perc_premium_paid_by_cash_credit  79853.0  ...         1.00\n",
              "age_in_days                       79853.0  ...     37602.00\n",
              "Income                            79853.0  ...  90262600.00\n",
              "Count_3-6_months_late             79756.0  ...        13.00\n",
              "Count_6-12_months_late            79756.0  ...        17.00\n",
              "Count_more_than_12_months_late    79756.0  ...        11.00\n",
              "application_underwriting_score    76879.0  ...        99.89\n",
              "no_of_premiums_paid               79853.0  ...        60.00\n",
              "target                            79853.0  ...         1.00\n",
              "\n",
              "[9 rows x 8 columns]"
            ]
          },
          "metadata": {
            "tags": []
          },
          "execution_count": 6
        }
      ]
    },
    {
      "cell_type": "code",
      "metadata": {
        "id": "hrRgYq05vvv2"
      },
      "source": [
        "object_column_names = (train_df.loc[:, train_df.dtypes == np.object]).columns\n",
        "numeric_column_names = (train_df.loc[:, train_df.dtypes == np.int64]).columns"
      ],
      "execution_count": 7,
      "outputs": []
    },
    {
      "cell_type": "code",
      "metadata": {
        "id": "2QxDVN7NvcNL",
        "outputId": "e54fafc9-7370-46f2-9289-a65822043b64",
        "colab": {
          "base_uri": "https://localhost:8080/",
          "height": 765
        }
      },
      "source": [
        "updated_data_1 = train_df.iloc[:,1:].drop(columns = object_column_names)\n",
        "corr = updated_data_1.corr()\n",
        "\n",
        "fig = plt.figure(figsize = (25,10))\n",
        "ax = fig.add_subplot(1,1,1)\n",
        "cax = ax.matshow(corr,cmap='coolwarm', vmin=-1, vmax=1)\n",
        "fig.colorbar(cax)\n",
        "ticks = np.arange(0,len(updated_data_1.columns),1)\n",
        "ax.set_xticks(ticks)\n",
        "plt.xticks(rotation=90)\n",
        "ax.set_yticks(ticks)\n",
        "ax.set_xticklabels(updated_data_1.columns)\n",
        "ax.set_yticklabels(updated_data_1.columns)\n",
        "plt.show()"
      ],
      "execution_count": 8,
      "outputs": [
        {
          "output_type": "display_data",
          "data": {
            "image/png": "[encoded data removed]",
            "text/plain": [
              "<Figure size 1800x720 with 2 Axes>"
            ]
          },
          "metadata": {
            "tags": [],
            "needs_background": "light"
          }
        }
      ]
    },
    {
      "cell_type": "code",
      "metadata": {
        "id": "4rcUvTKyvqIR",
        "outputId": "e850bd45-161b-4516-f4cc-b9ef67c2f390",
        "colab": {
          "base_uri": "https://localhost:8080/",
          "height": 1000
        }
      },
      "source": [
        "plt.figure(figsize=(20,20))\n",
        "sns.heatmap(train_df.iloc[:,1:].corr(), annot=True)\n",
        "plt.show()"
      ],
      "execution_count": 9,
      "outputs": [
        {
          "output_type": "display_data",
          "data": {
            "image/png": "[encoded data removed]",
            "text/plain": [
              "<Figure size 1440x1440 with 2 Axes>"
            ]
          },
          "metadata": {
            "tags": [],
            "needs_background": "light"
          }
        }
      ]
    },
    {
      "cell_type": "markdown",
      "metadata": {
        "id": "14l7-Dqr1ZVG"
      },
      "source": [
        "#### Handling missing values"
      ]
    },
    {
      "cell_type": "markdown",
      "metadata": {
        "id": "14VpFiP12U4u"
      },
      "source": [
        "* Since there are only 97 rows which are missing for columns = ['Count_3-6_months_late','Count_6-12_months_late', 'Count_more_than_12_months_late'], in these 97 rows the data is missing for above 3 columns along with 'application_underwriting_score' "
      ]
    },
    {
      "cell_type": "code",
      "metadata": {
        "id": "wVy1Vc5hzfJj"
      },
      "source": [
        "train_df = train_df.dropna(subset = ['Count_3-6_months_late','Count_6-12_months_late', 'Count_more_than_12_months_late'])"
      ],
      "execution_count": 10,
      "outputs": []
    },
    {
      "cell_type": "code",
      "metadata": {
        "id": "q0rw86Sw2JCu",
        "outputId": "19d6e35c-68a3-48a1-9ee8-a13fc85641c3",
        "colab": {
          "base_uri": "https://localhost:8080/",
          "height": 444
        }
      },
      "source": [
        "listed_columns_mode_fill = list(train_df.columns)\n",
        "for i in range(len(listed_columns_mode_fill)):\n",
        "    a = len(train_df[listed_columns_mode_fill[i]].unique())\n",
        "    print(\"In column: [{}]\".format(listed_columns_mode_fill[i]), \" number of unique elements are: \", a )\n",
        "    train_df[listed_columns_mode_fill[i]].fillna(train_df[listed_columns_mode_fill[i]].mode()[0], inplace=True)\n",
        "train_df.head()"
      ],
      "execution_count": 11,
      "outputs": [
        {
          "output_type": "stream",
          "text": [
            "In column: [id]  number of unique elements are:  79756\n",
            "In column: [perc_premium_paid_by_cash_credit]  number of unique elements are:  1001\n",
            "In column: [age_in_days]  number of unique elements are:  833\n",
            "In column: [Income]  number of unique elements are:  24150\n",
            "In column: [Count_3-6_months_late]  number of unique elements are:  14\n",
            "In column: [Count_6-12_months_late]  number of unique elements are:  17\n",
            "In column: [Count_more_than_12_months_late]  number of unique elements are:  10\n",
            "In column: [application_underwriting_score]  number of unique elements are:  673\n",
            "In column: [no_of_premiums_paid]  number of unique elements are:  57\n",
            "In column: [sourcing_channel]  number of unique elements are:  5\n",
            "In column: [residence_area_type]  number of unique elements are:  2\n",
            "In column: [target]  number of unique elements are:  2\n"
          ],
          "name": "stdout"
        },
        {
          "output_type": "execute_result",
          "data": {
            "text/html": [
              "<div>\n",
              "<style scoped>\n",
              "    .dataframe tbody tr th:only-of-type {\n",
              "        vertical-align: middle;\n",
              "    }\n",
              "\n",
              "    .dataframe tbody tr th {\n",
              "        vertical-align: top;\n",
              "    }\n",
              "\n",
              "    .dataframe thead th {\n",
              "        text-align: right;\n",
              "    }\n",
              "</style>\n",
              "<table border=\"1\" class=\"dataframe\">\n",
              "  <thead>\n",
              "    <tr style=\"text-align: right;\">\n",
              "      <th></th>\n",
              "      <th>id</th>\n",
              "      <th>perc_premium_paid_by_cash_credit</th>\n",
              "      <th>age_in_days</th>\n",
              "      <th>Income</th>\n",
              "      <th>Count_3-6_months_late</th>\n",
              "      <th>Count_6-12_months_late</th>\n",
              "      <th>Count_more_than_12_months_late</th>\n",
              "      <th>application_underwriting_score</th>\n",
              "      <th>no_of_premiums_paid</th>\n",
              "      <th>sourcing_channel</th>\n",
              "      <th>residence_area_type</th>\n",
              "      <th>target</th>\n",
              "    </tr>\n",
              "  </thead>\n",
              "  <tbody>\n",
              "    <tr>\n",
              "      <th>0</th>\n",
              "      <td>110936</td>\n",
              "      <td>0.429</td>\n",
              "      <td>12058</td>\n",
              "      <td>355060</td>\n",
              "      <td>0.0</td>\n",
              "      <td>0.0</td>\n",
              "      <td>0.0</td>\n",
              "      <td>99.02</td>\n",
              "      <td>13</td>\n",
              "      <td>C</td>\n",
              "      <td>Urban</td>\n",
              "      <td>1</td>\n",
              "    </tr>\n",
              "    <tr>\n",
              "      <th>1</th>\n",
              "      <td>41492</td>\n",
              "      <td>0.010</td>\n",
              "      <td>21546</td>\n",
              "      <td>315150</td>\n",
              "      <td>0.0</td>\n",
              "      <td>0.0</td>\n",
              "      <td>0.0</td>\n",
              "      <td>99.89</td>\n",
              "      <td>21</td>\n",
              "      <td>A</td>\n",
              "      <td>Urban</td>\n",
              "      <td>1</td>\n",
              "    </tr>\n",
              "    <tr>\n",
              "      <th>2</th>\n",
              "      <td>31300</td>\n",
              "      <td>0.917</td>\n",
              "      <td>17531</td>\n",
              "      <td>84140</td>\n",
              "      <td>2.0</td>\n",
              "      <td>3.0</td>\n",
              "      <td>1.0</td>\n",
              "      <td>98.69</td>\n",
              "      <td>7</td>\n",
              "      <td>C</td>\n",
              "      <td>Rural</td>\n",
              "      <td>0</td>\n",
              "    </tr>\n",
              "    <tr>\n",
              "      <th>3</th>\n",
              "      <td>19415</td>\n",
              "      <td>0.049</td>\n",
              "      <td>15341</td>\n",
              "      <td>250510</td>\n",
              "      <td>0.0</td>\n",
              "      <td>0.0</td>\n",
              "      <td>0.0</td>\n",
              "      <td>99.57</td>\n",
              "      <td>9</td>\n",
              "      <td>A</td>\n",
              "      <td>Urban</td>\n",
              "      <td>1</td>\n",
              "    </tr>\n",
              "    <tr>\n",
              "      <th>4</th>\n",
              "      <td>99379</td>\n",
              "      <td>0.052</td>\n",
              "      <td>31400</td>\n",
              "      <td>198680</td>\n",
              "      <td>0.0</td>\n",
              "      <td>0.0</td>\n",
              "      <td>0.0</td>\n",
              "      <td>99.87</td>\n",
              "      <td>12</td>\n",
              "      <td>B</td>\n",
              "      <td>Urban</td>\n",
              "      <td>1</td>\n",
              "    </tr>\n",
              "  </tbody>\n",
              "</table>\n",
              "</div>"
            ],
            "text/plain": [
              "       id  perc_premium_paid_by_cash_credit  ...  residence_area_type  target\n",
              "0  110936                             0.429  ...                Urban       1\n",
              "1   41492                             0.010  ...                Urban       1\n",
              "2   31300                             0.917  ...                Rural       0\n",
              "3   19415                             0.049  ...                Urban       1\n",
              "4   99379                             0.052  ...                Urban       1\n",
              "\n",
              "[5 rows x 12 columns]"
            ]
          },
          "metadata": {
            "tags": []
          },
          "execution_count": 11
        }
      ]
    },
    {
      "cell_type": "code",
      "metadata": {
        "id": "wQGxmu123ayz",
        "outputId": "6ab06701-2f9f-460d-fd9a-140021d54dbf",
        "colab": {
          "base_uri": "https://localhost:8080/"
        }
      },
      "source": [
        "train_df.info()"
      ],
      "execution_count": 12,
      "outputs": [
        {
          "output_type": "stream",
          "text": [
            "<class 'pandas.core.frame.DataFrame'>\n",
            "Int64Index: 79756 entries, 0 to 79852\n",
            "Data columns (total 12 columns):\n",
            " #   Column                            Non-Null Count  Dtype  \n",
            "---  ------                            --------------  -----  \n",
            " 0   id                                79756 non-null  int64  \n",
            " 1   perc_premium_paid_by_cash_credit  79756 non-null  float64\n",
            " 2   age_in_days                       79756 non-null  int64  \n",
            " 3   Income                            79756 non-null  int64  \n",
            " 4   Count_3-6_months_late             79756 non-null  float64\n",
            " 5   Count_6-12_months_late            79756 non-null  float64\n",
            " 6   Count_more_than_12_months_late    79756 non-null  float64\n",
            " 7   application_underwriting_score    79756 non-null  float64\n",
            " 8   no_of_premiums_paid               79756 non-null  int64  \n",
            " 9   sourcing_channel                  79756 non-null  object \n",
            " 10  residence_area_type               79756 non-null  object \n",
            " 11  target                            79756 non-null  int64  \n",
            "dtypes: float64(5), int64(5), object(2)\n",
            "memory usage: 7.9+ MB\n"
          ],
          "name": "stdout"
        }
      ]
    },
    {
      "cell_type": "markdown",
      "metadata": {
        "id": "Nmgz6PVK4M2D"
      },
      "source": [
        "#### Handling categorical columns"
      ]
    },
    {
      "cell_type": "code",
      "metadata": {
        "id": "NNom64zx4EPA",
        "outputId": "766bfed0-cdea-40af-b5b4-7353d1874d3c",
        "colab": {
          "base_uri": "https://localhost:8080/",
          "height": 206
        }
      },
      "source": [
        "object_column_names = (train_df.loc[:, train_df.dtypes == np.object]).columns\n",
        "train_df[object_column_names].head()"
      ],
      "execution_count": 13,
      "outputs": [
        {
          "output_type": "execute_result",
          "data": {
            "text/html": [
              "<div>\n",
              "<style scoped>\n",
              "    .dataframe tbody tr th:only-of-type {\n",
              "        vertical-align: middle;\n",
              "    }\n",
              "\n",
              "    .dataframe tbody tr th {\n",
              "        vertical-align: top;\n",
              "    }\n",
              "\n",
              "    .dataframe thead th {\n",
              "        text-align: right;\n",
              "    }\n",
              "</style>\n",
              "<table border=\"1\" class=\"dataframe\">\n",
              "  <thead>\n",
              "    <tr style=\"text-align: right;\">\n",
              "      <th></th>\n",
              "      <th>sourcing_channel</th>\n",
              "      <th>residence_area_type</th>\n",
              "    </tr>\n",
              "  </thead>\n",
              "  <tbody>\n",
              "    <tr>\n",
              "      <th>0</th>\n",
              "      <td>C</td>\n",
              "      <td>Urban</td>\n",
              "    </tr>\n",
              "    <tr>\n",
              "      <th>1</th>\n",
              "      <td>A</td>\n",
              "      <td>Urban</td>\n",
              "    </tr>\n",
              "    <tr>\n",
              "      <th>2</th>\n",
              "      <td>C</td>\n",
              "      <td>Rural</td>\n",
              "    </tr>\n",
              "    <tr>\n",
              "      <th>3</th>\n",
              "      <td>A</td>\n",
              "      <td>Urban</td>\n",
              "    </tr>\n",
              "    <tr>\n",
              "      <th>4</th>\n",
              "      <td>B</td>\n",
              "      <td>Urban</td>\n",
              "    </tr>\n",
              "  </tbody>\n",
              "</table>\n",
              "</div>"
            ],
            "text/plain": [
              "  sourcing_channel residence_area_type\n",
              "0                C               Urban\n",
              "1                A               Urban\n",
              "2                C               Rural\n",
              "3                A               Urban\n",
              "4                B               Urban"
            ]
          },
          "metadata": {
            "tags": []
          },
          "execution_count": 13
        }
      ]
    },
    {
      "cell_type": "code",
      "metadata": {
        "id": "tO8YFf-V4Rqn",
        "outputId": "c11c2599-35da-426f-bf0f-f874e8bdb4b8",
        "colab": {
          "base_uri": "https://localhost:8080/"
        }
      },
      "source": [
        "for i in object_column_names:\n",
        "  labelencoder = LabelEncoder()\n",
        "  train_df[i] = labelencoder.fit_transform(train_df[i])\n",
        "train_df.info()"
      ],
      "execution_count": 14,
      "outputs": [
        {
          "output_type": "stream",
          "text": [
            "<class 'pandas.core.frame.DataFrame'>\n",
            "Int64Index: 79756 entries, 0 to 79852\n",
            "Data columns (total 12 columns):\n",
            " #   Column                            Non-Null Count  Dtype  \n",
            "---  ------                            --------------  -----  \n",
            " 0   id                                79756 non-null  int64  \n",
            " 1   perc_premium_paid_by_cash_credit  79756 non-null  float64\n",
            " 2   age_in_days                       79756 non-null  int64  \n",
            " 3   Income                            79756 non-null  int64  \n",
            " 4   Count_3-6_months_late             79756 non-null  float64\n",
            " 5   Count_6-12_months_late            79756 non-null  float64\n",
            " 6   Count_more_than_12_months_late    79756 non-null  float64\n",
            " 7   application_underwriting_score    79756 non-null  float64\n",
            " 8   no_of_premiums_paid               79756 non-null  int64  \n",
            " 9   sourcing_channel                  79756 non-null  int64  \n",
            " 10  residence_area_type               79756 non-null  int64  \n",
            " 11  target                            79756 non-null  int64  \n",
            "dtypes: float64(5), int64(7)\n",
            "memory usage: 7.9 MB\n"
          ],
          "name": "stdout"
        }
      ]
    },
    {
      "cell_type": "markdown",
      "metadata": {
        "id": "ByKQJ1Cj4ka6"
      },
      "source": [
        "#### Handling imbalance dataset"
      ]
    },
    {
      "cell_type": "code",
      "metadata": {
        "id": "e1KlZJIV2AHJ",
        "outputId": "6ea0b41f-5a67-4338-9926-a7ed0d5b2bce",
        "colab": {
          "base_uri": "https://localhost:8080/"
        }
      },
      "source": [
        "(train_df.groupby('target').size())"
      ],
      "execution_count": 15,
      "outputs": [
        {
          "output_type": "execute_result",
          "data": {
            "text/plain": [
              "target\n",
              "0     4938\n",
              "1    74818\n",
              "dtype: int64"
            ]
          },
          "metadata": {
            "tags": []
          },
          "execution_count": 15
        }
      ]
    },
    {
      "cell_type": "code",
      "metadata": {
        "id": "lLaTq4d0v7P3",
        "outputId": "ae6ee4bf-1ad2-4627-80a4-3ebd6ec94b8a",
        "colab": {
          "base_uri": "https://localhost:8080/",
          "height": 351
        }
      },
      "source": [
        "import seaborn as sns\n",
        "sns.countplot(train_df['target'],label=\"Count\")\n",
        "plt.title('Classification of paid and unpaid premium')\n",
        "plt.xticks([0,1], ['0: not paid premium','1: Paid premium'])\n",
        "plt.show()"
      ],
      "execution_count": 16,
      "outputs": [
        {
          "output_type": "stream",
          "text": [
            "/usr/local/lib/python3.6/dist-packages/seaborn/_decorators.py:43: FutureWarning: Pass the following variable as a keyword arg: x. From version 0.12, the only valid positional argument will be `data`, and passing other arguments without an explicit keyword will result in an error or misinterpretation.\n",
            "  FutureWarning\n"
          ],
          "name": "stderr"
        },
        {
          "output_type": "display_data",
          "data": {
            "image/png": "[encoded data removed]",
            "text/plain": [
              "<Figure size 432x288 with 1 Axes>"
            ]
          },
          "metadata": {
            "tags": [],
            "needs_background": "light"
          }
        }
      ]
    },
    {
      "cell_type": "markdown",
      "metadata": {
        "id": "ew4hjSPz4wja"
      },
      "source": [
        "##### Handling imbalance with imblearn library"
      ]
    },
    {
      "cell_type": "code",
      "metadata": {
        "id": "risTLkY84oIb",
        "outputId": "4cf1608a-b859-4cab-d725-d4776a37c22d",
        "colab": {
          "base_uri": "https://localhost:8080/"
        }
      },
      "source": [
        "import imblearn\n",
        "from imblearn.under_sampling import TomekLinks\n",
        "from imblearn.over_sampling import SMOTE\n",
        "from imblearn.under_sampling import NearMiss\n",
        "from collections import Counter "
      ],
      "execution_count": 17,
      "outputs": [
        {
          "output_type": "stream",
          "text": [
            "/usr/local/lib/python3.6/dist-packages/sklearn/externals/six.py:31: FutureWarning: The module is deprecated in version 0.21 and will be removed in version 0.23 since we've dropped support for Python 2.7. Please rely on the official version of six (https://pypi.org/project/six/).\n",
            "  \"(https://pypi.org/project/six/).\", FutureWarning)\n",
            "/usr/local/lib/python3.6/dist-packages/sklearn/utils/deprecation.py:144: FutureWarning: The sklearn.neighbors.base module is  deprecated in version 0.22 and will be removed in version 0.24. The corresponding classes / functions should instead be imported from sklearn.neighbors. Anything that cannot be imported from sklearn.neighbors is now part of the private API.\n",
            "  warnings.warn(message, FutureWarning)\n"
          ],
          "name": "stderr"
        }
      ]
    },
    {
      "cell_type": "code",
      "metadata": {
        "id": "OCT2I6BF4zI0"
      },
      "source": [
        "X = train_df.iloc[:,1:-1]\n",
        "y = train_df.iloc[:,-1]"
      ],
      "execution_count": 18,
      "outputs": []
    },
    {
      "cell_type": "markdown",
      "metadata": {
        "id": "dAA2MCT_5JiC"
      },
      "source": [
        "* Tomek links are pairs of very close instances of paid and unpaid applicants, this will try to remove all the instances which are close to each other, hence the remaining data will be further apart, and this will be helpful in the classification process."
      ]
    },
    {
      "cell_type": "code",
      "metadata": {
        "id": "RVQhk3dq5ABv",
        "outputId": "05b3a998-d051-4e88-b669-3c6b7a01dcc2",
        "colab": {
          "base_uri": "https://localhost:8080/"
        }
      },
      "source": [
        "tome_links = TomekLinks(sampling_strategy = 'majority')\n",
        "\n",
        "x_tome_links, y_tome_links = tome_links.fit_resample(X, y)\n",
        "\n",
        "print('Original dataset shape', Counter(y))\n",
        "print('Resample dataset shape', Counter(y_tome_links))"
      ],
      "execution_count": 19,
      "outputs": [
        {
          "output_type": "stream",
          "text": [
            "Original dataset shape Counter({1: 74818, 0: 4938})\n",
            "Resample dataset shape Counter({1: 72068, 0: 4938})\n"
          ],
          "name": "stdout"
        },
        {
          "output_type": "stream",
          "text": [
            "/usr/local/lib/python3.6/dist-packages/sklearn/utils/deprecation.py:87: FutureWarning: Function safe_indexing is deprecated; safe_indexing is deprecated in version 0.22 and will be removed in version 0.24.\n",
            "  warnings.warn(msg, category=FutureWarning)\n"
          ],
          "name": "stderr"
        }
      ]
    },
    {
      "cell_type": "markdown",
      "metadata": {
        "id": "-Anbd_ts5WKg"
      },
      "source": [
        "Synthetic Minority Oversampling Technique (SMOTE)\n",
        "\n",
        "SMOTE algorithm works in 4 simple steps:\n",
        "\n",
        "* It selects the minority class, which is premium paid applicant in our case\n",
        "* It finds its k nearest neighbors, and places a synthetic point on the line jointing the point under consideration and its chose neighbor.\n",
        "* This process is repeated till the premium paid applicant class is equal to premium UN-paid applicant."
      ]
    },
    {
      "cell_type": "code",
      "metadata": {
        "id": "5Nas9PQD5EVz",
        "outputId": "7b738ae6-fcd6-424d-a4db-e32720a6497f",
        "colab": {
          "base_uri": "https://localhost:8080/"
        }
      },
      "source": [
        "smote = SMOTE()\n",
        "\n",
        "x_smote, y_smote = smote.fit_resample(X, y)\n",
        "print('Original dataset shape', Counter(y))\n",
        "print('Resample dataset shape', Counter(y_smote))"
      ],
      "execution_count": 20,
      "outputs": [
        {
          "output_type": "stream",
          "text": [
            "/usr/local/lib/python3.6/dist-packages/sklearn/utils/deprecation.py:87: FutureWarning: Function safe_indexing is deprecated; safe_indexing is deprecated in version 0.22 and will be removed in version 0.24.\n",
            "  warnings.warn(msg, category=FutureWarning)\n"
          ],
          "name": "stderr"
        },
        {
          "output_type": "stream",
          "text": [
            "Original dataset shape Counter({1: 74818, 0: 4938})\n",
            "Resample dataset shape Counter({1: 74818, 0: 74818})\n"
          ],
          "name": "stdout"
        }
      ]
    },
    {
      "cell_type": "markdown",
      "metadata": {
        "id": "5xlv5VKf5n4B"
      },
      "source": [
        "NearMiss is a technique which focusses on reducing the majority class, which is premium paid applicant in our case, and the end result will have premium un-paid applicants equal to premium paid applicant"
      ]
    },
    {
      "cell_type": "code",
      "metadata": {
        "id": "aoe-5Ni35juk",
        "outputId": "80568dae-4bde-441b-9518-a83284db1a3d",
        "colab": {
          "base_uri": "https://localhost:8080/"
        }
      },
      "source": [
        "near_miss = NearMiss()\n",
        "x_near_miss, y_near_miss = near_miss.fit_resample(X, y)\n",
        "print('Original dataset shape', Counter(y))\n",
        "print('Resample dataset shape', Counter(y_near_miss))"
      ],
      "execution_count": 21,
      "outputs": [
        {
          "output_type": "stream",
          "text": [
            "/usr/local/lib/python3.6/dist-packages/sklearn/utils/deprecation.py:87: FutureWarning: Function safe_indexing is deprecated; safe_indexing is deprecated in version 0.22 and will be removed in version 0.24.\n",
            "  warnings.warn(msg, category=FutureWarning)\n",
            "/usr/local/lib/python3.6/dist-packages/sklearn/utils/deprecation.py:87: FutureWarning: Function safe_indexing is deprecated; safe_indexing is deprecated in version 0.22 and will be removed in version 0.24.\n",
            "  warnings.warn(msg, category=FutureWarning)\n"
          ],
          "name": "stderr"
        },
        {
          "output_type": "stream",
          "text": [
            "Original dataset shape Counter({1: 74818, 0: 4938})\n",
            "Resample dataset shape Counter({0: 4938, 1: 4938})\n"
          ],
          "name": "stdout"
        },
        {
          "output_type": "stream",
          "text": [
            "/usr/local/lib/python3.6/dist-packages/sklearn/utils/deprecation.py:87: FutureWarning: Function safe_indexing is deprecated; safe_indexing is deprecated in version 0.22 and will be removed in version 0.24.\n",
            "  warnings.warn(msg, category=FutureWarning)\n"
          ],
          "name": "stderr"
        }
      ]
    },
    {
      "cell_type": "markdown",
      "metadata": {
        "id": "M2cTGPgs56as"
      },
      "source": [
        "#### Machine Learning Algorithm"
      ]
    },
    {
      "cell_type": "code",
      "metadata": {
        "id": "mMIob78C8GmA"
      },
      "source": [
        "file_location = '/content/drive/My Drive/Colab Notebooks/test.csv'\n",
        "def get_test_data(file_location):\n",
        "  #load the dataframe\n",
        "  test_df = pd.read_csv(file_location)\n",
        "  print('Shape of test_df.csv: ', test_df.shape)\n",
        "  # check for missing values\n",
        "  missing_value_count = test_df.isna().sum()\n",
        "  column_names = list(test_df.columns)\n",
        "  print([(column_names[index], value) for index, value in enumerate(missing_value_count) if value>0])\n",
        "\n",
        "  # handle missing values\n",
        "  test_df = test_df.dropna(subset = ['Count_3-6_months_late','Count_6-12_months_late', 'Count_more_than_12_months_late'])\n",
        "  listed_columns_mode_fill = list(test_df.columns)\n",
        "  for i in range(len(listed_columns_mode_fill)):\n",
        "      a = len(test_df[listed_columns_mode_fill[i]].unique())\n",
        "      print(\"In column: [{}]\".format(listed_columns_mode_fill[i]), \" number of unique elements are: \", a )\n",
        "      test_df[listed_columns_mode_fill[i]].fillna(test_df[listed_columns_mode_fill[i]].mode()[0], inplace=True)\n",
        "\n",
        "  # handle categorical columns\n",
        "  object_column_names = (test_df.loc[:, test_df.dtypes == np.object]).columns\n",
        "  for i in object_column_names:\n",
        "    labelencoder = LabelEncoder()\n",
        "    test_df[i] = labelencoder.fit_transform(test_df[i])\n",
        "  return test_df"
      ],
      "execution_count": 22,
      "outputs": []
    },
    {
      "cell_type": "code",
      "metadata": {
        "id": "Yvfk2eD45xxU",
        "outputId": "019c1771-8247-4f1b-8659-a503e6b1022f",
        "colab": {
          "base_uri": "https://localhost:8080/"
        }
      },
      "source": [
        "from sklearn.linear_model import LogisticRegression\n",
        "from sklearn.metrics import scorer, accuracy_score, f1_score, confusion_matrix, roc_auc_score"
      ],
      "execution_count": 23,
      "outputs": [
        {
          "output_type": "stream",
          "text": [
            "/usr/local/lib/python3.6/dist-packages/sklearn/utils/deprecation.py:144: FutureWarning: The sklearn.metrics.scorer module is  deprecated in version 0.22 and will be removed in version 0.24. The corresponding classes / functions should instead be imported from sklearn.metrics. Anything that cannot be imported from sklearn.metrics is now part of the private API.\n",
            "  warnings.warn(message, FutureWarning)\n"
          ],
          "name": "stderr"
        }
      ]
    },
    {
      "cell_type": "code",
      "metadata": {
        "id": "wAunMCcn55e5"
      },
      "source": [
        "def model_result(X_train, X_test, y_train, y_test, model):\n",
        "  model_1 = model\n",
        "  model_1.fit(X_train, y_train)\n",
        "  print('Accuracy: {}%'.format(round(accuracy_score(model_1.predict(X_test), y_test) * 100),2))\n",
        "  print('ROCAUC score:{}%'.format(round(roc_auc_score(y_test, model_1.predict(X_test))*100, 2)))\n",
        "  print('F1 score: {}% '.format(round(f1_score(y_test, model_1.predict(X_test))*100,2)))\n",
        "  return float(round(roc_auc_score(y_test, model_1.predict(X_test))*100, 2))\n",
        "\n",
        "X_train, X_test, y_train, y_test = train_test_split(X, y, test_size=0.2, random_state=42)\n",
        "X_train_near_miss, X_test_near_miss, y_train_near_miss, y_test_near_miss = train_test_split(x_near_miss, y_near_miss, test_size=0.2, random_state=42)\n",
        "X_train_tome_links, X_test_tome_links, y_train_tome_links, y_test_tome_links = train_test_split(x_tome_links, y_tome_links, test_size=0.2, random_state=42)\n",
        "X_train_smote, X_test_smote, y_train_smote, y_test_smote = train_test_split(x_smote, y_smote, test_size=0.2, random_state=42)"
      ],
      "execution_count": 24,
      "outputs": []
    },
    {
      "cell_type": "code",
      "metadata": {
        "id": "kv0OYTQE9RCj",
        "outputId": "161f80cb-e15e-4256-e3ff-fa6958804ee0",
        "colab": {
          "base_uri": "https://localhost:8080/"
        }
      },
      "source": [
        "logistic_results = []\n",
        "print('Results of imbbalanced dataset: ')\n",
        "logistic_results.append(model_result(X_train, X_test, y_train, y_test, model = LogisticRegression()))\n",
        "print()\n",
        "print('Results of nearMiss balancing: ')\n",
        "logistic_results.append(model_result(X_train_near_miss, X_test_near_miss, y_train_near_miss, y_test_near_miss, model = LogisticRegression()))\n",
        "print()\n",
        "print('Results of TomeLinks balancing: ')\n",
        "logistic_results.append(model_result(X_train_tome_links, X_test_tome_links, y_train_tome_links, y_test_tome_links, model = LogisticRegression()))\n",
        "print()\n",
        "print('Results of SMOTE balancing: ')\n",
        "logistic_results.append(model_result(X_train_smote, X_test_smote, y_train_smote, y_test_smote, model = LogisticRegression()))"
      ],
      "execution_count": 25,
      "outputs": [
        {
          "output_type": "stream",
          "text": [
            "Results of imbbalanced dataset: \n",
            "Accuracy: 94.0%\n",
            "ROCAUC score:50.0%\n",
            "F1 score: 96.8% \n",
            "\n",
            "Results of nearMiss balancing: \n",
            "Accuracy: 57.0%\n",
            "ROCAUC score:56.87%\n",
            "F1 score: 57.34% \n",
            "\n",
            "Results of TomeLinks balancing: \n",
            "Accuracy: 94.0%\n",
            "ROCAUC score:50.0%\n",
            "F1 score: 96.67% \n",
            "\n",
            "Results of SMOTE balancing: \n",
            "Accuracy: 58.0%\n",
            "ROCAUC score:58.16%\n",
            "F1 score: 57.91% \n"
          ],
          "name": "stdout"
        }
      ]
    },
    {
      "cell_type": "code",
      "metadata": {
        "id": "Wg-f3K8d-dqI"
      },
      "source": [
        "from xgboost import XGBClassifier"
      ],
      "execution_count": 26,
      "outputs": []
    },
    {
      "cell_type": "code",
      "metadata": {
        "id": "dJCoZ8sm-y7w",
        "outputId": "03f6350d-0cb1-482d-d365-cece0581d093",
        "colab": {
          "base_uri": "https://localhost:8080/"
        }
      },
      "source": [
        "xgb_classifier_results = []\n",
        "print('Results of imbbalanced dataset: ')\n",
        "X_train, X_test, y_train, y_test = train_test_split(X, y, test_size=0.2, random_state=42)\n",
        "xgb_classifier_results.append(model_result(X_train, X_test, y_train, y_test, model = XGBClassifier()))\n",
        "print()\n",
        "print('Results of nearMiss balancing: ')\n",
        "X_train, X_test, y_train, y_test = train_test_split(x_near_miss, y_near_miss, test_size=0.2, random_state=42)\n",
        "xgb_classifier_results.append(model_result(X_train, X_test, y_train, y_test, model = XGBClassifier()))\n",
        "print()\n",
        "print('Results of TomeLinks balancing: ')\n",
        "X_train, X_test, y_train, y_test = train_test_split(x_tome_links, y_tome_links, test_size=0.2, random_state=42)\n",
        "xgb_classifier_results.append(model_result(X_train, X_test, y_train, y_test, model = XGBClassifier()))\n",
        "print()\n",
        "print('Results of SMOTE balancing: ')\n",
        "X_train, X_test, y_train, y_test = train_test_split(x_smote, y_smote, test_size=0.2, random_state=42)\n",
        "xgb_classifier_results.append(model_result(X_train, X_test, y_train, y_test, model = XGBClassifier()))"
      ],
      "execution_count": 27,
      "outputs": [
        {
          "output_type": "stream",
          "text": [
            "Results of imbbalanced dataset: \n",
            "Accuracy: 94.0%\n",
            "ROCAUC score:57.1%\n",
            "F1 score: 96.94% \n",
            "\n",
            "Results of nearMiss balancing: \n",
            "Accuracy: 83.0%\n",
            "ROCAUC score:82.76%\n",
            "F1 score: 82.94% \n",
            "\n",
            "Results of TomeLinks balancing: \n",
            "Accuracy: 94.0%\n",
            "ROCAUC score:56.89%\n",
            "F1 score: 96.78% \n",
            "\n",
            "Results of SMOTE balancing: \n",
            "Accuracy: 95.0%\n",
            "ROCAUC score:95.17%\n",
            "F1 score: 95.24% \n"
          ],
          "name": "stdout"
        }
      ]
    },
    {
      "cell_type": "code",
      "metadata": {
        "id": "qMO6nBLx-0u_"
      },
      "source": [
        "from sklearn.ensemble import RandomForestClassifier"
      ],
      "execution_count": 28,
      "outputs": []
    },
    {
      "cell_type": "code",
      "metadata": {
        "id": "xsY1HKfm-3nL",
        "outputId": "b82ed1a8-291b-44eb-d743-8ade52f85237",
        "colab": {
          "base_uri": "https://localhost:8080/"
        }
      },
      "source": [
        "random_forrest_results = []\n",
        "print('Results of imbbalanced dataset: ')\n",
        "X_train, X_test, y_train, y_test = train_test_split(X, y, test_size=0.2, random_state=42)\n",
        "random_forrest_results.append(model_result(X_train, X_test, y_train, y_test, model = RandomForestClassifier()))\n",
        "print()\n",
        "print('Results of nearMiss balancing: ')\n",
        "X_train, X_test, y_train, y_test = train_test_split(x_near_miss, y_near_miss, test_size=0.2, random_state=42)\n",
        "random_forrest_results.append(model_result(X_train, X_test, y_train, y_test, model = RandomForestClassifier()))\n",
        "print()\n",
        "print('Results of TomeLinks balancing: ')\n",
        "X_train, X_test, y_train, y_test = train_test_split(x_tome_links, y_tome_links, test_size=0.2, random_state=42)\n",
        "random_forrest_results.append(model_result(X_train, X_test, y_train, y_test, model = RandomForestClassifier()))\n",
        "print()\n",
        "print('Results of SMOTE balancing: ')\n",
        "X_train, X_test, y_train, y_test = train_test_split(x_smote, y_smote, test_size=0.2, random_state=42)\n",
        "random_forrest_results.append(model_result(X_train, X_test, y_train, y_test, model = RandomForestClassifier()))"
      ],
      "execution_count": 29,
      "outputs": [
        {
          "output_type": "stream",
          "text": [
            "Results of imbbalanced dataset: \n",
            "Accuracy: 94.0%\n",
            "ROCAUC score:56.26%\n",
            "F1 score: 96.8% \n",
            "\n",
            "Results of nearMiss balancing: \n",
            "Accuracy: 80.0%\n",
            "ROCAUC score:79.87%\n",
            "F1 score: 79.76% \n",
            "\n",
            "Results of TomeLinks balancing: \n",
            "Accuracy: 94.0%\n",
            "ROCAUC score:56.78%\n",
            "F1 score: 96.67% \n",
            "\n",
            "Results of SMOTE balancing: \n",
            "Accuracy: 96.0%\n",
            "ROCAUC score:96.26%\n",
            "F1 score: 96.27% \n"
          ],
          "name": "stdout"
        }
      ]
    },
    {
      "cell_type": "code",
      "metadata": {
        "id": "jJTWf2gC-5Za"
      },
      "source": [
        "from sklearn.neighbors import KNeighborsClassifier"
      ],
      "execution_count": 30,
      "outputs": []
    },
    {
      "cell_type": "code",
      "metadata": {
        "id": "8C2qfKDPGkA5",
        "outputId": "34658c5e-4c2c-46dc-8e14-1923c4328789",
        "colab": {
          "base_uri": "https://localhost:8080/"
        }
      },
      "source": [
        "knn_neighbors_results = []\n",
        "print('Results of imbbalanced dataset: ')\n",
        "X_train, X_test, y_train, y_test = train_test_split(X, y, test_size=0.2, random_state=42)\n",
        "knn_neighbors_results.append(model_result(X_train, X_test, y_train, y_test, model = KNeighborsClassifier()))\n",
        "print()\n",
        "print('Results of nearMiss balancing: ')\n",
        "X_train, X_test, y_train, y_test = train_test_split(x_near_miss, y_near_miss, test_size=0.2, random_state=42)\n",
        "knn_neighbors_results.append(model_result(X_train, X_test, y_train, y_test, model = KNeighborsClassifier()))\n",
        "print()\n",
        "print('Results of TomeLinks balancing: ')\n",
        "X_train, X_test, y_train, y_test = train_test_split(x_tome_links, y_tome_links, test_size=0.2, random_state=42)\n",
        "knn_neighbors_results.append(model_result(X_train, X_test, y_train, y_test, model = KNeighborsClassifier()))\n",
        "print()\n",
        "print('Results of SMOTE balancing: ')\n",
        "X_train, X_test, y_train, y_test = train_test_split(x_smote, y_smote, test_size=0.2, random_state=42)\n",
        "knn_neighbors_results.append(model_result(X_train, X_test, y_train, y_test, model = KNeighborsClassifier()))"
      ],
      "execution_count": 31,
      "outputs": [
        {
          "output_type": "stream",
          "text": [
            "Results of imbbalanced dataset: \n",
            "Accuracy: 93.0%\n",
            "ROCAUC score:50.25%\n",
            "F1 score: 96.62% \n",
            "\n",
            "Results of nearMiss balancing: \n",
            "Accuracy: 81.0%\n",
            "ROCAUC score:81.25%\n",
            "F1 score: 82.71% \n",
            "\n",
            "Results of TomeLinks balancing: \n",
            "Accuracy: 93.0%\n",
            "ROCAUC score:50.23%\n",
            "F1 score: 96.47% \n",
            "\n",
            "Results of SMOTE balancing: \n",
            "Accuracy: 80.0%\n",
            "ROCAUC score:79.46%\n",
            "F1 score: 78.49% \n"
          ],
          "name": "stdout"
        }
      ]
    },
    {
      "cell_type": "code",
      "metadata": {
        "id": "2IXi0a09GrY1"
      },
      "source": [
        "from sklearn.tree import DecisionTreeClassifier"
      ],
      "execution_count": 32,
      "outputs": []
    },
    {
      "cell_type": "code",
      "metadata": {
        "id": "3q26KCVGHBuM",
        "outputId": "46e0e3a5-ce9b-49f9-b037-6a90c63d1e71",
        "colab": {
          "base_uri": "https://localhost:8080/"
        }
      },
      "source": [
        "decision_tree_results = []\n",
        "print('Results of imbbalanced dataset: ')\n",
        "X_train, X_test, y_train, y_test = train_test_split(X, y, test_size=0.2, random_state=42)\n",
        "decision_tree_results.append(model_result(X_train, X_test, y_train, y_test, model = DecisionTreeClassifier()))\n",
        "print()\n",
        "print('Results of nearMiss balancing: ')\n",
        "X_train, X_test, y_train, y_test = train_test_split(x_near_miss, y_near_miss, test_size=0.2, random_state=42)\n",
        "decision_tree_results.append(model_result(X_train, X_test, y_train, y_test, model = DecisionTreeClassifier()))\n",
        "print()\n",
        "print('Results of TomeLinks balancing: ')\n",
        "X_train, X_test, y_train, y_test = train_test_split(x_tome_links, y_tome_links, test_size=0.2, random_state=42)\n",
        "decision_tree_results.append(model_result(X_train, X_test, y_train, y_test, model = DecisionTreeClassifier()))\n",
        "print()\n",
        "print('Results of SMOTE balancing: ')\n",
        "X_train, X_test, y_train, y_test = train_test_split(x_smote, y_smote, test_size=0.2, random_state=42)\n",
        "decision_tree_results.append(model_result(X_train, X_test, y_train, y_test, model = DecisionTreeClassifier()))"
      ],
      "execution_count": 33,
      "outputs": [
        {
          "output_type": "stream",
          "text": [
            "Results of imbbalanced dataset: \n",
            "Accuracy: 89.0%\n",
            "ROCAUC score:58.76%\n",
            "F1 score: 94.33% \n",
            "\n",
            "Results of nearMiss balancing: \n",
            "Accuracy: 74.0%\n",
            "ROCAUC score:74.39%\n",
            "F1 score: 74.22% \n",
            "\n",
            "Results of TomeLinks balancing: \n",
            "Accuracy: 89.0%\n",
            "ROCAUC score:59.96%\n",
            "F1 score: 94.25% \n",
            "\n",
            "Results of SMOTE balancing: \n",
            "Accuracy: 94.0%\n",
            "ROCAUC score:93.5%\n",
            "F1 score: 93.4% \n"
          ],
          "name": "stdout"
        }
      ]
    },
    {
      "cell_type": "code",
      "metadata": {
        "id": "VW7Jk_mSHJmu",
        "outputId": "cba8e000-2183-4137-e6b1-caf1a039d192",
        "colab": {
          "base_uri": "https://localhost:8080/",
          "height": 175
        }
      },
      "source": [
        "classification_results = pd.DataFrame()\n",
        "classification_results['Logistic Regression'] = pd.Series(data = logistic_results)\n",
        "classification_results['XGB Classifer'] = pd.Series(data = xgb_classifier_results)\n",
        "classification_results['RandomForestClassifier'] = pd.Series(data = random_forrest_results)\n",
        "classification_results['KNeighborsClassifier'] = pd.Series(data = knn_neighbors_results)\n",
        "classification_results['DecisionTreeClassifier'] = pd.Series(data = decision_tree_results)\n",
        "classification_results.index = ['imbalanced_dataset', 'near_miss balanced dataset', 'tome_links balanced dataset', 'SMOTE']\n",
        "classification_results"
      ],
      "execution_count": 34,
      "outputs": [
        {
          "output_type": "execute_result",
          "data": {
            "text/html": [
              "<div>\n",
              "<style scoped>\n",
              "    .dataframe tbody tr th:only-of-type {\n",
              "        vertical-align: middle;\n",
              "    }\n",
              "\n",
              "    .dataframe tbody tr th {\n",
              "        vertical-align: top;\n",
              "    }\n",
              "\n",
              "    .dataframe thead th {\n",
              "        text-align: right;\n",
              "    }\n",
              "</style>\n",
              "<table border=\"1\" class=\"dataframe\">\n",
              "  <thead>\n",
              "    <tr style=\"text-align: right;\">\n",
              "      <th></th>\n",
              "      <th>Logistic Regression</th>\n",
              "      <th>XGB Classifer</th>\n",
              "      <th>RandomForestClassifier</th>\n",
              "      <th>KNeighborsClassifier</th>\n",
              "      <th>DecisionTreeClassifier</th>\n",
              "    </tr>\n",
              "  </thead>\n",
              "  <tbody>\n",
              "    <tr>\n",
              "      <th>imbalanced_dataset</th>\n",
              "      <td>50.00</td>\n",
              "      <td>57.10</td>\n",
              "      <td>56.26</td>\n",
              "      <td>50.25</td>\n",
              "      <td>58.76</td>\n",
              "    </tr>\n",
              "    <tr>\n",
              "      <th>near_miss balanced dataset</th>\n",
              "      <td>56.87</td>\n",
              "      <td>82.76</td>\n",
              "      <td>79.87</td>\n",
              "      <td>81.25</td>\n",
              "      <td>74.39</td>\n",
              "    </tr>\n",
              "    <tr>\n",
              "      <th>tome_links balanced dataset</th>\n",
              "      <td>50.00</td>\n",
              "      <td>56.89</td>\n",
              "      <td>56.78</td>\n",
              "      <td>50.23</td>\n",
              "      <td>59.96</td>\n",
              "    </tr>\n",
              "    <tr>\n",
              "      <th>SMOTE</th>\n",
              "      <td>58.16</td>\n",
              "      <td>95.17</td>\n",
              "      <td>96.26</td>\n",
              "      <td>79.46</td>\n",
              "      <td>93.50</td>\n",
              "    </tr>\n",
              "  </tbody>\n",
              "</table>\n",
              "</div>"
            ],
            "text/plain": [
              "                             Logistic Regression  ...  DecisionTreeClassifier\n",
              "imbalanced_dataset                         50.00  ...                   58.76\n",
              "near_miss balanced dataset                 56.87  ...                   74.39\n",
              "tome_links balanced dataset                50.00  ...                   59.96\n",
              "SMOTE                                      58.16  ...                   93.50\n",
              "\n",
              "[4 rows x 5 columns]"
            ]
          },
          "metadata": {
            "tags": []
          },
          "execution_count": 34
        }
      ]
    },
    {
      "cell_type": "markdown",
      "metadata": {
        "id": "uZB_8RiPVhjp"
      },
      "source": [
        "* DecisionTreeClassifier with SMOTE balanced data is used for prediction"
      ]
    },
    {
      "cell_type": "code",
      "metadata": {
        "id": "zT9PeXhWK-uN",
        "outputId": "0a7a2667-f052-44c9-f6bd-b1206bff4990",
        "colab": {
          "base_uri": "https://localhost:8080/"
        }
      },
      "source": [
        "best_model = DecisionTreeClassifier()\n",
        "best_model.fit(x_smote, y_smote)"
      ],
      "execution_count": 35,
      "outputs": [
        {
          "output_type": "execute_result",
          "data": {
            "text/plain": [
              "DecisionTreeClassifier(ccp_alpha=0.0, class_weight=None, criterion='gini',\n",
              "                       max_depth=None, max_features=None, max_leaf_nodes=None,\n",
              "                       min_impurity_decrease=0.0, min_impurity_split=None,\n",
              "                       min_samples_leaf=1, min_samples_split=2,\n",
              "                       min_weight_fraction_leaf=0.0, presort='deprecated',\n",
              "                       random_state=None, splitter='best')"
            ]
          },
          "metadata": {
            "tags": []
          },
          "execution_count": 35
        }
      ]
    },
    {
      "cell_type": "code",
      "metadata": {
        "id": "yPA_xq8CXDXR",
        "outputId": "51739a64-596b-4b50-98a1-de7bee4b7f67",
        "colab": {
          "base_uri": "https://localhost:8080/"
        }
      },
      "source": [
        "df = get_test_data(file_location)\n",
        "X_test = df.iloc[:,1:]"
      ],
      "execution_count": 36,
      "outputs": [
        {
          "output_type": "stream",
          "text": [
            "Shape of test_df.csv:  (34224, 11)\n",
            "[('Count_3-6_months_late', 31), ('Count_6-12_months_late', 31), ('Count_more_than_12_months_late', 31), ('application_underwriting_score', 1323)]\n",
            "In column: [id]  number of unique elements are:  34193\n",
            "In column: [perc_premium_paid_by_cash_credit]  number of unique elements are:  1001\n",
            "In column: [age_in_days]  number of unique elements are:  809\n",
            "In column: [Income]  number of unique elements are:  14395\n",
            "In column: [Count_3-6_months_late]  number of unique elements are:  12\n",
            "In column: [Count_6-12_months_late]  number of unique elements are:  11\n",
            "In column: [Count_more_than_12_months_late]  number of unique elements are:  8\n",
            "In column: [application_underwriting_score]  number of unique elements are:  565\n",
            "In column: [no_of_premiums_paid]  number of unique elements are:  52\n",
            "In column: [sourcing_channel]  number of unique elements are:  5\n",
            "In column: [residence_area_type]  number of unique elements are:  2\n"
          ],
          "name": "stdout"
        }
      ]
    },
    {
      "cell_type": "code",
      "metadata": {
        "id": "-_aheKqFXum6",
        "outputId": "cc1f8a05-2f06-488c-a226-4742986da000",
        "colab": {
          "base_uri": "https://localhost:8080/",
          "height": 444
        }
      },
      "source": [
        "df['target'] = best_model.predict(X_test)\n",
        "df"
      ],
      "execution_count": 38,
      "outputs": [
        {
          "output_type": "execute_result",
          "data": {
            "text/html": [
              "<div>\n",
              "<style scoped>\n",
              "    .dataframe tbody tr th:only-of-type {\n",
              "        vertical-align: middle;\n",
              "    }\n",
              "\n",
              "    .dataframe tbody tr th {\n",
              "        vertical-align: top;\n",
              "    }\n",
              "\n",
              "    .dataframe thead th {\n",
              "        text-align: right;\n",
              "    }\n",
              "</style>\n",
              "<table border=\"1\" class=\"dataframe\">\n",
              "  <thead>\n",
              "    <tr style=\"text-align: right;\">\n",
              "      <th></th>\n",
              "      <th>id</th>\n",
              "      <th>perc_premium_paid_by_cash_credit</th>\n",
              "      <th>age_in_days</th>\n",
              "      <th>Income</th>\n",
              "      <th>Count_3-6_months_late</th>\n",
              "      <th>Count_6-12_months_late</th>\n",
              "      <th>Count_more_than_12_months_late</th>\n",
              "      <th>application_underwriting_score</th>\n",
              "      <th>no_of_premiums_paid</th>\n",
              "      <th>sourcing_channel</th>\n",
              "      <th>residence_area_type</th>\n",
              "      <th>target</th>\n",
              "    </tr>\n",
              "  </thead>\n",
              "  <tbody>\n",
              "    <tr>\n",
              "      <th>0</th>\n",
              "      <td>649</td>\n",
              "      <td>0.001</td>\n",
              "      <td>27384</td>\n",
              "      <td>51150</td>\n",
              "      <td>0.0</td>\n",
              "      <td>0.0</td>\n",
              "      <td>0.0</td>\n",
              "      <td>99.89</td>\n",
              "      <td>7</td>\n",
              "      <td>0</td>\n",
              "      <td>0</td>\n",
              "      <td>1</td>\n",
              "    </tr>\n",
              "    <tr>\n",
              "      <th>1</th>\n",
              "      <td>81136</td>\n",
              "      <td>0.124</td>\n",
              "      <td>23735</td>\n",
              "      <td>285140</td>\n",
              "      <td>0.0</td>\n",
              "      <td>0.0</td>\n",
              "      <td>0.0</td>\n",
              "      <td>98.93</td>\n",
              "      <td>19</td>\n",
              "      <td>0</td>\n",
              "      <td>1</td>\n",
              "      <td>1</td>\n",
              "    </tr>\n",
              "    <tr>\n",
              "      <th>2</th>\n",
              "      <td>70762</td>\n",
              "      <td>1.000</td>\n",
              "      <td>17170</td>\n",
              "      <td>186030</td>\n",
              "      <td>0.0</td>\n",
              "      <td>0.0</td>\n",
              "      <td>0.0</td>\n",
              "      <td>99.89</td>\n",
              "      <td>2</td>\n",
              "      <td>1</td>\n",
              "      <td>1</td>\n",
              "      <td>1</td>\n",
              "    </tr>\n",
              "    <tr>\n",
              "      <th>3</th>\n",
              "      <td>53935</td>\n",
              "      <td>0.198</td>\n",
              "      <td>16068</td>\n",
              "      <td>123540</td>\n",
              "      <td>0.0</td>\n",
              "      <td>0.0</td>\n",
              "      <td>0.0</td>\n",
              "      <td>99.00</td>\n",
              "      <td>11</td>\n",
              "      <td>1</td>\n",
              "      <td>0</td>\n",
              "      <td>1</td>\n",
              "    </tr>\n",
              "    <tr>\n",
              "      <th>4</th>\n",
              "      <td>15476</td>\n",
              "      <td>0.041</td>\n",
              "      <td>10591</td>\n",
              "      <td>200020</td>\n",
              "      <td>1.0</td>\n",
              "      <td>0.0</td>\n",
              "      <td>0.0</td>\n",
              "      <td>99.17</td>\n",
              "      <td>14</td>\n",
              "      <td>0</td>\n",
              "      <td>0</td>\n",
              "      <td>1</td>\n",
              "    </tr>\n",
              "    <tr>\n",
              "      <th>...</th>\n",
              "      <td>...</td>\n",
              "      <td>...</td>\n",
              "      <td>...</td>\n",
              "      <td>...</td>\n",
              "      <td>...</td>\n",
              "      <td>...</td>\n",
              "      <td>...</td>\n",
              "      <td>...</td>\n",
              "      <td>...</td>\n",
              "      <td>...</td>\n",
              "      <td>...</td>\n",
              "      <td>...</td>\n",
              "    </tr>\n",
              "    <tr>\n",
              "      <th>34219</th>\n",
              "      <td>81988</td>\n",
              "      <td>0.227</td>\n",
              "      <td>20810</td>\n",
              "      <td>110240</td>\n",
              "      <td>0.0</td>\n",
              "      <td>0.0</td>\n",
              "      <td>0.0</td>\n",
              "      <td>97.52</td>\n",
              "      <td>9</td>\n",
              "      <td>0</td>\n",
              "      <td>1</td>\n",
              "      <td>1</td>\n",
              "    </tr>\n",
              "    <tr>\n",
              "      <th>34220</th>\n",
              "      <td>30326</td>\n",
              "      <td>0.157</td>\n",
              "      <td>19353</td>\n",
              "      <td>125090</td>\n",
              "      <td>0.0</td>\n",
              "      <td>0.0</td>\n",
              "      <td>0.0</td>\n",
              "      <td>99.62</td>\n",
              "      <td>7</td>\n",
              "      <td>0</td>\n",
              "      <td>0</td>\n",
              "      <td>1</td>\n",
              "    </tr>\n",
              "    <tr>\n",
              "      <th>34221</th>\n",
              "      <td>65749</td>\n",
              "      <td>0.325</td>\n",
              "      <td>18264</td>\n",
              "      <td>196570</td>\n",
              "      <td>0.0</td>\n",
              "      <td>0.0</td>\n",
              "      <td>0.0</td>\n",
              "      <td>98.58</td>\n",
              "      <td>14</td>\n",
              "      <td>1</td>\n",
              "      <td>0</td>\n",
              "      <td>1</td>\n",
              "    </tr>\n",
              "    <tr>\n",
              "      <th>34222</th>\n",
              "      <td>65686</td>\n",
              "      <td>0.983</td>\n",
              "      <td>16798</td>\n",
              "      <td>212150</td>\n",
              "      <td>1.0</td>\n",
              "      <td>0.0</td>\n",
              "      <td>1.0</td>\n",
              "      <td>98.88</td>\n",
              "      <td>10</td>\n",
              "      <td>0</td>\n",
              "      <td>1</td>\n",
              "      <td>1</td>\n",
              "    </tr>\n",
              "    <tr>\n",
              "      <th>34223</th>\n",
              "      <td>93826</td>\n",
              "      <td>0.005</td>\n",
              "      <td>24467</td>\n",
              "      <td>89190</td>\n",
              "      <td>1.0</td>\n",
              "      <td>0.0</td>\n",
              "      <td>0.0</td>\n",
              "      <td>98.00</td>\n",
              "      <td>11</td>\n",
              "      <td>0</td>\n",
              "      <td>1</td>\n",
              "      <td>1</td>\n",
              "    </tr>\n",
              "  </tbody>\n",
              "</table>\n",
              "<p>34193 rows × 12 columns</p>\n",
              "</div>"
            ],
            "text/plain": [
              "          id  perc_premium_paid_by_cash_credit  ...  residence_area_type  target\n",
              "0        649                             0.001  ...                    0       1\n",
              "1      81136                             0.124  ...                    1       1\n",
              "2      70762                             1.000  ...                    1       1\n",
              "3      53935                             0.198  ...                    0       1\n",
              "4      15476                             0.041  ...                    0       1\n",
              "...      ...                               ...  ...                  ...     ...\n",
              "34219  81988                             0.227  ...                    1       1\n",
              "34220  30326                             0.157  ...                    0       1\n",
              "34221  65749                             0.325  ...                    0       1\n",
              "34222  65686                             0.983  ...                    1       1\n",
              "34223  93826                             0.005  ...                    1       1\n",
              "\n",
              "[34193 rows x 12 columns]"
            ]
          },
          "metadata": {
            "tags": []
          },
          "execution_count": 38
        }
      ]
    }
  ]
}