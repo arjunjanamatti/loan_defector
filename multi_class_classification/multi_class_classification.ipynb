{
  "nbformat": 4,
  "nbformat_minor": 0,
  "metadata": {
    "colab": {
      "name": "multi_class_classification.ipynb",
      "provenance": [],
      "collapsed_sections": [],
      "mount_file_id": "16lAFRXLd4eVrPwC4CYXXEy7BCGqioyNN",
      "authorship_tag": "ABX9TyMvSP8icL9/Z2TDGrvUiCKH",
      "include_colab_link": true
    },
    "kernelspec": {
      "name": "python3",
      "display_name": "Python 3"
    },
    "accelerator": "GPU"
  },
  "cells": [
    {
      "cell_type": "markdown",
      "metadata": {
        "id": "view-in-github",
        "colab_type": "text"
      },
      "source": [
        "<a href=\"https://colab.research.google.com/github/arjunjanamatti/loan_defector/blob/master/multi_class_classification/multi_class_classification.ipynb\" target=\"_parent\"><img src=\"https://colab.research.google.com/assets/colab-badge.svg\" alt=\"Open In Colab\"/></a>"
      ]
    },
    {
      "cell_type": "code",
      "metadata": {
        "id": "JDN0dS4zHQ_S"
      },
      "source": [
        "import pandas as pd\n",
        "import numpy as np\n",
        "import matplotlib.pyplot as plt\n",
        "import seaborn as sns\n",
        "import warnings\n",
        "warnings.filterwarnings('ignore')"
      ],
      "execution_count": 1,
      "outputs": []
    },
    {
      "cell_type": "markdown",
      "metadata": {
        "id": "bf3foP0KtSS0"
      },
      "source": [
        "### Load Dataframe"
      ]
    },
    {
      "cell_type": "code",
      "metadata": {
        "id": "xfdaRorXHSol",
        "outputId": "eecb5522-cbf4-490b-cbaa-f42bb60f2380",
        "colab": {
          "base_uri": "https://localhost:8080/",
          "height": 313
        }
      },
      "source": [
        "# /content/drive/My Drive/Colab Notebooks/training_sampled_data.csv\n",
        "raw_df = pd.read_csv('/content/drive/My Drive/Colab Notebooks/training_sampled_data.csv')\n",
        "print('Shape of dataframe: ', raw_df.shape)\n",
        "raw_df.head()"
      ],
      "execution_count": 2,
      "outputs": [
        {
          "output_type": "stream",
          "text": [
            "Shape of dataframe:  (1012, 13)\n"
          ],
          "name": "stdout"
        },
        {
          "output_type": "execute_result",
          "data": {
            "text/html": [
              "<div>\n",
              "<style scoped>\n",
              "    .dataframe tbody tr th:only-of-type {\n",
              "        vertical-align: middle;\n",
              "    }\n",
              "\n",
              "    .dataframe tbody tr th {\n",
              "        vertical-align: top;\n",
              "    }\n",
              "\n",
              "    .dataframe thead th {\n",
              "        text-align: right;\n",
              "    }\n",
              "</style>\n",
              "<table border=\"1\" class=\"dataframe\">\n",
              "  <thead>\n",
              "    <tr style=\"text-align: right;\">\n",
              "      <th></th>\n",
              "      <th>h1_score</th>\n",
              "      <th>h2_score</th>\n",
              "      <th>h3_score</th>\n",
              "      <th>h4_score</th>\n",
              "      <th>h5_score</th>\n",
              "      <th>h6_score</th>\n",
              "      <th>text_score</th>\n",
              "      <th>title_score</th>\n",
              "      <th>desc_score</th>\n",
              "      <th>domain_score</th>\n",
              "      <th>path_score</th>\n",
              "      <th>alt_img_score</th>\n",
              "      <th>label</th>\n",
              "    </tr>\n",
              "  </thead>\n",
              "  <tbody>\n",
              "    <tr>\n",
              "      <th>0</th>\n",
              "      <td>0.000000</td>\n",
              "      <td>0.516252</td>\n",
              "      <td>0.459713</td>\n",
              "      <td>0.0</td>\n",
              "      <td>0.0</td>\n",
              "      <td>0.0</td>\n",
              "      <td>0.000000</td>\n",
              "      <td>0.173604</td>\n",
              "      <td>0.000000</td>\n",
              "      <td>0.960711</td>\n",
              "      <td>0.954300</td>\n",
              "      <td>0.0</td>\n",
              "      <td>Above average</td>\n",
              "    </tr>\n",
              "    <tr>\n",
              "      <th>1</th>\n",
              "      <td>0.962087</td>\n",
              "      <td>0.000000</td>\n",
              "      <td>0.000000</td>\n",
              "      <td>0.0</td>\n",
              "      <td>0.0</td>\n",
              "      <td>0.0</td>\n",
              "      <td>0.248726</td>\n",
              "      <td>0.599811</td>\n",
              "      <td>0.582049</td>\n",
              "      <td>0.000000</td>\n",
              "      <td>0.962087</td>\n",
              "      <td>0.0</td>\n",
              "      <td>Below average</td>\n",
              "    </tr>\n",
              "    <tr>\n",
              "      <th>2</th>\n",
              "      <td>0.962087</td>\n",
              "      <td>0.000000</td>\n",
              "      <td>0.000000</td>\n",
              "      <td>0.0</td>\n",
              "      <td>0.0</td>\n",
              "      <td>0.0</td>\n",
              "      <td>0.248726</td>\n",
              "      <td>0.599811</td>\n",
              "      <td>0.582049</td>\n",
              "      <td>0.000000</td>\n",
              "      <td>0.962087</td>\n",
              "      <td>0.0</td>\n",
              "      <td>Below average</td>\n",
              "    </tr>\n",
              "    <tr>\n",
              "      <th>3</th>\n",
              "      <td>0.804756</td>\n",
              "      <td>0.000000</td>\n",
              "      <td>0.000000</td>\n",
              "      <td>0.0</td>\n",
              "      <td>0.0</td>\n",
              "      <td>0.0</td>\n",
              "      <td>0.676669</td>\n",
              "      <td>0.000000</td>\n",
              "      <td>0.753189</td>\n",
              "      <td>0.000000</td>\n",
              "      <td>0.929136</td>\n",
              "      <td>0.0</td>\n",
              "      <td>Above average</td>\n",
              "    </tr>\n",
              "    <tr>\n",
              "      <th>4</th>\n",
              "      <td>0.805614</td>\n",
              "      <td>0.000000</td>\n",
              "      <td>0.000000</td>\n",
              "      <td>0.0</td>\n",
              "      <td>0.0</td>\n",
              "      <td>0.0</td>\n",
              "      <td>0.639532</td>\n",
              "      <td>0.000000</td>\n",
              "      <td>0.750814</td>\n",
              "      <td>0.000000</td>\n",
              "      <td>0.928806</td>\n",
              "      <td>0.0</td>\n",
              "      <td>Average</td>\n",
              "    </tr>\n",
              "  </tbody>\n",
              "</table>\n",
              "</div>"
            ],
            "text/plain": [
              "   h1_score  h2_score  h3_score  ...  path_score  alt_img_score          label\n",
              "0  0.000000  0.516252  0.459713  ...    0.954300            0.0  Above average\n",
              "1  0.962087  0.000000  0.000000  ...    0.962087            0.0  Below average\n",
              "2  0.962087  0.000000  0.000000  ...    0.962087            0.0  Below average\n",
              "3  0.804756  0.000000  0.000000  ...    0.929136            0.0  Above average\n",
              "4  0.805614  0.000000  0.000000  ...    0.928806            0.0        Average\n",
              "\n",
              "[5 rows x 13 columns]"
            ]
          },
          "metadata": {
            "tags": []
          },
          "execution_count": 2
        }
      ]
    },
    {
      "cell_type": "code",
      "metadata": {
        "id": "iWwgodQSHoiA",
        "outputId": "ffc08457-90ca-4c5a-e1b8-75f8f2bc5a23",
        "colab": {
          "base_uri": "https://localhost:8080/",
          "height": 34
        }
      },
      "source": [
        "# dropping rows with ' --'\n",
        "raw_df_1 = raw_df[raw_df.label != ' --']\n",
        "raw_df_1_copy = raw_df_1.copy()\n",
        "print('Shape of dataframe: ', raw_df_1.shape)"
      ],
      "execution_count": 3,
      "outputs": [
        {
          "output_type": "stream",
          "text": [
            "Shape of dataframe:  (869, 13)\n"
          ],
          "name": "stdout"
        }
      ]
    },
    {
      "cell_type": "code",
      "metadata": {
        "id": "KeWfLaZ2HrnU",
        "outputId": "d30bc374-71a0-42c2-b5da-5bf599d19db7",
        "colab": {
          "base_uri": "https://localhost:8080/",
          "height": 364
        }
      },
      "source": [
        "raw_df_1.info()"
      ],
      "execution_count": 4,
      "outputs": [
        {
          "output_type": "stream",
          "text": [
            "<class 'pandas.core.frame.DataFrame'>\n",
            "Int64Index: 869 entries, 0 to 1011\n",
            "Data columns (total 13 columns):\n",
            " #   Column         Non-Null Count  Dtype  \n",
            "---  ------         --------------  -----  \n",
            " 0   h1_score       869 non-null    float64\n",
            " 1   h2_score       869 non-null    float64\n",
            " 2   h3_score       869 non-null    float64\n",
            " 3   h4_score       869 non-null    float64\n",
            " 4   h5_score       869 non-null    float64\n",
            " 5   h6_score       869 non-null    float64\n",
            " 6   text_score     869 non-null    float64\n",
            " 7   title_score    869 non-null    float64\n",
            " 8   desc_score     869 non-null    float64\n",
            " 9   domain_score   869 non-null    float64\n",
            " 10  path_score     869 non-null    float64\n",
            " 11  alt_img_score  869 non-null    float64\n",
            " 12  label          869 non-null    object \n",
            "dtypes: float64(12), object(1)\n",
            "memory usage: 95.0+ KB\n"
          ],
          "name": "stdout"
        }
      ]
    },
    {
      "cell_type": "code",
      "metadata": {
        "id": "d85Wd5tiHtNh",
        "outputId": "6851c4f1-b7c3-4297-a832-f48cae12e78b",
        "colab": {
          "base_uri": "https://localhost:8080/",
          "height": 425
        }
      },
      "source": [
        "raw_df_1.describe().T"
      ],
      "execution_count": 5,
      "outputs": [
        {
          "output_type": "execute_result",
          "data": {
            "text/html": [
              "<div>\n",
              "<style scoped>\n",
              "    .dataframe tbody tr th:only-of-type {\n",
              "        vertical-align: middle;\n",
              "    }\n",
              "\n",
              "    .dataframe tbody tr th {\n",
              "        vertical-align: top;\n",
              "    }\n",
              "\n",
              "    .dataframe thead th {\n",
              "        text-align: right;\n",
              "    }\n",
              "</style>\n",
              "<table border=\"1\" class=\"dataframe\">\n",
              "  <thead>\n",
              "    <tr style=\"text-align: right;\">\n",
              "      <th></th>\n",
              "      <th>count</th>\n",
              "      <th>mean</th>\n",
              "      <th>std</th>\n",
              "      <th>min</th>\n",
              "      <th>25%</th>\n",
              "      <th>50%</th>\n",
              "      <th>75%</th>\n",
              "      <th>max</th>\n",
              "    </tr>\n",
              "  </thead>\n",
              "  <tbody>\n",
              "    <tr>\n",
              "      <th>h1_score</th>\n",
              "      <td>869.0</td>\n",
              "      <td>0.115894</td>\n",
              "      <td>0.277930</td>\n",
              "      <td>0.0</td>\n",
              "      <td>0.000000</td>\n",
              "      <td>0.000000</td>\n",
              "      <td>0.000000</td>\n",
              "      <td>0.962087</td>\n",
              "    </tr>\n",
              "    <tr>\n",
              "      <th>h2_score</th>\n",
              "      <td>869.0</td>\n",
              "      <td>0.273280</td>\n",
              "      <td>0.296485</td>\n",
              "      <td>0.0</td>\n",
              "      <td>0.000000</td>\n",
              "      <td>0.139882</td>\n",
              "      <td>0.460384</td>\n",
              "      <td>0.963181</td>\n",
              "    </tr>\n",
              "    <tr>\n",
              "      <th>h3_score</th>\n",
              "      <td>869.0</td>\n",
              "      <td>0.269234</td>\n",
              "      <td>0.325580</td>\n",
              "      <td>0.0</td>\n",
              "      <td>0.000000</td>\n",
              "      <td>0.098016</td>\n",
              "      <td>0.661597</td>\n",
              "      <td>0.960544</td>\n",
              "    </tr>\n",
              "    <tr>\n",
              "      <th>h4_score</th>\n",
              "      <td>869.0</td>\n",
              "      <td>0.011647</td>\n",
              "      <td>0.092152</td>\n",
              "      <td>0.0</td>\n",
              "      <td>0.000000</td>\n",
              "      <td>0.000000</td>\n",
              "      <td>0.000000</td>\n",
              "      <td>0.959359</td>\n",
              "    </tr>\n",
              "    <tr>\n",
              "      <th>h5_score</th>\n",
              "      <td>869.0</td>\n",
              "      <td>0.000000</td>\n",
              "      <td>0.000000</td>\n",
              "      <td>0.0</td>\n",
              "      <td>0.000000</td>\n",
              "      <td>0.000000</td>\n",
              "      <td>0.000000</td>\n",
              "      <td>0.000000</td>\n",
              "    </tr>\n",
              "    <tr>\n",
              "      <th>h6_score</th>\n",
              "      <td>869.0</td>\n",
              "      <td>0.020552</td>\n",
              "      <td>0.098849</td>\n",
              "      <td>0.0</td>\n",
              "      <td>0.000000</td>\n",
              "      <td>0.000000</td>\n",
              "      <td>0.000000</td>\n",
              "      <td>0.718614</td>\n",
              "    </tr>\n",
              "    <tr>\n",
              "      <th>text_score</th>\n",
              "      <td>869.0</td>\n",
              "      <td>0.381590</td>\n",
              "      <td>0.328835</td>\n",
              "      <td>0.0</td>\n",
              "      <td>0.000000</td>\n",
              "      <td>0.372286</td>\n",
              "      <td>0.689674</td>\n",
              "      <td>0.955433</td>\n",
              "    </tr>\n",
              "    <tr>\n",
              "      <th>title_score</th>\n",
              "      <td>869.0</td>\n",
              "      <td>0.326399</td>\n",
              "      <td>0.298087</td>\n",
              "      <td>0.0</td>\n",
              "      <td>0.000000</td>\n",
              "      <td>0.345149</td>\n",
              "      <td>0.500768</td>\n",
              "      <td>0.961949</td>\n",
              "    </tr>\n",
              "    <tr>\n",
              "      <th>desc_score</th>\n",
              "      <td>869.0</td>\n",
              "      <td>0.401051</td>\n",
              "      <td>0.279005</td>\n",
              "      <td>0.0</td>\n",
              "      <td>0.240821</td>\n",
              "      <td>0.358471</td>\n",
              "      <td>0.513008</td>\n",
              "      <td>0.958261</td>\n",
              "    </tr>\n",
              "    <tr>\n",
              "      <th>domain_score</th>\n",
              "      <td>869.0</td>\n",
              "      <td>0.276322</td>\n",
              "      <td>0.316352</td>\n",
              "      <td>0.0</td>\n",
              "      <td>0.000000</td>\n",
              "      <td>0.000000</td>\n",
              "      <td>0.526505</td>\n",
              "      <td>0.962087</td>\n",
              "    </tr>\n",
              "    <tr>\n",
              "      <th>path_score</th>\n",
              "      <td>869.0</td>\n",
              "      <td>0.090630</td>\n",
              "      <td>0.220606</td>\n",
              "      <td>0.0</td>\n",
              "      <td>0.000000</td>\n",
              "      <td>0.000000</td>\n",
              "      <td>0.000000</td>\n",
              "      <td>0.962087</td>\n",
              "    </tr>\n",
              "    <tr>\n",
              "      <th>alt_img_score</th>\n",
              "      <td>869.0</td>\n",
              "      <td>0.342019</td>\n",
              "      <td>0.319698</td>\n",
              "      <td>0.0</td>\n",
              "      <td>0.035289</td>\n",
              "      <td>0.238413</td>\n",
              "      <td>0.645825</td>\n",
              "      <td>0.957662</td>\n",
              "    </tr>\n",
              "  </tbody>\n",
              "</table>\n",
              "</div>"
            ],
            "text/plain": [
              "               count      mean       std  ...       50%       75%       max\n",
              "h1_score       869.0  0.115894  0.277930  ...  0.000000  0.000000  0.962087\n",
              "h2_score       869.0  0.273280  0.296485  ...  0.139882  0.460384  0.963181\n",
              "h3_score       869.0  0.269234  0.325580  ...  0.098016  0.661597  0.960544\n",
              "h4_score       869.0  0.011647  0.092152  ...  0.000000  0.000000  0.959359\n",
              "h5_score       869.0  0.000000  0.000000  ...  0.000000  0.000000  0.000000\n",
              "h6_score       869.0  0.020552  0.098849  ...  0.000000  0.000000  0.718614\n",
              "text_score     869.0  0.381590  0.328835  ...  0.372286  0.689674  0.955433\n",
              "title_score    869.0  0.326399  0.298087  ...  0.345149  0.500768  0.961949\n",
              "desc_score     869.0  0.401051  0.279005  ...  0.358471  0.513008  0.958261\n",
              "domain_score   869.0  0.276322  0.316352  ...  0.000000  0.526505  0.962087\n",
              "path_score     869.0  0.090630  0.220606  ...  0.000000  0.000000  0.962087\n",
              "alt_img_score  869.0  0.342019  0.319698  ...  0.238413  0.645825  0.957662\n",
              "\n",
              "[12 rows x 8 columns]"
            ]
          },
          "metadata": {
            "tags": []
          },
          "execution_count": 5
        }
      ]
    },
    {
      "cell_type": "code",
      "metadata": {
        "id": "4TmOA61sHu0m",
        "outputId": "96c735da-524d-407e-a3c3-e458795766fd",
        "colab": {
          "base_uri": "https://localhost:8080/",
          "height": 347
        }
      },
      "source": [
        "raw_df_1['label'].value_counts().plot.bar()"
      ],
      "execution_count": 6,
      "outputs": [
        {
          "output_type": "execute_result",
          "data": {
            "text/plain": [
              "<matplotlib.axes._subplots.AxesSubplot at 0x7f922973f1d0>"
            ]
          },
          "metadata": {
            "tags": []
          },
          "execution_count": 6
        },
        {
          "output_type": "display_data",
          "data": {
            "image/png": "[encoded data removed]",
            "text/plain": [
              "<Figure size 432x288 with 1 Axes>"
            ]
          },
          "metadata": {
            "tags": [],
            "needs_background": "light"
          }
        }
      ]
    },
    {
      "cell_type": "code",
      "metadata": {
        "id": "7Qj-n4YAHwcr",
        "outputId": "090b6e71-9c39-4f7a-9029-99ce24f73339",
        "colab": {
          "base_uri": "https://localhost:8080/",
          "height": 226
        }
      },
      "source": [
        "from sklearn.preprocessing import LabelEncoder\n",
        "\n",
        "labelencoder = LabelEncoder()\n",
        "raw_df_1['label'] = labelencoder.fit_transform(raw_df_1['label'])\n",
        "raw_df_1.head()"
      ],
      "execution_count": 7,
      "outputs": [
        {
          "output_type": "execute_result",
          "data": {
            "text/html": [
              "<div>\n",
              "<style scoped>\n",
              "    .dataframe tbody tr th:only-of-type {\n",
              "        vertical-align: middle;\n",
              "    }\n",
              "\n",
              "    .dataframe tbody tr th {\n",
              "        vertical-align: top;\n",
              "    }\n",
              "\n",
              "    .dataframe thead th {\n",
              "        text-align: right;\n",
              "    }\n",
              "</style>\n",
              "<table border=\"1\" class=\"dataframe\">\n",
              "  <thead>\n",
              "    <tr style=\"text-align: right;\">\n",
              "      <th></th>\n",
              "      <th>h1_score</th>\n",
              "      <th>h2_score</th>\n",
              "      <th>h3_score</th>\n",
              "      <th>h4_score</th>\n",
              "      <th>h5_score</th>\n",
              "      <th>h6_score</th>\n",
              "      <th>text_score</th>\n",
              "      <th>title_score</th>\n",
              "      <th>desc_score</th>\n",
              "      <th>domain_score</th>\n",
              "      <th>path_score</th>\n",
              "      <th>alt_img_score</th>\n",
              "      <th>label</th>\n",
              "    </tr>\n",
              "  </thead>\n",
              "  <tbody>\n",
              "    <tr>\n",
              "      <th>0</th>\n",
              "      <td>0.000000</td>\n",
              "      <td>0.516252</td>\n",
              "      <td>0.459713</td>\n",
              "      <td>0.0</td>\n",
              "      <td>0.0</td>\n",
              "      <td>0.0</td>\n",
              "      <td>0.000000</td>\n",
              "      <td>0.173604</td>\n",
              "      <td>0.000000</td>\n",
              "      <td>0.960711</td>\n",
              "      <td>0.954300</td>\n",
              "      <td>0.0</td>\n",
              "      <td>0</td>\n",
              "    </tr>\n",
              "    <tr>\n",
              "      <th>1</th>\n",
              "      <td>0.962087</td>\n",
              "      <td>0.000000</td>\n",
              "      <td>0.000000</td>\n",
              "      <td>0.0</td>\n",
              "      <td>0.0</td>\n",
              "      <td>0.0</td>\n",
              "      <td>0.248726</td>\n",
              "      <td>0.599811</td>\n",
              "      <td>0.582049</td>\n",
              "      <td>0.000000</td>\n",
              "      <td>0.962087</td>\n",
              "      <td>0.0</td>\n",
              "      <td>2</td>\n",
              "    </tr>\n",
              "    <tr>\n",
              "      <th>2</th>\n",
              "      <td>0.962087</td>\n",
              "      <td>0.000000</td>\n",
              "      <td>0.000000</td>\n",
              "      <td>0.0</td>\n",
              "      <td>0.0</td>\n",
              "      <td>0.0</td>\n",
              "      <td>0.248726</td>\n",
              "      <td>0.599811</td>\n",
              "      <td>0.582049</td>\n",
              "      <td>0.000000</td>\n",
              "      <td>0.962087</td>\n",
              "      <td>0.0</td>\n",
              "      <td>2</td>\n",
              "    </tr>\n",
              "    <tr>\n",
              "      <th>3</th>\n",
              "      <td>0.804756</td>\n",
              "      <td>0.000000</td>\n",
              "      <td>0.000000</td>\n",
              "      <td>0.0</td>\n",
              "      <td>0.0</td>\n",
              "      <td>0.0</td>\n",
              "      <td>0.676669</td>\n",
              "      <td>0.000000</td>\n",
              "      <td>0.753189</td>\n",
              "      <td>0.000000</td>\n",
              "      <td>0.929136</td>\n",
              "      <td>0.0</td>\n",
              "      <td>0</td>\n",
              "    </tr>\n",
              "    <tr>\n",
              "      <th>4</th>\n",
              "      <td>0.805614</td>\n",
              "      <td>0.000000</td>\n",
              "      <td>0.000000</td>\n",
              "      <td>0.0</td>\n",
              "      <td>0.0</td>\n",
              "      <td>0.0</td>\n",
              "      <td>0.639532</td>\n",
              "      <td>0.000000</td>\n",
              "      <td>0.750814</td>\n",
              "      <td>0.000000</td>\n",
              "      <td>0.928806</td>\n",
              "      <td>0.0</td>\n",
              "      <td>1</td>\n",
              "    </tr>\n",
              "  </tbody>\n",
              "</table>\n",
              "</div>"
            ],
            "text/plain": [
              "   h1_score  h2_score  h3_score  ...  path_score  alt_img_score  label\n",
              "0  0.000000  0.516252  0.459713  ...    0.954300            0.0      0\n",
              "1  0.962087  0.000000  0.000000  ...    0.962087            0.0      2\n",
              "2  0.962087  0.000000  0.000000  ...    0.962087            0.0      2\n",
              "3  0.804756  0.000000  0.000000  ...    0.929136            0.0      0\n",
              "4  0.805614  0.000000  0.000000  ...    0.928806            0.0      1\n",
              "\n",
              "[5 rows x 13 columns]"
            ]
          },
          "metadata": {
            "tags": []
          },
          "execution_count": 7
        }
      ]
    },
    {
      "cell_type": "markdown",
      "metadata": {
        "id": "TKLLB_Fqta5L"
      },
      "source": [
        "### Correlation matrix and Heatmaps"
      ]
    },
    {
      "cell_type": "code",
      "metadata": {
        "id": "ctjJtri7HyUN",
        "outputId": "15964518-5735-43ff-9f4d-e99b59aace37",
        "colab": {
          "base_uri": "https://localhost:8080/",
          "height": 657
        }
      },
      "source": [
        "corr = raw_df_1.corr()\n",
        "\n",
        "fig = plt.figure(figsize = (25,10))\n",
        "ax = fig.add_subplot(1,1,1)\n",
        "cax = ax.matshow(corr,cmap='coolwarm', vmin=-1, vmax=1)\n",
        "fig.colorbar(cax)\n",
        "ticks = np.arange(0,len(raw_df_1.columns),1)\n",
        "ax.set_xticks(ticks)\n",
        "plt.xticks(rotation=90)\n",
        "ax.set_yticks(ticks)\n",
        "ax.set_xticklabels(raw_df_1.columns)\n",
        "ax.set_yticklabels(raw_df_1.columns)\n",
        "plt.show()"
      ],
      "execution_count": 8,
      "outputs": [
        {
          "output_type": "display_data",
          "data": {
            "image/png": "[encoded data removed]",
            "text/plain": [
              "<Figure size 1800x720 with 2 Axes>"
            ]
          },
          "metadata": {
            "tags": [],
            "needs_background": "light"
          }
        }
      ]
    },
    {
      "cell_type": "code",
      "metadata": {
        "id": "g1UhJ8LmH1H0",
        "outputId": "75eaa0c6-e13c-413d-9008-618f107c53d4",
        "colab": {
          "base_uri": "https://localhost:8080/",
          "height": 1000
        }
      },
      "source": [
        "plt.figure(figsize=(20,20))\n",
        "sns.heatmap(raw_df_1.corr(), annot=True)\n",
        "plt.show()"
      ],
      "execution_count": 9,
      "outputs": [
        {
          "output_type": "display_data",
          "data": {
            "image/png": "[encoded data removed]",
            "text/plain": [
              "<Figure size 1440x1440 with 2 Axes>"
            ]
          },
          "metadata": {
            "tags": [],
            "needs_background": "light"
          }
        }
      ]
    },
    {
      "cell_type": "markdown",
      "metadata": {
        "id": "89uvOqZnth5T"
      },
      "source": [
        "### Handling Imbalance"
      ]
    },
    {
      "cell_type": "code",
      "metadata": {
        "id": "Y6zhWGyDH3VR",
        "outputId": "71d09469-7c71-46b8-ea49-59501f490bc2",
        "colab": {
          "base_uri": "https://localhost:8080/",
          "height": 279
        }
      },
      "source": [
        "sns.countplot(raw_df_1['label'], label = 'Count')\n",
        "plt.show()\n",
        "# ['above average': '0',\n",
        "#  'below average': '2',\n",
        "#  'average': '1']"
      ],
      "execution_count": 10,
      "outputs": [
        {
          "output_type": "display_data",
          "data": {
            "image/png": "[encoded data removed]",
            "text/plain": [
              "<Figure size 432x288 with 1 Axes>"
            ]
          },
          "metadata": {
            "tags": [],
            "needs_background": "light"
          }
        }
      ]
    },
    {
      "cell_type": "code",
      "metadata": {
        "id": "UsV7EsWwH5vK",
        "outputId": "5ed7e18c-31cb-4270-b924-ef1641835505",
        "colab": {
          "base_uri": "https://localhost:8080/",
          "height": 69
        }
      },
      "source": [
        "\n",
        "\n",
        "# class count\n",
        "class_count_0, class_count_1, class_count_2 = raw_df_1['label'].value_counts()\n",
        "\n",
        "# Separate class\n",
        "class_0 = raw_df_1[raw_df_1['label'] == 0]\n",
        "class_1 = raw_df_1[raw_df_1['label'] == 1]\n",
        "class_2 = raw_df_1[raw_df_1['label'] == 2]\n",
        "\n",
        "# print the shape of the class\n",
        "print('above average:', class_0.shape)\n",
        "print('average:', class_1.shape)\n",
        "print('below average:', class_2.shape)"
      ],
      "execution_count": 11,
      "outputs": [
        {
          "output_type": "stream",
          "text": [
            "above average: (354, 13)\n",
            "average: (414, 13)\n",
            "below average: (101, 13)\n"
          ],
          "name": "stdout"
        }
      ]
    },
    {
      "cell_type": "code",
      "metadata": {
        "id": "8pBqPqecH8Ps"
      },
      "source": [
        "import imblearn\n",
        "from imblearn.under_sampling import TomekLinks\n",
        "from imblearn.over_sampling import SMOTE\n",
        "from imblearn.under_sampling import NearMiss\n",
        "from collections import Counter "
      ],
      "execution_count": 12,
      "outputs": []
    },
    {
      "cell_type": "code",
      "metadata": {
        "id": "Vv-FmcmsH-zz"
      },
      "source": [
        "raw_df_1_array = raw_df_1.values \n",
        "X = raw_df_1.iloc[:,:-1]\n",
        "y = raw_df_1.iloc[:,-1:]"
      ],
      "execution_count": 13,
      "outputs": []
    },
    {
      "cell_type": "code",
      "metadata": {
        "id": "29W9LoX8Idnf",
        "outputId": "d6e0d7ce-fe44-4998-fabe-56b7b1b7bc9a",
        "colab": {
          "base_uri": "https://localhost:8080/",
          "height": 121
        }
      },
      "source": [
        "tome_links = TomekLinks(sampling_strategy = 'majority')\n",
        "\n",
        "x_tome_links, y_tome_links = tome_links.fit_resample(X, y)\n",
        "\n",
        "print('Original dataset shape', (y.value_counts()))\n",
        "print('Resample dataset shape', Counter(y_tome_links))"
      ],
      "execution_count": 14,
      "outputs": [
        {
          "output_type": "stream",
          "text": [
            "Original dataset shape label\n",
            "1        414\n",
            "0        354\n",
            "2        101\n",
            "dtype: int64\n",
            "Resample dataset shape Counter({1: 393, 0: 354, 2: 101})\n"
          ],
          "name": "stdout"
        }
      ]
    },
    {
      "cell_type": "code",
      "metadata": {
        "id": "x0E1moBmIjLo",
        "outputId": "eb334be8-57d7-4584-8994-ca8b64807b4a",
        "colab": {
          "base_uri": "https://localhost:8080/",
          "height": 121
        }
      },
      "source": [
        "smote = SMOTE()\n",
        "\n",
        "x_smote, y_smote = smote.fit_resample(X, y)\n",
        "print('Original dataset shape', (y.value_counts()))\n",
        "print('Resample dataset shape', Counter(y_smote))"
      ],
      "execution_count": 15,
      "outputs": [
        {
          "output_type": "stream",
          "text": [
            "Original dataset shape label\n",
            "1        414\n",
            "0        354\n",
            "2        101\n",
            "dtype: int64\n",
            "Resample dataset shape Counter({0: 414, 2: 414, 1: 414})\n"
          ],
          "name": "stdout"
        }
      ]
    },
    {
      "cell_type": "code",
      "metadata": {
        "id": "YJciw2ybI6cJ",
        "outputId": "784512c9-c869-4d2f-d2d8-5e0575becf51",
        "colab": {
          "base_uri": "https://localhost:8080/",
          "height": 121
        }
      },
      "source": [
        "near_miss = NearMiss()\n",
        "x_near_miss, y_near_miss = near_miss.fit_resample(X, y)\n",
        "print('Original dataset shape', (y.value_counts()))\n",
        "print('Resample dataset shape', Counter(y_near_miss))"
      ],
      "execution_count": 16,
      "outputs": [
        {
          "output_type": "stream",
          "text": [
            "Original dataset shape label\n",
            "1        414\n",
            "0        354\n",
            "2        101\n",
            "dtype: int64\n",
            "Resample dataset shape Counter({0: 101, 1: 101, 2: 101})\n"
          ],
          "name": "stdout"
        }
      ]
    },
    {
      "cell_type": "markdown",
      "metadata": {
        "id": "0g_dO4xNJLDM"
      },
      "source": [
        "### Machine Learning Algorithms"
      ]
    },
    {
      "cell_type": "code",
      "metadata": {
        "id": "pK0a4zKSI-Nx"
      },
      "source": [
        "from xgboost import XGBClassifier\n",
        "from sklearn.metrics import scorer, accuracy_score, f1_score, confusion_matrix, recall_score, precision_score, roc_auc_score\n",
        "from sklearn.model_selection import train_test_split"
      ],
      "execution_count": 17,
      "outputs": []
    },
    {
      "cell_type": "code",
      "metadata": {
        "id": "PeRrBMDNJR98"
      },
      "source": [
        "def model_result(X_train, X_test, y_train, y_test, model):\n",
        "  model_1 = model\n",
        "  model_1.fit(X_train, y_train)\n",
        "  precise_score = precision_score(y_true = y_test, y_pred = model_1.predict(X_test),average = 'macro')\n",
        "  rec_score = recall_score(y_true = y_test, y_pred = model_1.predict(X_test),average = 'macro',)\n",
        "  print('Precision score: {}% '.format(round(precise_score*100, 2)))\n",
        "  print('Recall score: {}% '.format(round(rec_score*100, 2)))\n",
        "  sns.heatmap(confusion_matrix(y_true = y_test, y_pred = model_1.predict(X_test)), annot = True)\n",
        "  plt.show()\n",
        "\n",
        "\n",
        "X_train, X_test, y_train, y_test = train_test_split(X, y, test_size=0.2, random_state=42)\n",
        "X_train_near_miss, X_test_near_miss, y_train_near_miss, y_test_near_miss = train_test_split(x_near_miss, y_near_miss, test_size=0.2, random_state=42)\n",
        "X_train_tome_links, X_test_tome_links, y_train_tome_links, y_test_tome_links = train_test_split(x_tome_links, y_tome_links, test_size=0.2, random_state=42)\n",
        "X_train_smote, X_test_smote, y_train_smote, y_test_smote = train_test_split(x_smote, y_smote, test_size=0.2, random_state=42)"
      ],
      "execution_count": 18,
      "outputs": []
    },
    {
      "cell_type": "markdown",
      "metadata": {
        "id": "VCqD7bG3RLCM"
      },
      "source": [
        "* __Recall_score__: Is the proportion of correct predicted labels to the total number of actual labels, averaged over instances.\n",
        "* __Precision_score__:  The precision is intuitively the ability of the classifier not to label as positive a sample that is negative."
      ]
    },
    {
      "cell_type": "code",
      "metadata": {
        "id": "POzumFc7JNby",
        "outputId": "fe22b6e5-ffd2-4086-e4e6-d6906b3e893a",
        "colab": {
          "base_uri": "https://localhost:8080/",
          "height": 1000
        }
      },
      "source": [
        "print('Results of imbbalanced dataset: ')\n",
        "X_train, X_test, y_train, y_test = train_test_split(X, y, test_size=0.2, random_state=42)\n",
        "model_result(X_train, X_test, y_train, y_test, model = XGBClassifier())\n",
        "print()\n",
        "print('Results of nearMiss balancing: ')\n",
        "X_train, X_test, y_train, y_test = train_test_split(x_near_miss, y_near_miss, test_size=0.2, random_state=42)\n",
        "model_result(X_train, X_test, y_train, y_test, model = XGBClassifier())\n",
        "print()\n",
        "print('Results of TomeLinks balancing: ')\n",
        "X_train, X_test, y_train, y_test = train_test_split(x_tome_links, y_tome_links, test_size=0.2, random_state=42)\n",
        "model_result(X_train, X_test, y_train, y_test, model = XGBClassifier())\n",
        "print()\n",
        "print('Results of SMOTE balancing: ')\n",
        "X_train, X_test, y_train, y_test = train_test_split(x_smote, y_smote, test_size=0.2, random_state=42)\n",
        "model_result(X_train, X_test, y_train, y_test, model = XGBClassifier())"
      ],
      "execution_count": 19,
      "outputs": [
        {
          "output_type": "stream",
          "text": [
            "Results of imbbalanced dataset: \n",
            "Precision score: 84.39% \n",
            "Recall score: 69.47% \n"
          ],
          "name": "stdout"
        },
        {
          "output_type": "display_data",
          "data": {
            "image/png": "[encoded data removed]",
            "text/plain": [
              "<Figure size 432x288 with 2 Axes>"
            ]
          },
          "metadata": {
            "tags": [],
            "needs_background": "light"
          }
        },
        {
          "output_type": "stream",
          "text": [
            "\n",
            "Results of nearMiss balancing: \n",
            "Precision score: 72.14% \n",
            "Recall score: 72.11% \n"
          ],
          "name": "stdout"
        },
        {
          "output_type": "display_data",
          "data": {
            "image/png": "[encoded data removed]",
            "text/plain": [
              "<Figure size 432x288 with 2 Axes>"
            ]
          },
          "metadata": {
            "tags": [],
            "needs_background": "light"
          }
        },
        {
          "output_type": "stream",
          "text": [
            "\n",
            "Results of TomeLinks balancing: \n",
            "Precision score: 81.9% \n",
            "Recall score: 70.01% \n"
          ],
          "name": "stdout"
        },
        {
          "output_type": "display_data",
          "data": {
            "image/png": "[encoded data removed]",
            "text/plain": [
              "<Figure size 432x288 with 2 Axes>"
            ]
          },
          "metadata": {
            "tags": [],
            "needs_background": "light"
          }
        },
        {
          "output_type": "stream",
          "text": [
            "\n",
            "Results of SMOTE balancing: \n",
            "Precision score: 80.42% \n",
            "Recall score: 79.89% \n"
          ],
          "name": "stdout"
        },
        {
          "output_type": "display_data",
          "data": {
            "image/png": "[encoded data removed]",
            "text/plain": [
              "<Figure size 432x288 with 2 Axes>"
            ]
          },
          "metadata": {
            "tags": [],
            "needs_background": "light"
          }
        }
      ]
    },
    {
      "cell_type": "markdown",
      "metadata": {
        "id": "r3pGn1tPt4Z5"
      },
      "source": [
        "* Recall score is highest for imbalance dataset handled by SMOTE for XGBClassifier model.\n",
        "* Recall score is more reliable, the precision score is highest for imbalanced dataset, this may be due to the fact it is able to predict above average correctly, since this is a significant number, it may not give the true picture."
      ]
    },
    {
      "cell_type": "markdown",
      "metadata": {
        "id": "mVFERN31pYy2"
      },
      "source": [
        "### Artificial Neural Network"
      ]
    },
    {
      "cell_type": "code",
      "metadata": {
        "id": "8BAU6oeNLJyt"
      },
      "source": [
        "import tensorflow as tf\n",
        "from tensorflow.keras.models import Sequential\n",
        "from tensorflow.keras.layers import Dense, Dropout\n",
        "from sklearn.model_selection import cross_val_score\n",
        "from sklearn.model_selection import KFold"
      ],
      "execution_count": 20,
      "outputs": []
    },
    {
      "cell_type": "code",
      "metadata": {
        "id": "BNsSnKgudRS_",
        "outputId": "673e4ac9-219d-4edd-f939-ac14a4b35cda",
        "colab": {
          "base_uri": "https://localhost:8080/",
          "height": 228
        }
      },
      "source": [
        "X = raw_df_1_copy.iloc[:,:-1]\n",
        "y = raw_df_1_copy.iloc[:,-1:]\n",
        "# encode class values as integers\n",
        "encoder = LabelEncoder()\n",
        "encoder.fit(y)\n",
        "encoded_Y = encoder.transform(y)\n",
        "# convert integers to dummy variables (i.e. one hot encoded)\n",
        "dummy_y = tf.keras.utils.to_categorical(encoded_Y)\n",
        " \n",
        "# function for sequential model\n",
        "# input dimension is the number of features\n",
        "# number of categories in output is 3\n",
        "def sequential_model():\n",
        "  model = Sequential()\n",
        "  model.add(Dense(64, input_dim = 12, activation = 'relu'))\n",
        "  model.add(Dense(3, activation = 'softmax'))\n",
        "  # compiling the model\n",
        "  model.compile(loss='categorical_crossentropy', optimizer='adam', metrics=['accuracy'])\n",
        "  return model\n",
        " \n",
        "estimator = tf.keras.wrappers.scikit_learn.KerasClassifier(build_fn = sequential_model, \n",
        "                                                           epochs = 100, \n",
        "                                                           batch_size = 32, \n",
        "                                                           verbose = 0)\n",
        "kfold = KFold(n_splits=10, \n",
        "              shuffle=True)\n",
        "results = cross_val_score(estimator, \n",
        "                          X, \n",
        "                          dummy_y, \n",
        "                          cv=kfold,)\n",
        "print(\"Average accuracy: %.2f%%, Standard deviation across results: %.2f%%\" % (results.mean()*100, results.std()*100))"
      ],
      "execution_count": 28,
      "outputs": [
        {
          "output_type": "stream",
          "text": [
            "WARNING:tensorflow:5 out of the last 13 calls to <function Model.make_test_function.<locals>.test_function at 0x7f918b2052f0> triggered tf.function retracing. Tracing is expensive and the excessive number of tracings could be due to (1) creating @tf.function repeatedly in a loop, (2) passing tensors with different shapes, (3) passing Python objects instead of tensors. For (1), please define your @tf.function outside of the loop. For (2), @tf.function has experimental_relax_shapes=True option that relaxes argument shapes that can avoid unnecessary retracing. For (3), please refer to https://www.tensorflow.org/tutorials/customization/performance#python_or_tensor_args and https://www.tensorflow.org/api_docs/python/tf/function for  more details.\n",
            "WARNING:tensorflow:5 out of the last 13 calls to <function Model.make_test_function.<locals>.test_function at 0x7f9184b37e18> triggered tf.function retracing. Tracing is expensive and the excessive number of tracings could be due to (1) creating @tf.function repeatedly in a loop, (2) passing tensors with different shapes, (3) passing Python objects instead of tensors. For (1), please define your @tf.function outside of the loop. For (2), @tf.function has experimental_relax_shapes=True option that relaxes argument shapes that can avoid unnecessary retracing. For (3), please refer to https://www.tensorflow.org/tutorials/customization/performance#python_or_tensor_args and https://www.tensorflow.org/api_docs/python/tf/function for  more details.\n",
            "WARNING:tensorflow:5 out of the last 13 calls to <function Model.make_test_function.<locals>.test_function at 0x7f918dcca8c8> triggered tf.function retracing. Tracing is expensive and the excessive number of tracings could be due to (1) creating @tf.function repeatedly in a loop, (2) passing tensors with different shapes, (3) passing Python objects instead of tensors. For (1), please define your @tf.function outside of the loop. For (2), @tf.function has experimental_relax_shapes=True option that relaxes argument shapes that can avoid unnecessary retracing. For (3), please refer to https://www.tensorflow.org/tutorials/customization/performance#python_or_tensor_args and https://www.tensorflow.org/api_docs/python/tf/function for  more details.\n",
            "WARNING:tensorflow:5 out of the last 13 calls to <function Model.make_test_function.<locals>.test_function at 0x7f9180f19bf8> triggered tf.function retracing. Tracing is expensive and the excessive number of tracings could be due to (1) creating @tf.function repeatedly in a loop, (2) passing tensors with different shapes, (3) passing Python objects instead of tensors. For (1), please define your @tf.function outside of the loop. For (2), @tf.function has experimental_relax_shapes=True option that relaxes argument shapes that can avoid unnecessary retracing. For (3), please refer to https://www.tensorflow.org/tutorials/customization/performance#python_or_tensor_args and https://www.tensorflow.org/api_docs/python/tf/function for  more details.\n",
            "WARNING:tensorflow:5 out of the last 13 calls to <function Model.make_test_function.<locals>.test_function at 0x7f918b258620> triggered tf.function retracing. Tracing is expensive and the excessive number of tracings could be due to (1) creating @tf.function repeatedly in a loop, (2) passing tensors with different shapes, (3) passing Python objects instead of tensors. For (1), please define your @tf.function outside of the loop. For (2), @tf.function has experimental_relax_shapes=True option that relaxes argument shapes that can avoid unnecessary retracing. For (3), please refer to https://www.tensorflow.org/tutorials/customization/performance#python_or_tensor_args and https://www.tensorflow.org/api_docs/python/tf/function for  more details.\n",
            "WARNING:tensorflow:5 out of the last 13 calls to <function Model.make_test_function.<locals>.test_function at 0x7f9184b07268> triggered tf.function retracing. Tracing is expensive and the excessive number of tracings could be due to (1) creating @tf.function repeatedly in a loop, (2) passing tensors with different shapes, (3) passing Python objects instead of tensors. For (1), please define your @tf.function outside of the loop. For (2), @tf.function has experimental_relax_shapes=True option that relaxes argument shapes that can avoid unnecessary retracing. For (3), please refer to https://www.tensorflow.org/tutorials/customization/performance#python_or_tensor_args and https://www.tensorflow.org/api_docs/python/tf/function for  more details.\n",
            "WARNING:tensorflow:5 out of the last 13 calls to <function Model.make_test_function.<locals>.test_function at 0x7f91839fe268> triggered tf.function retracing. Tracing is expensive and the excessive number of tracings could be due to (1) creating @tf.function repeatedly in a loop, (2) passing tensors with different shapes, (3) passing Python objects instead of tensors. For (1), please define your @tf.function outside of the loop. For (2), @tf.function has experimental_relax_shapes=True option that relaxes argument shapes that can avoid unnecessary retracing. For (3), please refer to https://www.tensorflow.org/tutorials/customization/performance#python_or_tensor_args and https://www.tensorflow.org/api_docs/python/tf/function for  more details.\n",
            "WARNING:tensorflow:5 out of the last 13 calls to <function Model.make_test_function.<locals>.test_function at 0x7f9187ed1f28> triggered tf.function retracing. Tracing is expensive and the excessive number of tracings could be due to (1) creating @tf.function repeatedly in a loop, (2) passing tensors with different shapes, (3) passing Python objects instead of tensors. For (1), please define your @tf.function outside of the loop. For (2), @tf.function has experimental_relax_shapes=True option that relaxes argument shapes that can avoid unnecessary retracing. For (3), please refer to https://www.tensorflow.org/tutorials/customization/performance#python_or_tensor_args and https://www.tensorflow.org/api_docs/python/tf/function for  more details.\n",
            "WARNING:tensorflow:5 out of the last 13 calls to <function Model.make_test_function.<locals>.test_function at 0x7f9182895a60> triggered tf.function retracing. Tracing is expensive and the excessive number of tracings could be due to (1) creating @tf.function repeatedly in a loop, (2) passing tensors with different shapes, (3) passing Python objects instead of tensors. For (1), please define your @tf.function outside of the loop. For (2), @tf.function has experimental_relax_shapes=True option that relaxes argument shapes that can avoid unnecessary retracing. For (3), please refer to https://www.tensorflow.org/tutorials/customization/performance#python_or_tensor_args and https://www.tensorflow.org/api_docs/python/tf/function for  more details.\n",
            "WARNING:tensorflow:5 out of the last 13 calls to <function Model.make_test_function.<locals>.test_function at 0x7f918a9676a8> triggered tf.function retracing. Tracing is expensive and the excessive number of tracings could be due to (1) creating @tf.function repeatedly in a loop, (2) passing tensors with different shapes, (3) passing Python objects instead of tensors. For (1), please define your @tf.function outside of the loop. For (2), @tf.function has experimental_relax_shapes=True option that relaxes argument shapes that can avoid unnecessary retracing. For (3), please refer to https://www.tensorflow.org/tutorials/customization/performance#python_or_tensor_args and https://www.tensorflow.org/api_docs/python/tf/function for  more details.\n",
            "Average accuracy: 74.45%, Standard deviation across results: 3.73%\n"
          ],
          "name": "stdout"
        }
      ]
    },
    {
      "cell_type": "code",
      "metadata": {
        "id": "MLJuPfpXunfM"
      },
      "source": [
        ""
      ],
      "execution_count": null,
      "outputs": []
    }
  ]
}